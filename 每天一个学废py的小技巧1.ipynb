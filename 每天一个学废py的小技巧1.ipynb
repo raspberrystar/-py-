{
 "cells": [
  {
   "cell_type": "code",
   "execution_count": null,
   "metadata": {
    "ExecuteTime": {
     "end_time": "2020-10-01T20:18:16.602942Z",
     "start_time": "2020-10-01T20:18:16.393994Z"
    }
   },
   "outputs": [],
   "source": [
    "import pandas as pd"
   ]
  },
  {
   "cell_type": "markdown",
   "metadata": {},
   "source": [
    "# 解决matplotlib中文乱码"
   ]
  },
  {
   "cell_type": "code",
   "execution_count": null,
   "metadata": {},
   "outputs": [],
   "source": [
    "# 解决matplotlib中文乱码\n",
    "matplotlib.rcParams['font.sans-serif'] = ['SimHei']\n",
    "matplotlib.rcParams['font.serif'] = ['SimHei']\n",
    "matplotlib.rcParams['axes.unicode_minus'] = False"
   ]
  },
  {
   "cell_type": "markdown",
   "metadata": {
    "ExecuteTime": {
     "end_time": "2020-10-01T20:16:45.532424Z",
     "start_time": "2020-10-01T20:16:45.528436Z"
    }
   },
   "source": [
    "# matlabplot\n",
    "\n",
    "matplotlibt.pyplot才能使用plt"
   ]
  },
  {
   "cell_type": "code",
   "execution_count": null,
   "metadata": {
    "ExecuteTime": {
     "end_time": "2020-10-01T20:17:10.080019Z",
     "start_time": "2020-10-01T20:17:09.864736Z"
    }
   },
   "outputs": [],
   "source": [
    "import matplotlib\n",
    "import matplotlib.pyplot as plt"
   ]
  },
  {
   "cell_type": "markdown",
   "metadata": {},
   "source": [
    "## 饼图\n",
    "https://pandas.pydata.org/pandas-docs/stable/reference/api/pandas.DataFrame.plot.pie.html\n",
    "\n",
    "文档：\n",
    "\n",
    "* https://matplotlib.org/3.1.1/api/_as_gen/matplotlib.axes.Axes.pie.html\n",
    "\n",
    "* https://indianaiproduction.com/matplotlib-pie-chart/\n",
    "\n",
    "示例：https://matplotlib.org/3.1.1/gallery/pie_and_polar_charts/pie_demo2.html#sphx-glr-gallery-pie-and-polar-charts-pie-demo2-py\n",
    "\n",
    "创建图：fig = plt.figure()\n",
    "\n",
    "### 修改字体大小（饼图）\n",
    "\n",
    "textprops={'fontsize': 14}, textprops={'size': 'large'}"
   ]
  },
  {
   "cell_type": "markdown",
   "metadata": {},
   "source": [
    "**也可以直接plt.pie()**"
   ]
  },
  {
   "cell_type": "markdown",
   "metadata": {},
   "source": [
    "在y中填各参数比例"
   ]
  },
  {
   "cell_type": "code",
   "execution_count": null,
   "metadata": {
    "ExecuteTime": {
     "end_time": "2020-10-01T20:18:19.342083Z",
     "start_time": "2020-10-01T20:18:19.236365Z"
    }
   },
   "outputs": [],
   "source": [
    "df = pd.DataFrame({'mass': [0.330, 4.87 , 5.97],\n",
    "                   'radius': [2439.7, 6051.8, 6378.1]},\n",
    "                  index=['Mercury', 'Venus', 'Earth'])\n",
    "plot = df.plot.pie(y='mass', figsize=(5, 5))"
   ]
  },
  {
   "cell_type": "code",
   "execution_count": null,
   "metadata": {
    "ExecuteTime": {
     "end_time": "2020-10-01T20:20:02.233928Z",
     "start_time": "2020-10-01T20:20:02.183064Z"
    }
   },
   "outputs": [],
   "source": [
    "'''\n",
    "或使用 y = [0.2,0.3,0.5], labels = [\"A\",\"B\",\"C\"]\n",
    "'''\n",
    "y = [0.2,0.3,0.5]\n",
    "labels = [\"A\",\"B\",\"C\"]\n",
    "plt.pie(y, labels = labels)"
   ]
  },
  {
   "cell_type": "code",
   "execution_count": null,
   "metadata": {
    "ExecuteTime": {
     "end_time": "2020-10-01T20:58:12.306200Z",
     "start_time": "2020-10-01T20:58:12.249892Z"
    }
   },
   "outputs": [],
   "source": [
    "plt.pie(y, labels=labels, autopct='%1.0f%%', startangle=90) # startangle是图旋转角度"
   ]
  },
  {
   "cell_type": "markdown",
   "metadata": {},
   "source": [
    "### 调整字体大小"
   ]
  },
  {
   "cell_type": "code",
   "execution_count": null,
   "metadata": {
    "ExecuteTime": {
     "end_time": "2020-10-02T00:59:45.706534Z",
     "start_time": "2020-10-02T00:59:45.595832Z"
    }
   },
   "outputs": [],
   "source": [
    "plt.xticks(size=16, rotation=45) # x轴字体大小调整\n",
    "plt.yticks(size=16) # y轴字体大小调整"
   ]
  },
  {
   "cell_type": "markdown",
   "metadata": {
    "ExecuteTime": {
     "end_time": "2020-10-01T20:59:54.535851Z",
     "start_time": "2020-10-01T20:59:54.531862Z"
    }
   },
   "source": [
    "## 柱状图\n",
    "df.plot(kind = \"bar\") #用pandas\n",
    "\n",
    "ax[0].bar(x,y) # 用matplotlib"
   ]
  },
  {
   "cell_type": "markdown",
   "metadata": {
    "ExecuteTime": {
     "end_time": "2020-10-01T21:00:27.769369Z",
     "start_time": "2020-10-01T21:00:27.763391Z"
    }
   },
   "source": [
    "plt.figure(figsize=(8,8),dpi=80)\n",
    "\n",
    "plt.style.use('ggplot')\n",
    "\n",
    "plt.title(\"顾客的平均评分\")\n",
    "\n",
    "plt.ylim(ymin=0,ymax=100) # y轴坐标，最小值0.最大值设为100\n",
    "\n",
    "plt.bar(x, y, width=0.2, color='#6699CC')"
   ]
  },
  {
   "cell_type": "markdown",
   "metadata": {},
   "source": [
    "### 柱状图（侧）\n",
    "\n",
    "https://blog.csdn.net/zhangphil/article/details/88390032"
   ]
  },
  {
   "cell_type": "code",
   "execution_count": null,
   "metadata": {
    "ExecuteTime": {
     "end_time": "2020-10-02T15:19:33.744235Z",
     "start_time": "2020-10-02T15:19:33.735259Z"
    }
   },
   "outputs": [],
   "source": [
    "x = affiliate_provider_df['affiliate_provider'][::-1]\n",
    "y = affiliate_provider_df['num'][::-1]\n",
    "\n",
    "plt.figure(figsize=(20,15),dpi=80)\n",
    "plt.barh(x, y, align='center', color='#6699CC')\n",
    "plt.title(\"不同推广渠道的注册量\", size=24)\n",
    "\n",
    "plt.xticks(size=16) # x轴字体大小调整\n",
    "plt.yticks(size=16) # y轴字体大小调整\n",
    "\n",
    "plt.show() "
   ]
  },
  {
   "cell_type": "markdown",
   "metadata": {},
   "source": [
    "### 数据反转\n",
    "\n",
    "法1： [::-1]\n",
    "\n",
    "法2： tolist() + reverse()"
   ]
  },
  {
   "cell_type": "code",
   "execution_count": null,
   "metadata": {},
   "outputs": [],
   "source": [
    "x = affiliate_df['first_affiliate_tracked'][::-1]\n",
    "y = affiliate_df['num'][::-1]"
   ]
  },
  {
   "cell_type": "markdown",
   "metadata": {},
   "source": [
    "## 直方图\n",
    "\n",
    "hist, bin_edges = np.histogram(price_series, bins=80) #生成直方图函数"
   ]
  },
  {
   "cell_type": "markdown",
   "metadata": {},
   "source": [
    "## 同时画多个图的Tutorial\n",
    "1. https://matplotlib.org/tutorials/introductory/pyplot.html\n",
    "2. https://matplotlib.org/devdocs/gallery/subplots_axes_and_figures/subplots_demo.html\n"
   ]
  },
  {
   "cell_type": "markdown",
   "metadata": {},
   "source": [
    "### 使用ax后如何修改xtick\n",
    "\n",
    "* https://www.geeksforgeeks.org/matplotlib-axes-axes-set_xticks-in-python/"
   ]
  },
  {
   "cell_type": "code",
   "execution_count": null,
   "metadata": {},
   "outputs": [],
   "source": [
    "axes.set_xticks(ticks, minor=False) # set ticks"
   ]
  },
  {
   "cell_type": "code",
   "execution_count": null,
   "metadata": {},
   "outputs": [],
   "source": [
    "'''\n",
    "Warning\n",
    "\n",
    "This method should only be used after fixing the tick positions using Axes.set_xticks. Otherwise, the labels may end up in unexpected positions.\n",
    "'''\n",
    "axes.set_xticklabels(labels, fontdict=None, minor=False)"
   ]
  },
  {
   "cell_type": "markdown",
   "metadata": {},
   "source": [
    "## 图例修改"
   ]
  },
  {
   "cell_type": "markdown",
   "metadata": {},
   "source": [
    "### 修改xlable或ylabel\n",
    "\n",
    "plt.xlabel(\"name\")"
   ]
  },
  {
   "cell_type": "markdown",
   "metadata": {
    "ExecuteTime": {
     "end_time": "2020-10-01T20:49:45.064013Z",
     "start_time": "2020-10-01T20:49:44.960903Z"
    }
   },
   "source": [
    "### 改图像标签\n",
    "\n",
    "document 在：https://matplotlib.org/api/pyplot_api.html#matplotlib.pyplot.legend\n",
    "* plt.legend(\"内容\") #修改内容\n",
    "* plot.legend(loc=2, prop={'size': 6})"
   ]
  },
  {
   "cell_type": "code",
   "execution_count": null,
   "metadata": {
    "ExecuteTime": {
     "end_time": "2020-10-01T20:52:55.221355Z",
     "start_time": "2020-10-01T20:52:55.086675Z"
    }
   },
   "outputs": [],
   "source": [
    "\"\"\"\n",
    "===============================\n",
    "Legend using pre-defined labels\n",
    "===============================\n",
    "\n",
    "Notice how the legend labels are defined with the plots!\n",
    "\"\"\"\n",
    "\n",
    "\n",
    "import numpy as np\n",
    "import matplotlib.pyplot as plt\n",
    "\n",
    "# Make some fake data.\n",
    "a = b = np.arange(0, 3, .02)\n",
    "c = np.exp(a)\n",
    "d = c[::-1]\n",
    "\n",
    "# Create plots with pre-defined labels.\n",
    "fig, ax = plt.subplots()\n",
    "ax.plot(a, c, 'k--', label='Model length')\n",
    "ax.plot(a, d, 'k:', label='Data length')\n",
    "ax.plot(a, c + d, 'k', label='Total message length')\n",
    "\n",
    "legend = ax.legend(loc='upper center', shadow=True, fontsize='x-large')\n",
    "\n",
    "# Put a nicer background color on the legend.\n",
    "legend.get_frame().set_facecolor('#00FFCC')\n",
    "\n",
    "plt.show()"
   ]
  },
  {
   "cell_type": "markdown",
   "metadata": {
    "ExecuteTime": {
     "end_time": "2020-10-01T20:55:17.591171Z",
     "start_time": "2020-10-01T20:55:17.585187Z"
    }
   },
   "source": [
    "### 图例显示不全\n",
    "https://blog.csdn.net/weixin_33913332/article/details/89688219?utm_medium=distribute.pc_relevant.none-task-blog-BlogCommendFromMachineLearnPai2-4.nonecase&depth_1-utm_source=distribute.pc_relevant.none-task-blog-BlogCommendFromMachineLearnPai2-4.nonecase"
   ]
  },
  {
   "cell_type": "markdown",
   "metadata": {},
   "source": [
    "# pandas使用技巧"
   ]
  },
  {
   "cell_type": "markdown",
   "metadata": {},
   "source": [
    "## 去除重复项\n",
    "\n",
    "df.drop_duplicates()\n",
    "\n",
    "https://pandas.pydata.org/pandas-docs/stable/reference/api/pandas.DataFrame.drop_duplicates.html"
   ]
  },
  {
   "cell_type": "markdown",
   "metadata": {
    "ExecuteTime": {
     "end_time": "2020-10-01T20:45:18.339369Z",
     "start_time": "2020-10-01T20:45:18.329396Z"
    }
   },
   "source": [
    "## 获取非null部分"
   ]
  },
  {
   "cell_type": "code",
   "execution_count": null,
   "metadata": {
    "ExecuteTime": {
     "end_time": "2020-10-01T20:45:34.141249Z",
     "start_time": "2020-10-01T20:45:34.134275Z"
    }
   },
   "outputs": [],
   "source": [
    "df.notnull()"
   ]
  },
  {
   "cell_type": "markdown",
   "metadata": {},
   "source": [
    "## 柱状图\n",
    "\n",
    "df3.plot(kind = \"bar\")"
   ]
  },
  {
   "cell_type": "markdown",
   "metadata": {},
   "source": [
    "## 分箱\n",
    "\n",
    "简书：https://www.jianshu.com/p/0805f185ecdf\n",
    "\n",
    "pandas: https://pandas.pydata.org/pandas-docs/stable/reference/api/pandas.cut.html?highlight=cut#pandas.cut\n",
    "\n",
    "pandas.cut(x, bins, right=True, labels=None, retbins=False, precision=3, include_lowest=False, duplicates='raise', ordered=True)[source]"
   ]
  },
  {
   "cell_type": "code",
   "execution_count": null,
   "metadata": {
    "ExecuteTime": {
     "end_time": "2020-10-01T20:36:23.360498Z",
     "start_time": "2020-10-01T20:36:23.354514Z"
    }
   },
   "outputs": [],
   "source": [
    "import numpy as np\n",
    "import pandas as pd\n",
    "from pandas import Series, DataFrame\n",
    "\n",
    "score_list = np.random.randint(30, 100, size=20)\n",
    "print(score_list)"
   ]
  },
  {
   "cell_type": "code",
   "execution_count": null,
   "metadata": {
    "ExecuteTime": {
     "end_time": "2020-10-01T20:36:37.727821Z",
     "start_time": "2020-10-01T20:36:37.724829Z"
    }
   },
   "outputs": [],
   "source": [
    "# 然后我们再设置分箱:\n",
    "bins=[0,59,70,80,100]"
   ]
  },
  {
   "cell_type": "markdown",
   "metadata": {},
   "source": [
    "0-59包含了0和59"
   ]
  },
  {
   "cell_type": "code",
   "execution_count": null,
   "metadata": {
    "ExecuteTime": {
     "end_time": "2020-10-01T20:36:53.815005Z",
     "start_time": "2020-10-01T20:36:53.807027Z"
    }
   },
   "outputs": [],
   "source": [
    "#这就表示数据有0-59，59-70，70-80，80-100这几个等级。\n",
    "#下面把分箱和分数利用cut方法结合到一起。\n",
    "\n",
    "score_cat = pd.cut(score_list, bins)\n",
    "print(pd.value_counts(score_cat))"
   ]
  },
  {
   "cell_type": "code",
   "execution_count": null,
   "metadata": {
    "ExecuteTime": {
     "end_time": "2020-10-01T20:46:58.741839Z",
     "start_time": "2020-10-01T20:46:58.733859Z"
    }
   },
   "outputs": [],
   "source": [
    "rank = [\"A\",\"B\",\"C\",\"D\"]\n",
    "score_cat2 = pd.cut(score_list, bins, labels = rank)\n",
    "score_cat2"
   ]
  },
  {
   "cell_type": "markdown",
   "metadata": {},
   "source": [
    "## shift"
   ]
  },
  {
   "cell_type": "markdown",
   "metadata": {},
   "source": [
    "## 修改时间格式\n",
    "df_payed_order['时间'] = df_payed_order['订单创建时间'].astype('datetime64[D]')"
   ]
  },
  {
   "cell_type": "markdown",
   "metadata": {},
   "source": [
    "### pandas.to_datetime() 只保留【年-月-日】\n",
    "\n",
    "Outline\n",
    "\n",
    "pandas.to_datetime()  生成的日期会默认带有 【2019-07-03 00:00:00】的分钟精度；\n",
    "\n",
    "但有时并不需要这些分钟精度；\n",
    "\n",
    "去掉分钟精度\n",
    "\n",
    "可以通过pandas中的 .dt.date 去掉分钟。\n",
    "\n",
    "\n",
    "df['just_date'] = df['dates'].dt.date\n",
    "\n",
    "（padnas 版本 要大于等于 0.15.0）\n",
    "\n",
    "转载于:https://www.cnblogs.com/bigtreei/p/11126805.html"
   ]
  },
  {
   "cell_type": "markdown",
   "metadata": {},
   "source": [
    "### 使用strftime修改为指定格式\n",
    "user_df['date_account_created'].apply(lambda x: x.strftime('%y-%m'))"
   ]
  },
  {
   "cell_type": "markdown",
   "metadata": {},
   "source": [
    "### 经常报错\n",
    "\n",
    "D:\\anaconda3\\lib\\site-packages\\ipykernel_launcher.py:1: SettingWithCopyWarning: \n",
    "A value is trying to be set on a copy of a slice from a DataFrame.\n",
    "Try using .loc[row_indexer,col_indexer] = value instead\n",
    "\n",
    "See the caveats in the documentation: https://pandas.pydata.org/pandas-docs/stable/user_guide/indexing.html#returning-a-view-versus-a-copy\n",
    "  \"\"\"Entry point for launching an IPython kernel.\n",
    "\n",
    "**使用iloc配合[:，]**"
   ]
  },
  {
   "cell_type": "code",
   "execution_count": null,
   "metadata": {},
   "outputs": [],
   "source": [
    "# user_df['date_account_created'] = pd.to_datetime(user_df.loc[:, 'date_account_created'])"
   ]
  },
  {
   "cell_type": "code",
   "execution_count": null,
   "metadata": {},
   "outputs": [],
   "source": []
  }
 ],
 "metadata": {
  "kernelspec": {
   "display_name": "Python 3",
   "language": "python",
   "name": "python3"
  },
  "language_info": {
   "codemirror_mode": {
    "name": "ipython",
    "version": 3
   },
   "file_extension": ".py",
   "mimetype": "text/x-python",
   "name": "python",
   "nbconvert_exporter": "python",
   "pygments_lexer": "ipython3",
   "version": "3.7.6"
  },
  "toc": {
   "base_numbering": 1,
   "nav_menu": {},
   "number_sections": true,
   "sideBar": true,
   "skip_h1_title": false,
   "title_cell": "Table of Contents",
   "title_sidebar": "Contents",
   "toc_cell": false,
   "toc_position": {
    "height": "calc(100% - 180px)",
    "left": "10px",
    "top": "150px",
    "width": "307.2px"
   },
   "toc_section_display": true,
   "toc_window_display": true
  },
  "varInspector": {
   "cols": {
    "lenName": 16,
    "lenType": 16,
    "lenVar": 40
   },
   "kernels_config": {
    "python": {
     "delete_cmd_postfix": "",
     "delete_cmd_prefix": "del ",
     "library": "var_list.py",
     "varRefreshCmd": "print(var_dic_list())"
    },
    "r": {
     "delete_cmd_postfix": ") ",
     "delete_cmd_prefix": "rm(",
     "library": "var_list.r",
     "varRefreshCmd": "cat(var_dic_list()) "
    }
   },
   "types_to_exclude": [
    "module",
    "function",
    "builtin_function_or_method",
    "instance",
    "_Feature"
   ],
   "window_display": false
  }
 },
 "nbformat": 4,
 "nbformat_minor": 4
}
