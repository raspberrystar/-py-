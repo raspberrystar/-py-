{
 "cells": [
  {
   "cell_type": "code",
   "execution_count": 1,
   "metadata": {
    "ExecuteTime": {
     "end_time": "2021-02-02T08:07:15.793947Z",
     "start_time": "2021-02-02T08:07:14.661944Z"
    }
   },
   "outputs": [],
   "source": [
    "import pandas as pd\n",
    "import numpy as np\n",
    "import matplotlib.pyplot as plt\n",
    "import seaborn as sns\n",
    "\n",
    "from scipy import stats # 假设检验"
   ]
  },
  {
   "cell_type": "code",
   "execution_count": 2,
   "metadata": {
    "ExecuteTime": {
     "end_time": "2021-02-02T08:07:15.798943Z",
     "start_time": "2021-02-02T08:07:15.794944Z"
    }
   },
   "outputs": [],
   "source": [
    "#coding:utf-8\n",
    "plt.rcParams['font.sans-serif']=['SimHei'] #用来正常显示中文标签\n",
    "plt.rcParams['axes.unicode_minus']=False #用来正常显示负号\n",
    "#有中文出现的情况，需要u'内容'"
   ]
  },
  {
   "cell_type": "markdown",
   "metadata": {
    "ExecuteTime": {
     "end_time": "2021-01-26T06:56:00.236626Z",
     "start_time": "2021-01-26T06:56:00.229642Z"
    }
   },
   "source": [
    "## bank client data|名词变量对照解释\n",
    "\n",
    "|编号|变量名|解释|类型|取值|\n",
    "|----|-------|--------|---|---|\n",
    "|1| age|| numeric||\n",
    " |2|job|type of job| categorical| \"admin.\",\"unknown\",\"unemployed\",\"management\",\"housemaid\",\"entrepreneur\",\"student\",\"blue-collar\",\"self-employed\",\"retired\",\"technician\",\"services\"|\n",
    "   |3|marital|marital status |categorical| \"married\",\"divorced\",\"single\"; note| \"divorced\" means divorced or widowed|\n",
    "   |4|education ||categorical| \"unknown\",\"secondary\",\"primary\",\"tertiary\"|\n",
    "   |5|default| has credit in default?|binary| \"yes\",\"no\"|\n",
    "   |6|balance| average yearly balance, in euros |numeric |\n",
    "   |7|housing| has housing loan?| binary| \"yes\",\"no\"|\n",
    "   |8|loan| has personal loan?| binary| \"yes\",\"no\"|\n",
    "\n",
    "\n",
    "related with the last contact of the current campaign\n",
    "   \n",
    "|编号|变量名|解释|类型|取值|\n",
    "|----|-------|--------|---|---|\n",
    "   |9|contact| contact communication type |categorical| \"unknown\",\"telephone\",\"cellular\" |\n",
    "  |10|day| last contact day of the month |numeric|\n",
    "  |11|month| last contact month of year |categorical| \"jan\", \"feb\", \"mar\", ..., \"nov\", \"dec\"|\n",
    "  |12|duration| last contact duration, in seconds |numeric|\n",
    "\n",
    "other attributes\n",
    "\n",
    "|编号|变量名|解释|类型|取值|\n",
    "|----|-------|--------|---|---|\n",
    "  |13|campaign| number of contacts performed during this campaign and for this client numeric, includes last contact|numeric|\n",
    "  |14|pdays| number of days that passed by after the client was last contacted from a previous campaign |numeric| -1 means client was not previously contacted|\n",
    "  |15|previous| number of contacts performed before this campaign and for this client |numeric|\n",
    "  |16|poutcome| outcome of the previous marketing campaign |categorical| \"unknown\",\"other\",\"failure\",\"success\"|\n",
    "\n",
    "  Output variable desired target\n",
    "  \n",
    "|编号|变量名|解释|类型|取值|\n",
    "|----|-------|--------|---|---|\n",
    "  |17|y|has the client subscribed a term deposit| binary| \"yes\",\"no\"|"
   ]
  },
  {
   "cell_type": "code",
   "execution_count": 3,
   "metadata": {
    "ExecuteTime": {
     "end_time": "2021-02-02T08:07:15.892685Z",
     "start_time": "2021-02-02T08:07:15.800942Z"
    }
   },
   "outputs": [
    {
     "name": "stdout",
     "output_type": "stream",
     "text": [
      "bank-full.csv: (45211, 17) \n",
      "\n",
      "测试集 (4521, 17) \n",
      "\n"
     ]
    }
   ],
   "source": [
    "# 导入数据\n",
    "df = pd.read_csv(\"bank-full.csv\", sep = ';') # 含测试集的全部数据\n",
    "test = pd.read_csv(\"bank.csv\",sep = ';') # 测试集\n",
    "\n",
    "# 查看数据大小\n",
    "print(\"bank-full.csv:\", df.shape,\"\\n\")\n",
    "print(\"测试集\", test.shape,\"\\n\")"
   ]
  },
  {
   "cell_type": "code",
   "execution_count": 4,
   "metadata": {
    "ExecuteTime": {
     "end_time": "2021-02-02T08:07:15.913627Z",
     "start_time": "2021-02-02T08:07:15.893680Z"
    }
   },
   "outputs": [
    {
     "data": {
      "text/plain": [
       "age          False\n",
       "job          False\n",
       "marital      False\n",
       "education    False\n",
       "default      False\n",
       "balance      False\n",
       "housing      False\n",
       "loan         False\n",
       "contact      False\n",
       "day          False\n",
       "month        False\n",
       "duration     False\n",
       "campaign     False\n",
       "pdays        False\n",
       "previous     False\n",
       "poutcome     False\n",
       "y            False\n",
       "dtype: bool"
      ]
     },
     "execution_count": 4,
     "metadata": {},
     "output_type": "execute_result"
    }
   ],
   "source": [
    "# 缺失值\n",
    "df.isnull().any()"
   ]
  },
  {
   "cell_type": "code",
   "execution_count": 5,
   "metadata": {
    "ExecuteTime": {
     "end_time": "2021-02-02T08:07:15.930584Z",
     "start_time": "2021-02-02T08:07:15.914624Z"
    }
   },
   "outputs": [
    {
     "data": {
      "text/html": [
       "<div>\n",
       "<style scoped>\n",
       "    .dataframe tbody tr th:only-of-type {\n",
       "        vertical-align: middle;\n",
       "    }\n",
       "\n",
       "    .dataframe tbody tr th {\n",
       "        vertical-align: top;\n",
       "    }\n",
       "\n",
       "    .dataframe thead th {\n",
       "        text-align: right;\n",
       "    }\n",
       "</style>\n",
       "<table border=\"1\" class=\"dataframe\">\n",
       "  <thead>\n",
       "    <tr style=\"text-align: right;\">\n",
       "      <th></th>\n",
       "      <th>age</th>\n",
       "      <th>job</th>\n",
       "      <th>marital</th>\n",
       "      <th>education</th>\n",
       "      <th>default</th>\n",
       "      <th>balance</th>\n",
       "      <th>housing</th>\n",
       "      <th>loan</th>\n",
       "      <th>contact</th>\n",
       "      <th>day</th>\n",
       "      <th>month</th>\n",
       "      <th>duration</th>\n",
       "      <th>campaign</th>\n",
       "      <th>pdays</th>\n",
       "      <th>previous</th>\n",
       "      <th>poutcome</th>\n",
       "      <th>y</th>\n",
       "    </tr>\n",
       "  </thead>\n",
       "  <tbody>\n",
       "    <tr>\n",
       "      <th>0</th>\n",
       "      <td>58</td>\n",
       "      <td>management</td>\n",
       "      <td>married</td>\n",
       "      <td>tertiary</td>\n",
       "      <td>no</td>\n",
       "      <td>2143</td>\n",
       "      <td>yes</td>\n",
       "      <td>no</td>\n",
       "      <td>unknown</td>\n",
       "      <td>5</td>\n",
       "      <td>may</td>\n",
       "      <td>261</td>\n",
       "      <td>1</td>\n",
       "      <td>-1</td>\n",
       "      <td>0</td>\n",
       "      <td>unknown</td>\n",
       "      <td>no</td>\n",
       "    </tr>\n",
       "    <tr>\n",
       "      <th>1</th>\n",
       "      <td>44</td>\n",
       "      <td>technician</td>\n",
       "      <td>single</td>\n",
       "      <td>secondary</td>\n",
       "      <td>no</td>\n",
       "      <td>29</td>\n",
       "      <td>yes</td>\n",
       "      <td>no</td>\n",
       "      <td>unknown</td>\n",
       "      <td>5</td>\n",
       "      <td>may</td>\n",
       "      <td>151</td>\n",
       "      <td>1</td>\n",
       "      <td>-1</td>\n",
       "      <td>0</td>\n",
       "      <td>unknown</td>\n",
       "      <td>no</td>\n",
       "    </tr>\n",
       "    <tr>\n",
       "      <th>2</th>\n",
       "      <td>33</td>\n",
       "      <td>entrepreneur</td>\n",
       "      <td>married</td>\n",
       "      <td>secondary</td>\n",
       "      <td>no</td>\n",
       "      <td>2</td>\n",
       "      <td>yes</td>\n",
       "      <td>yes</td>\n",
       "      <td>unknown</td>\n",
       "      <td>5</td>\n",
       "      <td>may</td>\n",
       "      <td>76</td>\n",
       "      <td>1</td>\n",
       "      <td>-1</td>\n",
       "      <td>0</td>\n",
       "      <td>unknown</td>\n",
       "      <td>no</td>\n",
       "    </tr>\n",
       "    <tr>\n",
       "      <th>3</th>\n",
       "      <td>47</td>\n",
       "      <td>blue-collar</td>\n",
       "      <td>married</td>\n",
       "      <td>unknown</td>\n",
       "      <td>no</td>\n",
       "      <td>1506</td>\n",
       "      <td>yes</td>\n",
       "      <td>no</td>\n",
       "      <td>unknown</td>\n",
       "      <td>5</td>\n",
       "      <td>may</td>\n",
       "      <td>92</td>\n",
       "      <td>1</td>\n",
       "      <td>-1</td>\n",
       "      <td>0</td>\n",
       "      <td>unknown</td>\n",
       "      <td>no</td>\n",
       "    </tr>\n",
       "    <tr>\n",
       "      <th>4</th>\n",
       "      <td>33</td>\n",
       "      <td>unknown</td>\n",
       "      <td>single</td>\n",
       "      <td>unknown</td>\n",
       "      <td>no</td>\n",
       "      <td>1</td>\n",
       "      <td>no</td>\n",
       "      <td>no</td>\n",
       "      <td>unknown</td>\n",
       "      <td>5</td>\n",
       "      <td>may</td>\n",
       "      <td>198</td>\n",
       "      <td>1</td>\n",
       "      <td>-1</td>\n",
       "      <td>0</td>\n",
       "      <td>unknown</td>\n",
       "      <td>no</td>\n",
       "    </tr>\n",
       "  </tbody>\n",
       "</table>\n",
       "</div>"
      ],
      "text/plain": [
       "   age           job  marital  education default  balance housing loan  \\\n",
       "0   58    management  married   tertiary      no     2143     yes   no   \n",
       "1   44    technician   single  secondary      no       29     yes   no   \n",
       "2   33  entrepreneur  married  secondary      no        2     yes  yes   \n",
       "3   47   blue-collar  married    unknown      no     1506     yes   no   \n",
       "4   33       unknown   single    unknown      no        1      no   no   \n",
       "\n",
       "   contact  day month  duration  campaign  pdays  previous poutcome   y  \n",
       "0  unknown    5   may       261         1     -1         0  unknown  no  \n",
       "1  unknown    5   may       151         1     -1         0  unknown  no  \n",
       "2  unknown    5   may        76         1     -1         0  unknown  no  \n",
       "3  unknown    5   may        92         1     -1         0  unknown  no  \n",
       "4  unknown    5   may       198         1     -1         0  unknown  no  "
      ]
     },
     "execution_count": 5,
     "metadata": {},
     "output_type": "execute_result"
    }
   ],
   "source": [
    "df.head()"
   ]
  },
  {
   "cell_type": "code",
   "execution_count": 6,
   "metadata": {
    "ExecuteTime": {
     "end_time": "2021-02-02T08:07:15.954518Z",
     "start_time": "2021-02-02T08:07:15.931580Z"
    }
   },
   "outputs": [
    {
     "name": "stdout",
     "output_type": "stream",
     "text": [
      "<class 'pandas.core.frame.DataFrame'>\n",
      "RangeIndex: 45211 entries, 0 to 45210\n",
      "Data columns (total 17 columns):\n",
      " #   Column     Non-Null Count  Dtype \n",
      "---  ------     --------------  ----- \n",
      " 0   age        45211 non-null  int64 \n",
      " 1   job        45211 non-null  object\n",
      " 2   marital    45211 non-null  object\n",
      " 3   education  45211 non-null  object\n",
      " 4   default    45211 non-null  object\n",
      " 5   balance    45211 non-null  int64 \n",
      " 6   housing    45211 non-null  object\n",
      " 7   loan       45211 non-null  object\n",
      " 8   contact    45211 non-null  object\n",
      " 9   day        45211 non-null  int64 \n",
      " 10  month      45211 non-null  object\n",
      " 11  duration   45211 non-null  int64 \n",
      " 12  campaign   45211 non-null  int64 \n",
      " 13  pdays      45211 non-null  int64 \n",
      " 14  previous   45211 non-null  int64 \n",
      " 15  poutcome   45211 non-null  object\n",
      " 16  y          45211 non-null  object\n",
      "dtypes: int64(7), object(10)\n",
      "memory usage: 5.9+ MB\n"
     ]
    }
   ],
   "source": [
    "# 查看数据类型\n",
    "df.info()"
   ]
  },
  {
   "cell_type": "markdown",
   "metadata": {
    "ExecuteTime": {
     "end_time": "2021-01-26T07:05:52.744947Z",
     "start_time": "2021-01-26T07:05:52.740958Z"
    }
   },
   "source": [
    "## 去掉测试集"
   ]
  },
  {
   "cell_type": "code",
   "execution_count": 7,
   "metadata": {
    "ExecuteTime": {
     "end_time": "2021-02-02T08:07:16.035302Z",
     "start_time": "2021-02-02T08:07:15.956513Z"
    }
   },
   "outputs": [
    {
     "data": {
      "text/html": [
       "<div>\n",
       "<style scoped>\n",
       "    .dataframe tbody tr th:only-of-type {\n",
       "        vertical-align: middle;\n",
       "    }\n",
       "\n",
       "    .dataframe tbody tr th {\n",
       "        vertical-align: top;\n",
       "    }\n",
       "\n",
       "    .dataframe thead th {\n",
       "        text-align: right;\n",
       "    }\n",
       "</style>\n",
       "<table border=\"1\" class=\"dataframe\">\n",
       "  <thead>\n",
       "    <tr style=\"text-align: right;\">\n",
       "      <th></th>\n",
       "      <th>age</th>\n",
       "      <th>job</th>\n",
       "      <th>marital</th>\n",
       "      <th>education</th>\n",
       "      <th>default</th>\n",
       "      <th>balance</th>\n",
       "      <th>housing</th>\n",
       "      <th>loan</th>\n",
       "      <th>contact</th>\n",
       "      <th>day</th>\n",
       "      <th>month</th>\n",
       "      <th>duration</th>\n",
       "      <th>campaign</th>\n",
       "      <th>pdays</th>\n",
       "      <th>previous</th>\n",
       "      <th>poutcome</th>\n",
       "      <th>y</th>\n",
       "    </tr>\n",
       "  </thead>\n",
       "  <tbody>\n",
       "    <tr>\n",
       "      <th>0</th>\n",
       "      <td>58</td>\n",
       "      <td>management</td>\n",
       "      <td>married</td>\n",
       "      <td>tertiary</td>\n",
       "      <td>no</td>\n",
       "      <td>2143</td>\n",
       "      <td>yes</td>\n",
       "      <td>no</td>\n",
       "      <td>unknown</td>\n",
       "      <td>5</td>\n",
       "      <td>may</td>\n",
       "      <td>261</td>\n",
       "      <td>1</td>\n",
       "      <td>-1</td>\n",
       "      <td>0</td>\n",
       "      <td>unknown</td>\n",
       "      <td>no</td>\n",
       "    </tr>\n",
       "    <tr>\n",
       "      <th>1</th>\n",
       "      <td>44</td>\n",
       "      <td>technician</td>\n",
       "      <td>single</td>\n",
       "      <td>secondary</td>\n",
       "      <td>no</td>\n",
       "      <td>29</td>\n",
       "      <td>yes</td>\n",
       "      <td>no</td>\n",
       "      <td>unknown</td>\n",
       "      <td>5</td>\n",
       "      <td>may</td>\n",
       "      <td>151</td>\n",
       "      <td>1</td>\n",
       "      <td>-1</td>\n",
       "      <td>0</td>\n",
       "      <td>unknown</td>\n",
       "      <td>no</td>\n",
       "    </tr>\n",
       "    <tr>\n",
       "      <th>2</th>\n",
       "      <td>33</td>\n",
       "      <td>entrepreneur</td>\n",
       "      <td>married</td>\n",
       "      <td>secondary</td>\n",
       "      <td>no</td>\n",
       "      <td>2</td>\n",
       "      <td>yes</td>\n",
       "      <td>yes</td>\n",
       "      <td>unknown</td>\n",
       "      <td>5</td>\n",
       "      <td>may</td>\n",
       "      <td>76</td>\n",
       "      <td>1</td>\n",
       "      <td>-1</td>\n",
       "      <td>0</td>\n",
       "      <td>unknown</td>\n",
       "      <td>no</td>\n",
       "    </tr>\n",
       "    <tr>\n",
       "      <th>3</th>\n",
       "      <td>47</td>\n",
       "      <td>blue-collar</td>\n",
       "      <td>married</td>\n",
       "      <td>unknown</td>\n",
       "      <td>no</td>\n",
       "      <td>1506</td>\n",
       "      <td>yes</td>\n",
       "      <td>no</td>\n",
       "      <td>unknown</td>\n",
       "      <td>5</td>\n",
       "      <td>may</td>\n",
       "      <td>92</td>\n",
       "      <td>1</td>\n",
       "      <td>-1</td>\n",
       "      <td>0</td>\n",
       "      <td>unknown</td>\n",
       "      <td>no</td>\n",
       "    </tr>\n",
       "    <tr>\n",
       "      <th>4</th>\n",
       "      <td>33</td>\n",
       "      <td>unknown</td>\n",
       "      <td>single</td>\n",
       "      <td>unknown</td>\n",
       "      <td>no</td>\n",
       "      <td>1</td>\n",
       "      <td>no</td>\n",
       "      <td>no</td>\n",
       "      <td>unknown</td>\n",
       "      <td>5</td>\n",
       "      <td>may</td>\n",
       "      <td>198</td>\n",
       "      <td>1</td>\n",
       "      <td>-1</td>\n",
       "      <td>0</td>\n",
       "      <td>unknown</td>\n",
       "      <td>no</td>\n",
       "    </tr>\n",
       "    <tr>\n",
       "      <th>...</th>\n",
       "      <td>...</td>\n",
       "      <td>...</td>\n",
       "      <td>...</td>\n",
       "      <td>...</td>\n",
       "      <td>...</td>\n",
       "      <td>...</td>\n",
       "      <td>...</td>\n",
       "      <td>...</td>\n",
       "      <td>...</td>\n",
       "      <td>...</td>\n",
       "      <td>...</td>\n",
       "      <td>...</td>\n",
       "      <td>...</td>\n",
       "      <td>...</td>\n",
       "      <td>...</td>\n",
       "      <td>...</td>\n",
       "      <td>...</td>\n",
       "    </tr>\n",
       "    <tr>\n",
       "      <th>45206</th>\n",
       "      <td>51</td>\n",
       "      <td>technician</td>\n",
       "      <td>married</td>\n",
       "      <td>tertiary</td>\n",
       "      <td>no</td>\n",
       "      <td>825</td>\n",
       "      <td>no</td>\n",
       "      <td>no</td>\n",
       "      <td>cellular</td>\n",
       "      <td>17</td>\n",
       "      <td>nov</td>\n",
       "      <td>977</td>\n",
       "      <td>3</td>\n",
       "      <td>-1</td>\n",
       "      <td>0</td>\n",
       "      <td>unknown</td>\n",
       "      <td>yes</td>\n",
       "    </tr>\n",
       "    <tr>\n",
       "      <th>45207</th>\n",
       "      <td>71</td>\n",
       "      <td>retired</td>\n",
       "      <td>divorced</td>\n",
       "      <td>primary</td>\n",
       "      <td>no</td>\n",
       "      <td>1729</td>\n",
       "      <td>no</td>\n",
       "      <td>no</td>\n",
       "      <td>cellular</td>\n",
       "      <td>17</td>\n",
       "      <td>nov</td>\n",
       "      <td>456</td>\n",
       "      <td>2</td>\n",
       "      <td>-1</td>\n",
       "      <td>0</td>\n",
       "      <td>unknown</td>\n",
       "      <td>yes</td>\n",
       "    </tr>\n",
       "    <tr>\n",
       "      <th>45208</th>\n",
       "      <td>72</td>\n",
       "      <td>retired</td>\n",
       "      <td>married</td>\n",
       "      <td>secondary</td>\n",
       "      <td>no</td>\n",
       "      <td>5715</td>\n",
       "      <td>no</td>\n",
       "      <td>no</td>\n",
       "      <td>cellular</td>\n",
       "      <td>17</td>\n",
       "      <td>nov</td>\n",
       "      <td>1127</td>\n",
       "      <td>5</td>\n",
       "      <td>184</td>\n",
       "      <td>3</td>\n",
       "      <td>success</td>\n",
       "      <td>yes</td>\n",
       "    </tr>\n",
       "    <tr>\n",
       "      <th>45209</th>\n",
       "      <td>57</td>\n",
       "      <td>blue-collar</td>\n",
       "      <td>married</td>\n",
       "      <td>secondary</td>\n",
       "      <td>no</td>\n",
       "      <td>668</td>\n",
       "      <td>no</td>\n",
       "      <td>no</td>\n",
       "      <td>telephone</td>\n",
       "      <td>17</td>\n",
       "      <td>nov</td>\n",
       "      <td>508</td>\n",
       "      <td>4</td>\n",
       "      <td>-1</td>\n",
       "      <td>0</td>\n",
       "      <td>unknown</td>\n",
       "      <td>no</td>\n",
       "    </tr>\n",
       "    <tr>\n",
       "      <th>45210</th>\n",
       "      <td>37</td>\n",
       "      <td>entrepreneur</td>\n",
       "      <td>married</td>\n",
       "      <td>secondary</td>\n",
       "      <td>no</td>\n",
       "      <td>2971</td>\n",
       "      <td>no</td>\n",
       "      <td>no</td>\n",
       "      <td>cellular</td>\n",
       "      <td>17</td>\n",
       "      <td>nov</td>\n",
       "      <td>361</td>\n",
       "      <td>2</td>\n",
       "      <td>188</td>\n",
       "      <td>11</td>\n",
       "      <td>other</td>\n",
       "      <td>no</td>\n",
       "    </tr>\n",
       "  </tbody>\n",
       "</table>\n",
       "<p>40690 rows × 17 columns</p>\n",
       "</div>"
      ],
      "text/plain": [
       "       age           job   marital  education default  balance housing loan  \\\n",
       "0       58    management   married   tertiary      no     2143     yes   no   \n",
       "1       44    technician    single  secondary      no       29     yes   no   \n",
       "2       33  entrepreneur   married  secondary      no        2     yes  yes   \n",
       "3       47   blue-collar   married    unknown      no     1506     yes   no   \n",
       "4       33       unknown    single    unknown      no        1      no   no   \n",
       "...    ...           ...       ...        ...     ...      ...     ...  ...   \n",
       "45206   51    technician   married   tertiary      no      825      no   no   \n",
       "45207   71       retired  divorced    primary      no     1729      no   no   \n",
       "45208   72       retired   married  secondary      no     5715      no   no   \n",
       "45209   57   blue-collar   married  secondary      no      668      no   no   \n",
       "45210   37  entrepreneur   married  secondary      no     2971      no   no   \n",
       "\n",
       "         contact  day month  duration  campaign  pdays  previous poutcome    y  \n",
       "0        unknown    5   may       261         1     -1         0  unknown   no  \n",
       "1        unknown    5   may       151         1     -1         0  unknown   no  \n",
       "2        unknown    5   may        76         1     -1         0  unknown   no  \n",
       "3        unknown    5   may        92         1     -1         0  unknown   no  \n",
       "4        unknown    5   may       198         1     -1         0  unknown   no  \n",
       "...          ...  ...   ...       ...       ...    ...       ...      ...  ...  \n",
       "45206   cellular   17   nov       977         3     -1         0  unknown  yes  \n",
       "45207   cellular   17   nov       456         2     -1         0  unknown  yes  \n",
       "45208   cellular   17   nov      1127         5    184         3  success  yes  \n",
       "45209  telephone   17   nov       508         4     -1         0  unknown   no  \n",
       "45210   cellular   17   nov       361         2    188        11    other   no  \n",
       "\n",
       "[40690 rows x 17 columns]"
      ]
     },
     "execution_count": 7,
     "metadata": {},
     "output_type": "execute_result"
    }
   ],
   "source": [
    "df = df.append(test)\n",
    "df.drop_duplicates(keep = False, inplace = True)\n",
    "df"
   ]
  },
  {
   "cell_type": "markdown",
   "metadata": {},
   "source": [
    "# 预处理"
   ]
  },
  {
   "cell_type": "markdown",
   "metadata": {},
   "source": [
    "## 类型变量"
   ]
  },
  {
   "cell_type": "code",
   "execution_count": 8,
   "metadata": {
    "ExecuteTime": {
     "end_time": "2021-02-02T08:07:16.041286Z",
     "start_time": "2021-02-02T08:07:16.037298Z"
    }
   },
   "outputs": [
    {
     "name": "stdout",
     "output_type": "stream",
     "text": [
      "Index(['job', 'marital', 'education', 'default', 'housing', 'loan', 'contact',\n",
      "       'month', 'poutcome', 'y'],\n",
      "      dtype='object')\n"
     ]
    }
   ],
   "source": [
    "# 找到类型变量\n",
    "categorical_variables = df.columns[df.dtypes == \"object\"]\n",
    "print(categorical_variables)"
   ]
  },
  {
   "cell_type": "code",
   "execution_count": 9,
   "metadata": {
    "ExecuteTime": {
     "end_time": "2021-02-02T08:07:16.085170Z",
     "start_time": "2021-02-02T08:07:16.042283Z"
    }
   },
   "outputs": [
    {
     "name": "stdout",
     "output_type": "stream",
     "text": [
      "【变量名job:】\n",
      "blue-collar      8786\n",
      "management       8489\n",
      "technician       6829\n",
      "admin.           4693\n",
      "services         3737\n",
      "retired          2034\n",
      "self-employed    1396\n",
      "entrepreneur     1319\n",
      "unemployed       1175\n",
      "housemaid        1128\n",
      "student           854\n",
      "unknown           250\n",
      "Name: job, dtype: int64 \n",
      " ------------------------------\n",
      "【变量名marital:】\n",
      "married     24417\n",
      "single      11594\n",
      "divorced     4679\n",
      "Name: marital, dtype: int64 \n",
      " ------------------------------\n",
      "【变量名education:】\n",
      "secondary    20896\n",
      "tertiary     11951\n",
      "primary       6173\n",
      "unknown       1670\n",
      "Name: education, dtype: int64 \n",
      " ------------------------------\n",
      "【变量名default:】\n",
      "no     39951\n",
      "yes      739\n",
      "Name: default, dtype: int64 \n",
      " ------------------------------\n",
      "【变量名housing:】\n",
      "yes    22571\n",
      "no     18119\n",
      "Name: housing, dtype: int64 \n",
      " ------------------------------\n",
      "【变量名loan:】\n",
      "no     34137\n",
      "yes     6553\n",
      "Name: loan, dtype: int64 \n",
      " ------------------------------\n",
      "【变量名contact:】\n",
      "cellular     26389\n",
      "unknown      11696\n",
      "telephone     2605\n",
      "Name: contact, dtype: int64 \n",
      " ------------------------------\n",
      "【变量名month:】\n",
      "may    12368\n",
      "jul     6189\n",
      "aug     5614\n",
      "jun     4810\n",
      "nov     3581\n",
      "apr     2639\n",
      "feb     2427\n",
      "jan     1255\n",
      "oct      658\n",
      "sep      527\n",
      "mar      428\n",
      "dec      194\n",
      "Name: month, dtype: int64 \n",
      " ------------------------------\n",
      "【变量名poutcome:】\n",
      "unknown    33254\n",
      "failure     4411\n",
      "other       1643\n",
      "success     1382\n",
      "Name: poutcome, dtype: int64 \n",
      " ------------------------------\n",
      "【变量名y:】\n",
      "no     35922\n",
      "yes     4768\n",
      "Name: y, dtype: int64 \n",
      " ------------------------------\n"
     ]
    }
   ],
   "source": [
    "# 查看数据分布\n",
    "for var in categorical_variables:\n",
    "    print(\"【变量名%s:】\"%var)\n",
    "    print(df[var].value_counts(),\"\\n\",\"-\"*30)"
   ]
  },
  {
   "cell_type": "code",
   "execution_count": 10,
   "metadata": {
    "ExecuteTime": {
     "end_time": "2021-02-02T08:07:17.081504Z",
     "start_time": "2021-02-02T08:07:16.086168Z"
    }
   },
   "outputs": [
    {
     "data": {
      "image/png": "[encoded data removed]",
      "text/plain": [
       "<Figure size 1080x1440 with 10 Axes>"
      ]
     },
     "metadata": {
      "needs_background": "light"
     },
     "output_type": "display_data"
    }
   ],
   "source": [
    "# 画柱状图\n",
    "cat_plot_id = len(categorical_variables)+1\n",
    "cat_nrows = int(cat_plot_id/2)\n",
    "\n",
    "plt.figure(figsize=(15, 20))\n",
    "for i in range(1, cat_plot_id):\n",
    "    plt.subplot(cat_nrows, 2, i)\n",
    "    # 用countplot()画出柱状图\n",
    "    sns.countplot(x=categorical_variables[i-1], data=df)\n",
    "    plt.xticks(rotation=30)"
   ]
  },
  {
   "cell_type": "markdown",
   "metadata": {},
   "source": [
    "### 处理一下y"
   ]
  },
  {
   "cell_type": "code",
   "execution_count": 11,
   "metadata": {
    "ExecuteTime": {
     "end_time": "2021-02-02T08:07:17.113417Z",
     "start_time": "2021-02-02T08:07:17.082500Z"
    }
   },
   "outputs": [
    {
     "data": {
      "text/html": [
       "<div>\n",
       "<style scoped>\n",
       "    .dataframe tbody tr th:only-of-type {\n",
       "        vertical-align: middle;\n",
       "    }\n",
       "\n",
       "    .dataframe tbody tr th {\n",
       "        vertical-align: top;\n",
       "    }\n",
       "\n",
       "    .dataframe thead th {\n",
       "        text-align: right;\n",
       "    }\n",
       "</style>\n",
       "<table border=\"1\" class=\"dataframe\">\n",
       "  <thead>\n",
       "    <tr style=\"text-align: right;\">\n",
       "      <th></th>\n",
       "      <th>age</th>\n",
       "      <th>job</th>\n",
       "      <th>marital</th>\n",
       "      <th>education</th>\n",
       "      <th>default</th>\n",
       "      <th>balance</th>\n",
       "      <th>housing</th>\n",
       "      <th>loan</th>\n",
       "      <th>contact</th>\n",
       "      <th>day</th>\n",
       "      <th>month</th>\n",
       "      <th>duration</th>\n",
       "      <th>campaign</th>\n",
       "      <th>pdays</th>\n",
       "      <th>previous</th>\n",
       "      <th>poutcome</th>\n",
       "      <th>y</th>\n",
       "    </tr>\n",
       "  </thead>\n",
       "  <tbody>\n",
       "    <tr>\n",
       "      <th>0</th>\n",
       "      <td>58</td>\n",
       "      <td>management</td>\n",
       "      <td>married</td>\n",
       "      <td>tertiary</td>\n",
       "      <td>no</td>\n",
       "      <td>2143</td>\n",
       "      <td>yes</td>\n",
       "      <td>no</td>\n",
       "      <td>unknown</td>\n",
       "      <td>5</td>\n",
       "      <td>may</td>\n",
       "      <td>261</td>\n",
       "      <td>1</td>\n",
       "      <td>-1</td>\n",
       "      <td>0</td>\n",
       "      <td>unknown</td>\n",
       "      <td>0</td>\n",
       "    </tr>\n",
       "    <tr>\n",
       "      <th>1</th>\n",
       "      <td>44</td>\n",
       "      <td>technician</td>\n",
       "      <td>single</td>\n",
       "      <td>secondary</td>\n",
       "      <td>no</td>\n",
       "      <td>29</td>\n",
       "      <td>yes</td>\n",
       "      <td>no</td>\n",
       "      <td>unknown</td>\n",
       "      <td>5</td>\n",
       "      <td>may</td>\n",
       "      <td>151</td>\n",
       "      <td>1</td>\n",
       "      <td>-1</td>\n",
       "      <td>0</td>\n",
       "      <td>unknown</td>\n",
       "      <td>0</td>\n",
       "    </tr>\n",
       "    <tr>\n",
       "      <th>2</th>\n",
       "      <td>33</td>\n",
       "      <td>entrepreneur</td>\n",
       "      <td>married</td>\n",
       "      <td>secondary</td>\n",
       "      <td>no</td>\n",
       "      <td>2</td>\n",
       "      <td>yes</td>\n",
       "      <td>yes</td>\n",
       "      <td>unknown</td>\n",
       "      <td>5</td>\n",
       "      <td>may</td>\n",
       "      <td>76</td>\n",
       "      <td>1</td>\n",
       "      <td>-1</td>\n",
       "      <td>0</td>\n",
       "      <td>unknown</td>\n",
       "      <td>0</td>\n",
       "    </tr>\n",
       "    <tr>\n",
       "      <th>3</th>\n",
       "      <td>47</td>\n",
       "      <td>blue-collar</td>\n",
       "      <td>married</td>\n",
       "      <td>unknown</td>\n",
       "      <td>no</td>\n",
       "      <td>1506</td>\n",
       "      <td>yes</td>\n",
       "      <td>no</td>\n",
       "      <td>unknown</td>\n",
       "      <td>5</td>\n",
       "      <td>may</td>\n",
       "      <td>92</td>\n",
       "      <td>1</td>\n",
       "      <td>-1</td>\n",
       "      <td>0</td>\n",
       "      <td>unknown</td>\n",
       "      <td>0</td>\n",
       "    </tr>\n",
       "    <tr>\n",
       "      <th>4</th>\n",
       "      <td>33</td>\n",
       "      <td>unknown</td>\n",
       "      <td>single</td>\n",
       "      <td>unknown</td>\n",
       "      <td>no</td>\n",
       "      <td>1</td>\n",
       "      <td>no</td>\n",
       "      <td>no</td>\n",
       "      <td>unknown</td>\n",
       "      <td>5</td>\n",
       "      <td>may</td>\n",
       "      <td>198</td>\n",
       "      <td>1</td>\n",
       "      <td>-1</td>\n",
       "      <td>0</td>\n",
       "      <td>unknown</td>\n",
       "      <td>0</td>\n",
       "    </tr>\n",
       "  </tbody>\n",
       "</table>\n",
       "</div>"
      ],
      "text/plain": [
       "   age           job  marital  education default  balance housing loan  \\\n",
       "0   58    management  married   tertiary      no     2143     yes   no   \n",
       "1   44    technician   single  secondary      no       29     yes   no   \n",
       "2   33  entrepreneur  married  secondary      no        2     yes  yes   \n",
       "3   47   blue-collar  married    unknown      no     1506     yes   no   \n",
       "4   33       unknown   single    unknown      no        1      no   no   \n",
       "\n",
       "   contact  day month  duration  campaign  pdays  previous poutcome  y  \n",
       "0  unknown    5   may       261         1     -1         0  unknown  0  \n",
       "1  unknown    5   may       151         1     -1         0  unknown  0  \n",
       "2  unknown    5   may        76         1     -1         0  unknown  0  \n",
       "3  unknown    5   may        92         1     -1         0  unknown  0  \n",
       "4  unknown    5   may       198         1     -1         0  unknown  0  "
      ]
     },
     "execution_count": 11,
     "metadata": {},
     "output_type": "execute_result"
    }
   ],
   "source": [
    "df[\"y\"] = df[\"y\"].apply(lambda x: 1 if x == \"yes\" else 0)\n",
    "df.head()"
   ]
  },
  {
   "cell_type": "code",
   "execution_count": 12,
   "metadata": {
    "ExecuteTime": {
     "end_time": "2021-02-02T08:07:17.134361Z",
     "start_time": "2021-02-02T08:07:17.115411Z"
    }
   },
   "outputs": [
    {
     "data": {
      "text/html": [
       "<div>\n",
       "<style scoped>\n",
       "    .dataframe tbody tr th:only-of-type {\n",
       "        vertical-align: middle;\n",
       "    }\n",
       "\n",
       "    .dataframe tbody tr th {\n",
       "        vertical-align: top;\n",
       "    }\n",
       "\n",
       "    .dataframe thead th {\n",
       "        text-align: right;\n",
       "    }\n",
       "</style>\n",
       "<table border=\"1\" class=\"dataframe\">\n",
       "  <thead>\n",
       "    <tr style=\"text-align: right;\">\n",
       "      <th></th>\n",
       "      <th>age</th>\n",
       "      <th>job</th>\n",
       "      <th>marital</th>\n",
       "      <th>education</th>\n",
       "      <th>default</th>\n",
       "      <th>balance</th>\n",
       "      <th>housing</th>\n",
       "      <th>loan</th>\n",
       "      <th>contact</th>\n",
       "      <th>day</th>\n",
       "      <th>month</th>\n",
       "      <th>duration</th>\n",
       "      <th>campaign</th>\n",
       "      <th>pdays</th>\n",
       "      <th>previous</th>\n",
       "      <th>poutcome</th>\n",
       "      <th>y</th>\n",
       "    </tr>\n",
       "  </thead>\n",
       "  <tbody>\n",
       "    <tr>\n",
       "      <th>0</th>\n",
       "      <td>30</td>\n",
       "      <td>unemployed</td>\n",
       "      <td>married</td>\n",
       "      <td>primary</td>\n",
       "      <td>no</td>\n",
       "      <td>1787</td>\n",
       "      <td>no</td>\n",
       "      <td>no</td>\n",
       "      <td>cellular</td>\n",
       "      <td>19</td>\n",
       "      <td>oct</td>\n",
       "      <td>79</td>\n",
       "      <td>1</td>\n",
       "      <td>-1</td>\n",
       "      <td>0</td>\n",
       "      <td>unknown</td>\n",
       "      <td>0</td>\n",
       "    </tr>\n",
       "    <tr>\n",
       "      <th>1</th>\n",
       "      <td>33</td>\n",
       "      <td>services</td>\n",
       "      <td>married</td>\n",
       "      <td>secondary</td>\n",
       "      <td>no</td>\n",
       "      <td>4789</td>\n",
       "      <td>yes</td>\n",
       "      <td>yes</td>\n",
       "      <td>cellular</td>\n",
       "      <td>11</td>\n",
       "      <td>may</td>\n",
       "      <td>220</td>\n",
       "      <td>1</td>\n",
       "      <td>339</td>\n",
       "      <td>4</td>\n",
       "      <td>failure</td>\n",
       "      <td>0</td>\n",
       "    </tr>\n",
       "    <tr>\n",
       "      <th>2</th>\n",
       "      <td>35</td>\n",
       "      <td>management</td>\n",
       "      <td>single</td>\n",
       "      <td>tertiary</td>\n",
       "      <td>no</td>\n",
       "      <td>1350</td>\n",
       "      <td>yes</td>\n",
       "      <td>no</td>\n",
       "      <td>cellular</td>\n",
       "      <td>16</td>\n",
       "      <td>apr</td>\n",
       "      <td>185</td>\n",
       "      <td>1</td>\n",
       "      <td>330</td>\n",
       "      <td>1</td>\n",
       "      <td>failure</td>\n",
       "      <td>0</td>\n",
       "    </tr>\n",
       "    <tr>\n",
       "      <th>3</th>\n",
       "      <td>30</td>\n",
       "      <td>management</td>\n",
       "      <td>married</td>\n",
       "      <td>tertiary</td>\n",
       "      <td>no</td>\n",
       "      <td>1476</td>\n",
       "      <td>yes</td>\n",
       "      <td>yes</td>\n",
       "      <td>unknown</td>\n",
       "      <td>3</td>\n",
       "      <td>jun</td>\n",
       "      <td>199</td>\n",
       "      <td>4</td>\n",
       "      <td>-1</td>\n",
       "      <td>0</td>\n",
       "      <td>unknown</td>\n",
       "      <td>0</td>\n",
       "    </tr>\n",
       "    <tr>\n",
       "      <th>4</th>\n",
       "      <td>59</td>\n",
       "      <td>blue-collar</td>\n",
       "      <td>married</td>\n",
       "      <td>secondary</td>\n",
       "      <td>no</td>\n",
       "      <td>0</td>\n",
       "      <td>yes</td>\n",
       "      <td>no</td>\n",
       "      <td>unknown</td>\n",
       "      <td>5</td>\n",
       "      <td>may</td>\n",
       "      <td>226</td>\n",
       "      <td>1</td>\n",
       "      <td>-1</td>\n",
       "      <td>0</td>\n",
       "      <td>unknown</td>\n",
       "      <td>0</td>\n",
       "    </tr>\n",
       "  </tbody>\n",
       "</table>\n",
       "</div>"
      ],
      "text/plain": [
       "   age          job  marital  education default  balance housing loan  \\\n",
       "0   30   unemployed  married    primary      no     1787      no   no   \n",
       "1   33     services  married  secondary      no     4789     yes  yes   \n",
       "2   35   management   single   tertiary      no     1350     yes   no   \n",
       "3   30   management  married   tertiary      no     1476     yes  yes   \n",
       "4   59  blue-collar  married  secondary      no        0     yes   no   \n",
       "\n",
       "    contact  day month  duration  campaign  pdays  previous poutcome  y  \n",
       "0  cellular   19   oct        79         1     -1         0  unknown  0  \n",
       "1  cellular   11   may       220         1    339         4  failure  0  \n",
       "2  cellular   16   apr       185         1    330         1  failure  0  \n",
       "3   unknown    3   jun       199         4     -1         0  unknown  0  \n",
       "4   unknown    5   may       226         1     -1         0  unknown  0  "
      ]
     },
     "execution_count": 12,
     "metadata": {},
     "output_type": "execute_result"
    }
   ],
   "source": [
    "test[\"y\"] = test[\"y\"].apply(lambda x: 1 if x == \"yes\" else 0)\n",
    "test.head()"
   ]
  },
  {
   "cell_type": "markdown",
   "metadata": {},
   "source": [
    "### 针对job: admin和management到底是不是一类数据"
   ]
  },
  {
   "cell_type": "code",
   "execution_count": 13,
   "metadata": {
    "ExecuteTime": {
     "end_time": "2021-02-02T08:07:17.166277Z",
     "start_time": "2021-02-02T08:07:17.136356Z"
    }
   },
   "outputs": [
    {
     "name": "stdout",
     "output_type": "stream",
     "text": [
      "检查balance:\n",
      " Ttest_indResult(statistic=-10.005424159346354, pvalue=1.7496799030869774e-23)\n",
      "检查age:\n",
      " Ttest_indResult(statistic=-6.963480490421425, pvalue=3.4770218783300235e-12)\n"
     ]
    }
   ],
   "source": [
    "# t-test: balance\n",
    "print(\"检查balance:\\n\",\n",
    "      stats.ttest_ind(df[df[\"job\"] == \"admin.\"][\"balance\"], df[df[\"job\"] == \"management\"][\"balance\"]))\n",
    "\n",
    "# t-test: age\n",
    "print(\"检查age:\\n\",\n",
    "      stats.ttest_ind(df[df[\"job\"] == \"admin.\"][\"age\"], df[df[\"job\"] == \"management\"][\"age\"]))"
   ]
  },
  {
   "cell_type": "markdown",
   "metadata": {},
   "source": [
    "### 修改之前联系过，但是poutcome为unknown的情况"
   ]
  },
  {
   "cell_type": "code",
   "execution_count": 14,
   "metadata": {
    "ExecuteTime": {
     "end_time": "2021-02-02T08:07:17.189214Z",
     "start_time": "2021-02-02T08:07:17.167274Z"
    }
   },
   "outputs": [
    {
     "name": "stdout",
     "output_type": "stream",
     "text": [
      "0    33249\n",
      "1     7441\n",
      "Name: 是否联系过, dtype: int64\n"
     ]
    }
   ],
   "source": [
    "# 有多少顾客之前没有联系过？\n",
    "df[\"是否联系过\"] = df[\"pdays\"].apply(lambda x: 0 if x == -1 else 1)\n",
    "print(df[\"是否联系过\"].value_counts())\n",
    "\n",
    "# 在测试集里也构造该列\n",
    "test[\"是否联系过\"] = test[\"pdays\"].apply(lambda x: 0 if x == -1 else 1)"
   ]
  },
  {
   "cell_type": "code",
   "execution_count": 15,
   "metadata": {
    "ExecuteTime": {
     "end_time": "2021-02-02T08:07:17.231102Z",
     "start_time": "2021-02-02T08:07:17.192207Z"
    }
   },
   "outputs": [
    {
     "data": {
      "text/html": [
       "<div>\n",
       "<style scoped>\n",
       "    .dataframe tbody tr th:only-of-type {\n",
       "        vertical-align: middle;\n",
       "    }\n",
       "\n",
       "    .dataframe tbody tr th {\n",
       "        vertical-align: top;\n",
       "    }\n",
       "\n",
       "    .dataframe thead th {\n",
       "        text-align: right;\n",
       "    }\n",
       "</style>\n",
       "<table border=\"1\" class=\"dataframe\">\n",
       "  <thead>\n",
       "    <tr style=\"text-align: right;\">\n",
       "      <th></th>\n",
       "      <th>是否联系过</th>\n",
       "      <th>poutcome</th>\n",
       "      <th>contact</th>\n",
       "      <th>num</th>\n",
       "      <th>prop</th>\n",
       "    </tr>\n",
       "  </thead>\n",
       "  <tbody>\n",
       "    <tr>\n",
       "      <th>0</th>\n",
       "      <td>0</td>\n",
       "      <td>unknown</td>\n",
       "      <td>cellular</td>\n",
       "      <td>19565</td>\n",
       "      <td>0.480831</td>\n",
       "    </tr>\n",
       "    <tr>\n",
       "      <th>2</th>\n",
       "      <td>0</td>\n",
       "      <td>unknown</td>\n",
       "      <td>unknown</td>\n",
       "      <td>11637</td>\n",
       "      <td>0.285992</td>\n",
       "    </tr>\n",
       "    <tr>\n",
       "      <th>3</th>\n",
       "      <td>1</td>\n",
       "      <td>failure</td>\n",
       "      <td>cellular</td>\n",
       "      <td>4082</td>\n",
       "      <td>0.100319</td>\n",
       "    </tr>\n",
       "    <tr>\n",
       "      <th>1</th>\n",
       "      <td>0</td>\n",
       "      <td>unknown</td>\n",
       "      <td>telephone</td>\n",
       "      <td>2047</td>\n",
       "      <td>0.050307</td>\n",
       "    </tr>\n",
       "    <tr>\n",
       "      <th>6</th>\n",
       "      <td>1</td>\n",
       "      <td>other</td>\n",
       "      <td>cellular</td>\n",
       "      <td>1466</td>\n",
       "      <td>0.036029</td>\n",
       "    </tr>\n",
       "    <tr>\n",
       "      <th>9</th>\n",
       "      <td>1</td>\n",
       "      <td>success</td>\n",
       "      <td>cellular</td>\n",
       "      <td>1271</td>\n",
       "      <td>0.031236</td>\n",
       "    </tr>\n",
       "    <tr>\n",
       "      <th>4</th>\n",
       "      <td>1</td>\n",
       "      <td>failure</td>\n",
       "      <td>telephone</td>\n",
       "      <td>302</td>\n",
       "      <td>0.007422</td>\n",
       "    </tr>\n",
       "    <tr>\n",
       "      <th>7</th>\n",
       "      <td>1</td>\n",
       "      <td>other</td>\n",
       "      <td>telephone</td>\n",
       "      <td>155</td>\n",
       "      <td>0.003809</td>\n",
       "    </tr>\n",
       "    <tr>\n",
       "      <th>10</th>\n",
       "      <td>1</td>\n",
       "      <td>success</td>\n",
       "      <td>telephone</td>\n",
       "      <td>101</td>\n",
       "      <td>0.002482</td>\n",
       "    </tr>\n",
       "    <tr>\n",
       "      <th>5</th>\n",
       "      <td>1</td>\n",
       "      <td>failure</td>\n",
       "      <td>unknown</td>\n",
       "      <td>27</td>\n",
       "      <td>0.000664</td>\n",
       "    </tr>\n",
       "    <tr>\n",
       "      <th>8</th>\n",
       "      <td>1</td>\n",
       "      <td>other</td>\n",
       "      <td>unknown</td>\n",
       "      <td>22</td>\n",
       "      <td>0.000541</td>\n",
       "    </tr>\n",
       "    <tr>\n",
       "      <th>11</th>\n",
       "      <td>1</td>\n",
       "      <td>success</td>\n",
       "      <td>unknown</td>\n",
       "      <td>10</td>\n",
       "      <td>0.000246</td>\n",
       "    </tr>\n",
       "    <tr>\n",
       "      <th>12</th>\n",
       "      <td>1</td>\n",
       "      <td>unknown</td>\n",
       "      <td>cellular</td>\n",
       "      <td>5</td>\n",
       "      <td>0.000123</td>\n",
       "    </tr>\n",
       "  </tbody>\n",
       "</table>\n",
       "</div>"
      ],
      "text/plain": [
       "    是否联系过 poutcome    contact    num      prop\n",
       "0       0  unknown   cellular  19565  0.480831\n",
       "2       0  unknown    unknown  11637  0.285992\n",
       "3       1  failure   cellular   4082  0.100319\n",
       "1       0  unknown  telephone   2047  0.050307\n",
       "6       1    other   cellular   1466  0.036029\n",
       "9       1  success   cellular   1271  0.031236\n",
       "4       1  failure  telephone    302  0.007422\n",
       "7       1    other  telephone    155  0.003809\n",
       "10      1  success  telephone    101  0.002482\n",
       "5       1  failure    unknown     27  0.000664\n",
       "8       1    other    unknown     22  0.000541\n",
       "11      1  success    unknown     10  0.000246\n",
       "12      1  unknown   cellular      5  0.000123"
      ]
     },
     "execution_count": 15,
     "metadata": {},
     "output_type": "execute_result"
    }
   ],
   "source": [
    "# 被影响的变量\n",
    "effect_variables = [\"previous\",\"poutcome\",\"contact\"]\n",
    "\n",
    "# 分类统计\n",
    "temp2 = df.groupby(by = [\"是否联系过\",\"poutcome\",\"contact\"], as_index = False)[\"age\"].agg({\"num\":\"count\"})\n",
    "# 占比统计\n",
    "temp2[\"prop\"] = temp2[\"num\"]/temp2[\"num\"].sum()\n",
    "\n",
    "temp2.sort_values(by = \"prop\", ascending = False, inplace = True)\n",
    "temp2"
   ]
  },
  {
   "cell_type": "code",
   "execution_count": 16,
   "metadata": {
    "ExecuteTime": {
     "end_time": "2021-02-02T08:07:17.390676Z",
     "start_time": "2021-02-02T08:07:17.233096Z"
    }
   },
   "outputs": [
    {
     "data": {
      "image/png": "[encoded data removed]",
      "text/plain": [
       "<Figure size 720x432 with 1 Axes>"
      ]
     },
     "metadata": {
      "needs_background": "light"
     },
     "output_type": "display_data"
    }
   ],
   "source": [
    "# 画图\n",
    "plt.figure(figsize = (10,6))\n",
    "sns.barplot(y = temp2.index, x = temp2[\"prop\"], orient = \"h\")\n",
    "plt.ylabel(ylabel = \"分类\",size = 12)\n",
    "plt.xlabel(xlabel = \"占比\",size = 12)\n",
    "plt.show()"
   ]
  },
  {
   "cell_type": "code",
   "execution_count": 17,
   "metadata": {
    "ExecuteTime": {
     "end_time": "2021-02-02T08:07:17.410624Z",
     "start_time": "2021-02-02T08:07:17.391673Z"
    }
   },
   "outputs": [
    {
     "data": {
      "text/html": [
       "<div>\n",
       "<style scoped>\n",
       "    .dataframe tbody tr th:only-of-type {\n",
       "        vertical-align: middle;\n",
       "    }\n",
       "\n",
       "    .dataframe tbody tr th {\n",
       "        vertical-align: top;\n",
       "    }\n",
       "\n",
       "    .dataframe thead th {\n",
       "        text-align: right;\n",
       "    }\n",
       "</style>\n",
       "<table border=\"1\" class=\"dataframe\">\n",
       "  <thead>\n",
       "    <tr style=\"text-align: right;\">\n",
       "      <th></th>\n",
       "      <th>age</th>\n",
       "      <th>job</th>\n",
       "      <th>marital</th>\n",
       "      <th>education</th>\n",
       "      <th>default</th>\n",
       "      <th>balance</th>\n",
       "      <th>housing</th>\n",
       "      <th>loan</th>\n",
       "      <th>contact</th>\n",
       "      <th>day</th>\n",
       "      <th>month</th>\n",
       "      <th>duration</th>\n",
       "      <th>campaign</th>\n",
       "      <th>pdays</th>\n",
       "      <th>previous</th>\n",
       "      <th>poutcome</th>\n",
       "      <th>y</th>\n",
       "      <th>是否联系过</th>\n",
       "    </tr>\n",
       "  </thead>\n",
       "  <tbody>\n",
       "    <tr>\n",
       "      <th>40658</th>\n",
       "      <td>61</td>\n",
       "      <td>retired</td>\n",
       "      <td>married</td>\n",
       "      <td>tertiary</td>\n",
       "      <td>no</td>\n",
       "      <td>3140</td>\n",
       "      <td>yes</td>\n",
       "      <td>yes</td>\n",
       "      <td>cellular</td>\n",
       "      <td>6</td>\n",
       "      <td>aug</td>\n",
       "      <td>975</td>\n",
       "      <td>4</td>\n",
       "      <td>98</td>\n",
       "      <td>1</td>\n",
       "      <td>unknown</td>\n",
       "      <td>1</td>\n",
       "      <td>1</td>\n",
       "    </tr>\n",
       "    <tr>\n",
       "      <th>41821</th>\n",
       "      <td>39</td>\n",
       "      <td>management</td>\n",
       "      <td>married</td>\n",
       "      <td>tertiary</td>\n",
       "      <td>no</td>\n",
       "      <td>184</td>\n",
       "      <td>no</td>\n",
       "      <td>no</td>\n",
       "      <td>cellular</td>\n",
       "      <td>15</td>\n",
       "      <td>oct</td>\n",
       "      <td>206</td>\n",
       "      <td>1</td>\n",
       "      <td>168</td>\n",
       "      <td>5</td>\n",
       "      <td>unknown</td>\n",
       "      <td>0</td>\n",
       "      <td>1</td>\n",
       "    </tr>\n",
       "    <tr>\n",
       "      <th>42042</th>\n",
       "      <td>26</td>\n",
       "      <td>admin.</td>\n",
       "      <td>single</td>\n",
       "      <td>secondary</td>\n",
       "      <td>no</td>\n",
       "      <td>338</td>\n",
       "      <td>no</td>\n",
       "      <td>no</td>\n",
       "      <td>cellular</td>\n",
       "      <td>29</td>\n",
       "      <td>oct</td>\n",
       "      <td>209</td>\n",
       "      <td>1</td>\n",
       "      <td>188</td>\n",
       "      <td>2</td>\n",
       "      <td>unknown</td>\n",
       "      <td>1</td>\n",
       "      <td>1</td>\n",
       "    </tr>\n",
       "    <tr>\n",
       "      <th>43978</th>\n",
       "      <td>30</td>\n",
       "      <td>technician</td>\n",
       "      <td>single</td>\n",
       "      <td>secondary</td>\n",
       "      <td>no</td>\n",
       "      <td>254</td>\n",
       "      <td>yes</td>\n",
       "      <td>yes</td>\n",
       "      <td>cellular</td>\n",
       "      <td>24</td>\n",
       "      <td>jun</td>\n",
       "      <td>167</td>\n",
       "      <td>3</td>\n",
       "      <td>416</td>\n",
       "      <td>2</td>\n",
       "      <td>unknown</td>\n",
       "      <td>0</td>\n",
       "      <td>1</td>\n",
       "    </tr>\n",
       "    <tr>\n",
       "      <th>45021</th>\n",
       "      <td>37</td>\n",
       "      <td>management</td>\n",
       "      <td>married</td>\n",
       "      <td>secondary</td>\n",
       "      <td>no</td>\n",
       "      <td>209</td>\n",
       "      <td>no</td>\n",
       "      <td>no</td>\n",
       "      <td>cellular</td>\n",
       "      <td>14</td>\n",
       "      <td>oct</td>\n",
       "      <td>183</td>\n",
       "      <td>3</td>\n",
       "      <td>528</td>\n",
       "      <td>7</td>\n",
       "      <td>unknown</td>\n",
       "      <td>0</td>\n",
       "      <td>1</td>\n",
       "    </tr>\n",
       "  </tbody>\n",
       "</table>\n",
       "</div>"
      ],
      "text/plain": [
       "       age         job  marital  education default  balance housing loan  \\\n",
       "40658   61     retired  married   tertiary      no     3140     yes  yes   \n",
       "41821   39  management  married   tertiary      no      184      no   no   \n",
       "42042   26      admin.   single  secondary      no      338      no   no   \n",
       "43978   30  technician   single  secondary      no      254     yes  yes   \n",
       "45021   37  management  married  secondary      no      209      no   no   \n",
       "\n",
       "        contact  day month  duration  campaign  pdays  previous poutcome  y  \\\n",
       "40658  cellular    6   aug       975         4     98         1  unknown  1   \n",
       "41821  cellular   15   oct       206         1    168         5  unknown  0   \n",
       "42042  cellular   29   oct       209         1    188         2  unknown  1   \n",
       "43978  cellular   24   jun       167         3    416         2  unknown  0   \n",
       "45021  cellular   14   oct       183         3    528         7  unknown  0   \n",
       "\n",
       "       是否联系过  \n",
       "40658      1  \n",
       "41821      1  \n",
       "42042      1  \n",
       "43978      1  \n",
       "45021      1  "
      ]
     },
     "execution_count": 17,
     "metadata": {},
     "output_type": "execute_result"
    }
   ],
   "source": [
    "# 找训练集里的数据\n",
    "edit_index = df[(df[\"是否联系过\"] == 1) &(df[\"poutcome\"] == \"unknown\")].index\n",
    "df.loc[edit_index]"
   ]
  },
  {
   "cell_type": "code",
   "execution_count": 18,
   "metadata": {
    "ExecuteTime": {
     "end_time": "2021-02-02T08:07:17.419598Z",
     "start_time": "2021-02-02T08:07:17.411621Z"
    }
   },
   "outputs": [
    {
     "data": {
      "text/plain": [
       "'failure'"
      ]
     },
     "execution_count": 18,
     "metadata": {},
     "output_type": "execute_result"
    }
   ],
   "source": [
    "# 寻找众数\n",
    "fill_val = df[df[\"是否联系过\"] == 1][\"poutcome\"].mode()[0]\n",
    "fill_val"
   ]
  },
  {
   "cell_type": "code",
   "execution_count": 19,
   "metadata": {
    "ExecuteTime": {
     "end_time": "2021-02-02T08:07:17.427577Z",
     "start_time": "2021-02-02T08:07:17.420595Z"
    }
   },
   "outputs": [
    {
     "data": {
      "text/plain": [
       "40658    failure\n",
       "41821    failure\n",
       "42042    failure\n",
       "43978    failure\n",
       "45021    failure\n",
       "Name: poutcome, dtype: object"
      ]
     },
     "execution_count": 19,
     "metadata": {},
     "output_type": "execute_result"
    }
   ],
   "source": [
    "# 填充\n",
    "df.loc[edit_index, \"poutcome\"] = fill_val\n",
    "df.loc[edit_index,\"poutcome\"]"
   ]
  },
  {
   "cell_type": "code",
   "execution_count": 20,
   "metadata": {
    "ExecuteTime": {
     "end_time": "2021-02-02T08:07:17.439545Z",
     "start_time": "2021-02-02T08:07:17.429570Z"
    }
   },
   "outputs": [
    {
     "data": {
      "text/plain": [
       "Series([], Name: poutcome, dtype: object)"
      ]
     },
     "execution_count": 20,
     "metadata": {},
     "output_type": "execute_result"
    }
   ],
   "source": [
    "# 用相同方法修改测试集\n",
    "\n",
    "# 找训练集里的数据\n",
    "edit_index = test[(test[\"是否联系过\"] == 1) &(test[\"poutcome\"] == \"unknown\")].index\n",
    "\n",
    "# 寻找众数\n",
    "fill_val = test[test[\"是否联系过\"] == 1][\"poutcome\"].mode()[0]\n",
    "\n",
    "# 填充\n",
    "test.loc[edit_index, \"poutcome\"] = fill_val\n",
    "test.loc[edit_index,\"poutcome\"]"
   ]
  },
  {
   "cell_type": "markdown",
   "metadata": {},
   "source": [
    "### 修改之前联系过，却unknown contact的情况\n",
    "\n",
    "使用众数填充"
   ]
  },
  {
   "cell_type": "code",
   "execution_count": 21,
   "metadata": {
    "ExecuteTime": {
     "end_time": "2021-02-02T08:07:17.449518Z",
     "start_time": "2021-02-02T08:07:17.440542Z"
    }
   },
   "outputs": [
    {
     "data": {
      "text/plain": [
       "24080    unknown\n",
       "24136    unknown\n",
       "24160    unknown\n",
       "24364    unknown\n",
       "24405    unknown\n",
       "24415    unknown\n",
       "24611    unknown\n",
       "24624    unknown\n",
       "24721    unknown\n",
       "25060    unknown\n",
       "41604    unknown\n",
       "42228    unknown\n",
       "43115    unknown\n",
       "43121    unknown\n",
       "43171    unknown\n",
       "43226    unknown\n",
       "43727    unknown\n",
       "43802    unknown\n",
       "43837    unknown\n",
       "43839    unknown\n",
       "43854    unknown\n",
       "43884    unknown\n",
       "43887    unknown\n",
       "43905    unknown\n",
       "43983    unknown\n",
       "44036    unknown\n",
       "44052    unknown\n",
       "44053    unknown\n",
       "44061    unknown\n",
       "44062    unknown\n",
       "44122    unknown\n",
       "44243    unknown\n",
       "44251    unknown\n",
       "44259    unknown\n",
       "44260    unknown\n",
       "44478    unknown\n",
       "44489    unknown\n",
       "44546    unknown\n",
       "44591    unknown\n",
       "44599    unknown\n",
       "44604    unknown\n",
       "44647    unknown\n",
       "44683    unknown\n",
       "44687    unknown\n",
       "44699    unknown\n",
       "44758    unknown\n",
       "44782    unknown\n",
       "44785    unknown\n",
       "44822    unknown\n",
       "44832    unknown\n",
       "44837    unknown\n",
       "44840    unknown\n",
       "44848    unknown\n",
       "44906    unknown\n",
       "44948    unknown\n",
       "44965    unknown\n",
       "44983    unknown\n",
       "44989    unknown\n",
       "45136    unknown\n",
       "Name: contact, dtype: object"
      ]
     },
     "execution_count": 21,
     "metadata": {},
     "output_type": "execute_result"
    }
   ],
   "source": [
    "# 找训练集里的数据\n",
    "edit_index = df[(df[\"是否联系过\"] == 1) &(df[\"contact\"] == \"unknown\")].index\n",
    "df.loc[edit_index,\"contact\"]"
   ]
  },
  {
   "cell_type": "code",
   "execution_count": 22,
   "metadata": {
    "ExecuteTime": {
     "end_time": "2021-02-02T08:07:17.460488Z",
     "start_time": "2021-02-02T08:07:17.452510Z"
    }
   },
   "outputs": [
    {
     "data": {
      "text/plain": [
       "'cellular'"
      ]
     },
     "execution_count": 22,
     "metadata": {},
     "output_type": "execute_result"
    }
   ],
   "source": [
    "# 寻找众数\n",
    "fill_val = df[df[\"是否联系过\"] == 1][\"contact\"].mode()[0]\n",
    "fill_val"
   ]
  },
  {
   "cell_type": "code",
   "execution_count": 23,
   "metadata": {
    "ExecuteTime": {
     "end_time": "2021-02-02T08:07:17.470461Z",
     "start_time": "2021-02-02T08:07:17.462483Z"
    }
   },
   "outputs": [
    {
     "data": {
      "text/plain": [
       "24080    cellular\n",
       "24136    cellular\n",
       "24160    cellular\n",
       "24364    cellular\n",
       "24405    cellular\n",
       "24415    cellular\n",
       "24611    cellular\n",
       "24624    cellular\n",
       "24721    cellular\n",
       "25060    cellular\n",
       "41604    cellular\n",
       "42228    cellular\n",
       "43115    cellular\n",
       "43121    cellular\n",
       "43171    cellular\n",
       "43226    cellular\n",
       "43727    cellular\n",
       "43802    cellular\n",
       "43837    cellular\n",
       "43839    cellular\n",
       "43854    cellular\n",
       "43884    cellular\n",
       "43887    cellular\n",
       "43905    cellular\n",
       "43983    cellular\n",
       "44036    cellular\n",
       "44052    cellular\n",
       "44053    cellular\n",
       "44061    cellular\n",
       "44062    cellular\n",
       "44122    cellular\n",
       "44243    cellular\n",
       "44251    cellular\n",
       "44259    cellular\n",
       "44260    cellular\n",
       "44478    cellular\n",
       "44489    cellular\n",
       "44546    cellular\n",
       "44591    cellular\n",
       "44599    cellular\n",
       "44604    cellular\n",
       "44647    cellular\n",
       "44683    cellular\n",
       "44687    cellular\n",
       "44699    cellular\n",
       "44758    cellular\n",
       "44782    cellular\n",
       "44785    cellular\n",
       "44822    cellular\n",
       "44832    cellular\n",
       "44837    cellular\n",
       "44840    cellular\n",
       "44848    cellular\n",
       "44906    cellular\n",
       "44948    cellular\n",
       "44965    cellular\n",
       "44983    cellular\n",
       "44989    cellular\n",
       "45136    cellular\n",
       "Name: contact, dtype: object"
      ]
     },
     "execution_count": 23,
     "metadata": {},
     "output_type": "execute_result"
    }
   ],
   "source": [
    "# 填充\n",
    "df.loc[edit_index, \"contact\"] = fill_val\n",
    "df.loc[edit_index, \"contact\"]"
   ]
  },
  {
   "cell_type": "code",
   "execution_count": 24,
   "metadata": {
    "ExecuteTime": {
     "end_time": "2021-02-02T08:07:17.482431Z",
     "start_time": "2021-02-02T08:07:17.471460Z"
    }
   },
   "outputs": [
    {
     "data": {
      "text/plain": [
       "40      cellular\n",
       "1106    cellular\n",
       "1167    cellular\n",
       "1223    cellular\n",
       "1343    cellular\n",
       "1707    cellular\n",
       "2103    cellular\n",
       "2529    cellular\n",
       "3134    cellular\n",
       "3652    cellular\n",
       "4073    cellular\n",
       "Name: contact, dtype: object"
      ]
     },
     "execution_count": 24,
     "metadata": {},
     "output_type": "execute_result"
    }
   ],
   "source": [
    "# 用相同方法修改测试集\n",
    "\n",
    "# 找训练集里的数据\n",
    "edit_index = test[(test[\"是否联系过\"] == 1) & (test[\"contact\"] == \"unknown\")].index\n",
    "\n",
    "# 寻找众数\n",
    "fill_val = test[test[\"是否联系过\"] == 1][\"contact\"].mode()[0]\n",
    "\n",
    "# 填充\n",
    "test.loc[edit_index, \"contact\"] = fill_val\n",
    "test.loc[edit_index, \"contact\"]"
   ]
  },
  {
   "cell_type": "markdown",
   "metadata": {
    "ExecuteTime": {
     "end_time": "2021-01-27T06:05:22.875934Z",
     "start_time": "2021-01-27T06:05:22.858979Z"
    }
   },
   "source": [
    "admin和management不属于同一类数据，不能合并"
   ]
  },
  {
   "cell_type": "markdown",
   "metadata": {},
   "source": [
    "## 连续型变量"
   ]
  },
  {
   "cell_type": "code",
   "execution_count": 25,
   "metadata": {
    "ExecuteTime": {
     "end_time": "2021-02-02T08:07:17.487417Z",
     "start_time": "2021-02-02T08:07:17.483428Z"
    }
   },
   "outputs": [],
   "source": [
    "from scipy import stats # 假设检验"
   ]
  },
  {
   "cell_type": "code",
   "execution_count": 26,
   "metadata": {
    "ExecuteTime": {
     "end_time": "2021-02-02T08:07:17.494399Z",
     "start_time": "2021-02-02T08:07:17.489412Z"
    }
   },
   "outputs": [
    {
     "data": {
      "text/plain": [
       "['balance', 'age', 'campaign', 'previous', 'duration', 'day', 'pdays', '是否联系过']"
      ]
     },
     "execution_count": 26,
     "metadata": {},
     "output_type": "execute_result"
    }
   ],
   "source": [
    "numeric_variables = list(set(df.columns)- set(categorical_variables))\n",
    "numeric_variables"
   ]
  },
  {
   "cell_type": "markdown",
   "metadata": {},
   "source": [
    "### duration：是否要舍弃这个变量\n",
    "\n",
    "duration: last contact duration, in seconds (numeric). \n",
    "\n",
    "**Important note:**\n",
    "\n",
    "this attribute highly affects the output target (e.g., if duration=0 then y='no'). Yet, the duration is not known before a call is performed. Also, after the end of the call y is obviously known. Thus, this input should only be included for benchmark purposes and should be discarded if the intention is to have a realistic predictive model."
   ]
  },
  {
   "cell_type": "code",
   "execution_count": 27,
   "metadata": {
    "ExecuteTime": {
     "end_time": "2021-02-02T08:07:17.509358Z",
     "start_time": "2021-02-02T08:07:17.495395Z"
    }
   },
   "outputs": [
    {
     "data": {
      "text/html": [
       "<div>\n",
       "<style scoped>\n",
       "    .dataframe tbody tr th:only-of-type {\n",
       "        vertical-align: middle;\n",
       "    }\n",
       "\n",
       "    .dataframe tbody tr th {\n",
       "        vertical-align: top;\n",
       "    }\n",
       "\n",
       "    .dataframe thead th {\n",
       "        text-align: right;\n",
       "    }\n",
       "</style>\n",
       "<table border=\"1\" class=\"dataframe\">\n",
       "  <thead>\n",
       "    <tr style=\"text-align: right;\">\n",
       "      <th></th>\n",
       "      <th>age</th>\n",
       "      <th>job</th>\n",
       "      <th>marital</th>\n",
       "      <th>education</th>\n",
       "      <th>default</th>\n",
       "      <th>balance</th>\n",
       "      <th>housing</th>\n",
       "      <th>loan</th>\n",
       "      <th>contact</th>\n",
       "      <th>day</th>\n",
       "      <th>month</th>\n",
       "      <th>duration</th>\n",
       "      <th>campaign</th>\n",
       "      <th>pdays</th>\n",
       "      <th>previous</th>\n",
       "      <th>poutcome</th>\n",
       "      <th>y</th>\n",
       "      <th>是否联系过</th>\n",
       "    </tr>\n",
       "  </thead>\n",
       "  <tbody>\n",
       "    <tr>\n",
       "      <th>6424</th>\n",
       "      <td>53</td>\n",
       "      <td>management</td>\n",
       "      <td>married</td>\n",
       "      <td>primary</td>\n",
       "      <td>no</td>\n",
       "      <td>351</td>\n",
       "      <td>yes</td>\n",
       "      <td>no</td>\n",
       "      <td>unknown</td>\n",
       "      <td>27</td>\n",
       "      <td>may</td>\n",
       "      <td>0</td>\n",
       "      <td>4</td>\n",
       "      <td>-1</td>\n",
       "      <td>0</td>\n",
       "      <td>unknown</td>\n",
       "      <td>0</td>\n",
       "      <td>0</td>\n",
       "    </tr>\n",
       "    <tr>\n",
       "      <th>22937</th>\n",
       "      <td>35</td>\n",
       "      <td>technician</td>\n",
       "      <td>married</td>\n",
       "      <td>secondary</td>\n",
       "      <td>no</td>\n",
       "      <td>5535</td>\n",
       "      <td>no</td>\n",
       "      <td>no</td>\n",
       "      <td>cellular</td>\n",
       "      <td>26</td>\n",
       "      <td>aug</td>\n",
       "      <td>0</td>\n",
       "      <td>15</td>\n",
       "      <td>-1</td>\n",
       "      <td>0</td>\n",
       "      <td>unknown</td>\n",
       "      <td>0</td>\n",
       "      <td>0</td>\n",
       "    </tr>\n",
       "    <tr>\n",
       "      <th>36425</th>\n",
       "      <td>31</td>\n",
       "      <td>entrepreneur</td>\n",
       "      <td>married</td>\n",
       "      <td>secondary</td>\n",
       "      <td>no</td>\n",
       "      <td>162</td>\n",
       "      <td>yes</td>\n",
       "      <td>yes</td>\n",
       "      <td>cellular</td>\n",
       "      <td>11</td>\n",
       "      <td>may</td>\n",
       "      <td>0</td>\n",
       "      <td>2</td>\n",
       "      <td>-1</td>\n",
       "      <td>0</td>\n",
       "      <td>unknown</td>\n",
       "      <td>0</td>\n",
       "      <td>0</td>\n",
       "    </tr>\n",
       "  </tbody>\n",
       "</table>\n",
       "</div>"
      ],
      "text/plain": [
       "       age           job  marital  education default  balance housing loan  \\\n",
       "6424    53    management  married    primary      no      351     yes   no   \n",
       "22937   35    technician  married  secondary      no     5535      no   no   \n",
       "36425   31  entrepreneur  married  secondary      no      162     yes  yes   \n",
       "\n",
       "        contact  day month  duration  campaign  pdays  previous poutcome  y  \\\n",
       "6424    unknown   27   may         0         4     -1         0  unknown  0   \n",
       "22937  cellular   26   aug         0        15     -1         0  unknown  0   \n",
       "36425  cellular   11   may         0         2     -1         0  unknown  0   \n",
       "\n",
       "       是否联系过  \n",
       "6424       0  \n",
       "22937      0  \n",
       "36425      0  "
      ]
     },
     "execution_count": 27,
     "metadata": {},
     "output_type": "execute_result"
    }
   ],
   "source": [
    "# 查看duration 为 0 的情况，只有3条数据\n",
    "df[(df.duration ==0)]"
   ]
  },
  {
   "cell_type": "code",
   "execution_count": 28,
   "metadata": {
    "ExecuteTime": {
     "end_time": "2021-02-02T08:07:17.523320Z",
     "start_time": "2021-02-02T08:07:17.510355Z"
    }
   },
   "outputs": [
    {
     "data": {
      "text/plain": [
       "Ttest_indResult(statistic=-86.4224997377835, pvalue=0.0)"
      ]
     },
     "execution_count": 28,
     "metadata": {},
     "output_type": "execute_result"
    }
   ],
   "source": [
    "### t-test: duration\n",
    "\n",
    "### 查看两组变量(yes/no)的duration的平均值是否相同\n",
    "stats.ttest_ind(df[df.y == 0][\"duration\"], df[df.y == 1][\"duration\"])"
   ]
  },
  {
   "cell_type": "code",
   "execution_count": 29,
   "metadata": {
    "ExecuteTime": {
     "end_time": "2021-02-02T08:07:17.539277Z",
     "start_time": "2021-02-02T08:07:17.524317Z"
    }
   },
   "outputs": [
    {
     "data": {
      "text/plain": [
       "age        -0.004965\n",
       "balance     0.025662\n",
       "day        -0.030864\n",
       "duration    1.000000\n",
       "campaign   -0.086424\n",
       "pdays      -0.002893\n",
       "previous   -0.000105\n",
       "y           0.393820\n",
       "是否联系过       0.002305\n",
       "Name: duration, dtype: float64"
      ]
     },
     "execution_count": 29,
     "metadata": {},
     "output_type": "execute_result"
    }
   ],
   "source": [
    "### 相关性检验\n",
    "df.corr()[\"duration\"]"
   ]
  },
  {
   "cell_type": "markdown",
   "metadata": {},
   "source": [
    "**p值等于0，具有显著差异; 相关系数为0.39**"
   ]
  },
  {
   "cell_type": "code",
   "execution_count": 30,
   "metadata": {
    "ExecuteTime": {
     "end_time": "2021-02-02T08:07:17.801576Z",
     "start_time": "2021-02-02T08:07:17.540276Z"
    }
   },
   "outputs": [
    {
     "data": {
      "image/png": "[encoded data removed]",
      "text/plain": [
       "<Figure size 1080x360 with 2 Axes>"
      ]
     },
     "metadata": {
      "needs_background": "light"
     },
     "output_type": "display_data"
    }
   ],
   "source": [
    "### 概率密度函数\n",
    "plt.figure(figsize = (15,5))\n",
    "\n",
    "plt.subplot(121)\n",
    "sns.kdeplot(df[df.y == 0][\"duration\"])\n",
    "sns.kdeplot(df[df.y == 1][\"duration\"])\n",
    "plt.legend(labels = [\"no\",\"yes\"])\n",
    "\n",
    "### 概率密度函数\n",
    "plt.subplot(122)\n",
    "sns.kdeplot(np.log(df[df.y == 0][\"duration\"]+1))\n",
    "sns.kdeplot(np.log(df[df.y == 1][\"duration\"]+1))\n",
    "plt.legend(labels = [\"no\",\"yes\"])\n",
    "plt.show()"
   ]
  },
  {
   "cell_type": "code",
   "execution_count": 31,
   "metadata": {
    "ExecuteTime": {
     "end_time": "2021-02-02T08:07:17.816536Z",
     "start_time": "2021-02-02T08:07:17.802574Z"
    }
   },
   "outputs": [
    {
     "data": {
      "text/plain": [
       "Ttest_indResult(statistic=-73.56896687670078, pvalue=0.0)"
      ]
     },
     "execution_count": 31,
     "metadata": {},
     "output_type": "execute_result"
    }
   ],
   "source": [
    "### 取对数，查看两组变量(yes/no)的duration的平均值是否相同\n",
    "stats.ttest_ind(np.log(df[df.y == 0][\"duration\"]+1), np.log(df[df.y == 1][\"duration\"]+1))"
   ]
  },
  {
   "cell_type": "code",
   "execution_count": 32,
   "metadata": {
    "ExecuteTime": {
     "end_time": "2021-02-02T08:07:17.826510Z",
     "start_time": "2021-02-02T08:07:17.817534Z"
    }
   },
   "outputs": [],
   "source": [
    "# 去掉duration\n",
    "df.drop(columns = \"duration\", inplace = True)\n",
    "test.drop(columns = \"duration\", inplace = True)"
   ]
  },
  {
   "cell_type": "markdown",
   "metadata": {},
   "source": [
    "# 特征工程"
   ]
  },
  {
   "cell_type": "markdown",
   "metadata": {},
   "source": [
    "## 构造时间"
   ]
  },
  {
   "cell_type": "code",
   "execution_count": 33,
   "metadata": {
    "ExecuteTime": {
     "end_time": "2021-02-02T08:07:17.886349Z",
     "start_time": "2021-02-02T08:07:17.827508Z"
    }
   },
   "outputs": [],
   "source": [
    "# 创建时间\n",
    "df[\"ymd\"] = pd.to_datetime(\"2011-\"+df[\"month\"] +\"-\" + df[\"day\"].astype(str))"
   ]
  },
  {
   "cell_type": "code",
   "execution_count": 34,
   "metadata": {
    "ExecuteTime": {
     "end_time": "2021-02-02T08:07:18.031960Z",
     "start_time": "2021-02-02T08:07:17.887346Z"
    }
   },
   "outputs": [
    {
     "data": {
      "image/png": "[encoded data removed]",
      "text/plain": [
       "<Figure size 1152x360 with 1 Axes>"
      ]
     },
     "metadata": {
      "needs_background": "light"
     },
     "output_type": "display_data"
    }
   ],
   "source": [
    "# 查看一整年的营销活动\n",
    "plt.figure(figsize = (16,5))\n",
    "df[\"ymd\"].value_counts().plot()\n",
    "plt.title(\"2011年每日telemarketing情况\")\n",
    "plt.show()"
   ]
  },
  {
   "cell_type": "code",
   "execution_count": 35,
   "metadata": {
    "ExecuteTime": {
     "end_time": "2021-02-02T08:07:18.043942Z",
     "start_time": "2021-02-02T08:07:18.033954Z"
    }
   },
   "outputs": [
    {
     "data": {
      "text/plain": [
       "6    8499\n",
       "5    7983\n",
       "7    7801\n",
       "4    7341\n",
       "1    4874\n",
       "3    3676\n",
       "2     516\n",
       "Name: weekday, dtype: int64"
      ]
     },
     "execution_count": 35,
     "metadata": {},
     "output_type": "execute_result"
    }
   ],
   "source": [
    "# 提取星期\n",
    "df[\"weekday\"] = df[\"ymd\"].dt.dayofweek+1\n",
    "df[\"weekday\"].value_counts()"
   ]
  },
  {
   "cell_type": "code",
   "execution_count": 36,
   "metadata": {
    "ExecuteTime": {
     "end_time": "2021-02-02T08:07:18.214472Z",
     "start_time": "2021-02-02T08:07:18.044925Z"
    }
   },
   "outputs": [
    {
     "data": {
      "text/plain": [
       "<matplotlib.axes._subplots.AxesSubplot at 0x270e35a2f48>"
      ]
     },
     "execution_count": 36,
     "metadata": {},
     "output_type": "execute_result"
    },
    {
     "data": {
      "image/png": "[encoded data removed]",
      "text/plain": [
       "<Figure size 432x288 with 1 Axes>"
      ]
     },
     "metadata": {
      "needs_background": "light"
     },
     "output_type": "display_data"
    }
   ],
   "source": [
    "# 从weekday的分布上来看，3和2更可能是周日和周六\n",
    "# 但是，因为weekday是一个categorical variable，所以具体的值也就不重要了\n",
    "df[\"weekday\"] = df[\"weekday\"].astype(str)\n",
    "\n",
    "# 画图\n",
    "sns.countplot(df[\"weekday\"])"
   ]
  },
  {
   "cell_type": "code",
   "execution_count": 37,
   "metadata": {
    "ExecuteTime": {
     "end_time": "2021-02-02T08:07:18.245389Z",
     "start_time": "2021-02-02T08:07:18.215469Z"
    }
   },
   "outputs": [],
   "source": [
    "# 修改测试集\n",
    "test[\"ymd\"] = pd.to_datetime(\"2011-\"+test[\"month\"] +\"-\" + test[\"day\"].astype(str))\n",
    "test[\"weekday\"] = test[\"ymd\"].dt.dayofweek+1\n",
    "test[\"weekday\"] = test[\"weekday\"].astype(str)"
   ]
  },
  {
   "cell_type": "code",
   "execution_count": 38,
   "metadata": {
    "ExecuteTime": {
     "end_time": "2021-02-02T08:07:18.263340Z",
     "start_time": "2021-02-02T08:07:18.246386Z"
    }
   },
   "outputs": [],
   "source": [
    "# 删除数据\n",
    "#drop_columns =[\"day\",\"ymd\"]\n",
    "drop_columns = ['ymd']\n",
    "df.drop(columns = drop_columns, inplace = True)\n",
    "test.drop(columns = drop_columns, inplace = True)"
   ]
  },
  {
   "cell_type": "markdown",
   "metadata": {},
   "source": [
    "## total_call: 一共打了多少电话"
   ]
  },
  {
   "cell_type": "code",
   "execution_count": 39,
   "metadata": {
    "ExecuteTime": {
     "end_time": "2021-02-02T08:07:18.270321Z",
     "start_time": "2021-02-02T08:07:18.264337Z"
    }
   },
   "outputs": [],
   "source": [
    "# total_call = previous + campaign\n",
    "df[\"total_call\"] = df[\"previous\"] + df[\"campaign\"]\n",
    "\n",
    "# reshape\n",
    "total_call = df[\"total_call\"].values.reshape(-1,1)"
   ]
  },
  {
   "cell_type": "code",
   "execution_count": 40,
   "metadata": {
    "ExecuteTime": {
     "end_time": "2021-02-02T08:07:18.275308Z",
     "start_time": "2021-02-02T08:07:18.271319Z"
    }
   },
   "outputs": [],
   "source": [
    "# 在测试集上修改\n",
    "test[\"total_call\"] = test[\"previous\"] + test[\"campaign\"]"
   ]
  },
  {
   "cell_type": "markdown",
   "metadata": {},
   "source": [
    "## 去掉previous，因为有了“是否联系过”作为dummy"
   ]
  },
  {
   "cell_type": "code",
   "execution_count": 41,
   "metadata": {
    "ExecuteTime": {
     "end_time": "2021-02-02T08:07:18.280295Z",
     "start_time": "2021-02-02T08:07:18.276304Z"
    }
   },
   "outputs": [],
   "source": [
    "# # 去掉previous\n",
    "# df.drop(columns = [\"previous\"], inplace = True)\n",
    "# test.drop(columns = [\"previous\"], inplace = True)"
   ]
  },
  {
   "cell_type": "markdown",
   "metadata": {},
   "source": [
    "## 去掉pdays"
   ]
  },
  {
   "cell_type": "code",
   "execution_count": 42,
   "metadata": {
    "ExecuteTime": {
     "end_time": "2021-02-02T08:07:18.297249Z",
     "start_time": "2021-02-02T08:07:18.281292Z"
    }
   },
   "outputs": [],
   "source": [
    "# 去掉pdays\n",
    "df.drop(columns = [\"pdays\"], inplace = True)\n",
    "test.drop(columns = [\"pdays\"], inplace = True)"
   ]
  },
  {
   "cell_type": "markdown",
   "metadata": {},
   "source": [
    "## 从过去模型里可以知道，去掉default"
   ]
  },
  {
   "cell_type": "code",
   "execution_count": 43,
   "metadata": {
    "ExecuteTime": {
     "end_time": "2021-02-02T08:07:18.309219Z",
     "start_time": "2021-02-02T08:07:18.298247Z"
    }
   },
   "outputs": [],
   "source": [
    "# 去掉pdays\n",
    "df.drop(columns = [\"default\"], inplace = True)\n",
    "test.drop(columns = [\"default\"], inplace = True)\n",
    "\n",
    "# 从categorical_variables里去掉它\n",
    "categorical_variables.remove('default')"
   ]
  },
  {
   "cell_type": "code",
   "execution_count": 44,
   "metadata": {
    "ExecuteTime": {
     "end_time": "2021-02-02T08:07:18.698176Z",
     "start_time": "2021-02-02T08:07:18.310215Z"
    }
   },
   "outputs": [
    {
     "data": {
      "image/png": "[encoded data removed]",
      "text/plain": [
       "<Figure size 1080x720 with 2 Axes>"
      ]
     },
     "metadata": {
      "needs_background": "light"
     },
     "output_type": "display_data"
    }
   ],
   "source": [
    "plt.figure(figsize = (15,10))\n",
    "sns.heatmap(df.corr(), annot = True,linewidths=.5)\n",
    "plt.title(\"相关系数\",size = 16)\n",
    "plt.show()"
   ]
  },
  {
   "cell_type": "markdown",
   "metadata": {},
   "source": [
    "## 数据转换"
   ]
  },
  {
   "cell_type": "code",
   "execution_count": 45,
   "metadata": {
    "ExecuteTime": {
     "end_time": "2021-02-02T08:07:18.732087Z",
     "start_time": "2021-02-02T08:07:18.700170Z"
    }
   },
   "outputs": [],
   "source": [
    "# 修改为数字\n",
    "from sklearn.preprocessing import LabelEncoder\n",
    "le = LabelEncoder()"
   ]
  },
  {
   "cell_type": "code",
   "execution_count": 51,
   "metadata": {
    "ExecuteTime": {
     "end_time": "2021-02-02T08:08:20.657885Z",
     "start_time": "2021-02-02T08:08:20.631955Z"
    }
   },
   "outputs": [
    {
     "data": {
      "text/html": [
       "<div>\n",
       "<style scoped>\n",
       "    .dataframe tbody tr th:only-of-type {\n",
       "        vertical-align: middle;\n",
       "    }\n",
       "\n",
       "    .dataframe tbody tr th {\n",
       "        vertical-align: top;\n",
       "    }\n",
       "\n",
       "    .dataframe thead th {\n",
       "        text-align: right;\n",
       "    }\n",
       "</style>\n",
       "<table border=\"1\" class=\"dataframe\">\n",
       "  <thead>\n",
       "    <tr style=\"text-align: right;\">\n",
       "      <th></th>\n",
       "      <th>age</th>\n",
       "      <th>job</th>\n",
       "      <th>marital</th>\n",
       "      <th>education</th>\n",
       "      <th>balance</th>\n",
       "      <th>housing</th>\n",
       "      <th>loan</th>\n",
       "      <th>contact</th>\n",
       "      <th>day</th>\n",
       "      <th>month</th>\n",
       "      <th>campaign</th>\n",
       "      <th>previous</th>\n",
       "      <th>poutcome</th>\n",
       "      <th>y</th>\n",
       "      <th>是否联系过</th>\n",
       "      <th>weekday</th>\n",
       "      <th>total_call</th>\n",
       "    </tr>\n",
       "  </thead>\n",
       "  <tbody>\n",
       "    <tr>\n",
       "      <th>0</th>\n",
       "      <td>58</td>\n",
       "      <td>4</td>\n",
       "      <td>1</td>\n",
       "      <td>2</td>\n",
       "      <td>2143</td>\n",
       "      <td>1</td>\n",
       "      <td>0</td>\n",
       "      <td>2</td>\n",
       "      <td>5</td>\n",
       "      <td>8</td>\n",
       "      <td>1</td>\n",
       "      <td>0</td>\n",
       "      <td>3</td>\n",
       "      <td>0</td>\n",
       "      <td>0</td>\n",
       "      <td>4</td>\n",
       "      <td>1</td>\n",
       "    </tr>\n",
       "    <tr>\n",
       "      <th>1</th>\n",
       "      <td>44</td>\n",
       "      <td>9</td>\n",
       "      <td>2</td>\n",
       "      <td>1</td>\n",
       "      <td>29</td>\n",
       "      <td>1</td>\n",
       "      <td>0</td>\n",
       "      <td>2</td>\n",
       "      <td>5</td>\n",
       "      <td>8</td>\n",
       "      <td>1</td>\n",
       "      <td>0</td>\n",
       "      <td>3</td>\n",
       "      <td>0</td>\n",
       "      <td>0</td>\n",
       "      <td>4</td>\n",
       "      <td>1</td>\n",
       "    </tr>\n",
       "    <tr>\n",
       "      <th>2</th>\n",
       "      <td>33</td>\n",
       "      <td>2</td>\n",
       "      <td>1</td>\n",
       "      <td>1</td>\n",
       "      <td>2</td>\n",
       "      <td>1</td>\n",
       "      <td>1</td>\n",
       "      <td>2</td>\n",
       "      <td>5</td>\n",
       "      <td>8</td>\n",
       "      <td>1</td>\n",
       "      <td>0</td>\n",
       "      <td>3</td>\n",
       "      <td>0</td>\n",
       "      <td>0</td>\n",
       "      <td>4</td>\n",
       "      <td>1</td>\n",
       "    </tr>\n",
       "    <tr>\n",
       "      <th>3</th>\n",
       "      <td>47</td>\n",
       "      <td>1</td>\n",
       "      <td>1</td>\n",
       "      <td>3</td>\n",
       "      <td>1506</td>\n",
       "      <td>1</td>\n",
       "      <td>0</td>\n",
       "      <td>2</td>\n",
       "      <td>5</td>\n",
       "      <td>8</td>\n",
       "      <td>1</td>\n",
       "      <td>0</td>\n",
       "      <td>3</td>\n",
       "      <td>0</td>\n",
       "      <td>0</td>\n",
       "      <td>4</td>\n",
       "      <td>1</td>\n",
       "    </tr>\n",
       "    <tr>\n",
       "      <th>4</th>\n",
       "      <td>33</td>\n",
       "      <td>11</td>\n",
       "      <td>2</td>\n",
       "      <td>3</td>\n",
       "      <td>1</td>\n",
       "      <td>0</td>\n",
       "      <td>0</td>\n",
       "      <td>2</td>\n",
       "      <td>5</td>\n",
       "      <td>8</td>\n",
       "      <td>1</td>\n",
       "      <td>0</td>\n",
       "      <td>3</td>\n",
       "      <td>0</td>\n",
       "      <td>0</td>\n",
       "      <td>4</td>\n",
       "      <td>1</td>\n",
       "    </tr>\n",
       "  </tbody>\n",
       "</table>\n",
       "</div>"
      ],
      "text/plain": [
       "   age  job  marital  education  balance  housing  loan  contact  day  month  \\\n",
       "0   58    4        1          2     2143        1     0        2    5      8   \n",
       "1   44    9        2          1       29        1     0        2    5      8   \n",
       "2   33    2        1          1        2        1     1        2    5      8   \n",
       "3   47    1        1          3     1506        1     0        2    5      8   \n",
       "4   33   11        2          3        1        0     0        2    5      8   \n",
       "\n",
       "   campaign  previous  poutcome  y  是否联系过 weekday  total_call  \n",
       "0         1         0         3  0      0       4           1  \n",
       "1         1         0         3  0      0       4           1  \n",
       "2         1         0         3  0      0       4           1  \n",
       "3         1         0         3  0      0       4           1  \n",
       "4         1         0         3  0      0       4           1  "
      ]
     },
     "execution_count": 51,
     "metadata": {},
     "output_type": "execute_result"
    }
   ],
   "source": [
    "for var in categorical_variables:\n",
    "    df[var] = df[var].astype('category').cat.codes\n",
    "    test[var] = test[var].astype(\"category\").cat.codes\n",
    "df.head()"
   ]
  },
  {
   "cell_type": "code",
   "execution_count": 52,
   "metadata": {
    "ExecuteTime": {
     "end_time": "2021-02-02T08:08:20.679847Z",
     "start_time": "2021-02-02T08:08:20.658882Z"
    }
   },
   "outputs": [
    {
     "name": "stdout",
     "output_type": "stream",
     "text": [
      "【变量名contact:】\n",
      "0    26448\n",
      "2    11637\n",
      "1     2605\n",
      "Name: contact, dtype: int64 \n",
      " ------------------------------\n",
      "【变量名education:】\n",
      "1    20896\n",
      "2    11951\n",
      "0     6173\n",
      "3     1670\n",
      "Name: education, dtype: int64 \n",
      " ------------------------------\n",
      "【变量名marital:】\n",
      "1    24417\n",
      "2    11594\n",
      "0     4679\n",
      "Name: marital, dtype: int64 \n",
      " ------------------------------\n",
      "【变量名poutcome:】\n",
      "3    33249\n",
      "0     4416\n",
      "1     1643\n",
      "2     1382\n",
      "Name: poutcome, dtype: int64 \n",
      " ------------------------------\n",
      "【变量名y:】\n",
      "0    35922\n",
      "1     4768\n",
      "Name: y, dtype: int64 \n",
      " ------------------------------\n",
      "【变量名housing:】\n",
      "1    22571\n",
      "0    18119\n",
      "Name: housing, dtype: int64 \n",
      " ------------------------------\n",
      "【变量名month:】\n",
      "8     12368\n",
      "5      6189\n",
      "1      5614\n",
      "6      4810\n",
      "9      3581\n",
      "0      2639\n",
      "3      2427\n",
      "4      1255\n",
      "10      658\n",
      "11      527\n",
      "7       428\n",
      "2       194\n",
      "Name: month, dtype: int64 \n",
      " ------------------------------\n",
      "【变量名loan:】\n",
      "0    34137\n",
      "1     6553\n",
      "Name: loan, dtype: int64 \n",
      " ------------------------------\n",
      "【变量名job:】\n",
      "1     8786\n",
      "4     8489\n",
      "9     6829\n",
      "0     4693\n",
      "7     3737\n",
      "5     2034\n",
      "6     1396\n",
      "2     1319\n",
      "10    1175\n",
      "3     1128\n",
      "8      854\n",
      "11     250\n",
      "Name: job, dtype: int64 \n",
      " ------------------------------\n"
     ]
    }
   ],
   "source": [
    "# 查看数据分布\n",
    "for var in categorical_variables:\n",
    "    print(\"【变量名%s:】\"%var)\n",
    "    print(df[var].value_counts(),\"\\n\",\"-\"*30)"
   ]
  },
  {
   "cell_type": "markdown",
   "metadata": {},
   "source": [
    "# RandomForest"
   ]
  },
  {
   "cell_type": "code",
   "execution_count": 53,
   "metadata": {
    "ExecuteTime": {
     "end_time": "2021-02-02T08:08:20.782577Z",
     "start_time": "2021-02-02T08:08:20.681821Z"
    }
   },
   "outputs": [],
   "source": [
    "from sklearn.metrics import roc_auc_score\n",
    "from sklearn.metrics import classification_report\n",
    "from sklearn.ensemble import RandomForestClassifier\n",
    "from sklearn import tree\n",
    "from sklearn.tree import DecisionTreeClassifier\n",
    "\n",
    "seed = 12345"
   ]
  },
  {
   "cell_type": "code",
   "execution_count": 54,
   "metadata": {
    "ExecuteTime": {
     "end_time": "2021-02-02T08:08:20.792524Z",
     "start_time": "2021-02-02T08:08:20.783548Z"
    }
   },
   "outputs": [],
   "source": [
    "# 准备训练集\n",
    "var_x = list(set(df.columns) - set(\"y\")) # 自变量\n",
    "train_x, train_y = df[var_x],df[\"y\"]\n",
    "\n",
    "# 准备测试集\n",
    "test_x, test_y = test[var_x],test[\"y\"]"
   ]
  },
  {
   "cell_type": "markdown",
   "metadata": {},
   "source": [
    "## 初步建立模型"
   ]
  },
  {
   "cell_type": "code",
   "execution_count": 55,
   "metadata": {
    "ExecuteTime": {
     "end_time": "2021-02-02T08:08:24.541642Z",
     "start_time": "2021-02-02T08:08:20.793522Z"
    }
   },
   "outputs": [
    {
     "data": {
      "text/plain": [
       "RandomForestClassifier(bootstrap=True, ccp_alpha=0.0, class_weight='balanced',\n",
       "                       criterion='gini', max_depth=None, max_features='sqrt',\n",
       "                       max_leaf_nodes=None, max_samples=None,\n",
       "                       min_impurity_decrease=0.0, min_impurity_split=None,\n",
       "                       min_samples_leaf=1, min_samples_split=2,\n",
       "                       min_weight_fraction_leaf=0.0, n_estimators=100,\n",
       "                       n_jobs=None, oob_score=True, random_state=12345,\n",
       "                       verbose=0, warm_start=False)"
      ]
     },
     "execution_count": 55,
     "metadata": {},
     "output_type": "execute_result"
    }
   ],
   "source": [
    "rf_1 = RandomForestClassifier(criterion = \"gini\",\n",
    "                             n_estimators = 100,\n",
    "                             #min_sample_split = 200,\n",
    "                             max_features = \"sqrt\",\n",
    "                             bootstrap = True,\n",
    "                             oob_score = True,\n",
    "                             class_weight = \"balanced\",\n",
    "                             random_state = seed)\n",
    "rf_1.fit(train_x, train_y)"
   ]
  },
  {
   "cell_type": "code",
   "execution_count": 56,
   "metadata": {
    "ExecuteTime": {
     "end_time": "2021-02-02T08:08:24.546629Z",
     "start_time": "2021-02-02T08:08:24.542639Z"
    }
   },
   "outputs": [],
   "source": [
    "from sklearn.metrics import confusion_matrix"
   ]
  },
  {
   "cell_type": "code",
   "execution_count": 57,
   "metadata": {
    "ExecuteTime": {
     "end_time": "2021-02-02T08:08:24.761054Z",
     "start_time": "2021-02-02T08:08:24.548637Z"
    }
   },
   "outputs": [
    {
     "data": {
      "image/png": "[encoded data removed]",
      "text/plain": [
       "<Figure size 576x360 with 2 Axes>"
      ]
     },
     "metadata": {
      "needs_background": "light"
     },
     "output_type": "display_data"
    }
   ],
   "source": [
    "# 预测结果\n",
    "rf_1_predict = rf_1.predict(test_x)\n",
    "\n",
    "# confusion matrix\n",
    "cm1 = confusion_matrix(test_y, rf_1_predict)\n",
    "\n",
    "#画图\n",
    "plt.figure(figsize = (8,5))\n",
    "sns.heatmap(cm1,annot = True, fmt = '.5g', linewidths = 0.5, yticklabels = [\"False\",\"True\"], xticklabels = [\"Pred_False\",\"Pred_True\"])\n",
    "plt.show()"
   ]
  },
  {
   "cell_type": "code",
   "execution_count": 58,
   "metadata": {
    "ExecuteTime": {
     "end_time": "2021-02-02T08:08:24.773022Z",
     "start_time": "2021-02-02T08:08:24.763049Z"
    }
   },
   "outputs": [
    {
     "name": "stdout",
     "output_type": "stream",
     "text": [
      "              precision    recall  f1-score   support\n",
      "\n",
      "           0       0.90      0.99      0.94      4000\n",
      "           1       0.64      0.17      0.27       521\n",
      "\n",
      "    accuracy                           0.89      4521\n",
      "   macro avg       0.77      0.58      0.61      4521\n",
      "weighted avg       0.87      0.89      0.87      4521\n",
      "\n"
     ]
    }
   ],
   "source": [
    "print(classification_report(test_y, rf_1_predict))"
   ]
  },
  {
   "cell_type": "markdown",
   "metadata": {},
   "source": [
    "## 一些指标"
   ]
  },
  {
   "cell_type": "code",
   "execution_count": 59,
   "metadata": {
    "ExecuteTime": {
     "end_time": "2021-02-02T08:08:24.778009Z",
     "start_time": "2021-02-02T08:08:24.774020Z"
    }
   },
   "outputs": [],
   "source": [
    "from sklearn.metrics import accuracy_score # 准确率\n",
    "from sklearn.metrics import precision_score # 精确率\n",
    "from sklearn.metrics import recall_score\n",
    "from sklearn.metrics import classification_report # 分类报告\n",
    "from sklearn.metrics import precision_recall_curve\n",
    "from sklearn.metrics import average_precision_score"
   ]
  },
  {
   "cell_type": "code",
   "execution_count": 60,
   "metadata": {
    "ExecuteTime": {
     "end_time": "2021-02-02T08:08:24.785040Z",
     "start_time": "2021-02-02T08:08:24.779006Z"
    }
   },
   "outputs": [
    {
     "data": {
      "text/plain": [
       "0.8933864189338642"
      ]
     },
     "execution_count": 60,
     "metadata": {},
     "output_type": "execute_result"
    }
   ],
   "source": [
    "# 准确率\n",
    "accuracy_score(test_y, rf_1_predict)"
   ]
  },
  {
   "cell_type": "code",
   "execution_count": 61,
   "metadata": {
    "ExecuteTime": {
     "end_time": "2021-02-02T08:08:24.793985Z",
     "start_time": "2021-02-02T08:08:24.786985Z"
    }
   },
   "outputs": [
    {
     "data": {
      "text/plain": [
       "0.6363636363636364"
      ]
     },
     "execution_count": 61,
     "metadata": {},
     "output_type": "execute_result"
    }
   ],
   "source": [
    "# 精确率\n",
    "precision_score(test_y, rf_1_predict)"
   ]
  },
  {
   "cell_type": "code",
   "execution_count": 62,
   "metadata": {
    "ExecuteTime": {
     "end_time": "2021-02-02T08:08:24.807929Z",
     "start_time": "2021-02-02T08:08:24.796959Z"
    }
   },
   "outputs": [
    {
     "name": "stdout",
     "output_type": "stream",
     "text": [
      "              precision    recall  f1-score   support\n",
      "\n",
      "           0       0.90      0.99      0.94      4000\n",
      "           1       0.64      0.17      0.27       521\n",
      "\n",
      "    accuracy                           0.89      4521\n",
      "   macro avg       0.77      0.58      0.61      4521\n",
      "weighted avg       0.87      0.89      0.87      4521\n",
      "\n"
     ]
    }
   ],
   "source": [
    "# 分类报告\n",
    "print(classification_report(test_y, rf_1_predict))"
   ]
  },
  {
   "cell_type": "markdown",
   "metadata": {},
   "source": [
    "## 重采样"
   ]
  },
  {
   "cell_type": "code",
   "execution_count": 63,
   "metadata": {
    "ExecuteTime": {
     "end_time": "2021-02-02T08:08:24.811918Z",
     "start_time": "2021-02-02T08:08:24.808926Z"
    }
   },
   "outputs": [],
   "source": [
    "from sklearn.model_selection import train_test_split # 划分训练集"
   ]
  },
  {
   "cell_type": "code",
   "execution_count": 64,
   "metadata": {
    "ExecuteTime": {
     "end_time": "2021-02-02T08:08:24.819897Z",
     "start_time": "2021-02-02T08:08:24.813927Z"
    }
   },
   "outputs": [
    {
     "name": "stdout",
     "output_type": "stream",
     "text": [
      "正负样本： [35922  4768]\n",
      "正负样本比例： 7.533976510067114\n"
     ]
    }
   ],
   "source": [
    "# 训练集中正负样本比例：\n",
    "bin_count = np.bincount(df['y'])\n",
    "print(\"正负样本：\",bin_count)\n",
    "print(\"正负样本比例：\",bin_count[0]/ bin_count[1])"
   ]
  },
  {
   "cell_type": "code",
   "execution_count": 65,
   "metadata": {
    "ExecuteTime": {
     "end_time": "2021-02-02T08:08:24.825882Z",
     "start_time": "2021-02-02T08:08:24.821893Z"
    }
   },
   "outputs": [],
   "source": [
    "def F1(precision, recall):\n",
    "\n",
    "    '''\n",
    "    7、综合评价指标（F-Measure）\n",
    "    P和R指标有时候会出现的矛盾的情况，这样就需要综合考虑他们，最常见的方法就是F-Measure（又称为F-Score）。\n",
    "    F-Measure是Precision和Recall加权调和平均：\n",
    "    \n",
    "    可知F1综合了P和R的结果，当F1较高时则能说明试验方法比较有效。\n",
    "    '''\n",
    "    return (2 * precision * recall)/(precision+recall)"
   ]
  },
  {
   "cell_type": "markdown",
   "metadata": {},
   "source": [
    "### 验证集不重采样"
   ]
  },
  {
   "cell_type": "code",
   "execution_count": 66,
   "metadata": {
    "ExecuteTime": {
     "end_time": "2021-02-02T08:08:24.846825Z",
     "start_time": "2021-02-02T08:08:24.827877Z"
    }
   },
   "outputs": [],
   "source": [
    "# 首先划分出测试集和验证集\n",
    "mydf = df.copy(deep=True)\n",
    "X_train, X_valid, y_train, y_valid = train_test_split(mydf[var_x], \n",
    "                                                          mydf[\"y\"], random_state=seed, test_size=0.25)\n",
    "\n",
    "# 需要重复的部分\n",
    "repeat_mask = y_train == 1\n",
    "X_train_repeat = X_train[repeat_mask]\n",
    "y_train_repeat = y_train[repeat_mask]"
   ]
  },
  {
   "cell_type": "code",
   "execution_count": 67,
   "metadata": {
    "ExecuteTime": {
     "end_time": "2021-02-02T08:09:07.846822Z",
     "start_time": "2021-02-02T08:08:24.847823Z"
    }
   },
   "outputs": [
    {
     "name": "stdout",
     "output_type": "stream",
     "text": [
      "重采样中：n = 1\n",
      "拟合中...\n",
      "预测中...\n",
      "precision: 0.5227272727272727\n",
      "accuracy: 0.8871522658016318\n",
      "recall: 0.25468483816013626\n",
      "f1: 0.34249713631156925\n",
      "------------------------------\n",
      "重采样中：n = 2\n",
      "拟合中...\n",
      "预测中...\n",
      "precision: 0.5068702290076336\n",
      "accuracy: 0.8854811756610635\n",
      "recall: 0.282793867120954\n",
      "f1: 0.363039912520503\n",
      "------------------------------\n",
      "重采样中：n = 3\n",
      "拟合中...\n",
      "预测中...\n",
      "precision: 0.4977973568281938\n",
      "accuracy: 0.8843015826206625\n",
      "recall: 0.2887563884156729\n",
      "f1: 0.3654986522911051\n",
      "------------------------------\n",
      "重采样中：n = 4\n",
      "拟合中...\n",
      "预测中...\n",
      "precision: 0.4853801169590643\n",
      "accuracy: 0.8826304924800944\n",
      "recall: 0.282793867120954\n",
      "f1: 0.3573735199138859\n",
      "------------------------------\n",
      "重采样中：n = 5\n",
      "拟合中...\n",
      "预测中...\n",
      "precision: 0.47375886524822697\n",
      "accuracy: 0.8809594023395262\n",
      "recall: 0.28449744463373083\n",
      "f1: 0.3555082490686535\n",
      "------------------------------\n",
      "重采样中：n = 6\n",
      "拟合中...\n",
      "预测中...\n",
      "precision: 0.48563218390804597\n",
      "accuracy: 0.8826304924800944\n",
      "recall: 0.2879045996592845\n",
      "f1: 0.3614973262032085\n",
      "------------------------------\n",
      "重采样中：n = 7\n",
      "拟合中...\n",
      "预测中...\n",
      "precision: 0.4901685393258427\n",
      "accuracy: 0.8832202890002949\n",
      "recall: 0.2972742759795571\n",
      "f1: 0.3700954400848356\n",
      "------------------------------\n",
      "重采样中：n = 8\n",
      "拟合中...\n",
      "预测中...\n",
      "precision: 0.4822190611664296\n",
      "accuracy: 0.8821389953799272\n",
      "recall: 0.2887563884156729\n",
      "f1: 0.36121470431539693\n",
      "------------------------------\n"
     ]
    }
   ],
   "source": [
    "#多次重采样，并且使用随机森林，在验证集上查看结果\n",
    "n_resample = np.arange(int(bin_count[0] / bin_count[1])+1)\n",
    "precision_scores, recall_scores, accuracy_scores, f1_scores = [], [], [], [] # 模型评估\n",
    "predict_result = [] # 预测结果\n",
    "\n",
    "\n",
    "\n",
    "# 循环\n",
    "for i in n_resample:\n",
    "    print(\"重采样中：n = %d\" % (i+1))\n",
    "    \n",
    "    # 只重采样X_train, y_train\n",
    "    X_train = X_train.append(X_train_repeat)\n",
    "    y_train = y_train.append(y_train_repeat)\n",
    "\n",
    "\n",
    "    # 随机森林\n",
    "    print(\"拟合中...\")\n",
    "    rf_n = RandomForestClassifier(criterion=\"entropy\",\n",
    "                                  n_estimators=100,\n",
    "                                  random_state=seed,\n",
    "                                  #min_sample_split = 200,\n",
    "                                  max_features=\"sqrt\",\n",
    "                                  bootstrap=True,\n",
    "                                  oob_score=True,\n",
    "                                  class_weight=\"balanced\")\n",
    "    rf_n.fit(X_train, y_train)\n",
    "\n",
    "    # 预测结果\n",
    "    print(\"预测中...\")\n",
    "    rf_n_predict = rf_n.predict(X_valid)\n",
    "    predict_result.append(rf_n_predict)\n",
    "\n",
    "    # 模型评估\n",
    "    pre_score = precision_score(y_valid, rf_n_predict)\n",
    "    acc_score = accuracy_score(y_valid, rf_n_predict)\n",
    "    rec_score = recall_score(y_valid, rf_n_predict)\n",
    "    f1_score = F1(pre_score, rec_score)\n",
    "\n",
    "    accuracy_scores.append(acc_score)\n",
    "    precision_scores.append(pre_score)\n",
    "    recall_scores.append(rec_score)\n",
    "    f1_scores.append(f1_score)\n",
    "    print(\"precision:\", pre_score)\n",
    "    print(\"accuracy:\", acc_score)\n",
    "    print(\"recall:\", rec_score)\n",
    "    print(\"f1:\", f1_score)\n",
    "\n",
    "    print(\"-\"*30)"
   ]
  },
  {
   "cell_type": "code",
   "execution_count": 68,
   "metadata": {
    "ExecuteTime": {
     "end_time": "2021-02-02T08:09:08.940899Z",
     "start_time": "2021-02-02T08:09:07.847818Z"
    }
   },
   "outputs": [
    {
     "data": {
      "image/png": "[encoded data removed]",
      "text/plain": [
       "<Figure size 1080x1080 with 16 Axes>"
      ]
     },
     "metadata": {
      "needs_background": "light"
     },
     "output_type": "display_data"
    }
   ],
   "source": [
    "# 验证集混淆矩阵\n",
    "plt.figure(figsize = (15,15))\n",
    "for i in n_resample:\n",
    "    plt.subplot(4,3,i+1)\n",
    "    sns.heatmap(confusion_matrix(y_valid, predict_result[i]), linewidth = 0.5, annot = True, fmt = '.5g',\n",
    "               yticklabels = ['false',\"true\"], xticklabels = [\"pred_false\",'pred_true'])\n",
    "    plt.title(\"Resample Times = %d\" %(i+1))\n",
    "plt.show() "
   ]
  },
  {
   "cell_type": "code",
   "execution_count": 69,
   "metadata": {
    "ExecuteTime": {
     "end_time": "2021-02-02T08:09:08.953858Z",
     "start_time": "2021-02-02T08:09:08.941897Z"
    }
   },
   "outputs": [
    {
     "data": {
      "text/html": [
       "<div>\n",
       "<style scoped>\n",
       "    .dataframe tbody tr th:only-of-type {\n",
       "        vertical-align: middle;\n",
       "    }\n",
       "\n",
       "    .dataframe tbody tr th {\n",
       "        vertical-align: top;\n",
       "    }\n",
       "\n",
       "    .dataframe thead th {\n",
       "        text-align: right;\n",
       "    }\n",
       "</style>\n",
       "<table border=\"1\" class=\"dataframe\">\n",
       "  <thead>\n",
       "    <tr style=\"text-align: right;\">\n",
       "      <th></th>\n",
       "      <th>resample_times</th>\n",
       "      <th>accuracy</th>\n",
       "      <th>precision</th>\n",
       "      <th>recall</th>\n",
       "      <th>f1</th>\n",
       "    </tr>\n",
       "  </thead>\n",
       "  <tbody>\n",
       "    <tr>\n",
       "      <th>0</th>\n",
       "      <td>0</td>\n",
       "      <td>0.887152</td>\n",
       "      <td>0.522727</td>\n",
       "      <td>0.254685</td>\n",
       "      <td>0.342497</td>\n",
       "    </tr>\n",
       "    <tr>\n",
       "      <th>1</th>\n",
       "      <td>1</td>\n",
       "      <td>0.885481</td>\n",
       "      <td>0.506870</td>\n",
       "      <td>0.282794</td>\n",
       "      <td>0.363040</td>\n",
       "    </tr>\n",
       "    <tr>\n",
       "      <th>2</th>\n",
       "      <td>2</td>\n",
       "      <td>0.884302</td>\n",
       "      <td>0.497797</td>\n",
       "      <td>0.288756</td>\n",
       "      <td>0.365499</td>\n",
       "    </tr>\n",
       "    <tr>\n",
       "      <th>3</th>\n",
       "      <td>3</td>\n",
       "      <td>0.882630</td>\n",
       "      <td>0.485380</td>\n",
       "      <td>0.282794</td>\n",
       "      <td>0.357374</td>\n",
       "    </tr>\n",
       "    <tr>\n",
       "      <th>4</th>\n",
       "      <td>4</td>\n",
       "      <td>0.880959</td>\n",
       "      <td>0.473759</td>\n",
       "      <td>0.284497</td>\n",
       "      <td>0.355508</td>\n",
       "    </tr>\n",
       "    <tr>\n",
       "      <th>5</th>\n",
       "      <td>5</td>\n",
       "      <td>0.882630</td>\n",
       "      <td>0.485632</td>\n",
       "      <td>0.287905</td>\n",
       "      <td>0.361497</td>\n",
       "    </tr>\n",
       "    <tr>\n",
       "      <th>6</th>\n",
       "      <td>6</td>\n",
       "      <td>0.883220</td>\n",
       "      <td>0.490169</td>\n",
       "      <td>0.297274</td>\n",
       "      <td>0.370095</td>\n",
       "    </tr>\n",
       "    <tr>\n",
       "      <th>7</th>\n",
       "      <td>7</td>\n",
       "      <td>0.882139</td>\n",
       "      <td>0.482219</td>\n",
       "      <td>0.288756</td>\n",
       "      <td>0.361215</td>\n",
       "    </tr>\n",
       "  </tbody>\n",
       "</table>\n",
       "</div>"
      ],
      "text/plain": [
       "   resample_times  accuracy  precision    recall        f1\n",
       "0               0  0.887152   0.522727  0.254685  0.342497\n",
       "1               1  0.885481   0.506870  0.282794  0.363040\n",
       "2               2  0.884302   0.497797  0.288756  0.365499\n",
       "3               3  0.882630   0.485380  0.282794  0.357374\n",
       "4               4  0.880959   0.473759  0.284497  0.355508\n",
       "5               5  0.882630   0.485632  0.287905  0.361497\n",
       "6               6  0.883220   0.490169  0.297274  0.370095\n",
       "7               7  0.882139   0.482219  0.288756  0.361215"
      ]
     },
     "execution_count": 69,
     "metadata": {},
     "output_type": "execute_result"
    }
   ],
   "source": [
    "# 重采样后的模型评估\n",
    "model_eval_1 = pd.DataFrame({\n",
    "    'resample_times': n_resample,\n",
    "    \"accuracy\": accuracy_scores,\n",
    "    \"precision\": precision_scores,\n",
    "    \"recall\": recall_scores,\n",
    "    \"f1\": f1_scores\n",
    "})\n",
    "model_eval_1 "
   ]
  },
  {
   "cell_type": "code",
   "execution_count": 70,
   "metadata": {
    "ExecuteTime": {
     "end_time": "2021-02-02T08:09:09.349798Z",
     "start_time": "2021-02-02T08:09:08.954856Z"
    }
   },
   "outputs": [
    {
     "data": {
      "image/png": "[encoded data removed]",
      "text/plain": [
       "<Figure size 720x432 with 4 Axes>"
      ]
     },
     "metadata": {
      "needs_background": "light"
     },
     "output_type": "display_data"
    }
   ],
   "source": [
    "plt.figure(figsize = (10,6))\n",
    "plt.subplot(2,2,1)\n",
    "sns.lineplot(x = \"resample_times\", y = \"recall\", data = model_eval_1)\n",
    "plt.subplot(2,2,2)\n",
    "sns.lineplot(x = \"resample_times\", y = \"precision\", data = model_eval_1)\n",
    "#plt.legend(labels = [\"recall\",\"precision\"])\n",
    "\n",
    "plt.subplot(2,2,3)\n",
    "sns.lineplot(x = \"resample_times\", y = \"accuracy\", data = model_eval_1)\n",
    "plt.subplot(2,2,4)\n",
    "\n",
    "sns.lineplot(x = \"resample_times\", y = \"f1\", data = model_eval_1)\n",
    "plt.show()"
   ]
  },
  {
   "cell_type": "code",
   "execution_count": 71,
   "metadata": {
    "ExecuteTime": {
     "end_time": "2021-02-02T08:09:09.454519Z",
     "start_time": "2021-02-02T08:09:09.350796Z"
    }
   },
   "outputs": [
    {
     "data": {
      "text/plain": [
       "<matplotlib.axes._subplots.AxesSubplot at 0x270e39d6d08>"
      ]
     },
     "execution_count": 71,
     "metadata": {},
     "output_type": "execute_result"
    },
    {
     "data": {
      "image/png": "[encoded data removed]",
      "text/plain": [
       "<Figure size 432x288 with 1 Axes>"
      ]
     },
     "metadata": {
      "needs_background": "light"
     },
     "output_type": "display_data"
    }
   ],
   "source": [
    "sns.lineplot(x = \"precision\", y = \"recall\", data = model_eval_1)"
   ]
  },
  {
   "cell_type": "markdown",
   "metadata": {},
   "source": [
    "### 含验证集重采样"
   ]
  },
  {
   "cell_type": "code",
   "execution_count": 72,
   "metadata": {
    "ExecuteTime": {
     "end_time": "2021-02-02T08:09:54.211604Z",
     "start_time": "2021-02-02T08:09:09.455516Z"
    }
   },
   "outputs": [
    {
     "name": "stdout",
     "output_type": "stream",
     "text": [
      "重采样中：n = 1\n",
      "拟合中...\n",
      "预测中...\n",
      "precision: 0.8682926829268293\n",
      "accuracy: 0.9346238451385833\n",
      "recall: 0.8144758735440932\n",
      "f1: 0.840523717535952\n",
      "------------------------------\n",
      "重采样中：n = 2\n",
      "拟合中...\n",
      "预测中...\n",
      "precision: 0.8985774499473129\n",
      "accuracy: 0.9538902604125189\n",
      "recall: 0.9461858529819694\n",
      "f1: 0.9217673287393594\n",
      "------------------------------\n",
      "重采样中：n = 3\n",
      "拟合中...\n",
      "预测中...\n",
      "precision: 0.9117031398667935\n",
      "accuracy: 0.9633427885664412\n",
      "recall: 0.9917201407576072\n",
      "f1: 0.950029744199881\n",
      "------------------------------\n",
      "重采样中：n = 4\n",
      "拟合中...\n",
      "预测中...\n",
      "precision: 0.9271286513362337\n",
      "accuracy: 0.9672712669834683\n",
      "recall: 0.9966594287623184\n",
      "f1: 0.9606375271673508\n",
      "------------------------------\n",
      "重采样中：n = 5\n",
      "拟合中...\n",
      "预测中...\n",
      "precision: 0.9362228296238448\n",
      "accuracy: 0.9692555631314697\n",
      "recall: 0.9991665509098486\n",
      "f1: 0.9666711463512969\n",
      "------------------------------\n",
      "重采样中：n = 6\n",
      "拟合中...\n",
      "预测中...\n",
      "precision: 0.943445311616333\n",
      "accuracy: 0.9711399711399712\n",
      "recall: 1.0\n",
      "f1: 0.9708997788383192\n",
      "------------------------------\n",
      "重采样中：n = 7\n",
      "拟合中...\n",
      "预测中...\n",
      "precision: 0.9490433230891246\n",
      "accuracy: 0.9722417238213533\n",
      "recall: 1.0\n",
      "f1: 0.9738555442522889\n",
      "------------------------------\n",
      "重采样中：n = 8\n",
      "拟合中...\n",
      "预测中...\n",
      "precision: 0.9544931385568836\n",
      "accuracy: 0.9739205439139479\n",
      "recall: 1.0\n",
      "f1: 0.9767167965211089\n",
      "------------------------------\n"
     ]
    }
   ],
   "source": [
    "# 多次重采样，并且使用随机森林，在验证集上查看结果\n",
    "n_resample = np.arange(int(bin_count[0] / bin_count[1])+1)\n",
    "precision_scores, recall_scores, accuracy_scores, f1_scores = [], [], [], [] # 模型评估\n",
    "predict_result = [] # 预测结果\n",
    "y_valid_sets = [] # 记录一下不同的验证集y\n",
    "\n",
    "\n",
    "# 循环\n",
    "for i in n_resample:\n",
    "    print(\"重采样中：n = %d\" % (i+1))\n",
    "    mydf = mydf.append(df[df.y == 1])\n",
    "    # 划出验证集\n",
    "    X_train, X_valid, y_train, y_valid = train_test_split(mydf[var_x], \n",
    "                                                          mydf[\"y\"], random_state=seed, test_size=0.25)\n",
    "    y_valid_sets.append(y_valid)\n",
    "\n",
    "    # 随机森林\n",
    "    print(\"拟合中...\")\n",
    "    rf_n = RandomForestClassifier(criterion=\"entropy\",\n",
    "                                  n_estimators=100,\n",
    "                                  random_state=seed,\n",
    "                                  #min_sample_split = 200,\n",
    "                                  max_features=\"sqrt\",\n",
    "                                  bootstrap=True,\n",
    "                                  oob_score=True,\n",
    "                                  class_weight=\"balanced\")\n",
    "    rf_n.fit(X_train, y_train)\n",
    "\n",
    "    # 预测结果\n",
    "    print(\"预测中...\")\n",
    "    rf_n_predict = rf_n.predict(X_valid)\n",
    "    predict_result.append(rf_n_predict)\n",
    "\n",
    "    # 模型评估\n",
    "    pre_score = precision_score(y_valid, rf_n_predict)\n",
    "    acc_score = accuracy_score(y_valid, rf_n_predict)\n",
    "    rec_score = recall_score(y_valid, rf_n_predict)\n",
    "    f1_score = F1(pre_score, rec_score)\n",
    "\n",
    "    accuracy_scores.append(acc_score)\n",
    "    precision_scores.append(pre_score)\n",
    "    recall_scores.append(rec_score)\n",
    "    f1_scores.append(f1_score)\n",
    "    print(\"precision:\", pre_score)\n",
    "    print(\"accuracy:\", acc_score)\n",
    "    print(\"recall:\", rec_score)\n",
    "    print(\"f1:\", f1_score)\n",
    "\n",
    "    print(\"-\"*30)"
   ]
  },
  {
   "cell_type": "code",
   "execution_count": 73,
   "metadata": {
    "ExecuteTime": {
     "end_time": "2021-02-02T08:09:55.303676Z",
     "start_time": "2021-02-02T08:09:54.214590Z"
    }
   },
   "outputs": [
    {
     "data": {
      "image/png": "[encoded data removed]",
      "text/plain": [
       "<Figure size 1080x1080 with 16 Axes>"
      ]
     },
     "metadata": {
      "needs_background": "light"
     },
     "output_type": "display_data"
    }
   ],
   "source": [
    "# 验证集混淆矩阵\n",
    "plt.figure(figsize = (15,15))\n",
    "for i in n_resample:\n",
    "    plt.subplot(4,3,i+1)\n",
    "    sns.heatmap(confusion_matrix(y_valid_sets[i], predict_result[i]), linewidth = 0.5, annot = True, fmt = '.5g',\n",
    "               yticklabels = ['false',\"true\"], xticklabels = [\"pred_false\",'pred_true'])\n",
    "    plt.title(\"Resample Times = %d\" %(i+1))\n",
    "plt.show() "
   ]
  },
  {
   "cell_type": "code",
   "execution_count": 74,
   "metadata": {
    "ExecuteTime": {
     "end_time": "2021-02-02T08:09:55.316642Z",
     "start_time": "2021-02-02T08:09:55.305671Z"
    }
   },
   "outputs": [
    {
     "data": {
      "text/html": [
       "<div>\n",
       "<style scoped>\n",
       "    .dataframe tbody tr th:only-of-type {\n",
       "        vertical-align: middle;\n",
       "    }\n",
       "\n",
       "    .dataframe tbody tr th {\n",
       "        vertical-align: top;\n",
       "    }\n",
       "\n",
       "    .dataframe thead th {\n",
       "        text-align: right;\n",
       "    }\n",
       "</style>\n",
       "<table border=\"1\" class=\"dataframe\">\n",
       "  <thead>\n",
       "    <tr style=\"text-align: right;\">\n",
       "      <th></th>\n",
       "      <th>resample_times</th>\n",
       "      <th>accuracy</th>\n",
       "      <th>precision</th>\n",
       "      <th>recall</th>\n",
       "      <th>f1</th>\n",
       "    </tr>\n",
       "  </thead>\n",
       "  <tbody>\n",
       "    <tr>\n",
       "      <th>0</th>\n",
       "      <td>0</td>\n",
       "      <td>0.934624</td>\n",
       "      <td>0.868293</td>\n",
       "      <td>0.814476</td>\n",
       "      <td>0.840524</td>\n",
       "    </tr>\n",
       "    <tr>\n",
       "      <th>1</th>\n",
       "      <td>1</td>\n",
       "      <td>0.953890</td>\n",
       "      <td>0.898577</td>\n",
       "      <td>0.946186</td>\n",
       "      <td>0.921767</td>\n",
       "    </tr>\n",
       "    <tr>\n",
       "      <th>2</th>\n",
       "      <td>2</td>\n",
       "      <td>0.963343</td>\n",
       "      <td>0.911703</td>\n",
       "      <td>0.991720</td>\n",
       "      <td>0.950030</td>\n",
       "    </tr>\n",
       "    <tr>\n",
       "      <th>3</th>\n",
       "      <td>3</td>\n",
       "      <td>0.967271</td>\n",
       "      <td>0.927129</td>\n",
       "      <td>0.996659</td>\n",
       "      <td>0.960638</td>\n",
       "    </tr>\n",
       "    <tr>\n",
       "      <th>4</th>\n",
       "      <td>4</td>\n",
       "      <td>0.969256</td>\n",
       "      <td>0.936223</td>\n",
       "      <td>0.999167</td>\n",
       "      <td>0.966671</td>\n",
       "    </tr>\n",
       "    <tr>\n",
       "      <th>5</th>\n",
       "      <td>5</td>\n",
       "      <td>0.971140</td>\n",
       "      <td>0.943445</td>\n",
       "      <td>1.000000</td>\n",
       "      <td>0.970900</td>\n",
       "    </tr>\n",
       "    <tr>\n",
       "      <th>6</th>\n",
       "      <td>6</td>\n",
       "      <td>0.972242</td>\n",
       "      <td>0.949043</td>\n",
       "      <td>1.000000</td>\n",
       "      <td>0.973856</td>\n",
       "    </tr>\n",
       "    <tr>\n",
       "      <th>7</th>\n",
       "      <td>7</td>\n",
       "      <td>0.973921</td>\n",
       "      <td>0.954493</td>\n",
       "      <td>1.000000</td>\n",
       "      <td>0.976717</td>\n",
       "    </tr>\n",
       "  </tbody>\n",
       "</table>\n",
       "</div>"
      ],
      "text/plain": [
       "   resample_times  accuracy  precision    recall        f1\n",
       "0               0  0.934624   0.868293  0.814476  0.840524\n",
       "1               1  0.953890   0.898577  0.946186  0.921767\n",
       "2               2  0.963343   0.911703  0.991720  0.950030\n",
       "3               3  0.967271   0.927129  0.996659  0.960638\n",
       "4               4  0.969256   0.936223  0.999167  0.966671\n",
       "5               5  0.971140   0.943445  1.000000  0.970900\n",
       "6               6  0.972242   0.949043  1.000000  0.973856\n",
       "7               7  0.973921   0.954493  1.000000  0.976717"
      ]
     },
     "execution_count": 74,
     "metadata": {},
     "output_type": "execute_result"
    }
   ],
   "source": [
    "# 重采样后的模型评估\n",
    "model_eval = pd.DataFrame({\n",
    "    'resample_times': n_resample,\n",
    "    \"accuracy\": accuracy_scores,\n",
    "    \"precision\": precision_scores,\n",
    "    \"recall\": recall_scores,\n",
    "    \"f1\": f1_scores\n",
    "})\n",
    "model_eval"
   ]
  },
  {
   "cell_type": "code",
   "execution_count": 75,
   "metadata": {
    "ExecuteTime": {
     "end_time": "2021-02-02T08:09:55.742502Z",
     "start_time": "2021-02-02T08:09:55.317638Z"
    }
   },
   "outputs": [
    {
     "data": {
      "image/png": "[encoded data removed]",
      "text/plain": [
       "<Figure size 720x432 with 4 Axes>"
      ]
     },
     "metadata": {
      "needs_background": "light"
     },
     "output_type": "display_data"
    }
   ],
   "source": [
    "plt.figure(figsize = (10,6))\n",
    "plt.subplot(2,2,1)\n",
    "sns.lineplot(x = \"resample_times\", y = \"recall\", data = model_eval)\n",
    "plt.subplot(2,2,2)\n",
    "sns.lineplot(x = \"resample_times\", y = \"precision\", data = model_eval)\n",
    "#plt.legend(labels = [\"recall\",\"precision\"])\n",
    "\n",
    "plt.subplot(2,2,3)\n",
    "sns.lineplot(x = \"resample_times\", y = \"accuracy\", data = model_eval)\n",
    "plt.subplot(2,2,4)\n",
    "\n",
    "sns.lineplot(x = \"resample_times\", y = \"f1\", data = model_eval)\n",
    "plt.show()"
   ]
  },
  {
   "cell_type": "code",
   "execution_count": 76,
   "metadata": {
    "ExecuteTime": {
     "end_time": "2021-02-02T08:09:55.853206Z",
     "start_time": "2021-02-02T08:09:55.743499Z"
    }
   },
   "outputs": [
    {
     "data": {
      "text/plain": [
       "<matplotlib.axes._subplots.AxesSubplot at 0x270e3d52548>"
      ]
     },
     "execution_count": 76,
     "metadata": {},
     "output_type": "execute_result"
    },
    {
     "data": {
      "image/png": "[encoded data removed]",
      "text/plain": [
       "<Figure size 432x288 with 1 Axes>"
      ]
     },
     "metadata": {
      "needs_background": "light"
     },
     "output_type": "display_data"
    }
   ],
   "source": [
    "sns.lineplot(x = \"precision\", y = \"recall\", data = model_eval)\n",
    "#sns.lineplot([0,0],[1,1])"
   ]
  },
  {
   "cell_type": "markdown",
   "metadata": {},
   "source": [
    "## 调整超参"
   ]
  },
  {
   "cell_type": "code",
   "execution_count": 77,
   "metadata": {
    "ExecuteTime": {
     "end_time": "2021-02-02T08:09:55.884162Z",
     "start_time": "2021-02-02T08:09:55.854202Z"
    }
   },
   "outputs": [
    {
     "data": {
      "text/plain": [
       "(54994, 17)"
      ]
     },
     "execution_count": 77,
     "metadata": {},
     "output_type": "execute_result"
    }
   ],
   "source": [
    "# test_set：把y=1的部分重复采样\n",
    "i,n = 0, 3\n",
    "mydf2 = df.copy(deep = True)\n",
    "while i < n:\n",
    "    mydf2 = mydf2.append(df[df.y==1])\n",
    "    i+=1\n",
    "mydf2.shape"
   ]
  },
  {
   "cell_type": "code",
   "execution_count": 78,
   "metadata": {
    "ExecuteTime": {
     "end_time": "2021-02-02T08:09:55.891173Z",
     "start_time": "2021-02-02T08:09:55.885163Z"
    }
   },
   "outputs": [
    {
     "data": {
      "text/plain": [
       "0    35922\n",
       "1    19072\n",
       "Name: y, dtype: int64"
      ]
     },
     "execution_count": 78,
     "metadata": {},
     "output_type": "execute_result"
    }
   ],
   "source": [
    "# 正负样本数量\n",
    "mydf2[\"y\"].value_counts()"
   ]
  },
  {
   "cell_type": "code",
   "execution_count": 79,
   "metadata": {
    "ExecuteTime": {
     "end_time": "2021-02-02T08:09:55.913087Z",
     "start_time": "2021-02-02T08:09:55.892143Z"
    }
   },
   "outputs": [],
   "source": [
    "# train test split\n",
    "X_train, X_valid, y_train, y_valid = train_test_split(mydf2[var_x],\n",
    "                                                      mydf2[\"y\"], random_state=seed, test_size=0.25)"
   ]
  },
  {
   "cell_type": "markdown",
   "metadata": {},
   "source": [
    "### 调整n_estimator"
   ]
  },
  {
   "cell_type": "code",
   "execution_count": 80,
   "metadata": {
    "ExecuteTime": {
     "end_time": "2021-02-02T08:09:55.918074Z",
     "start_time": "2021-02-02T08:09:55.914084Z"
    }
   },
   "outputs": [],
   "source": [
    "from sklearn.model_selection import GridSearchCV"
   ]
  },
  {
   "cell_type": "code",
   "execution_count": 81,
   "metadata": {
    "ExecuteTime": {
     "end_time": "2021-02-02T08:09:55.923061Z",
     "start_time": "2021-02-02T08:09:55.919080Z"
    }
   },
   "outputs": [],
   "source": [
    "# n_resample = np.arange(int(bin_count[0] / bin_count[1])+1)\n",
    "# precision_scores, recall_scores, accuracy_scores, f1_scores = [], [], [], [] # 模型评估\n",
    "# predict_result = [] # 预测结果\n",
    "# for i in range(100,1000,100):\n",
    "#     rfc = RandomForestClassifier(criterion=\"gini\",\n",
    "#                                   n_estimators=i,\n",
    "#                                   random_state=seed,\n",
    "#                                   oob_score=True,\n",
    "#                                   class_weight=\"balanced\")\n",
    "    \n",
    "#     # 拟合\n",
    "#     rfc.fit(X_train, y_train)\n",
    "\n",
    "#     # 预测结果\n",
    "#     print(\"n_estimator = \",i,\",预测中...\")\n",
    "#     rfc_predict = rfc.predict(X_valid)\n",
    "#     predict_result.append(rfc_predict)\n",
    "    \n",
    "#     # 模型评估\n",
    "#     pre_score = precision_score(y_valid, rfc_predict)\n",
    "#     acc_score = accuracy_score(y_valid, rfc_predict)\n",
    "#     rec_score = recall_score(y_valid, rfc_predict)\n",
    "#     f1_score = F1(pre_score, rec_score)\n",
    "\n",
    "#     accuracy_scores.append(acc_score)\n",
    "#     precision_scores.append(pre_score)\n",
    "#     recall_scores.append(rec_score)\n",
    "#     f1_scores.append(f1_score)\n",
    "#     print(\"precision:\", pre_score)\n",
    "#     print(\"accuracy:\", acc_score)\n",
    "#     print(\"recall:\", rec_score)\n",
    "#     print(\"f1:\", f1_score)\n",
    "#     print(\"-\"*30)"
   ]
  },
  {
   "cell_type": "code",
   "execution_count": 82,
   "metadata": {
    "ExecuteTime": {
     "end_time": "2021-02-02T08:09:55.928047Z",
     "start_time": "2021-02-02T08:09:55.925056Z"
    }
   },
   "outputs": [],
   "source": [
    "# # 重采样后的模型评估\n",
    "# model_n_estimator = pd.DataFrame({\n",
    "#     'n_estimator': range(50,500,50),\n",
    "#     \"accuracy\": accuracy_scores,\n",
    "#     \"precision\": precision_scores,\n",
    "#     \"recall\": recall_scores,\n",
    "#     \"f1\": f1_scores\n",
    "# })\n",
    "# model_n_estimator "
   ]
  },
  {
   "cell_type": "code",
   "execution_count": 83,
   "metadata": {
    "ExecuteTime": {
     "end_time": "2021-02-02T08:09:55.933039Z",
     "start_time": "2021-02-02T08:09:55.929045Z"
    }
   },
   "outputs": [],
   "source": [
    "# # 画图\n",
    "# plt.figure(figsize = (10,6))\n",
    "# plt.subplot(2,2,1)\n",
    "# sns.lineplot(x = \"n_estimator\", y = \"recall\", data = model_n_estimator)\n",
    "# plt.subplot(2,2,2)\n",
    "# sns.lineplot(x = \"n_estimator\", y = \"precision\", data = model_n_estimator)\n",
    "# #plt.legend(labels = [\"recall\",\"precision\"])\n",
    "\n",
    "# plt.subplot(2,2,3)\n",
    "# sns.lineplot(x = \"n_estimator\", y = \"accuracy\", data = model_n_estimator)\n",
    "# plt.subplot(2,2,4)\n",
    "\n",
    "# sns.lineplot(x = \"n_estimator\", y = \"f1\", data = model_n_estimator)\n",
    "# plt.show()"
   ]
  },
  {
   "cell_type": "code",
   "execution_count": 84,
   "metadata": {
    "ExecuteTime": {
     "end_time": "2021-02-02T08:09:55.938021Z",
     "start_time": "2021-02-02T08:09:55.934031Z"
    }
   },
   "outputs": [],
   "source": [
    "# # 找到f1最大的地方\n",
    "# max_f1 = model_n_estimator[\"f1\"].max()\n",
    "# model_n_estimator[model_n_estimator.f1 == max_f1]"
   ]
  },
  {
   "cell_type": "code",
   "execution_count": 85,
   "metadata": {
    "ExecuteTime": {
     "end_time": "2021-02-02T08:13:38.732113Z",
     "start_time": "2021-02-02T08:09:55.939017Z"
    }
   },
   "outputs": [
    {
     "name": "stdout",
     "output_type": "stream",
     "text": [
      "{'n_estimators': 50} 1.0\n"
     ]
    }
   ],
   "source": [
    "rfc = RandomForestClassifier(random_state=seed,criterion = \"gini\")\n",
    "\n",
    "# 用网格搜索调整\n",
    "param_grid = {'n_estimators':range(50,500,50)}\n",
    "GS = GridSearchCV(rfc, param_grid, cv=3,scoring = \"recall\")\n",
    "GS.fit(mydf2[var_x], mydf2[\"y\"])\n",
    "best_param = GS.best_params_\n",
    "best_score = GS.best_score_\n",
    "n_e = best_param['n_estimators']\n",
    "print(best_param, best_score)  "
   ]
  },
  {
   "cell_type": "markdown",
   "metadata": {},
   "source": [
    "### 调整max_depth"
   ]
  },
  {
   "cell_type": "code",
   "execution_count": 86,
   "metadata": {
    "ExecuteTime": {
     "end_time": "2021-02-02T08:13:53.549224Z",
     "start_time": "2021-02-02T08:13:38.733110Z"
    }
   },
   "outputs": [
    {
     "name": "stdout",
     "output_type": "stream",
     "text": [
      "{'max_depth': 21} 0.8821009760550523\n"
     ]
    }
   ],
   "source": [
    "# 建立n_estimators为n的随机森林\n",
    "rfc = RandomForestClassifier(n_estimators=n_e, random_state=seed, criterion = \"gini\")\n",
    "\n",
    "# 用网格搜索调整max_depth\n",
    "param_grid = {'max_depth':range(1,25,5)}\n",
    "GS = GridSearchCV(rfc, param_grid, cv=3,scoring = \"recall\")\n",
    "GS.fit(X_train, y_train)\n",
    "best_param = GS.best_params_\n",
    "best_score = GS.best_score_\n",
    "m_d = best_param['max_depth']\n",
    "print(best_param, best_score)  "
   ]
  },
  {
   "cell_type": "code",
   "execution_count": 87,
   "metadata": {
    "ExecuteTime": {
     "end_time": "2021-02-02T08:14:27.951663Z",
     "start_time": "2021-02-02T08:13:53.550223Z"
    }
   },
   "outputs": [
    {
     "name": "stdout",
     "output_type": "stream",
     "text": [
      "{'max_depth': 25} 0.915595814900639\n"
     ]
    }
   ],
   "source": [
    "# 建立n_estimators为n的随机森林\n",
    "rfc = RandomForestClassifier(n_estimators=n_e, random_state=seed, criterion = \"gini\")\n",
    "\n",
    "# 用网格搜索调整max_depth\n",
    "param_grid = {'max_depth':range(18,26,1)}\n",
    "GS = GridSearchCV(rfc, param_grid, cv=3,scoring = \"recall\")\n",
    "GS.fit(X_train, y_train)\n",
    "best_param = GS.best_params_\n",
    "best_score = GS.best_score_\n",
    "m_d = best_param['max_depth']\n",
    "print(best_param, best_score)  "
   ]
  },
  {
   "cell_type": "code",
   "execution_count": null,
   "metadata": {
    "ExecuteTime": {
     "end_time": "2021-02-02T07:32:18.158300Z",
     "start_time": "2021-02-02T07:32:18.154311Z"
    }
   },
   "outputs": [],
   "source": []
  },
  {
   "cell_type": "markdown",
   "metadata": {},
   "source": [
    "### 调整max_feature\n",
    "\n",
    "参照：https://zhuanlan.zhihu.com/p/126288078"
   ]
  },
  {
   "cell_type": "code",
   "execution_count": 88,
   "metadata": {
    "ExecuteTime": {
     "end_time": "2021-02-02T08:14:46.117279Z",
     "start_time": "2021-02-02T08:14:27.952660Z"
    }
   },
   "outputs": [
    {
     "name": "stdout",
     "output_type": "stream",
     "text": [
      "{'max_features': 10} 0.9083631767432062\n"
     ]
    }
   ],
   "source": [
    "# 用网格搜索调整max_features\n",
    "param_grid = {'max_features': range(4,19,3)}\n",
    "\n",
    "rfc = RandomForestClassifier(n_estimators=20,\n",
    "                             max_depth=m_d,\n",
    "                             random_state=seed,\n",
    "                            criterion = \"gini\")\n",
    "GS = GridSearchCV(rfc, param_grid, cv=3,scoring = 'recall')\n",
    "GS.fit(X_train, y_train)\n",
    "best_param = GS.best_params_\n",
    "best_score = GS.best_score_\n",
    "m_f = best_param['max_features']\n",
    "print(best_param, best_score)"
   ]
  },
  {
   "cell_type": "code",
   "execution_count": 89,
   "metadata": {
    "ExecuteTime": {
     "end_time": "2021-02-02T08:14:58.562093Z",
     "start_time": "2021-02-02T08:14:46.118277Z"
    }
   },
   "outputs": [
    {
     "name": "stdout",
     "output_type": "stream",
     "text": [
      "{'max_features': 7} 0.9075907590759075\n"
     ]
    }
   ],
   "source": [
    "# 用网格搜索调整max_features\n",
    "param_grid = {'max_features': range(4,9,1)}\n",
    "\n",
    "rfc = RandomForestClassifier(n_estimators=20,\n",
    "                             max_depth=m_d,\n",
    "                             random_state=seed,\n",
    "                            criterion = \"gini\")\n",
    "GS = GridSearchCV(rfc, param_grid, cv=3,scoring = 'recall')\n",
    "GS.fit(X_train, y_train)\n",
    "best_param = GS.best_params_\n",
    "best_score = GS.best_score_\n",
    "m_f = best_param['max_features']\n",
    "print(best_param, best_score)"
   ]
  },
  {
   "cell_type": "markdown",
   "metadata": {},
   "source": [
    "### class_weight"
   ]
  },
  {
   "cell_type": "code",
   "execution_count": 90,
   "metadata": {
    "ExecuteTime": {
     "end_time": "2021-02-02T08:15:20.385924Z",
     "start_time": "2021-02-02T08:14:58.564090Z"
    }
   },
   "outputs": [
    {
     "name": "stdout",
     "output_type": "stream",
     "text": [
      "{'class_weight': None} 0.9198792219647496\n"
     ]
    }
   ],
   "source": [
    "# 用网格搜索调整max_features\n",
    "param_grid = {'class_weight': [\"balanced\",None,\"balanced_subsample\"]}\n",
    "\n",
    "rfc = RandomForestClassifier(n_estimators=n_e,\n",
    "                             max_depth=m_d,\n",
    "                             max_features = m_f,\n",
    "                             random_state=seed,\n",
    "                            criterion = \"gini\")\n",
    "GS = GridSearchCV(rfc, param_grid, cv=3,scoring = 'recall')\n",
    "GS.fit(X_train, y_train)\n",
    "best_param = GS.best_params_\n",
    "best_score = GS.best_score_\n",
    "c_w = best_param['class_weight']\n",
    "print(best_param, best_score)"
   ]
  },
  {
   "cell_type": "markdown",
   "metadata": {},
   "source": [
    "### min_weight_fraction_leaf"
   ]
  },
  {
   "cell_type": "code",
   "execution_count": 91,
   "metadata": {
    "ExecuteTime": {
     "end_time": "2021-02-02T08:16:16.714682Z",
     "start_time": "2021-02-02T08:15:20.386922Z"
    }
   },
   "outputs": [
    {
     "name": "stdout",
     "output_type": "stream",
     "text": [
      "{'min_weight_fraction_leaf': 0.0} 0.9198792219647496\n"
     ]
    }
   ],
   "source": [
    "# 用网格搜索调整max_features\n",
    "param_grid = {'min_weight_fraction_leaf': np.arange(0, 10)/10000}\n",
    "\n",
    "rfc = RandomForestClassifier(n_estimators=n_e,\n",
    "                             max_depth=m_d,\n",
    "                             max_features = m_f,\n",
    "                             random_state=seed,\n",
    "                            criterion = \"gini\",\n",
    "                            class_weight = c_w)\n",
    "GS = GridSearchCV(rfc, param_grid, cv=3,scoring = 'recall')\n",
    "GS.fit(X_train, y_train)\n",
    "best_param = GS.best_params_\n",
    "best_score = GS.best_score_\n",
    "m_wf = best_param['min_weight_fraction_leaf']\n",
    "print(best_param, best_score)"
   ]
  },
  {
   "cell_type": "markdown",
   "metadata": {},
   "source": [
    "### min_sample_leaf"
   ]
  },
  {
   "cell_type": "code",
   "execution_count": 92,
   "metadata": {
    "ExecuteTime": {
     "end_time": "2021-02-02T08:17:11.744121Z",
     "start_time": "2021-02-02T08:16:16.715681Z"
    }
   },
   "outputs": [
    {
     "name": "stdout",
     "output_type": "stream",
     "text": [
      "{'min_samples_leaf': 0.001} 0.5387964328347729\n"
     ]
    }
   ],
   "source": [
    "# 用网格搜索调整max_features\n",
    "param_grid = {'min_samples_leaf': np.arange(0.1,50)/100}\n",
    "\n",
    "rfc = RandomForestClassifier(n_estimators=n_e,\n",
    "                             max_depth=m_d,\n",
    "                             random_state=seed,\n",
    "                             class_weight=c_w,\n",
    "                             max_features = m_f,\n",
    "                             min_weight_fraction_leaf = m_wf ,\n",
    "                            criterion = \"gini\")\n",
    "GS = GridSearchCV(rfc, param_grid, cv=3,scoring = 'recall')\n",
    "GS.fit(X_train, y_train)\n",
    "best_param = GS.best_params_\n",
    "best_score = GS.best_score_\n",
    "msl = best_param ['min_samples_leaf']\n",
    "print(best_param, best_score)"
   ]
  },
  {
   "cell_type": "markdown",
   "metadata": {},
   "source": [
    "# 验证集"
   ]
  },
  {
   "cell_type": "code",
   "execution_count": 93,
   "metadata": {
    "ExecuteTime": {
     "end_time": "2021-02-02T08:17:13.876415Z",
     "start_time": "2021-02-02T08:17:11.745118Z"
    }
   },
   "outputs": [
    {
     "data": {
      "text/plain": [
       "RandomForestClassifier(bootstrap=True, ccp_alpha=0.0, class_weight=None,\n",
       "                       criterion='gini', max_depth=25, max_features=7,\n",
       "                       max_leaf_nodes=None, max_samples=None,\n",
       "                       min_impurity_decrease=0.0, min_impurity_split=None,\n",
       "                       min_samples_leaf=0.001, min_samples_split=2,\n",
       "                       min_weight_fraction_leaf=0.0, n_estimators=50,\n",
       "                       n_jobs=None, oob_score=False, random_state=12345,\n",
       "                       verbose=0, warm_start=False)"
      ]
     },
     "execution_count": 93,
     "metadata": {},
     "output_type": "execute_result"
    }
   ],
   "source": [
    "final_model = RandomForestClassifier(\n",
    "    n_estimators=n_e,\n",
    "    max_depth=m_d,\n",
    "    random_state=seed,\n",
    "    max_features=m_f,\n",
    "    bootstrap=True,\n",
    "    class_weight=c_w,\n",
    "    criterion = \"gini\"\n",
    "    ,\n",
    "    min_samples_leaf = msl,\n",
    "    min_samples_split = 2,\n",
    "    min_weight_fraction_leaf = m_wf\n",
    ")\n",
    "# 训练模型\n",
    "# final_model.fit(mydf2[var_x], mydf2[\"y\"])\n",
    "final_model.fit(X_train, y_train)"
   ]
  },
  {
   "cell_type": "code",
   "execution_count": 94,
   "metadata": {
    "ExecuteTime": {
     "end_time": "2021-02-02T08:17:13.920298Z",
     "start_time": "2021-02-02T08:17:13.877413Z"
    }
   },
   "outputs": [
    {
     "name": "stdout",
     "output_type": "stream",
     "text": [
      "precision: 0.4 \n",
      "accuracy: 0.8582172085821721 \n",
      "recall: 0.46065259117082535 \n",
      "f1: 0.4281891168599465\n"
     ]
    }
   ],
   "source": [
    "# 预测结果\n",
    "predict_result = final_model.predict(test_x)\n",
    "\n",
    "# 模型评估\n",
    "pre_score = precision_score(test_y,predict_result)\n",
    "acc_score = accuracy_score(test_y,predict_result)\n",
    "rec_score = recall_score(test_y,predict_result)\n",
    "f1_score = F1(pre_score, rec_score)\n",
    "print('precision:' ,pre_score,\n",
    "     \"\\naccuracy:\",acc_score,\n",
    "     \"\\nrecall:\", rec_score,\n",
    "     \"\\nf1:\",f1_score)"
   ]
  },
  {
   "cell_type": "markdown",
   "metadata": {},
   "source": [
    "## 画图对比"
   ]
  },
  {
   "cell_type": "code",
   "execution_count": 95,
   "metadata": {
    "ExecuteTime": {
     "end_time": "2021-02-02T08:17:14.178606Z",
     "start_time": "2021-02-02T08:17:13.921297Z"
    }
   },
   "outputs": [
    {
     "data": {
      "image/png": "[encoded data removed]",
      "text/plain": [
       "<Figure size 1152x432 with 4 Axes>"
      ]
     },
     "metadata": {
      "needs_background": "light"
     },
     "output_type": "display_data"
    }
   ],
   "source": [
    "plt.figure(figsize = (16,6))\n",
    "plt.subplot(121)\n",
    "sns.heatmap(confusion_matrix(test_y, predict_result), annot = True, fmt = '.5g',linewidth = 0.5)\n",
    "plt.title(\"训练后的结果\")\n",
    "\n",
    "plt.subplot(122)\n",
    "sns.heatmap(confusion_matrix(test_y, rf_1_predict), annot = True, fmt = '.5g',linewidth = 0.5)\n",
    "plt.title(\"训练前的结果\")\n",
    "plt.show()"
   ]
  },
  {
   "cell_type": "code",
   "execution_count": 96,
   "metadata": {
    "ExecuteTime": {
     "end_time": "2021-02-02T08:17:14.189577Z",
     "start_time": "2021-02-02T08:17:14.179605Z"
    }
   },
   "outputs": [
    {
     "name": "stdout",
     "output_type": "stream",
     "text": [
      "              precision    recall  f1-score   support\n",
      "\n",
      "           0       0.93      0.91      0.92      4000\n",
      "           1       0.40      0.46      0.43       521\n",
      "\n",
      "    accuracy                           0.86      4521\n",
      "   macro avg       0.66      0.69      0.67      4521\n",
      "weighted avg       0.87      0.86      0.86      4521\n",
      "\n"
     ]
    }
   ],
   "source": [
    "print(classification_report(test_y, predict_result))"
   ]
  },
  {
   "cell_type": "code",
   "execution_count": 97,
   "metadata": {
    "ExecuteTime": {
     "end_time": "2021-02-02T08:17:14.200566Z",
     "start_time": "2021-02-02T08:17:14.190575Z"
    }
   },
   "outputs": [
    {
     "name": "stdout",
     "output_type": "stream",
     "text": [
      "              precision    recall  f1-score   support\n",
      "\n",
      "           0       0.90      0.99      0.94      4000\n",
      "           1       0.64      0.17      0.27       521\n",
      "\n",
      "    accuracy                           0.89      4521\n",
      "   macro avg       0.77      0.58      0.61      4521\n",
      "weighted avg       0.87      0.89      0.87      4521\n",
      "\n"
     ]
    }
   ],
   "source": [
    "# 对比原来的结果\n",
    "print(classification_report(test_y, rf_1_predict))"
   ]
  },
  {
   "cell_type": "markdown",
   "metadata": {},
   "source": [
    "## ROC"
   ]
  },
  {
   "cell_type": "code",
   "execution_count": 98,
   "metadata": {
    "ExecuteTime": {
     "end_time": "2021-02-02T08:17:14.206532Z",
     "start_time": "2021-02-02T08:17:14.201546Z"
    }
   },
   "outputs": [],
   "source": [
    "# roc\n",
    "from sklearn.metrics import roc_curve\n",
    "from sklearn.metrics import auc\n",
    "fpr, tpr, thresholds = roc_curve(\n",
    "    y_true=test_y,\n",
    "    y_score=predict_result\n",
    ")"
   ]
  },
  {
   "cell_type": "code",
   "execution_count": 99,
   "metadata": {
    "ExecuteTime": {
     "end_time": "2021-02-02T08:17:14.212516Z",
     "start_time": "2021-02-02T08:17:14.207529Z"
    }
   },
   "outputs": [
    {
     "data": {
      "text/plain": [
       "0.6853262955854126"
      ]
     },
     "execution_count": 99,
     "metadata": {},
     "output_type": "execute_result"
    }
   ],
   "source": [
    "auc = auc(fpr, tpr)\n",
    "auc"
   ]
  },
  {
   "cell_type": "code",
   "execution_count": 100,
   "metadata": {
    "ExecuteTime": {
     "end_time": "2021-02-02T08:17:14.331198Z",
     "start_time": "2021-02-02T08:17:14.213513Z"
    }
   },
   "outputs": [
    {
     "data": {
      "image/png": "[encoded data removed]",
      "text/plain": [
       "<Figure size 432x288 with 1 Axes>"
      ]
     },
     "metadata": {
      "needs_background": "light"
     },
     "output_type": "display_data"
    }
   ],
   "source": [
    "lw = 2\n",
    "plt.plot(fpr, tpr, color='darkorange',\n",
    "         lw=2, label='ROC curve (area = %0.2f)' % auc)\n",
    "plt.plot([0, 1], [0, 1], color='navy', lw=lw, linestyle='--')\n",
    "\n",
    "plt.xlabel('False Positive Rate')\n",
    "plt.ylabel('True Positive Rate')\n",
    "plt.title('Receiver operating characteristic example')\n",
    "plt.legend(loc=\"lower right\")\n",
    "plt.show()"
   ]
  },
  {
   "cell_type": "markdown",
   "metadata": {},
   "source": [
    "## feature importance"
   ]
  },
  {
   "cell_type": "code",
   "execution_count": 101,
   "metadata": {
    "ExecuteTime": {
     "end_time": "2021-02-02T08:17:14.349150Z",
     "start_time": "2021-02-02T08:17:14.332196Z"
    }
   },
   "outputs": [
    {
     "data": {
      "text/html": [
       "<div>\n",
       "<style scoped>\n",
       "    .dataframe tbody tr th:only-of-type {\n",
       "        vertical-align: middle;\n",
       "    }\n",
       "\n",
       "    .dataframe tbody tr th {\n",
       "        vertical-align: top;\n",
       "    }\n",
       "\n",
       "    .dataframe thead th {\n",
       "        text-align: right;\n",
       "    }\n",
       "</style>\n",
       "<table border=\"1\" class=\"dataframe\">\n",
       "  <thead>\n",
       "    <tr style=\"text-align: right;\">\n",
       "      <th></th>\n",
       "      <th>feature</th>\n",
       "      <th>score</th>\n",
       "    </tr>\n",
       "  </thead>\n",
       "  <tbody>\n",
       "    <tr>\n",
       "      <th>8</th>\n",
       "      <td>month</td>\n",
       "      <td>0.161885</td>\n",
       "    </tr>\n",
       "    <tr>\n",
       "      <th>13</th>\n",
       "      <td>poutcome</td>\n",
       "      <td>0.152741</td>\n",
       "    </tr>\n",
       "    <tr>\n",
       "      <th>0</th>\n",
       "      <td>contact</td>\n",
       "      <td>0.122883</td>\n",
       "    </tr>\n",
       "    <tr>\n",
       "      <th>2</th>\n",
       "      <td>age</td>\n",
       "      <td>0.096580</td>\n",
       "    </tr>\n",
       "    <tr>\n",
       "      <th>7</th>\n",
       "      <td>housing</td>\n",
       "      <td>0.085521</td>\n",
       "    </tr>\n",
       "    <tr>\n",
       "      <th>1</th>\n",
       "      <td>balance</td>\n",
       "      <td>0.081417</td>\n",
       "    </tr>\n",
       "    <tr>\n",
       "      <th>6</th>\n",
       "      <td>day</td>\n",
       "      <td>0.081150</td>\n",
       "    </tr>\n",
       "    <tr>\n",
       "      <th>4</th>\n",
       "      <td>previous</td>\n",
       "      <td>0.052579</td>\n",
       "    </tr>\n",
       "    <tr>\n",
       "      <th>15</th>\n",
       "      <td>是否联系过</td>\n",
       "      <td>0.035486</td>\n",
       "    </tr>\n",
       "    <tr>\n",
       "      <th>14</th>\n",
       "      <td>weekday</td>\n",
       "      <td>0.023839</td>\n",
       "    </tr>\n",
       "    <tr>\n",
       "      <th>10</th>\n",
       "      <td>job</td>\n",
       "      <td>0.022683</td>\n",
       "    </tr>\n",
       "    <tr>\n",
       "      <th>3</th>\n",
       "      <td>campaign</td>\n",
       "      <td>0.022021</td>\n",
       "    </tr>\n",
       "    <tr>\n",
       "      <th>5</th>\n",
       "      <td>total_call</td>\n",
       "      <td>0.019152</td>\n",
       "    </tr>\n",
       "    <tr>\n",
       "      <th>12</th>\n",
       "      <td>marital</td>\n",
       "      <td>0.018863</td>\n",
       "    </tr>\n",
       "    <tr>\n",
       "      <th>11</th>\n",
       "      <td>education</td>\n",
       "      <td>0.012643</td>\n",
       "    </tr>\n",
       "    <tr>\n",
       "      <th>9</th>\n",
       "      <td>loan</td>\n",
       "      <td>0.010557</td>\n",
       "    </tr>\n",
       "  </tbody>\n",
       "</table>\n",
       "</div>"
      ],
      "text/plain": [
       "       feature     score\n",
       "8        month  0.161885\n",
       "13    poutcome  0.152741\n",
       "0      contact  0.122883\n",
       "2          age  0.096580\n",
       "7      housing  0.085521\n",
       "1      balance  0.081417\n",
       "6          day  0.081150\n",
       "4     previous  0.052579\n",
       "15       是否联系过  0.035486\n",
       "14     weekday  0.023839\n",
       "10         job  0.022683\n",
       "3     campaign  0.022021\n",
       "5   total_call  0.019152\n",
       "12     marital  0.018863\n",
       "11   education  0.012643\n",
       "9         loan  0.010557"
      ]
     },
     "execution_count": 101,
     "metadata": {},
     "output_type": "execute_result"
    }
   ],
   "source": [
    "# 制作data frame 并查看结果\n",
    "features = pd.DataFrame({\"feature\": var_x, \"score\":final_model.feature_importances_ })\n",
    "features.sort_values(by = \"score\",inplace = True, ascending = False)\n",
    "features"
   ]
  },
  {
   "cell_type": "code",
   "execution_count": 102,
   "metadata": {
    "ExecuteTime": {
     "end_time": "2021-02-02T08:17:14.556609Z",
     "start_time": "2021-02-02T08:17:14.351147Z"
    }
   },
   "outputs": [
    {
     "data": {
      "image/png": "[encoded data removed]",
      "text/plain": [
       "<Figure size 720x432 with 1 Axes>"
      ]
     },
     "metadata": {
      "needs_background": "light"
     },
     "output_type": "display_data"
    }
   ],
   "source": [
    "# 画图\n",
    "plt.figure(figsize = (10,6))\n",
    "sns.barplot(y = \"feature\", x = \"score\", data = features, orient = 'h' )\n",
    "plt.title(\"Feature Importance\", size = 16)\n",
    "plt.xticks(rotation = 30, size = 14)\n",
    "plt.yticks(size = 14)\n",
    "plt.show()"
   ]
  }
 ],
 "metadata": {
  "kernelspec": {
   "display_name": "Python 3",
   "language": "python",
   "name": "python3"
  },
  "language_info": {
   "codemirror_mode": {
    "name": "ipython",
    "version": 3
   },
   "file_extension": ".py",
   "mimetype": "text/x-python",
   "name": "python",
   "nbconvert_exporter": "python",
   "pygments_lexer": "ipython3",
   "version": "3.7.6"
  },
  "notify_time": "5",
  "toc": {
   "base_numbering": 1,
   "nav_menu": {},
   "number_sections": true,
   "sideBar": true,
   "skip_h1_title": false,
   "title_cell": "Table of Contents",
   "title_sidebar": "Contents",
   "toc_cell": false,
   "toc_position": {
    "height": "calc(100% - 180px)",
    "left": "10px",
    "top": "150px",
    "width": "307.2px"
   },
   "toc_section_display": true,
   "toc_window_display": true
  },
  "varInspector": {
   "cols": {
    "lenName": 16,
    "lenType": 16,
    "lenVar": 40
   },
   "kernels_config": {
    "python": {
     "delete_cmd_postfix": "",
     "delete_cmd_prefix": "del ",
     "library": "var_list.py",
     "varRefreshCmd": "print(var_dic_list())"
    },
    "r": {
     "delete_cmd_postfix": ") ",
     "delete_cmd_prefix": "rm(",
     "library": "var_list.r",
     "varRefreshCmd": "cat(var_dic_list()) "
    }
   },
   "types_to_exclude": [
    "module",
    "function",
    "builtin_function_or_method",
    "instance",
    "_Feature"
   ],
   "window_display": false
  }
 },
 "nbformat": 4,
 "nbformat_minor": 4
}
