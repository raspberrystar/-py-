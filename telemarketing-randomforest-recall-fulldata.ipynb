{
 "cells": [
  {
   "cell_type": "code",
   "execution_count": 1,
   "metadata": {
    "ExecuteTime": {
     "end_time": "2021-02-02T10:55:57.386354Z",
     "start_time": "2021-02-02T10:55:56.238421Z"
    }
   },
   "outputs": [],
   "source": [
    "import pandas as pd\n",
    "import numpy as np\n",
    "import matplotlib.pyplot as plt\n",
    "import seaborn as sns\n",
    "\n",
    "from scipy import stats # 假设检验"
   ]
  },
  {
   "cell_type": "code",
   "execution_count": 2,
   "metadata": {
    "ExecuteTime": {
     "end_time": "2021-02-02T10:55:57.391337Z",
     "start_time": "2021-02-02T10:55:57.388343Z"
    }
   },
   "outputs": [],
   "source": [
    "#coding:utf-8\n",
    "plt.rcParams['font.sans-serif']=['SimHei'] #用来正常显示中文标签\n",
    "plt.rcParams['axes.unicode_minus']=False #用来正常显示负号\n",
    "#有中文出现的情况，需要u'内容'"
   ]
  },
  {
   "cell_type": "markdown",
   "metadata": {
    "ExecuteTime": {
     "end_time": "2021-01-26T06:56:00.236626Z",
     "start_time": "2021-01-26T06:56:00.229642Z"
    }
   },
   "source": [
    "## bank client data|名词变量对照解释\n",
    "\n",
    "|编号|变量名|解释|类型|取值|\n",
    "|----|-------|--------|---|---|\n",
    "|1| age|| numeric||\n",
    " |2|job|type of job| categorical| \"admin.\",\"unknown\",\"unemployed\",\"management\",\"housemaid\",\"entrepreneur\",\"student\",\"blue-collar\",\"self-employed\",\"retired\",\"technician\",\"services\"|\n",
    "   |3|marital|marital status |categorical| \"married\",\"divorced\",\"single\"; note| \"divorced\" means divorced or widowed|\n",
    "   |4|education ||categorical| \"unknown\",\"secondary\",\"primary\",\"tertiary\"|\n",
    "   |5|default| has credit in default?|binary| \"yes\",\"no\"|\n",
    "   |6|balance| average yearly balance, in euros |numeric |\n",
    "   |7|housing| has housing loan?| binary| \"yes\",\"no\"|\n",
    "   |8|loan| has personal loan?| binary| \"yes\",\"no\"|\n",
    "\n",
    "\n",
    "related with the last contact of the current campaign\n",
    "   \n",
    "|编号|变量名|解释|类型|取值|\n",
    "|----|-------|--------|---|---|\n",
    "   |9|contact| contact communication type |categorical| \"unknown\",\"telephone\",\"cellular\" |\n",
    "  |10|day| last contact day of the month |numeric|\n",
    "  |11|month| last contact month of year |categorical| \"jan\", \"feb\", \"mar\", ..., \"nov\", \"dec\"|\n",
    "  |12|duration| last contact duration, in seconds |numeric|\n",
    "\n",
    "other attributes\n",
    "\n",
    "|编号|变量名|解释|类型|取值|\n",
    "|----|-------|--------|---|---|\n",
    "  |13|campaign| number of contacts performed during this campaign and for this client numeric, includes last contact|numeric|\n",
    "  |14|pdays| number of days that passed by after the client was last contacted from a previous campaign |numeric| -1 means client was not previously contacted|\n",
    "  |15|previous| number of contacts performed before this campaign and for this client |numeric|\n",
    "  |16|poutcome| outcome of the previous marketing campaign |categorical| \"unknown\",\"other\",\"failure\",\"success\"|\n",
    "\n",
    "  Output variable desired target\n",
    "  \n",
    "|编号|变量名|解释|类型|取值|\n",
    "|----|-------|--------|---|---|\n",
    "  |17|y|has the client subscribed a term deposit| binary| \"yes\",\"no\"|"
   ]
  },
  {
   "cell_type": "code",
   "execution_count": 3,
   "metadata": {
    "ExecuteTime": {
     "end_time": "2021-02-02T10:55:57.495058Z",
     "start_time": "2021-02-02T10:55:57.393333Z"
    }
   },
   "outputs": [
    {
     "name": "stdout",
     "output_type": "stream",
     "text": [
      "bank-full.csv: (41188, 21) \n",
      "\n",
      "测试集 (4119, 21) \n",
      "\n"
     ]
    }
   ],
   "source": [
    "# 导入数据\n",
    "df = pd.read_csv(\"bank-additional-full.csv\", sep = ';') # 含测试集的全部数据\n",
    "test = pd.read_csv(\"bank-additional.csv\",sep = ';') # 测试集\n",
    "\n",
    "# 查看数据大小\n",
    "print(\"bank-full.csv:\", df.shape,\"\\n\")\n",
    "print(\"测试集\", test.shape,\"\\n\")"
   ]
  },
  {
   "cell_type": "code",
   "execution_count": 4,
   "metadata": {
    "ExecuteTime": {
     "end_time": "2021-02-02T10:55:57.516999Z",
     "start_time": "2021-02-02T10:55:57.496057Z"
    }
   },
   "outputs": [
    {
     "data": {
      "text/plain": [
       "age               False\n",
       "job               False\n",
       "marital           False\n",
       "education         False\n",
       "default           False\n",
       "housing           False\n",
       "loan              False\n",
       "contact           False\n",
       "month             False\n",
       "day_of_week       False\n",
       "duration          False\n",
       "campaign          False\n",
       "pdays             False\n",
       "previous          False\n",
       "poutcome          False\n",
       "emp.var.rate      False\n",
       "cons.price.idx    False\n",
       "cons.conf.idx     False\n",
       "euribor3m         False\n",
       "nr.employed       False\n",
       "y                 False\n",
       "dtype: bool"
      ]
     },
     "execution_count": 4,
     "metadata": {},
     "output_type": "execute_result"
    }
   ],
   "source": [
    "# 缺失值\n",
    "df.isnull().any()"
   ]
  },
  {
   "cell_type": "code",
   "execution_count": 5,
   "metadata": {
    "ExecuteTime": {
     "end_time": "2021-02-02T10:55:57.537945Z",
     "start_time": "2021-02-02T10:55:57.517997Z"
    }
   },
   "outputs": [
    {
     "data": {
      "text/html": [
       "<div>\n",
       "<style scoped>\n",
       "    .dataframe tbody tr th:only-of-type {\n",
       "        vertical-align: middle;\n",
       "    }\n",
       "\n",
       "    .dataframe tbody tr th {\n",
       "        vertical-align: top;\n",
       "    }\n",
       "\n",
       "    .dataframe thead th {\n",
       "        text-align: right;\n",
       "    }\n",
       "</style>\n",
       "<table border=\"1\" class=\"dataframe\">\n",
       "  <thead>\n",
       "    <tr style=\"text-align: right;\">\n",
       "      <th></th>\n",
       "      <th>age</th>\n",
       "      <th>job</th>\n",
       "      <th>marital</th>\n",
       "      <th>education</th>\n",
       "      <th>default</th>\n",
       "      <th>housing</th>\n",
       "      <th>loan</th>\n",
       "      <th>contact</th>\n",
       "      <th>month</th>\n",
       "      <th>day_of_week</th>\n",
       "      <th>...</th>\n",
       "      <th>campaign</th>\n",
       "      <th>pdays</th>\n",
       "      <th>previous</th>\n",
       "      <th>poutcome</th>\n",
       "      <th>emp.var.rate</th>\n",
       "      <th>cons.price.idx</th>\n",
       "      <th>cons.conf.idx</th>\n",
       "      <th>euribor3m</th>\n",
       "      <th>nr.employed</th>\n",
       "      <th>y</th>\n",
       "    </tr>\n",
       "  </thead>\n",
       "  <tbody>\n",
       "    <tr>\n",
       "      <th>0</th>\n",
       "      <td>56</td>\n",
       "      <td>housemaid</td>\n",
       "      <td>married</td>\n",
       "      <td>basic.4y</td>\n",
       "      <td>no</td>\n",
       "      <td>no</td>\n",
       "      <td>no</td>\n",
       "      <td>telephone</td>\n",
       "      <td>may</td>\n",
       "      <td>mon</td>\n",
       "      <td>...</td>\n",
       "      <td>1</td>\n",
       "      <td>999</td>\n",
       "      <td>0</td>\n",
       "      <td>nonexistent</td>\n",
       "      <td>1.1</td>\n",
       "      <td>93.994</td>\n",
       "      <td>-36.4</td>\n",
       "      <td>4.857</td>\n",
       "      <td>5191.0</td>\n",
       "      <td>no</td>\n",
       "    </tr>\n",
       "    <tr>\n",
       "      <th>1</th>\n",
       "      <td>57</td>\n",
       "      <td>services</td>\n",
       "      <td>married</td>\n",
       "      <td>high.school</td>\n",
       "      <td>unknown</td>\n",
       "      <td>no</td>\n",
       "      <td>no</td>\n",
       "      <td>telephone</td>\n",
       "      <td>may</td>\n",
       "      <td>mon</td>\n",
       "      <td>...</td>\n",
       "      <td>1</td>\n",
       "      <td>999</td>\n",
       "      <td>0</td>\n",
       "      <td>nonexistent</td>\n",
       "      <td>1.1</td>\n",
       "      <td>93.994</td>\n",
       "      <td>-36.4</td>\n",
       "      <td>4.857</td>\n",
       "      <td>5191.0</td>\n",
       "      <td>no</td>\n",
       "    </tr>\n",
       "    <tr>\n",
       "      <th>2</th>\n",
       "      <td>37</td>\n",
       "      <td>services</td>\n",
       "      <td>married</td>\n",
       "      <td>high.school</td>\n",
       "      <td>no</td>\n",
       "      <td>yes</td>\n",
       "      <td>no</td>\n",
       "      <td>telephone</td>\n",
       "      <td>may</td>\n",
       "      <td>mon</td>\n",
       "      <td>...</td>\n",
       "      <td>1</td>\n",
       "      <td>999</td>\n",
       "      <td>0</td>\n",
       "      <td>nonexistent</td>\n",
       "      <td>1.1</td>\n",
       "      <td>93.994</td>\n",
       "      <td>-36.4</td>\n",
       "      <td>4.857</td>\n",
       "      <td>5191.0</td>\n",
       "      <td>no</td>\n",
       "    </tr>\n",
       "    <tr>\n",
       "      <th>3</th>\n",
       "      <td>40</td>\n",
       "      <td>admin.</td>\n",
       "      <td>married</td>\n",
       "      <td>basic.6y</td>\n",
       "      <td>no</td>\n",
       "      <td>no</td>\n",
       "      <td>no</td>\n",
       "      <td>telephone</td>\n",
       "      <td>may</td>\n",
       "      <td>mon</td>\n",
       "      <td>...</td>\n",
       "      <td>1</td>\n",
       "      <td>999</td>\n",
       "      <td>0</td>\n",
       "      <td>nonexistent</td>\n",
       "      <td>1.1</td>\n",
       "      <td>93.994</td>\n",
       "      <td>-36.4</td>\n",
       "      <td>4.857</td>\n",
       "      <td>5191.0</td>\n",
       "      <td>no</td>\n",
       "    </tr>\n",
       "    <tr>\n",
       "      <th>4</th>\n",
       "      <td>56</td>\n",
       "      <td>services</td>\n",
       "      <td>married</td>\n",
       "      <td>high.school</td>\n",
       "      <td>no</td>\n",
       "      <td>no</td>\n",
       "      <td>yes</td>\n",
       "      <td>telephone</td>\n",
       "      <td>may</td>\n",
       "      <td>mon</td>\n",
       "      <td>...</td>\n",
       "      <td>1</td>\n",
       "      <td>999</td>\n",
       "      <td>0</td>\n",
       "      <td>nonexistent</td>\n",
       "      <td>1.1</td>\n",
       "      <td>93.994</td>\n",
       "      <td>-36.4</td>\n",
       "      <td>4.857</td>\n",
       "      <td>5191.0</td>\n",
       "      <td>no</td>\n",
       "    </tr>\n",
       "  </tbody>\n",
       "</table>\n",
       "<p>5 rows × 21 columns</p>\n",
       "</div>"
      ],
      "text/plain": [
       "   age        job  marital    education  default housing loan    contact  \\\n",
       "0   56  housemaid  married     basic.4y       no      no   no  telephone   \n",
       "1   57   services  married  high.school  unknown      no   no  telephone   \n",
       "2   37   services  married  high.school       no     yes   no  telephone   \n",
       "3   40     admin.  married     basic.6y       no      no   no  telephone   \n",
       "4   56   services  married  high.school       no      no  yes  telephone   \n",
       "\n",
       "  month day_of_week  ...  campaign  pdays  previous     poutcome emp.var.rate  \\\n",
       "0   may         mon  ...         1    999         0  nonexistent          1.1   \n",
       "1   may         mon  ...         1    999         0  nonexistent          1.1   \n",
       "2   may         mon  ...         1    999         0  nonexistent          1.1   \n",
       "3   may         mon  ...         1    999         0  nonexistent          1.1   \n",
       "4   may         mon  ...         1    999         0  nonexistent          1.1   \n",
       "\n",
       "   cons.price.idx  cons.conf.idx  euribor3m  nr.employed   y  \n",
       "0          93.994          -36.4      4.857       5191.0  no  \n",
       "1          93.994          -36.4      4.857       5191.0  no  \n",
       "2          93.994          -36.4      4.857       5191.0  no  \n",
       "3          93.994          -36.4      4.857       5191.0  no  \n",
       "4          93.994          -36.4      4.857       5191.0  no  \n",
       "\n",
       "[5 rows x 21 columns]"
      ]
     },
     "execution_count": 5,
     "metadata": {},
     "output_type": "execute_result"
    }
   ],
   "source": [
    "df.head()"
   ]
  },
  {
   "cell_type": "markdown",
   "metadata": {},
   "source": [
    "加上additional info,发现里面有day-of-week\n",
    "说明在之前的模型里，加上这个变量是做得是对的"
   ]
  },
  {
   "cell_type": "code",
   "execution_count": 6,
   "metadata": {
    "ExecuteTime": {
     "end_time": "2021-02-02T10:55:57.543928Z",
     "start_time": "2021-02-02T10:55:57.538941Z"
    }
   },
   "outputs": [
    {
     "data": {
      "text/plain": [
       "'\\n# social and economic context attributes\\n16 - emp.var.rate: employment variation rate - quarterly indicator (numeric)\\n17 - cons.price.idx: consumer price index - monthly indicator (numeric)\\n18 - cons.conf.idx: consumer confidence index - monthly indicator (numeric)\\n19 - euribor3m: euribor 3 month rate - daily indicator (numeric)\\n20 - nr.employed: number of employees - quarterly indicator (numeric)\\n'"
      ]
     },
     "execution_count": 6,
     "metadata": {},
     "output_type": "execute_result"
    }
   ],
   "source": [
    "# 重命名一下后面的变量名\n",
    "'''\n",
    "# social and economic context attributes\n",
    "16 - emp.var.rate: employment variation rate - quarterly indicator (numeric)\n",
    "17 - cons.price.idx: consumer price index - monthly indicator (numeric)\n",
    "18 - cons.conf.idx: consumer confidence index - monthly indicator (numeric)\n",
    "19 - euribor3m: euribor 3 month rate - daily indicator (numeric)\n",
    "20 - nr.employed: number of employees - quarterly indicator (numeric)\n",
    "'''"
   ]
  },
  {
   "cell_type": "code",
   "execution_count": 7,
   "metadata": {
    "ExecuteTime": {
     "end_time": "2021-02-02T10:55:57.569858Z",
     "start_time": "2021-02-02T10:55:57.545922Z"
    }
   },
   "outputs": [
    {
     "name": "stdout",
     "output_type": "stream",
     "text": [
      "<class 'pandas.core.frame.DataFrame'>\n",
      "RangeIndex: 41188 entries, 0 to 41187\n",
      "Data columns (total 21 columns):\n",
      " #   Column          Non-Null Count  Dtype  \n",
      "---  ------          --------------  -----  \n",
      " 0   age             41188 non-null  int64  \n",
      " 1   job             41188 non-null  object \n",
      " 2   marital         41188 non-null  object \n",
      " 3   education       41188 non-null  object \n",
      " 4   default         41188 non-null  object \n",
      " 5   housing         41188 non-null  object \n",
      " 6   loan            41188 non-null  object \n",
      " 7   contact         41188 non-null  object \n",
      " 8   month           41188 non-null  object \n",
      " 9   day_of_week     41188 non-null  object \n",
      " 10  duration        41188 non-null  int64  \n",
      " 11  campaign        41188 non-null  int64  \n",
      " 12  pdays           41188 non-null  int64  \n",
      " 13  previous        41188 non-null  int64  \n",
      " 14  poutcome        41188 non-null  object \n",
      " 15  emp.var.rate    41188 non-null  float64\n",
      " 16  cons.price.idx  41188 non-null  float64\n",
      " 17  cons.conf.idx   41188 non-null  float64\n",
      " 18  euribor3m       41188 non-null  float64\n",
      " 19  nr.employed     41188 non-null  float64\n",
      " 20  y               41188 non-null  object \n",
      "dtypes: float64(5), int64(5), object(11)\n",
      "memory usage: 6.6+ MB\n"
     ]
    }
   ],
   "source": [
    "# 查看数据类型\n",
    "df.info()"
   ]
  },
  {
   "cell_type": "markdown",
   "metadata": {
    "ExecuteTime": {
     "end_time": "2021-01-26T07:05:52.744947Z",
     "start_time": "2021-01-26T07:05:52.740958Z"
    }
   },
   "source": [
    "## 去掉测试集"
   ]
  },
  {
   "cell_type": "code",
   "execution_count": 8,
   "metadata": {
    "ExecuteTime": {
     "end_time": "2021-02-02T10:55:57.669592Z",
     "start_time": "2021-02-02T10:55:57.570856Z"
    }
   },
   "outputs": [
    {
     "data": {
      "text/html": [
       "<div>\n",
       "<style scoped>\n",
       "    .dataframe tbody tr th:only-of-type {\n",
       "        vertical-align: middle;\n",
       "    }\n",
       "\n",
       "    .dataframe tbody tr th {\n",
       "        vertical-align: top;\n",
       "    }\n",
       "\n",
       "    .dataframe thead th {\n",
       "        text-align: right;\n",
       "    }\n",
       "</style>\n",
       "<table border=\"1\" class=\"dataframe\">\n",
       "  <thead>\n",
       "    <tr style=\"text-align: right;\">\n",
       "      <th></th>\n",
       "      <th>age</th>\n",
       "      <th>job</th>\n",
       "      <th>marital</th>\n",
       "      <th>education</th>\n",
       "      <th>default</th>\n",
       "      <th>housing</th>\n",
       "      <th>loan</th>\n",
       "      <th>contact</th>\n",
       "      <th>month</th>\n",
       "      <th>day_of_week</th>\n",
       "      <th>...</th>\n",
       "      <th>campaign</th>\n",
       "      <th>pdays</th>\n",
       "      <th>previous</th>\n",
       "      <th>poutcome</th>\n",
       "      <th>emp.var.rate</th>\n",
       "      <th>cons.price.idx</th>\n",
       "      <th>cons.conf.idx</th>\n",
       "      <th>euribor3m</th>\n",
       "      <th>nr.employed</th>\n",
       "      <th>y</th>\n",
       "    </tr>\n",
       "  </thead>\n",
       "  <tbody>\n",
       "    <tr>\n",
       "      <th>0</th>\n",
       "      <td>56</td>\n",
       "      <td>housemaid</td>\n",
       "      <td>married</td>\n",
       "      <td>basic.4y</td>\n",
       "      <td>no</td>\n",
       "      <td>no</td>\n",
       "      <td>no</td>\n",
       "      <td>telephone</td>\n",
       "      <td>may</td>\n",
       "      <td>mon</td>\n",
       "      <td>...</td>\n",
       "      <td>1</td>\n",
       "      <td>999</td>\n",
       "      <td>0</td>\n",
       "      <td>nonexistent</td>\n",
       "      <td>1.1</td>\n",
       "      <td>93.994</td>\n",
       "      <td>-36.4</td>\n",
       "      <td>4.857</td>\n",
       "      <td>5191.0</td>\n",
       "      <td>no</td>\n",
       "    </tr>\n",
       "    <tr>\n",
       "      <th>1</th>\n",
       "      <td>57</td>\n",
       "      <td>services</td>\n",
       "      <td>married</td>\n",
       "      <td>high.school</td>\n",
       "      <td>unknown</td>\n",
       "      <td>no</td>\n",
       "      <td>no</td>\n",
       "      <td>telephone</td>\n",
       "      <td>may</td>\n",
       "      <td>mon</td>\n",
       "      <td>...</td>\n",
       "      <td>1</td>\n",
       "      <td>999</td>\n",
       "      <td>0</td>\n",
       "      <td>nonexistent</td>\n",
       "      <td>1.1</td>\n",
       "      <td>93.994</td>\n",
       "      <td>-36.4</td>\n",
       "      <td>4.857</td>\n",
       "      <td>5191.0</td>\n",
       "      <td>no</td>\n",
       "    </tr>\n",
       "    <tr>\n",
       "      <th>2</th>\n",
       "      <td>37</td>\n",
       "      <td>services</td>\n",
       "      <td>married</td>\n",
       "      <td>high.school</td>\n",
       "      <td>no</td>\n",
       "      <td>yes</td>\n",
       "      <td>no</td>\n",
       "      <td>telephone</td>\n",
       "      <td>may</td>\n",
       "      <td>mon</td>\n",
       "      <td>...</td>\n",
       "      <td>1</td>\n",
       "      <td>999</td>\n",
       "      <td>0</td>\n",
       "      <td>nonexistent</td>\n",
       "      <td>1.1</td>\n",
       "      <td>93.994</td>\n",
       "      <td>-36.4</td>\n",
       "      <td>4.857</td>\n",
       "      <td>5191.0</td>\n",
       "      <td>no</td>\n",
       "    </tr>\n",
       "    <tr>\n",
       "      <th>3</th>\n",
       "      <td>40</td>\n",
       "      <td>admin.</td>\n",
       "      <td>married</td>\n",
       "      <td>basic.6y</td>\n",
       "      <td>no</td>\n",
       "      <td>no</td>\n",
       "      <td>no</td>\n",
       "      <td>telephone</td>\n",
       "      <td>may</td>\n",
       "      <td>mon</td>\n",
       "      <td>...</td>\n",
       "      <td>1</td>\n",
       "      <td>999</td>\n",
       "      <td>0</td>\n",
       "      <td>nonexistent</td>\n",
       "      <td>1.1</td>\n",
       "      <td>93.994</td>\n",
       "      <td>-36.4</td>\n",
       "      <td>4.857</td>\n",
       "      <td>5191.0</td>\n",
       "      <td>no</td>\n",
       "    </tr>\n",
       "    <tr>\n",
       "      <th>4</th>\n",
       "      <td>56</td>\n",
       "      <td>services</td>\n",
       "      <td>married</td>\n",
       "      <td>high.school</td>\n",
       "      <td>no</td>\n",
       "      <td>no</td>\n",
       "      <td>yes</td>\n",
       "      <td>telephone</td>\n",
       "      <td>may</td>\n",
       "      <td>mon</td>\n",
       "      <td>...</td>\n",
       "      <td>1</td>\n",
       "      <td>999</td>\n",
       "      <td>0</td>\n",
       "      <td>nonexistent</td>\n",
       "      <td>1.1</td>\n",
       "      <td>93.994</td>\n",
       "      <td>-36.4</td>\n",
       "      <td>4.857</td>\n",
       "      <td>5191.0</td>\n",
       "      <td>no</td>\n",
       "    </tr>\n",
       "    <tr>\n",
       "      <th>...</th>\n",
       "      <td>...</td>\n",
       "      <td>...</td>\n",
       "      <td>...</td>\n",
       "      <td>...</td>\n",
       "      <td>...</td>\n",
       "      <td>...</td>\n",
       "      <td>...</td>\n",
       "      <td>...</td>\n",
       "      <td>...</td>\n",
       "      <td>...</td>\n",
       "      <td>...</td>\n",
       "      <td>...</td>\n",
       "      <td>...</td>\n",
       "      <td>...</td>\n",
       "      <td>...</td>\n",
       "      <td>...</td>\n",
       "      <td>...</td>\n",
       "      <td>...</td>\n",
       "      <td>...</td>\n",
       "      <td>...</td>\n",
       "      <td>...</td>\n",
       "    </tr>\n",
       "    <tr>\n",
       "      <th>41182</th>\n",
       "      <td>29</td>\n",
       "      <td>unemployed</td>\n",
       "      <td>single</td>\n",
       "      <td>basic.4y</td>\n",
       "      <td>no</td>\n",
       "      <td>yes</td>\n",
       "      <td>no</td>\n",
       "      <td>cellular</td>\n",
       "      <td>nov</td>\n",
       "      <td>fri</td>\n",
       "      <td>...</td>\n",
       "      <td>1</td>\n",
       "      <td>9</td>\n",
       "      <td>1</td>\n",
       "      <td>success</td>\n",
       "      <td>-1.1</td>\n",
       "      <td>94.767</td>\n",
       "      <td>-50.8</td>\n",
       "      <td>1.028</td>\n",
       "      <td>4963.6</td>\n",
       "      <td>no</td>\n",
       "    </tr>\n",
       "    <tr>\n",
       "      <th>41183</th>\n",
       "      <td>73</td>\n",
       "      <td>retired</td>\n",
       "      <td>married</td>\n",
       "      <td>professional.course</td>\n",
       "      <td>no</td>\n",
       "      <td>yes</td>\n",
       "      <td>no</td>\n",
       "      <td>cellular</td>\n",
       "      <td>nov</td>\n",
       "      <td>fri</td>\n",
       "      <td>...</td>\n",
       "      <td>1</td>\n",
       "      <td>999</td>\n",
       "      <td>0</td>\n",
       "      <td>nonexistent</td>\n",
       "      <td>-1.1</td>\n",
       "      <td>94.767</td>\n",
       "      <td>-50.8</td>\n",
       "      <td>1.028</td>\n",
       "      <td>4963.6</td>\n",
       "      <td>yes</td>\n",
       "    </tr>\n",
       "    <tr>\n",
       "      <th>41185</th>\n",
       "      <td>56</td>\n",
       "      <td>retired</td>\n",
       "      <td>married</td>\n",
       "      <td>university.degree</td>\n",
       "      <td>no</td>\n",
       "      <td>yes</td>\n",
       "      <td>no</td>\n",
       "      <td>cellular</td>\n",
       "      <td>nov</td>\n",
       "      <td>fri</td>\n",
       "      <td>...</td>\n",
       "      <td>2</td>\n",
       "      <td>999</td>\n",
       "      <td>0</td>\n",
       "      <td>nonexistent</td>\n",
       "      <td>-1.1</td>\n",
       "      <td>94.767</td>\n",
       "      <td>-50.8</td>\n",
       "      <td>1.028</td>\n",
       "      <td>4963.6</td>\n",
       "      <td>no</td>\n",
       "    </tr>\n",
       "    <tr>\n",
       "      <th>41186</th>\n",
       "      <td>44</td>\n",
       "      <td>technician</td>\n",
       "      <td>married</td>\n",
       "      <td>professional.course</td>\n",
       "      <td>no</td>\n",
       "      <td>no</td>\n",
       "      <td>no</td>\n",
       "      <td>cellular</td>\n",
       "      <td>nov</td>\n",
       "      <td>fri</td>\n",
       "      <td>...</td>\n",
       "      <td>1</td>\n",
       "      <td>999</td>\n",
       "      <td>0</td>\n",
       "      <td>nonexistent</td>\n",
       "      <td>-1.1</td>\n",
       "      <td>94.767</td>\n",
       "      <td>-50.8</td>\n",
       "      <td>1.028</td>\n",
       "      <td>4963.6</td>\n",
       "      <td>yes</td>\n",
       "    </tr>\n",
       "    <tr>\n",
       "      <th>41187</th>\n",
       "      <td>74</td>\n",
       "      <td>retired</td>\n",
       "      <td>married</td>\n",
       "      <td>professional.course</td>\n",
       "      <td>no</td>\n",
       "      <td>yes</td>\n",
       "      <td>no</td>\n",
       "      <td>cellular</td>\n",
       "      <td>nov</td>\n",
       "      <td>fri</td>\n",
       "      <td>...</td>\n",
       "      <td>3</td>\n",
       "      <td>999</td>\n",
       "      <td>1</td>\n",
       "      <td>failure</td>\n",
       "      <td>-1.1</td>\n",
       "      <td>94.767</td>\n",
       "      <td>-50.8</td>\n",
       "      <td>1.028</td>\n",
       "      <td>4963.6</td>\n",
       "      <td>no</td>\n",
       "    </tr>\n",
       "  </tbody>\n",
       "</table>\n",
       "<p>37046 rows × 21 columns</p>\n",
       "</div>"
      ],
      "text/plain": [
       "       age         job  marital            education  default housing loan  \\\n",
       "0       56   housemaid  married             basic.4y       no      no   no   \n",
       "1       57    services  married          high.school  unknown      no   no   \n",
       "2       37    services  married          high.school       no     yes   no   \n",
       "3       40      admin.  married             basic.6y       no      no   no   \n",
       "4       56    services  married          high.school       no      no  yes   \n",
       "...    ...         ...      ...                  ...      ...     ...  ...   \n",
       "41182   29  unemployed   single             basic.4y       no     yes   no   \n",
       "41183   73     retired  married  professional.course       no     yes   no   \n",
       "41185   56     retired  married    university.degree       no     yes   no   \n",
       "41186   44  technician  married  professional.course       no      no   no   \n",
       "41187   74     retired  married  professional.course       no     yes   no   \n",
       "\n",
       "         contact month day_of_week  ...  campaign  pdays  previous  \\\n",
       "0      telephone   may         mon  ...         1    999         0   \n",
       "1      telephone   may         mon  ...         1    999         0   \n",
       "2      telephone   may         mon  ...         1    999         0   \n",
       "3      telephone   may         mon  ...         1    999         0   \n",
       "4      telephone   may         mon  ...         1    999         0   \n",
       "...          ...   ...         ...  ...       ...    ...       ...   \n",
       "41182   cellular   nov         fri  ...         1      9         1   \n",
       "41183   cellular   nov         fri  ...         1    999         0   \n",
       "41185   cellular   nov         fri  ...         2    999         0   \n",
       "41186   cellular   nov         fri  ...         1    999         0   \n",
       "41187   cellular   nov         fri  ...         3    999         1   \n",
       "\n",
       "          poutcome emp.var.rate  cons.price.idx  cons.conf.idx  euribor3m  \\\n",
       "0      nonexistent          1.1          93.994          -36.4      4.857   \n",
       "1      nonexistent          1.1          93.994          -36.4      4.857   \n",
       "2      nonexistent          1.1          93.994          -36.4      4.857   \n",
       "3      nonexistent          1.1          93.994          -36.4      4.857   \n",
       "4      nonexistent          1.1          93.994          -36.4      4.857   \n",
       "...            ...          ...             ...            ...        ...   \n",
       "41182      success         -1.1          94.767          -50.8      1.028   \n",
       "41183  nonexistent         -1.1          94.767          -50.8      1.028   \n",
       "41185  nonexistent         -1.1          94.767          -50.8      1.028   \n",
       "41186  nonexistent         -1.1          94.767          -50.8      1.028   \n",
       "41187      failure         -1.1          94.767          -50.8      1.028   \n",
       "\n",
       "       nr.employed    y  \n",
       "0           5191.0   no  \n",
       "1           5191.0   no  \n",
       "2           5191.0   no  \n",
       "3           5191.0   no  \n",
       "4           5191.0   no  \n",
       "...            ...  ...  \n",
       "41182       4963.6   no  \n",
       "41183       4963.6  yes  \n",
       "41185       4963.6   no  \n",
       "41186       4963.6  yes  \n",
       "41187       4963.6   no  \n",
       "\n",
       "[37046 rows x 21 columns]"
      ]
     },
     "execution_count": 8,
     "metadata": {},
     "output_type": "execute_result"
    }
   ],
   "source": [
    "df = df.append(test)\n",
    "df.drop_duplicates(keep = False, inplace = True)\n",
    "df"
   ]
  },
  {
   "cell_type": "markdown",
   "metadata": {},
   "source": [
    "# 预处理"
   ]
  },
  {
   "cell_type": "markdown",
   "metadata": {},
   "source": [
    "## 类型变量"
   ]
  },
  {
   "cell_type": "code",
   "execution_count": 9,
   "metadata": {
    "ExecuteTime": {
     "end_time": "2021-02-02T10:55:57.674579Z",
     "start_time": "2021-02-02T10:55:57.670588Z"
    }
   },
   "outputs": [
    {
     "name": "stdout",
     "output_type": "stream",
     "text": [
      "Index(['job', 'marital', 'education', 'default', 'housing', 'loan', 'contact',\n",
      "       'month', 'day_of_week', 'poutcome', 'y'],\n",
      "      dtype='object')\n"
     ]
    }
   ],
   "source": [
    "# 找到类型变量\n",
    "categorical_variables = df.columns[df.dtypes == \"object\"]\n",
    "print(categorical_variables)"
   ]
  },
  {
   "cell_type": "code",
   "execution_count": 10,
   "metadata": {
    "ExecuteTime": {
     "end_time": "2021-02-02T10:55:57.721454Z",
     "start_time": "2021-02-02T10:55:57.675574Z"
    }
   },
   "outputs": [
    {
     "name": "stdout",
     "output_type": "stream",
     "text": [
      "【变量名job:】\n",
      "admin.           9404\n",
      "blue-collar      8368\n",
      "technician       6045\n",
      "services         3572\n",
      "management       2600\n",
      "retired          1550\n",
      "entrepreneur     1308\n",
      "self-employed    1262\n",
      "housemaid         950\n",
      "unemployed        903\n",
      "student           793\n",
      "unknown           291\n",
      "Name: job, dtype: int64 \n",
      " ------------------------------\n",
      "【变量名marital:】\n",
      "married     22405\n",
      "single      10408\n",
      "divorced     4164\n",
      "unknown        69\n",
      "Name: marital, dtype: int64 \n",
      " ------------------------------\n",
      "【变量名education:】\n",
      "university.degree      10896\n",
      "high.school             8588\n",
      "basic.9y                5471\n",
      "professional.course     4703\n",
      "basic.4y                3747\n",
      "basic.6y                2062\n",
      "unknown                 1562\n",
      "illiterate                17\n",
      "Name: education, dtype: int64 \n",
      " ------------------------------\n",
      "【变量名default:】\n",
      "no         29252\n",
      "unknown     7792\n",
      "yes            2\n",
      "Name: default, dtype: int64 \n",
      " ------------------------------\n",
      "【变量名housing:】\n",
      "yes        19392\n",
      "no         16769\n",
      "unknown      885\n",
      "Name: housing, dtype: int64 \n",
      " ------------------------------\n",
      "【变量名loan:】\n",
      "no         30578\n",
      "yes         5583\n",
      "unknown      885\n",
      "Name: loan, dtype: int64 \n",
      " ------------------------------\n",
      "【变量名contact:】\n",
      "cellular     23475\n",
      "telephone    13571\n",
      "Name: contact, dtype: int64 \n",
      " ------------------------------\n",
      "【变量名month:】\n",
      "may    12387\n",
      "jul     6454\n",
      "aug     5538\n",
      "jun     4788\n",
      "nov     3653\n",
      "apr     2415\n",
      "oct      647\n",
      "sep      506\n",
      "mar      498\n",
      "dec      160\n",
      "Name: month, dtype: int64 \n",
      " ------------------------------\n",
      "【变量名day_of_week:】\n",
      "thu    7754\n",
      "mon    7655\n",
      "wed    7339\n",
      "tue    7241\n",
      "fri    7057\n",
      "Name: day_of_week, dtype: int64 \n",
      " ------------------------------\n",
      "【变量名poutcome:】\n",
      "nonexistent    32017\n",
      "failure         3798\n",
      "success         1231\n",
      "Name: poutcome, dtype: int64 \n",
      " ------------------------------\n",
      "【变量名y:】\n",
      "no     32859\n",
      "yes     4187\n",
      "Name: y, dtype: int64 \n",
      " ------------------------------\n"
     ]
    }
   ],
   "source": [
    "# 查看数据分布\n",
    "for var in categorical_variables:\n",
    "    print(\"【变量名%s:】\"%var)\n",
    "    print(df[var].value_counts(),\"\\n\",\"-\"*30)"
   ]
  },
  {
   "cell_type": "code",
   "execution_count": 11,
   "metadata": {
    "ExecuteTime": {
     "end_time": "2021-02-02T10:55:58.747707Z",
     "start_time": "2021-02-02T10:55:57.722450Z"
    }
   },
   "outputs": [
    {
     "data": {
      "image/png": "[encoded data removed]",
      "text/plain": [
       "<Figure size 1080x1440 with 11 Axes>"
      ]
     },
     "metadata": {
      "needs_background": "light"
     },
     "output_type": "display_data"
    }
   ],
   "source": [
    "# 画柱状图\n",
    "cat_plot_id = len(categorical_variables)+1\n",
    "cat_nrows = int(cat_plot_id/2)\n",
    "\n",
    "plt.figure(figsize=(15, 20))\n",
    "for i in range(1, cat_plot_id):\n",
    "    plt.subplot(cat_nrows, 2, i)\n",
    "    # 用countplot()画出柱状图\n",
    "    sns.countplot(x=categorical_variables[i-1], data=df)\n",
    "    plt.xticks(rotation=30)"
   ]
  },
  {
   "cell_type": "markdown",
   "metadata": {},
   "source": [
    "### 处理一下y"
   ]
  },
  {
   "cell_type": "code",
   "execution_count": 12,
   "metadata": {
    "ExecuteTime": {
     "end_time": "2021-02-02T10:55:58.780618Z",
     "start_time": "2021-02-02T10:55:58.748714Z"
    }
   },
   "outputs": [
    {
     "data": {
      "text/html": [
       "<div>\n",
       "<style scoped>\n",
       "    .dataframe tbody tr th:only-of-type {\n",
       "        vertical-align: middle;\n",
       "    }\n",
       "\n",
       "    .dataframe tbody tr th {\n",
       "        vertical-align: top;\n",
       "    }\n",
       "\n",
       "    .dataframe thead th {\n",
       "        text-align: right;\n",
       "    }\n",
       "</style>\n",
       "<table border=\"1\" class=\"dataframe\">\n",
       "  <thead>\n",
       "    <tr style=\"text-align: right;\">\n",
       "      <th></th>\n",
       "      <th>age</th>\n",
       "      <th>job</th>\n",
       "      <th>marital</th>\n",
       "      <th>education</th>\n",
       "      <th>default</th>\n",
       "      <th>housing</th>\n",
       "      <th>loan</th>\n",
       "      <th>contact</th>\n",
       "      <th>month</th>\n",
       "      <th>day_of_week</th>\n",
       "      <th>...</th>\n",
       "      <th>campaign</th>\n",
       "      <th>pdays</th>\n",
       "      <th>previous</th>\n",
       "      <th>poutcome</th>\n",
       "      <th>emp.var.rate</th>\n",
       "      <th>cons.price.idx</th>\n",
       "      <th>cons.conf.idx</th>\n",
       "      <th>euribor3m</th>\n",
       "      <th>nr.employed</th>\n",
       "      <th>y</th>\n",
       "    </tr>\n",
       "  </thead>\n",
       "  <tbody>\n",
       "    <tr>\n",
       "      <th>0</th>\n",
       "      <td>56</td>\n",
       "      <td>housemaid</td>\n",
       "      <td>married</td>\n",
       "      <td>basic.4y</td>\n",
       "      <td>no</td>\n",
       "      <td>no</td>\n",
       "      <td>no</td>\n",
       "      <td>telephone</td>\n",
       "      <td>may</td>\n",
       "      <td>mon</td>\n",
       "      <td>...</td>\n",
       "      <td>1</td>\n",
       "      <td>999</td>\n",
       "      <td>0</td>\n",
       "      <td>nonexistent</td>\n",
       "      <td>1.1</td>\n",
       "      <td>93.994</td>\n",
       "      <td>-36.4</td>\n",
       "      <td>4.857</td>\n",
       "      <td>5191.0</td>\n",
       "      <td>0</td>\n",
       "    </tr>\n",
       "    <tr>\n",
       "      <th>1</th>\n",
       "      <td>57</td>\n",
       "      <td>services</td>\n",
       "      <td>married</td>\n",
       "      <td>high.school</td>\n",
       "      <td>unknown</td>\n",
       "      <td>no</td>\n",
       "      <td>no</td>\n",
       "      <td>telephone</td>\n",
       "      <td>may</td>\n",
       "      <td>mon</td>\n",
       "      <td>...</td>\n",
       "      <td>1</td>\n",
       "      <td>999</td>\n",
       "      <td>0</td>\n",
       "      <td>nonexistent</td>\n",
       "      <td>1.1</td>\n",
       "      <td>93.994</td>\n",
       "      <td>-36.4</td>\n",
       "      <td>4.857</td>\n",
       "      <td>5191.0</td>\n",
       "      <td>0</td>\n",
       "    </tr>\n",
       "    <tr>\n",
       "      <th>2</th>\n",
       "      <td>37</td>\n",
       "      <td>services</td>\n",
       "      <td>married</td>\n",
       "      <td>high.school</td>\n",
       "      <td>no</td>\n",
       "      <td>yes</td>\n",
       "      <td>no</td>\n",
       "      <td>telephone</td>\n",
       "      <td>may</td>\n",
       "      <td>mon</td>\n",
       "      <td>...</td>\n",
       "      <td>1</td>\n",
       "      <td>999</td>\n",
       "      <td>0</td>\n",
       "      <td>nonexistent</td>\n",
       "      <td>1.1</td>\n",
       "      <td>93.994</td>\n",
       "      <td>-36.4</td>\n",
       "      <td>4.857</td>\n",
       "      <td>5191.0</td>\n",
       "      <td>0</td>\n",
       "    </tr>\n",
       "    <tr>\n",
       "      <th>3</th>\n",
       "      <td>40</td>\n",
       "      <td>admin.</td>\n",
       "      <td>married</td>\n",
       "      <td>basic.6y</td>\n",
       "      <td>no</td>\n",
       "      <td>no</td>\n",
       "      <td>no</td>\n",
       "      <td>telephone</td>\n",
       "      <td>may</td>\n",
       "      <td>mon</td>\n",
       "      <td>...</td>\n",
       "      <td>1</td>\n",
       "      <td>999</td>\n",
       "      <td>0</td>\n",
       "      <td>nonexistent</td>\n",
       "      <td>1.1</td>\n",
       "      <td>93.994</td>\n",
       "      <td>-36.4</td>\n",
       "      <td>4.857</td>\n",
       "      <td>5191.0</td>\n",
       "      <td>0</td>\n",
       "    </tr>\n",
       "    <tr>\n",
       "      <th>4</th>\n",
       "      <td>56</td>\n",
       "      <td>services</td>\n",
       "      <td>married</td>\n",
       "      <td>high.school</td>\n",
       "      <td>no</td>\n",
       "      <td>no</td>\n",
       "      <td>yes</td>\n",
       "      <td>telephone</td>\n",
       "      <td>may</td>\n",
       "      <td>mon</td>\n",
       "      <td>...</td>\n",
       "      <td>1</td>\n",
       "      <td>999</td>\n",
       "      <td>0</td>\n",
       "      <td>nonexistent</td>\n",
       "      <td>1.1</td>\n",
       "      <td>93.994</td>\n",
       "      <td>-36.4</td>\n",
       "      <td>4.857</td>\n",
       "      <td>5191.0</td>\n",
       "      <td>0</td>\n",
       "    </tr>\n",
       "  </tbody>\n",
       "</table>\n",
       "<p>5 rows × 21 columns</p>\n",
       "</div>"
      ],
      "text/plain": [
       "   age        job  marital    education  default housing loan    contact  \\\n",
       "0   56  housemaid  married     basic.4y       no      no   no  telephone   \n",
       "1   57   services  married  high.school  unknown      no   no  telephone   \n",
       "2   37   services  married  high.school       no     yes   no  telephone   \n",
       "3   40     admin.  married     basic.6y       no      no   no  telephone   \n",
       "4   56   services  married  high.school       no      no  yes  telephone   \n",
       "\n",
       "  month day_of_week  ...  campaign  pdays  previous     poutcome emp.var.rate  \\\n",
       "0   may         mon  ...         1    999         0  nonexistent          1.1   \n",
       "1   may         mon  ...         1    999         0  nonexistent          1.1   \n",
       "2   may         mon  ...         1    999         0  nonexistent          1.1   \n",
       "3   may         mon  ...         1    999         0  nonexistent          1.1   \n",
       "4   may         mon  ...         1    999         0  nonexistent          1.1   \n",
       "\n",
       "   cons.price.idx  cons.conf.idx  euribor3m  nr.employed  y  \n",
       "0          93.994          -36.4      4.857       5191.0  0  \n",
       "1          93.994          -36.4      4.857       5191.0  0  \n",
       "2          93.994          -36.4      4.857       5191.0  0  \n",
       "3          93.994          -36.4      4.857       5191.0  0  \n",
       "4          93.994          -36.4      4.857       5191.0  0  \n",
       "\n",
       "[5 rows x 21 columns]"
      ]
     },
     "execution_count": 12,
     "metadata": {},
     "output_type": "execute_result"
    }
   ],
   "source": [
    "df[\"y\"] = df[\"y\"].apply(lambda x: 1 if x == \"yes\" else 0)\n",
    "df.head()"
   ]
  },
  {
   "cell_type": "code",
   "execution_count": 13,
   "metadata": {
    "ExecuteTime": {
     "end_time": "2021-02-02T10:55:58.803557Z",
     "start_time": "2021-02-02T10:55:58.781621Z"
    }
   },
   "outputs": [
    {
     "data": {
      "text/html": [
       "<div>\n",
       "<style scoped>\n",
       "    .dataframe tbody tr th:only-of-type {\n",
       "        vertical-align: middle;\n",
       "    }\n",
       "\n",
       "    .dataframe tbody tr th {\n",
       "        vertical-align: top;\n",
       "    }\n",
       "\n",
       "    .dataframe thead th {\n",
       "        text-align: right;\n",
       "    }\n",
       "</style>\n",
       "<table border=\"1\" class=\"dataframe\">\n",
       "  <thead>\n",
       "    <tr style=\"text-align: right;\">\n",
       "      <th></th>\n",
       "      <th>age</th>\n",
       "      <th>job</th>\n",
       "      <th>marital</th>\n",
       "      <th>education</th>\n",
       "      <th>default</th>\n",
       "      <th>housing</th>\n",
       "      <th>loan</th>\n",
       "      <th>contact</th>\n",
       "      <th>month</th>\n",
       "      <th>day_of_week</th>\n",
       "      <th>...</th>\n",
       "      <th>campaign</th>\n",
       "      <th>pdays</th>\n",
       "      <th>previous</th>\n",
       "      <th>poutcome</th>\n",
       "      <th>emp.var.rate</th>\n",
       "      <th>cons.price.idx</th>\n",
       "      <th>cons.conf.idx</th>\n",
       "      <th>euribor3m</th>\n",
       "      <th>nr.employed</th>\n",
       "      <th>y</th>\n",
       "    </tr>\n",
       "  </thead>\n",
       "  <tbody>\n",
       "    <tr>\n",
       "      <th>0</th>\n",
       "      <td>30</td>\n",
       "      <td>blue-collar</td>\n",
       "      <td>married</td>\n",
       "      <td>basic.9y</td>\n",
       "      <td>no</td>\n",
       "      <td>yes</td>\n",
       "      <td>no</td>\n",
       "      <td>cellular</td>\n",
       "      <td>may</td>\n",
       "      <td>fri</td>\n",
       "      <td>...</td>\n",
       "      <td>2</td>\n",
       "      <td>999</td>\n",
       "      <td>0</td>\n",
       "      <td>nonexistent</td>\n",
       "      <td>-1.8</td>\n",
       "      <td>92.893</td>\n",
       "      <td>-46.2</td>\n",
       "      <td>1.313</td>\n",
       "      <td>5099.1</td>\n",
       "      <td>0</td>\n",
       "    </tr>\n",
       "    <tr>\n",
       "      <th>1</th>\n",
       "      <td>39</td>\n",
       "      <td>services</td>\n",
       "      <td>single</td>\n",
       "      <td>high.school</td>\n",
       "      <td>no</td>\n",
       "      <td>no</td>\n",
       "      <td>no</td>\n",
       "      <td>telephone</td>\n",
       "      <td>may</td>\n",
       "      <td>fri</td>\n",
       "      <td>...</td>\n",
       "      <td>4</td>\n",
       "      <td>999</td>\n",
       "      <td>0</td>\n",
       "      <td>nonexistent</td>\n",
       "      <td>1.1</td>\n",
       "      <td>93.994</td>\n",
       "      <td>-36.4</td>\n",
       "      <td>4.855</td>\n",
       "      <td>5191.0</td>\n",
       "      <td>0</td>\n",
       "    </tr>\n",
       "    <tr>\n",
       "      <th>2</th>\n",
       "      <td>25</td>\n",
       "      <td>services</td>\n",
       "      <td>married</td>\n",
       "      <td>high.school</td>\n",
       "      <td>no</td>\n",
       "      <td>yes</td>\n",
       "      <td>no</td>\n",
       "      <td>telephone</td>\n",
       "      <td>jun</td>\n",
       "      <td>wed</td>\n",
       "      <td>...</td>\n",
       "      <td>1</td>\n",
       "      <td>999</td>\n",
       "      <td>0</td>\n",
       "      <td>nonexistent</td>\n",
       "      <td>1.4</td>\n",
       "      <td>94.465</td>\n",
       "      <td>-41.8</td>\n",
       "      <td>4.962</td>\n",
       "      <td>5228.1</td>\n",
       "      <td>0</td>\n",
       "    </tr>\n",
       "    <tr>\n",
       "      <th>3</th>\n",
       "      <td>38</td>\n",
       "      <td>services</td>\n",
       "      <td>married</td>\n",
       "      <td>basic.9y</td>\n",
       "      <td>no</td>\n",
       "      <td>unknown</td>\n",
       "      <td>unknown</td>\n",
       "      <td>telephone</td>\n",
       "      <td>jun</td>\n",
       "      <td>fri</td>\n",
       "      <td>...</td>\n",
       "      <td>3</td>\n",
       "      <td>999</td>\n",
       "      <td>0</td>\n",
       "      <td>nonexistent</td>\n",
       "      <td>1.4</td>\n",
       "      <td>94.465</td>\n",
       "      <td>-41.8</td>\n",
       "      <td>4.959</td>\n",
       "      <td>5228.1</td>\n",
       "      <td>0</td>\n",
       "    </tr>\n",
       "    <tr>\n",
       "      <th>4</th>\n",
       "      <td>47</td>\n",
       "      <td>admin.</td>\n",
       "      <td>married</td>\n",
       "      <td>university.degree</td>\n",
       "      <td>no</td>\n",
       "      <td>yes</td>\n",
       "      <td>no</td>\n",
       "      <td>cellular</td>\n",
       "      <td>nov</td>\n",
       "      <td>mon</td>\n",
       "      <td>...</td>\n",
       "      <td>1</td>\n",
       "      <td>999</td>\n",
       "      <td>0</td>\n",
       "      <td>nonexistent</td>\n",
       "      <td>-0.1</td>\n",
       "      <td>93.200</td>\n",
       "      <td>-42.0</td>\n",
       "      <td>4.191</td>\n",
       "      <td>5195.8</td>\n",
       "      <td>0</td>\n",
       "    </tr>\n",
       "  </tbody>\n",
       "</table>\n",
       "<p>5 rows × 21 columns</p>\n",
       "</div>"
      ],
      "text/plain": [
       "   age          job  marital          education default  housing     loan  \\\n",
       "0   30  blue-collar  married           basic.9y      no      yes       no   \n",
       "1   39     services   single        high.school      no       no       no   \n",
       "2   25     services  married        high.school      no      yes       no   \n",
       "3   38     services  married           basic.9y      no  unknown  unknown   \n",
       "4   47       admin.  married  university.degree      no      yes       no   \n",
       "\n",
       "     contact month day_of_week  ...  campaign  pdays  previous     poutcome  \\\n",
       "0   cellular   may         fri  ...         2    999         0  nonexistent   \n",
       "1  telephone   may         fri  ...         4    999         0  nonexistent   \n",
       "2  telephone   jun         wed  ...         1    999         0  nonexistent   \n",
       "3  telephone   jun         fri  ...         3    999         0  nonexistent   \n",
       "4   cellular   nov         mon  ...         1    999         0  nonexistent   \n",
       "\n",
       "  emp.var.rate  cons.price.idx  cons.conf.idx  euribor3m  nr.employed  y  \n",
       "0         -1.8          92.893          -46.2      1.313       5099.1  0  \n",
       "1          1.1          93.994          -36.4      4.855       5191.0  0  \n",
       "2          1.4          94.465          -41.8      4.962       5228.1  0  \n",
       "3          1.4          94.465          -41.8      4.959       5228.1  0  \n",
       "4         -0.1          93.200          -42.0      4.191       5195.8  0  \n",
       "\n",
       "[5 rows x 21 columns]"
      ]
     },
     "execution_count": 13,
     "metadata": {},
     "output_type": "execute_result"
    }
   ],
   "source": [
    "test[\"y\"] = test[\"y\"].apply(lambda x: 1 if x == \"yes\" else 0)\n",
    "test.head()"
   ]
  },
  {
   "cell_type": "markdown",
   "metadata": {},
   "source": [
    "### education: 之后把它变成一个ordinal categorical variable"
   ]
  },
  {
   "cell_type": "code",
   "execution_count": 14,
   "metadata": {
    "ExecuteTime": {
     "end_time": "2021-02-02T10:55:58.814527Z",
     "start_time": "2021-02-02T10:55:58.804569Z"
    }
   },
   "outputs": [
    {
     "data": {
      "text/plain": [
       "university.degree      10896\n",
       "high.school             8588\n",
       "basic.9y                5471\n",
       "professional.course     4703\n",
       "basic.4y                3747\n",
       "basic.6y                2062\n",
       "unknown                 1562\n",
       "illiterate                17\n",
       "Name: education, dtype: int64"
      ]
     },
     "execution_count": 14,
     "metadata": {},
     "output_type": "execute_result"
    }
   ],
   "source": [
    "df['education'].value_counts()"
   ]
  },
  {
   "cell_type": "code",
   "execution_count": 15,
   "metadata": {
    "ExecuteTime": {
     "end_time": "2021-02-02T10:55:58.844447Z",
     "start_time": "2021-02-02T10:55:58.815525Z"
    }
   },
   "outputs": [
    {
     "data": {
      "text/html": [
       "<div>\n",
       "<style scoped>\n",
       "    .dataframe tbody tr th:only-of-type {\n",
       "        vertical-align: middle;\n",
       "    }\n",
       "\n",
       "    .dataframe tbody tr th {\n",
       "        vertical-align: top;\n",
       "    }\n",
       "\n",
       "    .dataframe thead th {\n",
       "        text-align: right;\n",
       "    }\n",
       "</style>\n",
       "<table border=\"1\" class=\"dataframe\">\n",
       "  <thead>\n",
       "    <tr style=\"text-align: right;\">\n",
       "      <th></th>\n",
       "      <th>age</th>\n",
       "      <th>job</th>\n",
       "      <th>marital</th>\n",
       "      <th>education</th>\n",
       "      <th>default</th>\n",
       "      <th>housing</th>\n",
       "      <th>loan</th>\n",
       "      <th>contact</th>\n",
       "      <th>month</th>\n",
       "      <th>day_of_week</th>\n",
       "      <th>...</th>\n",
       "      <th>campaign</th>\n",
       "      <th>pdays</th>\n",
       "      <th>previous</th>\n",
       "      <th>poutcome</th>\n",
       "      <th>emp.var.rate</th>\n",
       "      <th>cons.price.idx</th>\n",
       "      <th>cons.conf.idx</th>\n",
       "      <th>euribor3m</th>\n",
       "      <th>nr.employed</th>\n",
       "      <th>y</th>\n",
       "    </tr>\n",
       "  </thead>\n",
       "  <tbody>\n",
       "    <tr>\n",
       "      <th>5393</th>\n",
       "      <td>45</td>\n",
       "      <td>blue-collar</td>\n",
       "      <td>married</td>\n",
       "      <td>illiterate</td>\n",
       "      <td>unknown</td>\n",
       "      <td>no</td>\n",
       "      <td>yes</td>\n",
       "      <td>telephone</td>\n",
       "      <td>may</td>\n",
       "      <td>fri</td>\n",
       "      <td>...</td>\n",
       "      <td>2</td>\n",
       "      <td>999</td>\n",
       "      <td>0</td>\n",
       "      <td>nonexistent</td>\n",
       "      <td>1.1</td>\n",
       "      <td>93.994</td>\n",
       "      <td>-36.4</td>\n",
       "      <td>4.857</td>\n",
       "      <td>5191.0</td>\n",
       "      <td>0</td>\n",
       "    </tr>\n",
       "    <tr>\n",
       "      <th>6928</th>\n",
       "      <td>45</td>\n",
       "      <td>blue-collar</td>\n",
       "      <td>married</td>\n",
       "      <td>illiterate</td>\n",
       "      <td>unknown</td>\n",
       "      <td>no</td>\n",
       "      <td>no</td>\n",
       "      <td>telephone</td>\n",
       "      <td>may</td>\n",
       "      <td>thu</td>\n",
       "      <td>...</td>\n",
       "      <td>1</td>\n",
       "      <td>999</td>\n",
       "      <td>0</td>\n",
       "      <td>nonexistent</td>\n",
       "      <td>1.1</td>\n",
       "      <td>93.994</td>\n",
       "      <td>-36.4</td>\n",
       "      <td>4.860</td>\n",
       "      <td>5191.0</td>\n",
       "      <td>0</td>\n",
       "    </tr>\n",
       "    <tr>\n",
       "      <th>12383</th>\n",
       "      <td>51</td>\n",
       "      <td>admin.</td>\n",
       "      <td>married</td>\n",
       "      <td>illiterate</td>\n",
       "      <td>unknown</td>\n",
       "      <td>no</td>\n",
       "      <td>no</td>\n",
       "      <td>cellular</td>\n",
       "      <td>jul</td>\n",
       "      <td>mon</td>\n",
       "      <td>...</td>\n",
       "      <td>4</td>\n",
       "      <td>999</td>\n",
       "      <td>0</td>\n",
       "      <td>nonexistent</td>\n",
       "      <td>1.4</td>\n",
       "      <td>93.918</td>\n",
       "      <td>-42.7</td>\n",
       "      <td>4.960</td>\n",
       "      <td>5228.1</td>\n",
       "      <td>0</td>\n",
       "    </tr>\n",
       "    <tr>\n",
       "      <th>14445</th>\n",
       "      <td>55</td>\n",
       "      <td>blue-collar</td>\n",
       "      <td>married</td>\n",
       "      <td>illiterate</td>\n",
       "      <td>no</td>\n",
       "      <td>yes</td>\n",
       "      <td>no</td>\n",
       "      <td>cellular</td>\n",
       "      <td>jul</td>\n",
       "      <td>tue</td>\n",
       "      <td>...</td>\n",
       "      <td>3</td>\n",
       "      <td>999</td>\n",
       "      <td>0</td>\n",
       "      <td>nonexistent</td>\n",
       "      <td>1.4</td>\n",
       "      <td>93.918</td>\n",
       "      <td>-42.7</td>\n",
       "      <td>4.961</td>\n",
       "      <td>5228.1</td>\n",
       "      <td>0</td>\n",
       "    </tr>\n",
       "    <tr>\n",
       "      <th>14486</th>\n",
       "      <td>55</td>\n",
       "      <td>blue-collar</td>\n",
       "      <td>married</td>\n",
       "      <td>illiterate</td>\n",
       "      <td>no</td>\n",
       "      <td>no</td>\n",
       "      <td>no</td>\n",
       "      <td>cellular</td>\n",
       "      <td>jul</td>\n",
       "      <td>tue</td>\n",
       "      <td>...</td>\n",
       "      <td>2</td>\n",
       "      <td>999</td>\n",
       "      <td>0</td>\n",
       "      <td>nonexistent</td>\n",
       "      <td>1.4</td>\n",
       "      <td>93.918</td>\n",
       "      <td>-42.7</td>\n",
       "      <td>4.961</td>\n",
       "      <td>5228.1</td>\n",
       "      <td>0</td>\n",
       "    </tr>\n",
       "    <tr>\n",
       "      <th>16269</th>\n",
       "      <td>60</td>\n",
       "      <td>housemaid</td>\n",
       "      <td>married</td>\n",
       "      <td>illiterate</td>\n",
       "      <td>unknown</td>\n",
       "      <td>yes</td>\n",
       "      <td>no</td>\n",
       "      <td>cellular</td>\n",
       "      <td>jul</td>\n",
       "      <td>tue</td>\n",
       "      <td>...</td>\n",
       "      <td>7</td>\n",
       "      <td>999</td>\n",
       "      <td>0</td>\n",
       "      <td>nonexistent</td>\n",
       "      <td>1.4</td>\n",
       "      <td>93.918</td>\n",
       "      <td>-42.7</td>\n",
       "      <td>4.961</td>\n",
       "      <td>5228.1</td>\n",
       "      <td>0</td>\n",
       "    </tr>\n",
       "    <tr>\n",
       "      <th>17739</th>\n",
       "      <td>54</td>\n",
       "      <td>blue-collar</td>\n",
       "      <td>married</td>\n",
       "      <td>illiterate</td>\n",
       "      <td>unknown</td>\n",
       "      <td>yes</td>\n",
       "      <td>yes</td>\n",
       "      <td>cellular</td>\n",
       "      <td>jul</td>\n",
       "      <td>tue</td>\n",
       "      <td>...</td>\n",
       "      <td>1</td>\n",
       "      <td>999</td>\n",
       "      <td>0</td>\n",
       "      <td>nonexistent</td>\n",
       "      <td>1.4</td>\n",
       "      <td>93.918</td>\n",
       "      <td>-42.7</td>\n",
       "      <td>4.961</td>\n",
       "      <td>5228.1</td>\n",
       "      <td>0</td>\n",
       "    </tr>\n",
       "    <tr>\n",
       "      <th>22402</th>\n",
       "      <td>45</td>\n",
       "      <td>blue-collar</td>\n",
       "      <td>married</td>\n",
       "      <td>illiterate</td>\n",
       "      <td>no</td>\n",
       "      <td>yes</td>\n",
       "      <td>no</td>\n",
       "      <td>cellular</td>\n",
       "      <td>aug</td>\n",
       "      <td>fri</td>\n",
       "      <td>...</td>\n",
       "      <td>1</td>\n",
       "      <td>999</td>\n",
       "      <td>0</td>\n",
       "      <td>nonexistent</td>\n",
       "      <td>1.4</td>\n",
       "      <td>93.444</td>\n",
       "      <td>-36.1</td>\n",
       "      <td>4.964</td>\n",
       "      <td>5228.1</td>\n",
       "      <td>0</td>\n",
       "    </tr>\n",
       "    <tr>\n",
       "      <th>22642</th>\n",
       "      <td>44</td>\n",
       "      <td>blue-collar</td>\n",
       "      <td>married</td>\n",
       "      <td>illiterate</td>\n",
       "      <td>no</td>\n",
       "      <td>no</td>\n",
       "      <td>no</td>\n",
       "      <td>cellular</td>\n",
       "      <td>aug</td>\n",
       "      <td>fri</td>\n",
       "      <td>...</td>\n",
       "      <td>1</td>\n",
       "      <td>999</td>\n",
       "      <td>0</td>\n",
       "      <td>nonexistent</td>\n",
       "      <td>1.4</td>\n",
       "      <td>93.444</td>\n",
       "      <td>-36.1</td>\n",
       "      <td>4.964</td>\n",
       "      <td>5228.1</td>\n",
       "      <td>0</td>\n",
       "    </tr>\n",
       "    <tr>\n",
       "      <th>26680</th>\n",
       "      <td>34</td>\n",
       "      <td>self-employed</td>\n",
       "      <td>married</td>\n",
       "      <td>illiterate</td>\n",
       "      <td>no</td>\n",
       "      <td>yes</td>\n",
       "      <td>no</td>\n",
       "      <td>cellular</td>\n",
       "      <td>nov</td>\n",
       "      <td>thu</td>\n",
       "      <td>...</td>\n",
       "      <td>1</td>\n",
       "      <td>999</td>\n",
       "      <td>0</td>\n",
       "      <td>nonexistent</td>\n",
       "      <td>-0.1</td>\n",
       "      <td>93.200</td>\n",
       "      <td>-42.0</td>\n",
       "      <td>4.076</td>\n",
       "      <td>5195.8</td>\n",
       "      <td>0</td>\n",
       "    </tr>\n",
       "    <tr>\n",
       "      <th>26689</th>\n",
       "      <td>34</td>\n",
       "      <td>self-employed</td>\n",
       "      <td>married</td>\n",
       "      <td>illiterate</td>\n",
       "      <td>no</td>\n",
       "      <td>yes</td>\n",
       "      <td>no</td>\n",
       "      <td>cellular</td>\n",
       "      <td>nov</td>\n",
       "      <td>thu</td>\n",
       "      <td>...</td>\n",
       "      <td>1</td>\n",
       "      <td>999</td>\n",
       "      <td>0</td>\n",
       "      <td>nonexistent</td>\n",
       "      <td>-0.1</td>\n",
       "      <td>93.200</td>\n",
       "      <td>-42.0</td>\n",
       "      <td>4.076</td>\n",
       "      <td>5195.8</td>\n",
       "      <td>1</td>\n",
       "    </tr>\n",
       "    <tr>\n",
       "      <th>26756</th>\n",
       "      <td>34</td>\n",
       "      <td>self-employed</td>\n",
       "      <td>married</td>\n",
       "      <td>illiterate</td>\n",
       "      <td>no</td>\n",
       "      <td>yes</td>\n",
       "      <td>no</td>\n",
       "      <td>cellular</td>\n",
       "      <td>nov</td>\n",
       "      <td>thu</td>\n",
       "      <td>...</td>\n",
       "      <td>1</td>\n",
       "      <td>999</td>\n",
       "      <td>1</td>\n",
       "      <td>failure</td>\n",
       "      <td>-0.1</td>\n",
       "      <td>93.200</td>\n",
       "      <td>-42.0</td>\n",
       "      <td>4.076</td>\n",
       "      <td>5195.8</td>\n",
       "      <td>0</td>\n",
       "    </tr>\n",
       "    <tr>\n",
       "      <th>28626</th>\n",
       "      <td>51</td>\n",
       "      <td>entrepreneur</td>\n",
       "      <td>married</td>\n",
       "      <td>illiterate</td>\n",
       "      <td>no</td>\n",
       "      <td>no</td>\n",
       "      <td>no</td>\n",
       "      <td>cellular</td>\n",
       "      <td>apr</td>\n",
       "      <td>thu</td>\n",
       "      <td>...</td>\n",
       "      <td>2</td>\n",
       "      <td>999</td>\n",
       "      <td>0</td>\n",
       "      <td>nonexistent</td>\n",
       "      <td>-1.8</td>\n",
       "      <td>93.075</td>\n",
       "      <td>-47.1</td>\n",
       "      <td>1.410</td>\n",
       "      <td>5099.1</td>\n",
       "      <td>0</td>\n",
       "    </tr>\n",
       "    <tr>\n",
       "      <th>28627</th>\n",
       "      <td>51</td>\n",
       "      <td>entrepreneur</td>\n",
       "      <td>married</td>\n",
       "      <td>illiterate</td>\n",
       "      <td>no</td>\n",
       "      <td>yes</td>\n",
       "      <td>no</td>\n",
       "      <td>cellular</td>\n",
       "      <td>apr</td>\n",
       "      <td>thu</td>\n",
       "      <td>...</td>\n",
       "      <td>3</td>\n",
       "      <td>999</td>\n",
       "      <td>0</td>\n",
       "      <td>nonexistent</td>\n",
       "      <td>-1.8</td>\n",
       "      <td>93.075</td>\n",
       "      <td>-47.1</td>\n",
       "      <td>1.410</td>\n",
       "      <td>5099.1</td>\n",
       "      <td>1</td>\n",
       "    </tr>\n",
       "    <tr>\n",
       "      <th>35306</th>\n",
       "      <td>51</td>\n",
       "      <td>blue-collar</td>\n",
       "      <td>single</td>\n",
       "      <td>illiterate</td>\n",
       "      <td>unknown</td>\n",
       "      <td>yes</td>\n",
       "      <td>no</td>\n",
       "      <td>cellular</td>\n",
       "      <td>may</td>\n",
       "      <td>fri</td>\n",
       "      <td>...</td>\n",
       "      <td>3</td>\n",
       "      <td>999</td>\n",
       "      <td>0</td>\n",
       "      <td>nonexistent</td>\n",
       "      <td>-1.8</td>\n",
       "      <td>92.893</td>\n",
       "      <td>-46.2</td>\n",
       "      <td>1.250</td>\n",
       "      <td>5099.1</td>\n",
       "      <td>0</td>\n",
       "    </tr>\n",
       "    <tr>\n",
       "      <th>37355</th>\n",
       "      <td>80</td>\n",
       "      <td>retired</td>\n",
       "      <td>married</td>\n",
       "      <td>illiterate</td>\n",
       "      <td>unknown</td>\n",
       "      <td>yes</td>\n",
       "      <td>yes</td>\n",
       "      <td>cellular</td>\n",
       "      <td>aug</td>\n",
       "      <td>tue</td>\n",
       "      <td>...</td>\n",
       "      <td>1</td>\n",
       "      <td>6</td>\n",
       "      <td>1</td>\n",
       "      <td>success</td>\n",
       "      <td>-2.9</td>\n",
       "      <td>92.201</td>\n",
       "      <td>-31.4</td>\n",
       "      <td>0.883</td>\n",
       "      <td>5076.2</td>\n",
       "      <td>1</td>\n",
       "    </tr>\n",
       "    <tr>\n",
       "      <th>37813</th>\n",
       "      <td>42</td>\n",
       "      <td>retired</td>\n",
       "      <td>divorced</td>\n",
       "      <td>illiterate</td>\n",
       "      <td>no</td>\n",
       "      <td>no</td>\n",
       "      <td>no</td>\n",
       "      <td>telephone</td>\n",
       "      <td>aug</td>\n",
       "      <td>wed</td>\n",
       "      <td>...</td>\n",
       "      <td>3</td>\n",
       "      <td>999</td>\n",
       "      <td>0</td>\n",
       "      <td>nonexistent</td>\n",
       "      <td>-2.9</td>\n",
       "      <td>92.201</td>\n",
       "      <td>-31.4</td>\n",
       "      <td>0.834</td>\n",
       "      <td>5076.2</td>\n",
       "      <td>1</td>\n",
       "    </tr>\n",
       "  </tbody>\n",
       "</table>\n",
       "<p>17 rows × 21 columns</p>\n",
       "</div>"
      ],
      "text/plain": [
       "       age            job   marital   education  default housing loan  \\\n",
       "5393    45    blue-collar   married  illiterate  unknown      no  yes   \n",
       "6928    45    blue-collar   married  illiterate  unknown      no   no   \n",
       "12383   51         admin.   married  illiterate  unknown      no   no   \n",
       "14445   55    blue-collar   married  illiterate       no     yes   no   \n",
       "14486   55    blue-collar   married  illiterate       no      no   no   \n",
       "16269   60      housemaid   married  illiterate  unknown     yes   no   \n",
       "17739   54    blue-collar   married  illiterate  unknown     yes  yes   \n",
       "22402   45    blue-collar   married  illiterate       no     yes   no   \n",
       "22642   44    blue-collar   married  illiterate       no      no   no   \n",
       "26680   34  self-employed   married  illiterate       no     yes   no   \n",
       "26689   34  self-employed   married  illiterate       no     yes   no   \n",
       "26756   34  self-employed   married  illiterate       no     yes   no   \n",
       "28626   51   entrepreneur   married  illiterate       no      no   no   \n",
       "28627   51   entrepreneur   married  illiterate       no     yes   no   \n",
       "35306   51    blue-collar    single  illiterate  unknown     yes   no   \n",
       "37355   80        retired   married  illiterate  unknown     yes  yes   \n",
       "37813   42        retired  divorced  illiterate       no      no   no   \n",
       "\n",
       "         contact month day_of_week  ...  campaign  pdays  previous  \\\n",
       "5393   telephone   may         fri  ...         2    999         0   \n",
       "6928   telephone   may         thu  ...         1    999         0   \n",
       "12383   cellular   jul         mon  ...         4    999         0   \n",
       "14445   cellular   jul         tue  ...         3    999         0   \n",
       "14486   cellular   jul         tue  ...         2    999         0   \n",
       "16269   cellular   jul         tue  ...         7    999         0   \n",
       "17739   cellular   jul         tue  ...         1    999         0   \n",
       "22402   cellular   aug         fri  ...         1    999         0   \n",
       "22642   cellular   aug         fri  ...         1    999         0   \n",
       "26680   cellular   nov         thu  ...         1    999         0   \n",
       "26689   cellular   nov         thu  ...         1    999         0   \n",
       "26756   cellular   nov         thu  ...         1    999         1   \n",
       "28626   cellular   apr         thu  ...         2    999         0   \n",
       "28627   cellular   apr         thu  ...         3    999         0   \n",
       "35306   cellular   may         fri  ...         3    999         0   \n",
       "37355   cellular   aug         tue  ...         1      6         1   \n",
       "37813  telephone   aug         wed  ...         3    999         0   \n",
       "\n",
       "          poutcome emp.var.rate  cons.price.idx  cons.conf.idx  euribor3m  \\\n",
       "5393   nonexistent          1.1          93.994          -36.4      4.857   \n",
       "6928   nonexistent          1.1          93.994          -36.4      4.860   \n",
       "12383  nonexistent          1.4          93.918          -42.7      4.960   \n",
       "14445  nonexistent          1.4          93.918          -42.7      4.961   \n",
       "14486  nonexistent          1.4          93.918          -42.7      4.961   \n",
       "16269  nonexistent          1.4          93.918          -42.7      4.961   \n",
       "17739  nonexistent          1.4          93.918          -42.7      4.961   \n",
       "22402  nonexistent          1.4          93.444          -36.1      4.964   \n",
       "22642  nonexistent          1.4          93.444          -36.1      4.964   \n",
       "26680  nonexistent         -0.1          93.200          -42.0      4.076   \n",
       "26689  nonexistent         -0.1          93.200          -42.0      4.076   \n",
       "26756      failure         -0.1          93.200          -42.0      4.076   \n",
       "28626  nonexistent         -1.8          93.075          -47.1      1.410   \n",
       "28627  nonexistent         -1.8          93.075          -47.1      1.410   \n",
       "35306  nonexistent         -1.8          92.893          -46.2      1.250   \n",
       "37355      success         -2.9          92.201          -31.4      0.883   \n",
       "37813  nonexistent         -2.9          92.201          -31.4      0.834   \n",
       "\n",
       "       nr.employed  y  \n",
       "5393        5191.0  0  \n",
       "6928        5191.0  0  \n",
       "12383       5228.1  0  \n",
       "14445       5228.1  0  \n",
       "14486       5228.1  0  \n",
       "16269       5228.1  0  \n",
       "17739       5228.1  0  \n",
       "22402       5228.1  0  \n",
       "22642       5228.1  0  \n",
       "26680       5195.8  0  \n",
       "26689       5195.8  1  \n",
       "26756       5195.8  0  \n",
       "28626       5099.1  0  \n",
       "28627       5099.1  1  \n",
       "35306       5099.1  0  \n",
       "37355       5076.2  1  \n",
       "37813       5076.2  1  \n",
       "\n",
       "[17 rows x 21 columns]"
      ]
     },
     "execution_count": 15,
     "metadata": {},
     "output_type": "execute_result"
    }
   ],
   "source": [
    "# 先查看illiterate 的情况\n",
    "df[df.education == 'illiterate']"
   ]
  },
  {
   "cell_type": "markdown",
   "metadata": {},
   "source": [
    "### 修改之前联系过，但是poutcome为unknown的情况\n",
    "\n",
    "在这版本里，999表示之前没有被联系过"
   ]
  },
  {
   "cell_type": "code",
   "execution_count": 16,
   "metadata": {
    "ExecuteTime": {
     "end_time": "2021-02-02T10:55:58.864394Z",
     "start_time": "2021-02-02T10:55:58.845445Z"
    }
   },
   "outputs": [
    {
     "name": "stdout",
     "output_type": "stream",
     "text": [
      "0    35691\n",
      "1     1355\n",
      "Name: 是否联系过, dtype: int64\n"
     ]
    }
   ],
   "source": [
    "# 有多少顾客之前没有联系过？\n",
    "df[\"是否联系过\"] = df[\"pdays\"].apply(lambda x: 0 if x == 999 else 1)\n",
    "print(df[\"是否联系过\"].value_counts())\n",
    "\n",
    "# 在测试集里也构造该列\n",
    "test[\"是否联系过\"] = test[\"pdays\"].apply(lambda x: 0 if x == 999 else 1)"
   ]
  },
  {
   "cell_type": "code",
   "execution_count": 17,
   "metadata": {
    "ExecuteTime": {
     "end_time": "2021-02-02T10:55:58.872372Z",
     "start_time": "2021-02-02T10:55:58.865391Z"
    }
   },
   "outputs": [
    {
     "data": {
      "text/plain": [
       "999    35691\n",
       "3        387\n",
       "6        370\n",
       "4        104\n",
       "9         61\n",
       "2         57\n",
       "12        53\n",
       "7         50\n",
       "10        44\n",
       "5         42\n",
       "13        34\n",
       "11        27\n",
       "1         23\n",
       "15        22\n",
       "14        19\n",
       "8         18\n",
       "0         13\n",
       "16         9\n",
       "17         7\n",
       "18         5\n",
       "22         3\n",
       "19         2\n",
       "26         1\n",
       "20         1\n",
       "21         1\n",
       "25         1\n",
       "27         1\n",
       "Name: pdays, dtype: int64"
      ]
     },
     "execution_count": 17,
     "metadata": {},
     "output_type": "execute_result"
    }
   ],
   "source": [
    "df['pdays'].value_counts()"
   ]
  },
  {
   "cell_type": "markdown",
   "metadata": {},
   "source": [
    "这一版本里，contact不存在unknown，说明之前的操作也是对的"
   ]
  },
  {
   "cell_type": "code",
   "execution_count": 18,
   "metadata": {
    "ExecuteTime": {
     "end_time": "2021-02-02T10:55:58.902293Z",
     "start_time": "2021-02-02T10:55:58.873370Z"
    }
   },
   "outputs": [
    {
     "data": {
      "text/html": [
       "<div>\n",
       "<style scoped>\n",
       "    .dataframe tbody tr th:only-of-type {\n",
       "        vertical-align: middle;\n",
       "    }\n",
       "\n",
       "    .dataframe tbody tr th {\n",
       "        vertical-align: top;\n",
       "    }\n",
       "\n",
       "    .dataframe thead th {\n",
       "        text-align: right;\n",
       "    }\n",
       "</style>\n",
       "<table border=\"1\" class=\"dataframe\">\n",
       "  <thead>\n",
       "    <tr style=\"text-align: right;\">\n",
       "      <th></th>\n",
       "      <th>是否联系过</th>\n",
       "      <th>poutcome</th>\n",
       "      <th>contact</th>\n",
       "      <th>num</th>\n",
       "      <th>prop</th>\n",
       "    </tr>\n",
       "  </thead>\n",
       "  <tbody>\n",
       "    <tr>\n",
       "      <th>2</th>\n",
       "      <td>0</td>\n",
       "      <td>nonexistent</td>\n",
       "      <td>cellular</td>\n",
       "      <td>18811</td>\n",
       "      <td>0.507774</td>\n",
       "    </tr>\n",
       "    <tr>\n",
       "      <th>3</th>\n",
       "      <td>0</td>\n",
       "      <td>nonexistent</td>\n",
       "      <td>telephone</td>\n",
       "      <td>13206</td>\n",
       "      <td>0.356476</td>\n",
       "    </tr>\n",
       "    <tr>\n",
       "      <th>0</th>\n",
       "      <td>0</td>\n",
       "      <td>failure</td>\n",
       "      <td>cellular</td>\n",
       "      <td>3411</td>\n",
       "      <td>0.092075</td>\n",
       "    </tr>\n",
       "    <tr>\n",
       "      <th>6</th>\n",
       "      <td>1</td>\n",
       "      <td>success</td>\n",
       "      <td>cellular</td>\n",
       "      <td>1139</td>\n",
       "      <td>0.030746</td>\n",
       "    </tr>\n",
       "    <tr>\n",
       "      <th>1</th>\n",
       "      <td>0</td>\n",
       "      <td>failure</td>\n",
       "      <td>telephone</td>\n",
       "      <td>263</td>\n",
       "      <td>0.007099</td>\n",
       "    </tr>\n",
       "    <tr>\n",
       "      <th>4</th>\n",
       "      <td>1</td>\n",
       "      <td>failure</td>\n",
       "      <td>cellular</td>\n",
       "      <td>114</td>\n",
       "      <td>0.003077</td>\n",
       "    </tr>\n",
       "    <tr>\n",
       "      <th>7</th>\n",
       "      <td>1</td>\n",
       "      <td>success</td>\n",
       "      <td>telephone</td>\n",
       "      <td>92</td>\n",
       "      <td>0.002483</td>\n",
       "    </tr>\n",
       "    <tr>\n",
       "      <th>5</th>\n",
       "      <td>1</td>\n",
       "      <td>failure</td>\n",
       "      <td>telephone</td>\n",
       "      <td>10</td>\n",
       "      <td>0.000270</td>\n",
       "    </tr>\n",
       "  </tbody>\n",
       "</table>\n",
       "</div>"
      ],
      "text/plain": [
       "   是否联系过     poutcome    contact    num      prop\n",
       "2      0  nonexistent   cellular  18811  0.507774\n",
       "3      0  nonexistent  telephone  13206  0.356476\n",
       "0      0      failure   cellular   3411  0.092075\n",
       "6      1      success   cellular   1139  0.030746\n",
       "1      0      failure  telephone    263  0.007099\n",
       "4      1      failure   cellular    114  0.003077\n",
       "7      1      success  telephone     92  0.002483\n",
       "5      1      failure  telephone     10  0.000270"
      ]
     },
     "execution_count": 18,
     "metadata": {},
     "output_type": "execute_result"
    }
   ],
   "source": [
    "# 被影响的变量\n",
    "effect_variables = [\"previous\",\"poutcome\",\"contact\"]\n",
    "\n",
    "# 分类统计\n",
    "temp2 = df.groupby(by = [\"是否联系过\",\"poutcome\",\"contact\"], as_index = False)[\"age\"].agg({\"num\":\"count\"})\n",
    "# 占比统计\n",
    "temp2[\"prop\"] = temp2[\"num\"]/temp2[\"num\"].sum()\n",
    "\n",
    "temp2.sort_values(by = \"prop\", ascending = False, inplace = True)\n",
    "temp2"
   ]
  },
  {
   "cell_type": "code",
   "execution_count": 19,
   "metadata": {
    "ExecuteTime": {
     "end_time": "2021-02-02T10:55:59.041920Z",
     "start_time": "2021-02-02T10:55:58.903290Z"
    }
   },
   "outputs": [
    {
     "data": {
      "image/png": "[encoded data removed]",
      "text/plain": [
       "<Figure size 720x432 with 1 Axes>"
      ]
     },
     "metadata": {
      "needs_background": "light"
     },
     "output_type": "display_data"
    }
   ],
   "source": [
    "# 画图\n",
    "plt.figure(figsize = (10,6))\n",
    "sns.barplot(y = temp2.index, x = temp2[\"prop\"], orient = \"h\")\n",
    "plt.ylabel(ylabel = \"分类\",size = 12)\n",
    "plt.xlabel(xlabel = \"占比\",size = 12)\n",
    "plt.show()"
   ]
  },
  {
   "cell_type": "markdown",
   "metadata": {},
   "source": [
    "没有之前联系过，poutcome却不知道的情况"
   ]
  },
  {
   "cell_type": "code",
   "execution_count": 20,
   "metadata": {
    "ExecuteTime": {
     "end_time": "2021-02-02T10:55:59.057876Z",
     "start_time": "2021-02-02T10:55:59.042916Z"
    }
   },
   "outputs": [
    {
     "data": {
      "text/html": [
       "<div>\n",
       "<style scoped>\n",
       "    .dataframe tbody tr th:only-of-type {\n",
       "        vertical-align: middle;\n",
       "    }\n",
       "\n",
       "    .dataframe tbody tr th {\n",
       "        vertical-align: top;\n",
       "    }\n",
       "\n",
       "    .dataframe thead th {\n",
       "        text-align: right;\n",
       "    }\n",
       "</style>\n",
       "<table border=\"1\" class=\"dataframe\">\n",
       "  <thead>\n",
       "    <tr style=\"text-align: right;\">\n",
       "      <th></th>\n",
       "      <th>age</th>\n",
       "      <th>job</th>\n",
       "      <th>marital</th>\n",
       "      <th>education</th>\n",
       "      <th>default</th>\n",
       "      <th>housing</th>\n",
       "      <th>loan</th>\n",
       "      <th>contact</th>\n",
       "      <th>month</th>\n",
       "      <th>day_of_week</th>\n",
       "      <th>...</th>\n",
       "      <th>pdays</th>\n",
       "      <th>previous</th>\n",
       "      <th>poutcome</th>\n",
       "      <th>emp.var.rate</th>\n",
       "      <th>cons.price.idx</th>\n",
       "      <th>cons.conf.idx</th>\n",
       "      <th>euribor3m</th>\n",
       "      <th>nr.employed</th>\n",
       "      <th>y</th>\n",
       "      <th>是否联系过</th>\n",
       "    </tr>\n",
       "  </thead>\n",
       "  <tbody>\n",
       "  </tbody>\n",
       "</table>\n",
       "<p>0 rows × 22 columns</p>\n",
       "</div>"
      ],
      "text/plain": [
       "Empty DataFrame\n",
       "Columns: [age, job, marital, education, default, housing, loan, contact, month, day_of_week, duration, campaign, pdays, previous, poutcome, emp.var.rate, cons.price.idx, cons.conf.idx, euribor3m, nr.employed, y, 是否联系过]\n",
       "Index: []\n",
       "\n",
       "[0 rows x 22 columns]"
      ]
     },
     "execution_count": 20,
     "metadata": {},
     "output_type": "execute_result"
    }
   ],
   "source": [
    "# 找训练集里的数据\n",
    "edit_index = df[(df[\"是否联系过\"] == 1) &(df[\"poutcome\"] == \"unknown\")].index\n",
    "df.loc[edit_index]"
   ]
  },
  {
   "cell_type": "code",
   "execution_count": 21,
   "metadata": {
    "ExecuteTime": {
     "end_time": "2021-02-02T10:55:59.061867Z",
     "start_time": "2021-02-02T10:55:59.058875Z"
    }
   },
   "outputs": [],
   "source": [
    "# # 寻找众数\n",
    "# fill_val = df[df[\"是否联系过\"] == 1][\"poutcome\"].mode()[0]\n",
    "# fill_val"
   ]
  },
  {
   "cell_type": "code",
   "execution_count": 22,
   "metadata": {
    "ExecuteTime": {
     "end_time": "2021-02-02T10:55:59.068848Z",
     "start_time": "2021-02-02T10:55:59.065855Z"
    }
   },
   "outputs": [],
   "source": [
    "# # 填充\n",
    "# df.loc[edit_index, \"poutcome\"] = fill_val\n",
    "# df.loc[edit_index,\"poutcome\"]"
   ]
  },
  {
   "cell_type": "code",
   "execution_count": 23,
   "metadata": {
    "ExecuteTime": {
     "end_time": "2021-02-02T10:55:59.080815Z",
     "start_time": "2021-02-02T10:55:59.070858Z"
    }
   },
   "outputs": [
    {
     "data": {
      "text/plain": [
       "Series([], Name: poutcome, dtype: object)"
      ]
     },
     "execution_count": 23,
     "metadata": {},
     "output_type": "execute_result"
    }
   ],
   "source": [
    "# 用相同方法修改测试集\n",
    "\n",
    "# 找训练集里的数据\n",
    "edit_index = test[(test[\"是否联系过\"] == 1) &(test[\"poutcome\"] == \"unknown\")].index\n",
    "\n",
    "# 寻找众数\n",
    "fill_val = test[test[\"是否联系过\"] == 1][\"poutcome\"].mode()[0]\n",
    "\n",
    "# 填充\n",
    "test.loc[edit_index, \"poutcome\"] = fill_val\n",
    "test.loc[edit_index,\"poutcome\"]"
   ]
  },
  {
   "cell_type": "markdown",
   "metadata": {},
   "source": [
    "### 修改之前联系过，却unknown contact的情况\n",
    "\n",
    "使用众数填充"
   ]
  },
  {
   "cell_type": "code",
   "execution_count": 24,
   "metadata": {
    "ExecuteTime": {
     "end_time": "2021-02-02T10:55:59.089791Z",
     "start_time": "2021-02-02T10:55:59.081812Z"
    }
   },
   "outputs": [
    {
     "data": {
      "text/plain": [
       "Series([], Name: contact, dtype: object)"
      ]
     },
     "execution_count": 24,
     "metadata": {},
     "output_type": "execute_result"
    }
   ],
   "source": [
    "# 找训练集里的数据\n",
    "edit_index = df[(df[\"是否联系过\"] == 1) &(df[\"contact\"] == \"unknown\")].index\n",
    "df.loc[edit_index,\"contact\"]"
   ]
  },
  {
   "cell_type": "code",
   "execution_count": 25,
   "metadata": {
    "ExecuteTime": {
     "end_time": "2021-02-02T10:55:59.094778Z",
     "start_time": "2021-02-02T10:55:59.090788Z"
    }
   },
   "outputs": [],
   "source": [
    "# # 寻找众数\n",
    "# fill_val = df[df[\"是否联系过\"] == 1][\"contact\"].mode()[0]\n",
    "# fill_val"
   ]
  },
  {
   "cell_type": "code",
   "execution_count": 26,
   "metadata": {
    "ExecuteTime": {
     "end_time": "2021-02-02T10:55:59.099763Z",
     "start_time": "2021-02-02T10:55:59.095774Z"
    }
   },
   "outputs": [],
   "source": [
    "# # 填充\n",
    "# df.loc[edit_index, \"contact\"] = fill_val\n",
    "# df.loc[edit_index, \"contact\"]"
   ]
  },
  {
   "cell_type": "code",
   "execution_count": 27,
   "metadata": {
    "ExecuteTime": {
     "end_time": "2021-02-02T10:55:59.111731Z",
     "start_time": "2021-02-02T10:55:59.100761Z"
    }
   },
   "outputs": [
    {
     "data": {
      "text/plain": [
       "Series([], Name: contact, dtype: object)"
      ]
     },
     "execution_count": 27,
     "metadata": {},
     "output_type": "execute_result"
    }
   ],
   "source": [
    "# 用相同方法修改测试集\n",
    "\n",
    "# 找训练集里的数据\n",
    "edit_index = test[(test[\"是否联系过\"] == 1) & (test[\"contact\"] == \"unknown\")].index\n",
    "\n",
    "# 寻找众数\n",
    "fill_val = test[test[\"是否联系过\"] == 1][\"contact\"].mode()[0]\n",
    "\n",
    "# 填充\n",
    "test.loc[edit_index, \"contact\"] = fill_val\n",
    "test.loc[edit_index, \"contact\"]"
   ]
  },
  {
   "cell_type": "markdown",
   "metadata": {},
   "source": [
    "## 连续型变量"
   ]
  },
  {
   "cell_type": "code",
   "execution_count": 28,
   "metadata": {
    "ExecuteTime": {
     "end_time": "2021-02-02T10:55:59.116719Z",
     "start_time": "2021-02-02T10:55:59.112729Z"
    }
   },
   "outputs": [],
   "source": [
    "from scipy import stats # 假设检验"
   ]
  },
  {
   "cell_type": "code",
   "execution_count": 29,
   "metadata": {
    "ExecuteTime": {
     "end_time": "2021-02-02T10:55:59.122719Z",
     "start_time": "2021-02-02T10:55:59.117716Z"
    }
   },
   "outputs": [
    {
     "data": {
      "text/plain": [
       "['campaign',\n",
       " 'pdays',\n",
       " '是否联系过',\n",
       " 'cons.price.idx',\n",
       " 'previous',\n",
       " 'cons.conf.idx',\n",
       " 'euribor3m',\n",
       " 'age',\n",
       " 'duration',\n",
       " 'nr.employed',\n",
       " 'emp.var.rate']"
      ]
     },
     "execution_count": 29,
     "metadata": {},
     "output_type": "execute_result"
    }
   ],
   "source": [
    "numeric_variables = list(set(df.columns)- set(categorical_variables))\n",
    "numeric_variables"
   ]
  },
  {
   "cell_type": "markdown",
   "metadata": {},
   "source": [
    "### duration：是否要舍弃这个变量\n",
    "\n",
    "duration: last contact duration, in seconds (numeric). \n",
    "\n",
    "**Important note:**\n",
    "\n",
    "this attribute highly affects the output target (e.g., if duration=0 then y='no'). Yet, the duration is not known before a call is performed. Also, after the end of the call y is obviously known. Thus, this input should only be included for benchmark purposes and should be discarded if the intention is to have a realistic predictive model."
   ]
  },
  {
   "cell_type": "code",
   "execution_count": 30,
   "metadata": {
    "ExecuteTime": {
     "end_time": "2021-02-02T10:55:59.141655Z",
     "start_time": "2021-02-02T10:55:59.123699Z"
    }
   },
   "outputs": [
    {
     "data": {
      "text/html": [
       "<div>\n",
       "<style scoped>\n",
       "    .dataframe tbody tr th:only-of-type {\n",
       "        vertical-align: middle;\n",
       "    }\n",
       "\n",
       "    .dataframe tbody tr th {\n",
       "        vertical-align: top;\n",
       "    }\n",
       "\n",
       "    .dataframe thead th {\n",
       "        text-align: right;\n",
       "    }\n",
       "</style>\n",
       "<table border=\"1\" class=\"dataframe\">\n",
       "  <thead>\n",
       "    <tr style=\"text-align: right;\">\n",
       "      <th></th>\n",
       "      <th>age</th>\n",
       "      <th>job</th>\n",
       "      <th>marital</th>\n",
       "      <th>education</th>\n",
       "      <th>default</th>\n",
       "      <th>housing</th>\n",
       "      <th>loan</th>\n",
       "      <th>contact</th>\n",
       "      <th>month</th>\n",
       "      <th>day_of_week</th>\n",
       "      <th>...</th>\n",
       "      <th>pdays</th>\n",
       "      <th>previous</th>\n",
       "      <th>poutcome</th>\n",
       "      <th>emp.var.rate</th>\n",
       "      <th>cons.price.idx</th>\n",
       "      <th>cons.conf.idx</th>\n",
       "      <th>euribor3m</th>\n",
       "      <th>nr.employed</th>\n",
       "      <th>y</th>\n",
       "      <th>是否联系过</th>\n",
       "    </tr>\n",
       "  </thead>\n",
       "  <tbody>\n",
       "    <tr>\n",
       "      <th>23031</th>\n",
       "      <td>59</td>\n",
       "      <td>management</td>\n",
       "      <td>married</td>\n",
       "      <td>university.degree</td>\n",
       "      <td>no</td>\n",
       "      <td>yes</td>\n",
       "      <td>no</td>\n",
       "      <td>cellular</td>\n",
       "      <td>aug</td>\n",
       "      <td>tue</td>\n",
       "      <td>...</td>\n",
       "      <td>999</td>\n",
       "      <td>0</td>\n",
       "      <td>nonexistent</td>\n",
       "      <td>1.4</td>\n",
       "      <td>93.444</td>\n",
       "      <td>-36.1</td>\n",
       "      <td>4.965</td>\n",
       "      <td>5228.1</td>\n",
       "      <td>0</td>\n",
       "      <td>0</td>\n",
       "    </tr>\n",
       "    <tr>\n",
       "      <th>28063</th>\n",
       "      <td>53</td>\n",
       "      <td>blue-collar</td>\n",
       "      <td>divorced</td>\n",
       "      <td>high.school</td>\n",
       "      <td>no</td>\n",
       "      <td>yes</td>\n",
       "      <td>no</td>\n",
       "      <td>cellular</td>\n",
       "      <td>apr</td>\n",
       "      <td>fri</td>\n",
       "      <td>...</td>\n",
       "      <td>999</td>\n",
       "      <td>0</td>\n",
       "      <td>nonexistent</td>\n",
       "      <td>-1.8</td>\n",
       "      <td>93.075</td>\n",
       "      <td>-47.1</td>\n",
       "      <td>1.479</td>\n",
       "      <td>5099.1</td>\n",
       "      <td>0</td>\n",
       "      <td>0</td>\n",
       "    </tr>\n",
       "    <tr>\n",
       "      <th>33015</th>\n",
       "      <td>31</td>\n",
       "      <td>blue-collar</td>\n",
       "      <td>married</td>\n",
       "      <td>basic.9y</td>\n",
       "      <td>no</td>\n",
       "      <td>no</td>\n",
       "      <td>no</td>\n",
       "      <td>cellular</td>\n",
       "      <td>may</td>\n",
       "      <td>mon</td>\n",
       "      <td>...</td>\n",
       "      <td>999</td>\n",
       "      <td>0</td>\n",
       "      <td>nonexistent</td>\n",
       "      <td>-1.8</td>\n",
       "      <td>92.893</td>\n",
       "      <td>-46.2</td>\n",
       "      <td>1.299</td>\n",
       "      <td>5099.1</td>\n",
       "      <td>0</td>\n",
       "      <td>0</td>\n",
       "    </tr>\n",
       "  </tbody>\n",
       "</table>\n",
       "<p>3 rows × 22 columns</p>\n",
       "</div>"
      ],
      "text/plain": [
       "       age          job   marital          education default housing loan  \\\n",
       "23031   59   management   married  university.degree      no     yes   no   \n",
       "28063   53  blue-collar  divorced        high.school      no     yes   no   \n",
       "33015   31  blue-collar   married           basic.9y      no      no   no   \n",
       "\n",
       "        contact month day_of_week  ...  pdays  previous     poutcome  \\\n",
       "23031  cellular   aug         tue  ...    999         0  nonexistent   \n",
       "28063  cellular   apr         fri  ...    999         0  nonexistent   \n",
       "33015  cellular   may         mon  ...    999         0  nonexistent   \n",
       "\n",
       "       emp.var.rate cons.price.idx  cons.conf.idx  euribor3m  nr.employed  y  \\\n",
       "23031           1.4         93.444          -36.1      4.965       5228.1  0   \n",
       "28063          -1.8         93.075          -47.1      1.479       5099.1  0   \n",
       "33015          -1.8         92.893          -46.2      1.299       5099.1  0   \n",
       "\n",
       "       是否联系过  \n",
       "23031      0  \n",
       "28063      0  \n",
       "33015      0  \n",
       "\n",
       "[3 rows x 22 columns]"
      ]
     },
     "execution_count": 30,
     "metadata": {},
     "output_type": "execute_result"
    }
   ],
   "source": [
    "# 查看duration 为 0 的情况，只有3条数据\n",
    "df[(df.duration ==0)]"
   ]
  },
  {
   "cell_type": "code",
   "execution_count": 31,
   "metadata": {
    "ExecuteTime": {
     "end_time": "2021-02-02T10:55:59.154617Z",
     "start_time": "2021-02-02T10:55:59.142649Z"
    }
   },
   "outputs": [
    {
     "data": {
      "text/plain": [
       "Ttest_indResult(statistic=-84.9769222298955, pvalue=0.0)"
      ]
     },
     "execution_count": 31,
     "metadata": {},
     "output_type": "execute_result"
    }
   ],
   "source": [
    "### t-test: duration\n",
    "\n",
    "### 查看两组变量(yes/no)的duration的平均值是否相同\n",
    "stats.ttest_ind(df[df.y == 0][\"duration\"], df[df.y == 1][\"duration\"])"
   ]
  },
  {
   "cell_type": "code",
   "execution_count": 32,
   "metadata": {
    "ExecuteTime": {
     "end_time": "2021-02-02T10:55:59.174564Z",
     "start_time": "2021-02-02T10:55:59.155614Z"
    }
   },
   "outputs": [
    {
     "data": {
      "text/plain": [
       "age              -0.005264\n",
       "duration          1.000000\n",
       "campaign         -0.070489\n",
       "pdays            -0.047612\n",
       "previous          0.019986\n",
       "emp.var.rate     -0.027823\n",
       "cons.price.idx    0.004049\n",
       "cons.conf.idx    -0.005189\n",
       "euribor3m        -0.032889\n",
       "nr.employed      -0.044708\n",
       "y                 0.403897\n",
       "是否联系过             0.047670\n",
       "Name: duration, dtype: float64"
      ]
     },
     "execution_count": 32,
     "metadata": {},
     "output_type": "execute_result"
    }
   ],
   "source": [
    "### 相关性检验\n",
    "df.corr()[\"duration\"]"
   ]
  },
  {
   "cell_type": "markdown",
   "metadata": {},
   "source": [
    "**p值等于0，具有显著差异; 相关系数为0.39**"
   ]
  },
  {
   "cell_type": "code",
   "execution_count": 33,
   "metadata": {
    "ExecuteTime": {
     "end_time": "2021-02-02T10:55:59.432873Z",
     "start_time": "2021-02-02T10:55:59.175563Z"
    }
   },
   "outputs": [
    {
     "data": {
      "image/png": "[encoded data removed]",
      "text/plain": [
       "<Figure size 1080x360 with 2 Axes>"
      ]
     },
     "metadata": {
      "needs_background": "light"
     },
     "output_type": "display_data"
    }
   ],
   "source": [
    "### 概率密度函数\n",
    "plt.figure(figsize = (15,5))\n",
    "\n",
    "plt.subplot(121)\n",
    "sns.kdeplot(df[df.y == 0][\"duration\"])\n",
    "sns.kdeplot(df[df.y == 1][\"duration\"])\n",
    "plt.legend(labels = [\"no\",\"yes\"])\n",
    "\n",
    "### 概率密度函数\n",
    "plt.subplot(122)\n",
    "sns.kdeplot(np.log(df[df.y == 0][\"duration\"]+1))\n",
    "sns.kdeplot(np.log(df[df.y == 1][\"duration\"]+1))\n",
    "plt.legend(labels = [\"no\",\"yes\"])\n",
    "plt.show()"
   ]
  },
  {
   "cell_type": "code",
   "execution_count": 34,
   "metadata": {
    "ExecuteTime": {
     "end_time": "2021-02-02T10:55:59.447833Z",
     "start_time": "2021-02-02T10:55:59.433873Z"
    }
   },
   "outputs": [
    {
     "data": {
      "text/plain": [
       "Ttest_indResult(statistic=-72.15993267968427, pvalue=0.0)"
      ]
     },
     "execution_count": 34,
     "metadata": {},
     "output_type": "execute_result"
    }
   ],
   "source": [
    "### 取对数，查看两组变量(yes/no)的duration的平均值是否相同\n",
    "stats.ttest_ind(np.log(df[df.y == 0][\"duration\"]+1), np.log(df[df.y == 1][\"duration\"]+1))"
   ]
  },
  {
   "cell_type": "code",
   "execution_count": 35,
   "metadata": {
    "ExecuteTime": {
     "end_time": "2021-02-02T10:55:59.458802Z",
     "start_time": "2021-02-02T10:55:59.448830Z"
    }
   },
   "outputs": [],
   "source": [
    "# 去掉duration\n",
    "df.drop(columns = \"duration\", inplace = True)\n",
    "test.drop(columns = \"duration\", inplace = True)"
   ]
  },
  {
   "cell_type": "markdown",
   "metadata": {
    "ExecuteTime": {
     "end_time": "2021-02-02T09:29:12.045493Z",
     "start_time": "2021-02-02T09:29:12.024550Z"
    }
   },
   "source": [
    "### emp.var.rate: employ_rate"
   ]
  },
  {
   "cell_type": "code",
   "execution_count": 36,
   "metadata": {
    "ExecuteTime": {
     "end_time": "2021-02-02T10:55:59.469774Z",
     "start_time": "2021-02-02T10:55:59.459800Z"
    }
   },
   "outputs": [],
   "source": [
    "# 重命名\n",
    "df.rename({'emp.var.rate':\"employ_rate\"}, axis = 1, inplace = True)\n",
    "test.rename({'emp.var.rate':\"employ_rate\"}, axis = 1, inplace = True)"
   ]
  },
  {
   "cell_type": "code",
   "execution_count": 37,
   "metadata": {
    "ExecuteTime": {
     "end_time": "2021-02-02T10:55:59.477752Z",
     "start_time": "2021-02-02T10:55:59.470773Z"
    }
   },
   "outputs": [
    {
     "data": {
      "text/plain": [
       " 1.4    14597\n",
       "-1.8     8297\n",
       " 1.1     7003\n",
       "-0.1     3289\n",
       "-2.9     1497\n",
       "-3.4      965\n",
       "-1.7      686\n",
       "-1.1      552\n",
       "-3.0      151\n",
       "-0.2        9\n",
       "Name: employ_rate, dtype: int64"
      ]
     },
     "execution_count": 37,
     "metadata": {},
     "output_type": "execute_result"
    }
   ],
   "source": [
    "# 查看数据分布\n",
    "df['employ_rate'].value_counts()"
   ]
  },
  {
   "cell_type": "code",
   "execution_count": 38,
   "metadata": {
    "ExecuteTime": {
     "end_time": "2021-02-02T10:55:59.665252Z",
     "start_time": "2021-02-02T10:55:59.478749Z"
    }
   },
   "outputs": [
    {
     "data": {
      "image/png": "[encoded data removed]",
      "text/plain": [
       "<Figure size 1080x360 with 1 Axes>"
      ]
     },
     "metadata": {
      "needs_background": "light"
     },
     "output_type": "display_data"
    }
   ],
   "source": [
    "### 概率密度函数\n",
    "plt.figure(figsize = (15,5))\n",
    "\n",
    "#plt.subplot(121)\n",
    "sns.kdeplot(df[df.y == 0][\"employ_rate\"])\n",
    "sns.kdeplot(df[df.y == 1][\"employ_rate\"])\n",
    "plt.legend(labels = [\"no\",\"yes\"])\n",
    "plt.title(\"employment rate\")\n",
    "plt.show()"
   ]
  },
  {
   "cell_type": "markdown",
   "metadata": {},
   "source": [
    "### cons.price.idx: consumer price index\n",
    "\n",
    "monthly indicator (numeric)     "
   ]
  },
  {
   "cell_type": "code",
   "execution_count": 39,
   "metadata": {
    "ExecuteTime": {
     "end_time": "2021-02-02T10:55:59.675224Z",
     "start_time": "2021-02-02T10:55:59.666248Z"
    }
   },
   "outputs": [],
   "source": [
    "## 重命名\n",
    "df.rename({'cons.price.idx':\"prc_index\"}, axis = 1, inplace = True)\n",
    "test.rename({'cons.price.idx':\"prc_index\"}, axis = 1, inplace = True)"
   ]
  },
  {
   "cell_type": "code",
   "execution_count": 40,
   "metadata": {
    "ExecuteTime": {
     "end_time": "2021-02-02T10:55:59.684247Z",
     "start_time": "2021-02-02T10:55:59.676221Z"
    }
   },
   "outputs": [
    {
     "data": {
      "text/plain": [
       "month\n",
       "apr    2\n",
       "aug    3\n",
       "dec    2\n",
       "jul    3\n",
       "jun    3\n",
       "mar    2\n",
       "may    3\n",
       "nov    3\n",
       "oct    3\n",
       "sep    2\n",
       "Name: prc_index, dtype: int64"
      ]
     },
     "execution_count": 40,
     "metadata": {},
     "output_type": "execute_result"
    }
   ],
   "source": [
    "# 每个月有几个不同的price index\n",
    "df.groupby(by = 'month')['prc_index'].nunique()"
   ]
  },
  {
   "cell_type": "markdown",
   "metadata": {},
   "source": [
    "确实也说明这个活动持续了2年左右"
   ]
  },
  {
   "cell_type": "code",
   "execution_count": 41,
   "metadata": {
    "ExecuteTime": {
     "end_time": "2021-02-02T10:55:59.839784Z",
     "start_time": "2021-02-02T10:55:59.685198Z"
    }
   },
   "outputs": [
    {
     "data": {
      "image/png": "[encoded data removed]",
      "text/plain": [
       "<Figure size 1080x360 with 1 Axes>"
      ]
     },
     "metadata": {
      "needs_background": "light"
     },
     "output_type": "display_data"
    }
   ],
   "source": [
    "### 概率密度函数\n",
    "plt.figure(figsize = (15,5))\n",
    "\n",
    "#plt.subplot(121)\n",
    "sns.kdeplot(df[df.y == 0][\"prc_index\"])\n",
    "sns.kdeplot(df[df.y == 1][\"prc_index\"])\n",
    "plt.legend(labels = [\"no\",\"yes\"])\n",
    "plt.title(\"employment rate\")\n",
    "plt.show()"
   ]
  },
  {
   "cell_type": "markdown",
   "metadata": {},
   "source": [
    "### cons.conf.idx"
   ]
  },
  {
   "cell_type": "code",
   "execution_count": 42,
   "metadata": {
    "ExecuteTime": {
     "end_time": "2021-02-02T10:55:59.849805Z",
     "start_time": "2021-02-02T10:55:59.840782Z"
    }
   },
   "outputs": [],
   "source": [
    "# 重命名\n",
    "df.rename({'cons.conf.idx':\"confidence\"}, axis = 1, inplace = True)\n",
    "test.rename({'cons.conf.idx':\"confidence\"}, axis = 1, inplace = True)"
   ]
  },
  {
   "cell_type": "code",
   "execution_count": 43,
   "metadata": {
    "ExecuteTime": {
     "end_time": "2021-02-02T10:55:59.996365Z",
     "start_time": "2021-02-02T10:55:59.850776Z"
    }
   },
   "outputs": [
    {
     "data": {
      "image/png": "[encoded data removed]",
      "text/plain": [
       "<Figure size 1080x360 with 1 Axes>"
      ]
     },
     "metadata": {
      "needs_background": "light"
     },
     "output_type": "display_data"
    }
   ],
   "source": [
    "### 概率密度函数\n",
    "plt.figure(figsize = (15,5))\n",
    "\n",
    "#plt.subplot(121)\n",
    "sns.kdeplot(df[df.y == 0][\"confidence\"])\n",
    "sns.kdeplot(df[df.y == 1][\"confidence\"])\n",
    "plt.legend(labels = [\"no\",\"yes\"])\n",
    "plt.title(\"confidence\")\n",
    "plt.show()"
   ]
  },
  {
   "cell_type": "code",
   "execution_count": 188,
   "metadata": {
    "ExecuteTime": {
     "end_time": "2021-02-02T11:26:27.626061Z",
     "start_time": "2021-02-02T11:26:27.621067Z"
    }
   },
   "outputs": [
    {
     "data": {
      "text/plain": [
       "26"
      ]
     },
     "execution_count": 188,
     "metadata": {},
     "output_type": "execute_result"
    }
   ],
   "source": [
    "df['confidence'].nunique()"
   ]
  },
  {
   "cell_type": "markdown",
   "metadata": {},
   "source": [
    "### euribor3m"
   ]
  },
  {
   "cell_type": "code",
   "execution_count": 44,
   "metadata": {
    "ExecuteTime": {
     "end_time": "2021-02-02T10:56:00.008332Z",
     "start_time": "2021-02-02T10:55:59.997362Z"
    }
   },
   "outputs": [],
   "source": [
    "# 重命名\n",
    "df.rename({'euribor3m':\"euro_interest\"}, axis = 1, inplace = True)\n",
    "test.rename({'euribor3m':\"euro_interest\"}, axis = 1, inplace = True)"
   ]
  },
  {
   "cell_type": "code",
   "execution_count": 45,
   "metadata": {
    "ExecuteTime": {
     "end_time": "2021-02-02T10:56:00.154941Z",
     "start_time": "2021-02-02T10:56:00.009329Z"
    }
   },
   "outputs": [
    {
     "data": {
      "image/png": "[encoded data removed]",
      "text/plain": [
       "<Figure size 1080x360 with 1 Axes>"
      ]
     },
     "metadata": {
      "needs_background": "light"
     },
     "output_type": "display_data"
    }
   ],
   "source": [
    "### 概率密度函数\n",
    "plt.figure(figsize = (15,5))\n",
    "\n",
    "#plt.subplot(121)\n",
    "sns.kdeplot(df[df.y == 0][\"euro_interest\"])\n",
    "sns.kdeplot(df[df.y == 1][\"euro_interest\"])\n",
    "plt.legend(labels = [\"no\",\"yes\"])\n",
    "plt.title(\"confidence\")\n",
    "plt.show()"
   ]
  },
  {
   "cell_type": "markdown",
   "metadata": {},
   "source": [
    "### nr.employed"
   ]
  },
  {
   "cell_type": "code",
   "execution_count": 46,
   "metadata": {
    "ExecuteTime": {
     "end_time": "2021-02-02T10:56:00.165912Z",
     "start_time": "2021-02-02T10:56:00.155938Z"
    }
   },
   "outputs": [],
   "source": [
    "# 重命名\n",
    "df.rename({'nr.employed':\"no_employ\"}, axis = 1, inplace = True)\n",
    "test.rename({'nr.employed':\"no_employ\"}, axis = 1, inplace = True)"
   ]
  },
  {
   "cell_type": "code",
   "execution_count": 47,
   "metadata": {
    "ExecuteTime": {
     "end_time": "2021-02-02T10:56:00.328477Z",
     "start_time": "2021-02-02T10:56:00.166908Z"
    }
   },
   "outputs": [
    {
     "data": {
      "image/png": "[encoded data removed]",
      "text/plain": [
       "<Figure size 1080x360 with 1 Axes>"
      ]
     },
     "metadata": {
      "needs_background": "light"
     },
     "output_type": "display_data"
    }
   ],
   "source": [
    "### 概率密度函数\n",
    "plt.figure(figsize = (15,5))\n",
    "\n",
    "#plt.subplot(121)\n",
    "sns.kdeplot(df[df.y == 0][\"no_employ\"])\n",
    "sns.kdeplot(df[df.y == 1][\"no_employ\"])\n",
    "plt.legend(labels = [\"no\",\"yes\"])\n",
    "plt.title(\"number of employement\")\n",
    "plt.show()"
   ]
  },
  {
   "cell_type": "markdown",
   "metadata": {},
   "source": [
    "# 特征工程"
   ]
  },
  {
   "cell_type": "code",
   "execution_count": 48,
   "metadata": {
    "ExecuteTime": {
     "end_time": "2021-02-02T10:56:00.427212Z",
     "start_time": "2021-02-02T10:56:00.329490Z"
    }
   },
   "outputs": [
    {
     "data": {
      "text/plain": [
       "<matplotlib.axes._subplots.AxesSubplot at 0x1d674190ec8>"
      ]
     },
     "execution_count": 48,
     "metadata": {},
     "output_type": "execute_result"
    },
    {
     "data": {
      "image/png": "[encoded data removed]",
      "text/plain": [
       "<Figure size 432x288 with 1 Axes>"
      ]
     },
     "metadata": {
      "needs_background": "light"
     },
     "output_type": "display_data"
    }
   ],
   "source": [
    "# 这份数据直接舍弃了day\n",
    "# 画图\n",
    "sns.countplot(df[\"day_of_week\"])"
   ]
  },
  {
   "cell_type": "markdown",
   "metadata": {},
   "source": [
    "## total_call: 一共打了多少电话"
   ]
  },
  {
   "cell_type": "code",
   "execution_count": 49,
   "metadata": {
    "ExecuteTime": {
     "end_time": "2021-02-02T10:56:00.433197Z",
     "start_time": "2021-02-02T10:56:00.428209Z"
    }
   },
   "outputs": [],
   "source": [
    "# total_call = previous + campaign\n",
    "df[\"total_call\"] = df[\"previous\"] + df[\"campaign\"]\n",
    "\n",
    "# reshape\n",
    "total_call = df[\"total_call\"].values.reshape(-1,1)"
   ]
  },
  {
   "cell_type": "code",
   "execution_count": 50,
   "metadata": {
    "ExecuteTime": {
     "end_time": "2021-02-02T10:56:00.439179Z",
     "start_time": "2021-02-02T10:56:00.434193Z"
    }
   },
   "outputs": [],
   "source": [
    "# 在测试集上修改\n",
    "test[\"total_call\"] = test[\"previous\"] + test[\"campaign\"]"
   ]
  },
  {
   "cell_type": "code",
   "execution_count": 51,
   "metadata": {
    "ExecuteTime": {
     "end_time": "2021-02-02T10:56:00.557862Z",
     "start_time": "2021-02-02T10:56:00.440177Z"
    }
   },
   "outputs": [
    {
     "data": {
      "text/plain": [
       "<matplotlib.axes._subplots.AxesSubplot at 0x1d67484f3c8>"
      ]
     },
     "execution_count": 51,
     "metadata": {},
     "output_type": "execute_result"
    },
    {
     "data": {
      "image/png": "[encoded data removed]",
      "text/plain": [
       "<Figure size 432x288 with 1 Axes>"
      ]
     },
     "metadata": {
      "needs_background": "light"
     },
     "output_type": "display_data"
    }
   ],
   "source": [
    "# 查看campaign分布\n",
    "df['campaign'].hist()"
   ]
  },
  {
   "cell_type": "markdown",
   "metadata": {},
   "source": [
    "## 去掉previous，因为有了“是否联系过”作为dummy"
   ]
  },
  {
   "cell_type": "code",
   "execution_count": 52,
   "metadata": {
    "ExecuteTime": {
     "end_time": "2021-02-02T10:56:00.561852Z",
     "start_time": "2021-02-02T10:56:00.558860Z"
    }
   },
   "outputs": [],
   "source": [
    "# # 去掉previous\n",
    "# df.drop(columns = [\"previous\"], inplace = True)\n",
    "# test.drop(columns = [\"previous\"], inplace = True)"
   ]
  },
  {
   "cell_type": "markdown",
   "metadata": {},
   "source": [
    "## 去掉pdays"
   ]
  },
  {
   "cell_type": "code",
   "execution_count": 53,
   "metadata": {
    "ExecuteTime": {
     "end_time": "2021-02-02T10:56:00.572822Z",
     "start_time": "2021-02-02T10:56:00.562849Z"
    }
   },
   "outputs": [
    {
     "data": {
      "text/plain": [
       "count    1355.000000\n",
       "mean        6.032472\n",
       "std         3.815595\n",
       "min         0.000000\n",
       "25%         3.000000\n",
       "50%         6.000000\n",
       "75%         7.000000\n",
       "max        27.000000\n",
       "Name: pdays, dtype: float64"
      ]
     },
     "execution_count": 53,
     "metadata": {},
     "output_type": "execute_result"
    }
   ],
   "source": [
    "# 查看不为999情况的数据分布\n",
    "df[df.pdays != 999]['pdays'].describe()"
   ]
  },
  {
   "cell_type": "code",
   "execution_count": 54,
   "metadata": {
    "ExecuteTime": {
     "end_time": "2021-02-02T10:56:00.680535Z",
     "start_time": "2021-02-02T10:56:00.573820Z"
    }
   },
   "outputs": [
    {
     "data": {
      "text/plain": [
       "<matplotlib.axes._subplots.AxesSubplot at 0x1d674829448>"
      ]
     },
     "execution_count": 54,
     "metadata": {},
     "output_type": "execute_result"
    },
    {
     "data": {
      "image/png": "[encoded data removed]",
      "text/plain": [
       "<Figure size 432x288 with 1 Axes>"
      ]
     },
     "metadata": {
      "needs_background": "light"
     },
     "output_type": "display_data"
    }
   ],
   "source": [
    "df[df.pdays != 999]['pdays'].hist()"
   ]
  },
  {
   "cell_type": "code",
   "execution_count": 55,
   "metadata": {
    "ExecuteTime": {
     "end_time": "2021-02-02T10:56:00.797222Z",
     "start_time": "2021-02-02T10:56:00.681552Z"
    }
   },
   "outputs": [
    {
     "data": {
      "image/png": "[encoded data removed]",
      "text/plain": [
       "<Figure size 432x288 with 1 Axes>"
      ]
     },
     "metadata": {
      "needs_background": "light"
     },
     "output_type": "display_data"
    }
   ],
   "source": [
    "# 直接给pdays分箱，保留原来特征\n",
    "bins = [0,3,7,10,15,30,999]\n",
    "temp_col = pd.cut(df['pdays'],bins, labels = [1,2,3,4,5,6])\n",
    "temp_col[temp_col != 6].hist()\n",
    "plt.show()"
   ]
  },
  {
   "cell_type": "code",
   "execution_count": 56,
   "metadata": {
    "ExecuteTime": {
     "end_time": "2021-02-02T10:56:00.807194Z",
     "start_time": "2021-02-02T10:56:00.798219Z"
    }
   },
   "outputs": [],
   "source": [
    "# 修改训练集和测试集\n",
    "df['pdays'] = pd.cut(df['pdays'],bins, labels = [1,2,3,4,5,6])\n",
    "test['pdays'] = pd.cut(test['pdays'],bins, labels = [1,2,3,4,5,6])"
   ]
  },
  {
   "cell_type": "code",
   "execution_count": 57,
   "metadata": {
    "ExecuteTime": {
     "end_time": "2021-02-02T10:56:00.819163Z",
     "start_time": "2021-02-02T10:56:00.808192Z"
    }
   },
   "outputs": [],
   "source": [
    "# 去掉pdays\n",
    "df.drop(columns = [\"pdays\"], inplace = True)\n",
    "test.drop(columns = [\"pdays\"], inplace = True)"
   ]
  },
  {
   "cell_type": "markdown",
   "metadata": {},
   "source": [
    "## 从过去模型里可以知道，去掉default"
   ]
  },
  {
   "cell_type": "code",
   "execution_count": 58,
   "metadata": {
    "ExecuteTime": {
     "end_time": "2021-02-02T10:56:00.823153Z",
     "start_time": "2021-02-02T10:56:00.820160Z"
    }
   },
   "outputs": [],
   "source": [
    "# # 去掉pdays\n",
    "# df.drop(columns = [\"default\"], inplace = True)\n",
    "# test.drop(columns = [\"default\"], inplace = True)\n",
    "\n",
    "# # 从categorical_variables里去掉它\n",
    "# categorical_variables.remove('default')"
   ]
  },
  {
   "cell_type": "code",
   "execution_count": 59,
   "metadata": {
    "ExecuteTime": {
     "end_time": "2021-02-02T10:56:01.406593Z",
     "start_time": "2021-02-02T10:56:00.824150Z"
    }
   },
   "outputs": [
    {
     "data": {
      "image/png": "[encoded data removed]",
      "text/plain": [
       "<Figure size 1080x720 with 2 Axes>"
      ]
     },
     "metadata": {
      "needs_background": "light"
     },
     "output_type": "display_data"
    }
   ],
   "source": [
    "plt.figure(figsize = (15,10))\n",
    "sns.heatmap(df.corr(), annot = True,linewidths=.5)\n",
    "plt.title(\"相关系数\",size = 16)\n",
    "plt.show()"
   ]
  },
  {
   "cell_type": "markdown",
   "metadata": {},
   "source": [
    "## 从第一次运行结果来看，employ_rate和eruo_interest占比很重"
   ]
  },
  {
   "cell_type": "code",
   "execution_count": 60,
   "metadata": {
    "ExecuteTime": {
     "end_time": "2021-02-02T10:56:01.555195Z",
     "start_time": "2021-02-02T10:56:01.407590Z"
    }
   },
   "outputs": [
    {
     "data": {
      "text/plain": [
       "<matplotlib.axes._subplots.AxesSubplot at 0x1d674ebd4c8>"
      ]
     },
     "execution_count": 60,
     "metadata": {},
     "output_type": "execute_result"
    },
    {
     "data": {
      "image/png": "[encoded data removed]",
      "text/plain": [
       "<Figure size 432x288 with 1 Axes>"
      ]
     },
     "metadata": {
      "needs_background": "light"
     },
     "output_type": "display_data"
    }
   ],
   "source": [
    "# 分箱结果\n",
    "bins = [-4, -2, -1, 0, 2]\n",
    "labels = [-4,-2,-1, 1]\n",
    "pd.cut(df['employ_rate'], bins, labels = labels).hist()"
   ]
  },
  {
   "cell_type": "code",
   "execution_count": 61,
   "metadata": {
    "ExecuteTime": {
     "end_time": "2021-02-02T10:56:01.564170Z",
     "start_time": "2021-02-02T10:56:01.556192Z"
    }
   },
   "outputs": [],
   "source": [
    "# 给employ_rate 分箱\n",
    "df['employ_rate'] = pd.cut(df['employ_rate'], bins, labels = labels)\n",
    "test['employ_rate'] = pd.cut(test['employ_rate'], bins, labels = labels)"
   ]
  },
  {
   "cell_type": "code",
   "execution_count": 62,
   "metadata": {
    "ExecuteTime": {
     "end_time": "2021-02-02T10:56:01.668889Z",
     "start_time": "2021-02-02T10:56:01.565167Z"
    }
   },
   "outputs": [
    {
     "data": {
      "text/plain": [
       "<matplotlib.axes._subplots.AxesSubplot at 0x1d674e37548>"
      ]
     },
     "execution_count": 62,
     "metadata": {},
     "output_type": "execute_result"
    },
    {
     "data": {
      "image/png": "[encoded data removed]",
      "text/plain": [
       "<Figure size 432x288 with 1 Axes>"
      ]
     },
     "metadata": {
      "needs_background": "light"
     },
     "output_type": "display_data"
    }
   ],
   "source": [
    "## eruo\n",
    "df['euro_interest'].hist()"
   ]
  },
  {
   "cell_type": "code",
   "execution_count": 63,
   "metadata": {
    "ExecuteTime": {
     "end_time": "2021-02-02T10:56:01.674873Z",
     "start_time": "2021-02-02T10:56:01.669887Z"
    }
   },
   "outputs": [
    {
     "data": {
      "text/plain": [
       "312"
      ]
     },
     "execution_count": 63,
     "metadata": {},
     "output_type": "execute_result"
    }
   ],
   "source": [
    "# uniuque值个数\n",
    "df['euro_interest'].nunique()"
   ]
  },
  {
   "cell_type": "code",
   "execution_count": 64,
   "metadata": {
    "ExecuteTime": {
     "end_time": "2021-02-02T10:56:01.679860Z",
     "start_time": "2021-02-02T10:56:01.676868Z"
    }
   },
   "outputs": [],
   "source": [
    "# ## 分箱\n",
    "# bins = [0,1,2,3,4,5,6,7]\n",
    "# labels = [0,1,2,3,4,5,6]\n",
    "# pd.cut(df['euro_interest'],bins,labels = labels).hist()"
   ]
  },
  {
   "cell_type": "code",
   "execution_count": 65,
   "metadata": {
    "ExecuteTime": {
     "end_time": "2021-02-02T10:56:01.794566Z",
     "start_time": "2021-02-02T10:56:01.681855Z"
    }
   },
   "outputs": [
    {
     "data": {
      "text/plain": [
       "<matplotlib.axes._subplots.AxesSubplot at 0x1d674243308>"
      ]
     },
     "execution_count": 65,
     "metadata": {},
     "output_type": "execute_result"
    },
    {
     "data": {
      "image/png": "[encoded data removed]",
      "text/plain": [
       "<Figure size 432x288 with 1 Axes>"
      ]
     },
     "metadata": {
      "needs_background": "light"
     },
     "output_type": "display_data"
    }
   ],
   "source": [
    "## 分箱\n",
    "bins = [0,10,20,35,45,50,60,70]\n",
    "labels = [0,1,2,3,4,5,6]\n",
    "pd.cut(df['euro_interest']*10,bins,labels = labels).hist()"
   ]
  },
  {
   "cell_type": "code",
   "execution_count": 66,
   "metadata": {
    "ExecuteTime": {
     "end_time": "2021-02-02T10:56:01.804526Z",
     "start_time": "2021-02-02T10:56:01.795551Z"
    }
   },
   "outputs": [],
   "source": [
    "# euro分箱\n",
    "df['euro_interest'] = pd.cut(df['euro_interest']*10,bins,labels = labels)\n",
    "test['euro_interest'] = pd.cut(test['euro_interest']*10, bins, labels = labels)"
   ]
  },
  {
   "cell_type": "markdown",
   "metadata": {},
   "source": [
    "## 从第二次运行及结果看：调整no_employ"
   ]
  },
  {
   "cell_type": "code",
   "execution_count": 67,
   "metadata": {
    "ExecuteTime": {
     "end_time": "2021-02-02T10:56:01.817492Z",
     "start_time": "2021-02-02T10:56:01.811508Z"
    }
   },
   "outputs": [
    {
     "data": {
      "text/plain": [
       "5228.1    14597\n",
       "5099.1     7707\n",
       "5191.0     7003\n",
       "5195.8     3289\n",
       "5076.2     1497\n",
       "5017.5      965\n",
       "4991.6      686\n",
       "5008.7      590\n",
       "4963.6      552\n",
       "5023.5      151\n",
       "5176.3        9\n",
       "Name: no_employ, dtype: int64"
      ]
     },
     "execution_count": 67,
     "metadata": {},
     "output_type": "execute_result"
    }
   ],
   "source": [
    "df['no_employ'].value_counts()"
   ]
  },
  {
   "cell_type": "code",
   "execution_count": 68,
   "metadata": {
    "ExecuteTime": {
     "end_time": "2021-02-02T10:56:01.971081Z",
     "start_time": "2021-02-02T10:56:01.820484Z"
    }
   },
   "outputs": [
    {
     "data": {
      "text/plain": [
       "<matplotlib.axes._subplots.AxesSubplot at 0x1d6748bd488>"
      ]
     },
     "execution_count": 68,
     "metadata": {},
     "output_type": "execute_result"
    },
    {
     "data": {
      "image/png": "[encoded data removed]",
      "text/plain": [
       "<Figure size 432x288 with 1 Axes>"
      ]
     },
     "metadata": {
      "needs_background": "light"
     },
     "output_type": "display_data"
    }
   ],
   "source": [
    "sns.distplot(df['no_employ'])"
   ]
  },
  {
   "cell_type": "code",
   "execution_count": 69,
   "metadata": {
    "ExecuteTime": {
     "end_time": "2021-02-02T10:56:02.097747Z",
     "start_time": "2021-02-02T10:56:01.972078Z"
    }
   },
   "outputs": [
    {
     "data": {
      "text/plain": [
       "<matplotlib.axes._subplots.AxesSubplot at 0x1d67452ad88>"
      ]
     },
     "execution_count": 69,
     "metadata": {},
     "output_type": "execute_result"
    },
    {
     "data": {
      "image/png": "[encoded data removed]",
      "text/plain": [
       "<Figure size 432x288 with 1 Axes>"
      ]
     },
     "metadata": {
      "needs_background": "light"
     },
     "output_type": "display_data"
    }
   ],
   "source": [
    "# 直接分三个箱\n",
    "bins = [4000,5100,5200,5300]\n",
    "labels = [1,2,3]\n",
    "pd.cut(df['no_employ'], bins, labels = labels).hist()"
   ]
  },
  {
   "cell_type": "code",
   "execution_count": 70,
   "metadata": {
    "ExecuteTime": {
     "end_time": "2021-02-02T10:56:02.106717Z",
     "start_time": "2021-02-02T10:56:02.099740Z"
    }
   },
   "outputs": [],
   "source": [
    "df['no_employ'] = pd.cut(df['no_employ'], bins, labels = labels)\n",
    "test['no_employ'] = pd.cut(test['no_employ'], bins, labels = labels)"
   ]
  },
  {
   "cell_type": "markdown",
   "metadata": {},
   "source": [
    "## 数据转换"
   ]
  },
  {
   "cell_type": "code",
   "execution_count": 71,
   "metadata": {
    "ExecuteTime": {
     "end_time": "2021-02-02T10:56:02.139629Z",
     "start_time": "2021-02-02T10:56:02.107715Z"
    }
   },
   "outputs": [],
   "source": [
    "# 修改为数字\n",
    "from sklearn.preprocessing import LabelEncoder\n",
    "le = LabelEncoder()"
   ]
  },
  {
   "cell_type": "code",
   "execution_count": 72,
   "metadata": {
    "ExecuteTime": {
     "end_time": "2021-02-02T10:56:02.198500Z",
     "start_time": "2021-02-02T10:56:02.140659Z"
    }
   },
   "outputs": [
    {
     "data": {
      "text/html": [
       "<div>\n",
       "<style scoped>\n",
       "    .dataframe tbody tr th:only-of-type {\n",
       "        vertical-align: middle;\n",
       "    }\n",
       "\n",
       "    .dataframe tbody tr th {\n",
       "        vertical-align: top;\n",
       "    }\n",
       "\n",
       "    .dataframe thead th {\n",
       "        text-align: right;\n",
       "    }\n",
       "</style>\n",
       "<table border=\"1\" class=\"dataframe\">\n",
       "  <thead>\n",
       "    <tr style=\"text-align: right;\">\n",
       "      <th></th>\n",
       "      <th>age</th>\n",
       "      <th>job</th>\n",
       "      <th>marital</th>\n",
       "      <th>education</th>\n",
       "      <th>default</th>\n",
       "      <th>housing</th>\n",
       "      <th>loan</th>\n",
       "      <th>contact</th>\n",
       "      <th>month</th>\n",
       "      <th>day_of_week</th>\n",
       "      <th>...</th>\n",
       "      <th>previous</th>\n",
       "      <th>poutcome</th>\n",
       "      <th>employ_rate</th>\n",
       "      <th>prc_index</th>\n",
       "      <th>confidence</th>\n",
       "      <th>euro_interest</th>\n",
       "      <th>no_employ</th>\n",
       "      <th>y</th>\n",
       "      <th>是否联系过</th>\n",
       "      <th>total_call</th>\n",
       "    </tr>\n",
       "  </thead>\n",
       "  <tbody>\n",
       "    <tr>\n",
       "      <th>0</th>\n",
       "      <td>56</td>\n",
       "      <td>3</td>\n",
       "      <td>1</td>\n",
       "      <td>0</td>\n",
       "      <td>0</td>\n",
       "      <td>0</td>\n",
       "      <td>0</td>\n",
       "      <td>1</td>\n",
       "      <td>6</td>\n",
       "      <td>1</td>\n",
       "      <td>...</td>\n",
       "      <td>0</td>\n",
       "      <td>1</td>\n",
       "      <td>1</td>\n",
       "      <td>93.994</td>\n",
       "      <td>-36.4</td>\n",
       "      <td>4</td>\n",
       "      <td>2</td>\n",
       "      <td>0</td>\n",
       "      <td>0</td>\n",
       "      <td>1</td>\n",
       "    </tr>\n",
       "    <tr>\n",
       "      <th>1</th>\n",
       "      <td>57</td>\n",
       "      <td>7</td>\n",
       "      <td>1</td>\n",
       "      <td>3</td>\n",
       "      <td>1</td>\n",
       "      <td>0</td>\n",
       "      <td>0</td>\n",
       "      <td>1</td>\n",
       "      <td>6</td>\n",
       "      <td>1</td>\n",
       "      <td>...</td>\n",
       "      <td>0</td>\n",
       "      <td>1</td>\n",
       "      <td>1</td>\n",
       "      <td>93.994</td>\n",
       "      <td>-36.4</td>\n",
       "      <td>4</td>\n",
       "      <td>2</td>\n",
       "      <td>0</td>\n",
       "      <td>0</td>\n",
       "      <td>1</td>\n",
       "    </tr>\n",
       "    <tr>\n",
       "      <th>2</th>\n",
       "      <td>37</td>\n",
       "      <td>7</td>\n",
       "      <td>1</td>\n",
       "      <td>3</td>\n",
       "      <td>0</td>\n",
       "      <td>2</td>\n",
       "      <td>0</td>\n",
       "      <td>1</td>\n",
       "      <td>6</td>\n",
       "      <td>1</td>\n",
       "      <td>...</td>\n",
       "      <td>0</td>\n",
       "      <td>1</td>\n",
       "      <td>1</td>\n",
       "      <td>93.994</td>\n",
       "      <td>-36.4</td>\n",
       "      <td>4</td>\n",
       "      <td>2</td>\n",
       "      <td>0</td>\n",
       "      <td>0</td>\n",
       "      <td>1</td>\n",
       "    </tr>\n",
       "    <tr>\n",
       "      <th>3</th>\n",
       "      <td>40</td>\n",
       "      <td>0</td>\n",
       "      <td>1</td>\n",
       "      <td>1</td>\n",
       "      <td>0</td>\n",
       "      <td>0</td>\n",
       "      <td>0</td>\n",
       "      <td>1</td>\n",
       "      <td>6</td>\n",
       "      <td>1</td>\n",
       "      <td>...</td>\n",
       "      <td>0</td>\n",
       "      <td>1</td>\n",
       "      <td>1</td>\n",
       "      <td>93.994</td>\n",
       "      <td>-36.4</td>\n",
       "      <td>4</td>\n",
       "      <td>2</td>\n",
       "      <td>0</td>\n",
       "      <td>0</td>\n",
       "      <td>1</td>\n",
       "    </tr>\n",
       "    <tr>\n",
       "      <th>4</th>\n",
       "      <td>56</td>\n",
       "      <td>7</td>\n",
       "      <td>1</td>\n",
       "      <td>3</td>\n",
       "      <td>0</td>\n",
       "      <td>0</td>\n",
       "      <td>2</td>\n",
       "      <td>1</td>\n",
       "      <td>6</td>\n",
       "      <td>1</td>\n",
       "      <td>...</td>\n",
       "      <td>0</td>\n",
       "      <td>1</td>\n",
       "      <td>1</td>\n",
       "      <td>93.994</td>\n",
       "      <td>-36.4</td>\n",
       "      <td>4</td>\n",
       "      <td>2</td>\n",
       "      <td>0</td>\n",
       "      <td>0</td>\n",
       "      <td>1</td>\n",
       "    </tr>\n",
       "  </tbody>\n",
       "</table>\n",
       "<p>5 rows × 21 columns</p>\n",
       "</div>"
      ],
      "text/plain": [
       "   age  job  marital  education  default  housing  loan  contact  month  \\\n",
       "0   56    3        1          0        0        0     0        1      6   \n",
       "1   57    7        1          3        1        0     0        1      6   \n",
       "2   37    7        1          3        0        2     0        1      6   \n",
       "3   40    0        1          1        0        0     0        1      6   \n",
       "4   56    7        1          3        0        0     2        1      6   \n",
       "\n",
       "   day_of_week  ...  previous  poutcome  employ_rate prc_index  confidence  \\\n",
       "0            1  ...         0         1            1    93.994       -36.4   \n",
       "1            1  ...         0         1            1    93.994       -36.4   \n",
       "2            1  ...         0         1            1    93.994       -36.4   \n",
       "3            1  ...         0         1            1    93.994       -36.4   \n",
       "4            1  ...         0         1            1    93.994       -36.4   \n",
       "\n",
       "   euro_interest no_employ  y  是否联系过  total_call  \n",
       "0              4         2  0      0           1  \n",
       "1              4         2  0      0           1  \n",
       "2              4         2  0      0           1  \n",
       "3              4         2  0      0           1  \n",
       "4              4         2  0      0           1  \n",
       "\n",
       "[5 rows x 21 columns]"
      ]
     },
     "execution_count": 72,
     "metadata": {},
     "output_type": "execute_result"
    }
   ],
   "source": [
    "for var in categorical_variables:\n",
    "    df[var] = df[var].astype('category').cat.codes\n",
    "    test[var] = test[var].astype(\"category\").cat.codes\n",
    "df.head()"
   ]
  },
  {
   "cell_type": "code",
   "execution_count": 73,
   "metadata": {
    "ExecuteTime": {
     "end_time": "2021-02-02T10:56:02.223407Z",
     "start_time": "2021-02-02T10:56:02.199469Z"
    }
   },
   "outputs": [
    {
     "name": "stdout",
     "output_type": "stream",
     "text": [
      "【变量名job:】\n",
      "0     9404\n",
      "1     8368\n",
      "9     6045\n",
      "7     3572\n",
      "4     2600\n",
      "5     1550\n",
      "2     1308\n",
      "6     1262\n",
      "3      950\n",
      "10     903\n",
      "8      793\n",
      "11     291\n",
      "Name: job, dtype: int64 \n",
      " ------------------------------\n",
      "【变量名marital:】\n",
      "1    22405\n",
      "2    10408\n",
      "0     4164\n",
      "3       69\n",
      "Name: marital, dtype: int64 \n",
      " ------------------------------\n",
      "【变量名education:】\n",
      "6    10896\n",
      "3     8588\n",
      "2     5471\n",
      "5     4703\n",
      "0     3747\n",
      "1     2062\n",
      "7     1562\n",
      "4       17\n",
      "Name: education, dtype: int64 \n",
      " ------------------------------\n",
      "【变量名default:】\n",
      "0    29252\n",
      "1     7792\n",
      "2        2\n",
      "Name: default, dtype: int64 \n",
      " ------------------------------\n",
      "【变量名housing:】\n",
      "2    19392\n",
      "0    16769\n",
      "1      885\n",
      "Name: housing, dtype: int64 \n",
      " ------------------------------\n",
      "【变量名loan:】\n",
      "0    30578\n",
      "2     5583\n",
      "1      885\n",
      "Name: loan, dtype: int64 \n",
      " ------------------------------\n",
      "【变量名contact:】\n",
      "0    23475\n",
      "1    13571\n",
      "Name: contact, dtype: int64 \n",
      " ------------------------------\n",
      "【变量名month:】\n",
      "6    12387\n",
      "3     6454\n",
      "1     5538\n",
      "4     4788\n",
      "7     3653\n",
      "0     2415\n",
      "8      647\n",
      "9      506\n",
      "5      498\n",
      "2      160\n",
      "Name: month, dtype: int64 \n",
      " ------------------------------\n",
      "【变量名day_of_week:】\n",
      "2    7754\n",
      "1    7655\n",
      "4    7339\n",
      "3    7241\n",
      "0    7057\n",
      "Name: day_of_week, dtype: int64 \n",
      " ------------------------------\n",
      "【变量名poutcome:】\n",
      "1    32017\n",
      "0     3798\n",
      "2     1231\n",
      "Name: poutcome, dtype: int64 \n",
      " ------------------------------\n",
      "【变量名y:】\n",
      "0    32859\n",
      "1     4187\n",
      "Name: y, dtype: int64 \n",
      " ------------------------------\n"
     ]
    }
   ],
   "source": [
    "# 查看数据分布\n",
    "for var in categorical_variables:\n",
    "    print(\"【变量名%s:】\"%var)\n",
    "    print(df[var].value_counts(),\"\\n\",\"-\"*30)"
   ]
  },
  {
   "cell_type": "markdown",
   "metadata": {},
   "source": [
    "# RandomForest"
   ]
  },
  {
   "cell_type": "code",
   "execution_count": 74,
   "metadata": {
    "ExecuteTime": {
     "end_time": "2021-02-02T10:56:02.321155Z",
     "start_time": "2021-02-02T10:56:02.224403Z"
    }
   },
   "outputs": [],
   "source": [
    "from sklearn.metrics import roc_auc_score\n",
    "from sklearn.metrics import classification_report\n",
    "from sklearn.ensemble import RandomForestClassifier\n",
    "from sklearn import tree\n",
    "from sklearn.tree import DecisionTreeClassifier\n",
    "\n",
    "seed = 12345"
   ]
  },
  {
   "cell_type": "code",
   "execution_count": 75,
   "metadata": {
    "ExecuteTime": {
     "end_time": "2021-02-02T10:56:02.332115Z",
     "start_time": "2021-02-02T10:56:02.322142Z"
    }
   },
   "outputs": [],
   "source": [
    "# 准备训练集\n",
    "var_x = list(set(df.columns) - set(\"y\")) # 自变量\n",
    "train_x, train_y = df[var_x],df[\"y\"]\n",
    "\n",
    "# 准备测试集\n",
    "test_x, test_y = test[var_x],test[\"y\"]"
   ]
  },
  {
   "cell_type": "markdown",
   "metadata": {},
   "source": [
    "## 初步建立模型"
   ]
  },
  {
   "cell_type": "code",
   "execution_count": 76,
   "metadata": {
    "ExecuteTime": {
     "end_time": "2021-02-02T10:56:05.000429Z",
     "start_time": "2021-02-02T10:56:02.333112Z"
    }
   },
   "outputs": [
    {
     "data": {
      "text/plain": [
       "RandomForestClassifier(bootstrap=True, ccp_alpha=0.0, class_weight='balanced',\n",
       "                       criterion='gini', max_depth=None, max_features='sqrt',\n",
       "                       max_leaf_nodes=None, max_samples=None,\n",
       "                       min_impurity_decrease=0.0, min_impurity_split=None,\n",
       "                       min_samples_leaf=1, min_samples_split=2,\n",
       "                       min_weight_fraction_leaf=0.0, n_estimators=100,\n",
       "                       n_jobs=None, oob_score=True, random_state=12345,\n",
       "                       verbose=0, warm_start=False)"
      ]
     },
     "execution_count": 76,
     "metadata": {},
     "output_type": "execute_result"
    }
   ],
   "source": [
    "rf_1 = RandomForestClassifier(criterion = \"gini\",\n",
    "                             n_estimators = 100,\n",
    "                             max_features = \"sqrt\",\n",
    "                             bootstrap = True,\n",
    "                             oob_score = True,\n",
    "                             class_weight = \"balanced\",\n",
    "                             random_state = seed)\n",
    "rf_1.fit(train_x, train_y)"
   ]
  },
  {
   "cell_type": "code",
   "execution_count": 77,
   "metadata": {
    "ExecuteTime": {
     "end_time": "2021-02-02T10:56:05.027357Z",
     "start_time": "2021-02-02T10:56:05.002425Z"
    }
   },
   "outputs": [
    {
     "data": {
      "text/html": [
       "<div>\n",
       "<style scoped>\n",
       "    .dataframe tbody tr th:only-of-type {\n",
       "        vertical-align: middle;\n",
       "    }\n",
       "\n",
       "    .dataframe tbody tr th {\n",
       "        vertical-align: top;\n",
       "    }\n",
       "\n",
       "    .dataframe thead th {\n",
       "        text-align: right;\n",
       "    }\n",
       "</style>\n",
       "<table border=\"1\" class=\"dataframe\">\n",
       "  <thead>\n",
       "    <tr style=\"text-align: right;\">\n",
       "      <th></th>\n",
       "      <th>feature</th>\n",
       "      <th>score</th>\n",
       "    </tr>\n",
       "  </thead>\n",
       "  <tbody>\n",
       "    <tr>\n",
       "      <th>9</th>\n",
       "      <td>age</td>\n",
       "      <td>0.189967</td>\n",
       "    </tr>\n",
       "    <tr>\n",
       "      <th>4</th>\n",
       "      <td>job</td>\n",
       "      <td>0.087883</td>\n",
       "    </tr>\n",
       "    <tr>\n",
       "      <th>11</th>\n",
       "      <td>day_of_week</td>\n",
       "      <td>0.082867</td>\n",
       "    </tr>\n",
       "    <tr>\n",
       "      <th>13</th>\n",
       "      <td>education</td>\n",
       "      <td>0.081779</td>\n",
       "    </tr>\n",
       "    <tr>\n",
       "      <th>12</th>\n",
       "      <td>euro_interest</td>\n",
       "      <td>0.065714</td>\n",
       "    </tr>\n",
       "    <tr>\n",
       "      <th>16</th>\n",
       "      <td>no_employ</td>\n",
       "      <td>0.054981</td>\n",
       "    </tr>\n",
       "    <tr>\n",
       "      <th>3</th>\n",
       "      <td>total_call</td>\n",
       "      <td>0.052090</td>\n",
       "    </tr>\n",
       "    <tr>\n",
       "      <th>0</th>\n",
       "      <td>campaign</td>\n",
       "      <td>0.051736</td>\n",
       "    </tr>\n",
       "    <tr>\n",
       "      <th>6</th>\n",
       "      <td>employ_rate</td>\n",
       "      <td>0.046357</td>\n",
       "    </tr>\n",
       "    <tr>\n",
       "      <th>7</th>\n",
       "      <td>marital</td>\n",
       "      <td>0.042588</td>\n",
       "    </tr>\n",
       "    <tr>\n",
       "      <th>18</th>\n",
       "      <td>confidence</td>\n",
       "      <td>0.038334</td>\n",
       "    </tr>\n",
       "    <tr>\n",
       "      <th>10</th>\n",
       "      <td>prc_index</td>\n",
       "      <td>0.035237</td>\n",
       "    </tr>\n",
       "    <tr>\n",
       "      <th>1</th>\n",
       "      <td>housing</td>\n",
       "      <td>0.033124</td>\n",
       "    </tr>\n",
       "    <tr>\n",
       "      <th>15</th>\n",
       "      <td>month</td>\n",
       "      <td>0.025321</td>\n",
       "    </tr>\n",
       "    <tr>\n",
       "      <th>19</th>\n",
       "      <td>loan</td>\n",
       "      <td>0.024985</td>\n",
       "    </tr>\n",
       "    <tr>\n",
       "      <th>14</th>\n",
       "      <td>poutcome</td>\n",
       "      <td>0.020670</td>\n",
       "    </tr>\n",
       "    <tr>\n",
       "      <th>17</th>\n",
       "      <td>default</td>\n",
       "      <td>0.019902</td>\n",
       "    </tr>\n",
       "    <tr>\n",
       "      <th>8</th>\n",
       "      <td>是否联系过</td>\n",
       "      <td>0.019058</td>\n",
       "    </tr>\n",
       "    <tr>\n",
       "      <th>5</th>\n",
       "      <td>contact</td>\n",
       "      <td>0.015987</td>\n",
       "    </tr>\n",
       "    <tr>\n",
       "      <th>2</th>\n",
       "      <td>previous</td>\n",
       "      <td>0.011419</td>\n",
       "    </tr>\n",
       "  </tbody>\n",
       "</table>\n",
       "</div>"
      ],
      "text/plain": [
       "          feature     score\n",
       "9             age  0.189967\n",
       "4             job  0.087883\n",
       "11    day_of_week  0.082867\n",
       "13      education  0.081779\n",
       "12  euro_interest  0.065714\n",
       "16      no_employ  0.054981\n",
       "3      total_call  0.052090\n",
       "0        campaign  0.051736\n",
       "6     employ_rate  0.046357\n",
       "7         marital  0.042588\n",
       "18     confidence  0.038334\n",
       "10      prc_index  0.035237\n",
       "1         housing  0.033124\n",
       "15          month  0.025321\n",
       "19           loan  0.024985\n",
       "14       poutcome  0.020670\n",
       "17        default  0.019902\n",
       "8           是否联系过  0.019058\n",
       "5         contact  0.015987\n",
       "2        previous  0.011419"
      ]
     },
     "execution_count": 77,
     "metadata": {},
     "output_type": "execute_result"
    }
   ],
   "source": [
    "# 制作data frame 并查看结果\n",
    "features = pd.DataFrame({\"feature\": var_x, \"score\":rf_1.feature_importances_ })\n",
    "features.sort_values(by = \"score\",inplace = True, ascending = False)\n",
    "features"
   ]
  },
  {
   "cell_type": "code",
   "execution_count": 78,
   "metadata": {
    "ExecuteTime": {
     "end_time": "2021-02-02T10:56:05.249761Z",
     "start_time": "2021-02-02T10:56:05.028372Z"
    }
   },
   "outputs": [
    {
     "data": {
      "image/png": "[encoded data removed]",
      "text/plain": [
       "<Figure size 720x432 with 1 Axes>"
      ]
     },
     "metadata": {
      "needs_background": "light"
     },
     "output_type": "display_data"
    }
   ],
   "source": [
    "# 画图\n",
    "plt.figure(figsize = (10,6))\n",
    "sns.barplot(y = \"feature\", x = \"score\", data = features, orient = 'h' )\n",
    "plt.title(\"Feature Importance\", size = 16)\n",
    "plt.xticks(rotation = 30, size = 14)\n",
    "plt.yticks(size = 14)\n",
    "plt.show()"
   ]
  },
  {
   "cell_type": "code",
   "execution_count": 79,
   "metadata": {
    "ExecuteTime": {
     "end_time": "2021-02-02T10:56:05.266716Z",
     "start_time": "2021-02-02T10:56:05.250760Z"
    }
   },
   "outputs": [
    {
     "data": {
      "text/html": [
       "<div>\n",
       "<style scoped>\n",
       "    .dataframe tbody tr th:only-of-type {\n",
       "        vertical-align: middle;\n",
       "    }\n",
       "\n",
       "    .dataframe tbody tr th {\n",
       "        vertical-align: top;\n",
       "    }\n",
       "\n",
       "    .dataframe thead th {\n",
       "        text-align: right;\n",
       "    }\n",
       "</style>\n",
       "<table border=\"1\" class=\"dataframe\">\n",
       "  <thead>\n",
       "    <tr style=\"text-align: right;\">\n",
       "      <th></th>\n",
       "      <th>age</th>\n",
       "      <th>job</th>\n",
       "      <th>marital</th>\n",
       "      <th>education</th>\n",
       "      <th>default</th>\n",
       "      <th>housing</th>\n",
       "      <th>loan</th>\n",
       "      <th>contact</th>\n",
       "      <th>month</th>\n",
       "      <th>day_of_week</th>\n",
       "      <th>...</th>\n",
       "      <th>previous</th>\n",
       "      <th>poutcome</th>\n",
       "      <th>employ_rate</th>\n",
       "      <th>prc_index</th>\n",
       "      <th>confidence</th>\n",
       "      <th>euro_interest</th>\n",
       "      <th>no_employ</th>\n",
       "      <th>y</th>\n",
       "      <th>是否联系过</th>\n",
       "      <th>total_call</th>\n",
       "    </tr>\n",
       "  </thead>\n",
       "  <tbody>\n",
       "    <tr>\n",
       "      <th>16</th>\n",
       "      <td>44</td>\n",
       "      <td>0</td>\n",
       "      <td>0</td>\n",
       "      <td>6</td>\n",
       "      <td>0</td>\n",
       "      <td>0</td>\n",
       "      <td>0</td>\n",
       "      <td>0</td>\n",
       "      <td>3</td>\n",
       "      <td>4</td>\n",
       "      <td>...</td>\n",
       "      <td>0</td>\n",
       "      <td>1</td>\n",
       "      <td>1</td>\n",
       "      <td>93.918</td>\n",
       "      <td>-42.7</td>\n",
       "      <td>4</td>\n",
       "      <td>3</td>\n",
       "      <td>0</td>\n",
       "      <td>0</td>\n",
       "      <td>6</td>\n",
       "    </tr>\n",
       "    <tr>\n",
       "      <th>17</th>\n",
       "      <td>46</td>\n",
       "      <td>0</td>\n",
       "      <td>0</td>\n",
       "      <td>6</td>\n",
       "      <td>0</td>\n",
       "      <td>2</td>\n",
       "      <td>0</td>\n",
       "      <td>1</td>\n",
       "      <td>3</td>\n",
       "      <td>1</td>\n",
       "      <td>...</td>\n",
       "      <td>0</td>\n",
       "      <td>1</td>\n",
       "      <td>1</td>\n",
       "      <td>93.918</td>\n",
       "      <td>-42.7</td>\n",
       "      <td>4</td>\n",
       "      <td>3</td>\n",
       "      <td>0</td>\n",
       "      <td>0</td>\n",
       "      <td>4</td>\n",
       "    </tr>\n",
       "  </tbody>\n",
       "</table>\n",
       "<p>2 rows × 21 columns</p>\n",
       "</div>"
      ],
      "text/plain": [
       "    age  job  marital  education  default  housing  loan  contact  month  \\\n",
       "16   44    0        0          6        0        0     0        0      3   \n",
       "17   46    0        0          6        0        2     0        1      3   \n",
       "\n",
       "    day_of_week  ...  previous  poutcome  employ_rate prc_index  confidence  \\\n",
       "16            4  ...         0         1            1    93.918       -42.7   \n",
       "17            1  ...         0         1            1    93.918       -42.7   \n",
       "\n",
       "    euro_interest no_employ  y  是否联系过  total_call  \n",
       "16              4         3  0      0           6  \n",
       "17              4         3  0      0           4  \n",
       "\n",
       "[2 rows x 21 columns]"
      ]
     },
     "execution_count": 79,
     "metadata": {},
     "output_type": "execute_result"
    }
   ],
   "source": [
    "test.iloc[[16,17]]"
   ]
  },
  {
   "cell_type": "code",
   "execution_count": 80,
   "metadata": {
    "ExecuteTime": {
     "end_time": "2021-02-02T10:56:05.296478Z",
     "start_time": "2021-02-02T10:56:05.268711Z"
    }
   },
   "outputs": [
    {
     "data": {
      "text/html": [
       "<div>\n",
       "<style scoped>\n",
       "    .dataframe tbody tr th:only-of-type {\n",
       "        vertical-align: middle;\n",
       "    }\n",
       "\n",
       "    .dataframe tbody tr th {\n",
       "        vertical-align: top;\n",
       "    }\n",
       "\n",
       "    .dataframe thead th {\n",
       "        text-align: right;\n",
       "    }\n",
       "</style>\n",
       "<table border=\"1\" class=\"dataframe\">\n",
       "  <thead>\n",
       "    <tr style=\"text-align: right;\">\n",
       "      <th></th>\n",
       "      <th>campaign</th>\n",
       "      <th>housing</th>\n",
       "      <th>previous</th>\n",
       "      <th>total_call</th>\n",
       "      <th>job</th>\n",
       "      <th>contact</th>\n",
       "      <th>employ_rate</th>\n",
       "      <th>marital</th>\n",
       "      <th>是否联系过</th>\n",
       "      <th>age</th>\n",
       "      <th>prc_index</th>\n",
       "      <th>day_of_week</th>\n",
       "      <th>euro_interest</th>\n",
       "      <th>education</th>\n",
       "      <th>poutcome</th>\n",
       "      <th>month</th>\n",
       "      <th>no_employ</th>\n",
       "      <th>default</th>\n",
       "      <th>confidence</th>\n",
       "      <th>loan</th>\n",
       "    </tr>\n",
       "  </thead>\n",
       "  <tbody>\n",
       "    <tr>\n",
       "      <th>0</th>\n",
       "      <td>2</td>\n",
       "      <td>2</td>\n",
       "      <td>0</td>\n",
       "      <td>2</td>\n",
       "      <td>1</td>\n",
       "      <td>0</td>\n",
       "      <td>-2</td>\n",
       "      <td>1</td>\n",
       "      <td>0</td>\n",
       "      <td>30</td>\n",
       "      <td>92.893</td>\n",
       "      <td>0</td>\n",
       "      <td>1</td>\n",
       "      <td>2</td>\n",
       "      <td>1</td>\n",
       "      <td>6</td>\n",
       "      <td>1</td>\n",
       "      <td>0</td>\n",
       "      <td>-46.2</td>\n",
       "      <td>0</td>\n",
       "    </tr>\n",
       "    <tr>\n",
       "      <th>1</th>\n",
       "      <td>4</td>\n",
       "      <td>0</td>\n",
       "      <td>0</td>\n",
       "      <td>4</td>\n",
       "      <td>7</td>\n",
       "      <td>1</td>\n",
       "      <td>1</td>\n",
       "      <td>2</td>\n",
       "      <td>0</td>\n",
       "      <td>39</td>\n",
       "      <td>93.994</td>\n",
       "      <td>0</td>\n",
       "      <td>4</td>\n",
       "      <td>3</td>\n",
       "      <td>1</td>\n",
       "      <td>6</td>\n",
       "      <td>2</td>\n",
       "      <td>0</td>\n",
       "      <td>-36.4</td>\n",
       "      <td>0</td>\n",
       "    </tr>\n",
       "    <tr>\n",
       "      <th>2</th>\n",
       "      <td>1</td>\n",
       "      <td>2</td>\n",
       "      <td>0</td>\n",
       "      <td>1</td>\n",
       "      <td>7</td>\n",
       "      <td>1</td>\n",
       "      <td>1</td>\n",
       "      <td>1</td>\n",
       "      <td>0</td>\n",
       "      <td>25</td>\n",
       "      <td>94.465</td>\n",
       "      <td>4</td>\n",
       "      <td>4</td>\n",
       "      <td>3</td>\n",
       "      <td>1</td>\n",
       "      <td>4</td>\n",
       "      <td>3</td>\n",
       "      <td>0</td>\n",
       "      <td>-41.8</td>\n",
       "      <td>0</td>\n",
       "    </tr>\n",
       "    <tr>\n",
       "      <th>3</th>\n",
       "      <td>3</td>\n",
       "      <td>1</td>\n",
       "      <td>0</td>\n",
       "      <td>3</td>\n",
       "      <td>7</td>\n",
       "      <td>1</td>\n",
       "      <td>1</td>\n",
       "      <td>1</td>\n",
       "      <td>0</td>\n",
       "      <td>38</td>\n",
       "      <td>94.465</td>\n",
       "      <td>0</td>\n",
       "      <td>4</td>\n",
       "      <td>2</td>\n",
       "      <td>1</td>\n",
       "      <td>4</td>\n",
       "      <td>3</td>\n",
       "      <td>0</td>\n",
       "      <td>-41.8</td>\n",
       "      <td>1</td>\n",
       "    </tr>\n",
       "    <tr>\n",
       "      <th>4</th>\n",
       "      <td>1</td>\n",
       "      <td>2</td>\n",
       "      <td>0</td>\n",
       "      <td>1</td>\n",
       "      <td>0</td>\n",
       "      <td>0</td>\n",
       "      <td>-1</td>\n",
       "      <td>1</td>\n",
       "      <td>0</td>\n",
       "      <td>47</td>\n",
       "      <td>93.200</td>\n",
       "      <td>1</td>\n",
       "      <td>3</td>\n",
       "      <td>6</td>\n",
       "      <td>1</td>\n",
       "      <td>7</td>\n",
       "      <td>2</td>\n",
       "      <td>0</td>\n",
       "      <td>-42.0</td>\n",
       "      <td>0</td>\n",
       "    </tr>\n",
       "    <tr>\n",
       "      <th>...</th>\n",
       "      <td>...</td>\n",
       "      <td>...</td>\n",
       "      <td>...</td>\n",
       "      <td>...</td>\n",
       "      <td>...</td>\n",
       "      <td>...</td>\n",
       "      <td>...</td>\n",
       "      <td>...</td>\n",
       "      <td>...</td>\n",
       "      <td>...</td>\n",
       "      <td>...</td>\n",
       "      <td>...</td>\n",
       "      <td>...</td>\n",
       "      <td>...</td>\n",
       "      <td>...</td>\n",
       "      <td>...</td>\n",
       "      <td>...</td>\n",
       "      <td>...</td>\n",
       "      <td>...</td>\n",
       "      <td>...</td>\n",
       "    </tr>\n",
       "    <tr>\n",
       "      <th>4114</th>\n",
       "      <td>1</td>\n",
       "      <td>2</td>\n",
       "      <td>0</td>\n",
       "      <td>1</td>\n",
       "      <td>0</td>\n",
       "      <td>0</td>\n",
       "      <td>1</td>\n",
       "      <td>1</td>\n",
       "      <td>0</td>\n",
       "      <td>30</td>\n",
       "      <td>93.918</td>\n",
       "      <td>2</td>\n",
       "      <td>4</td>\n",
       "      <td>1</td>\n",
       "      <td>1</td>\n",
       "      <td>3</td>\n",
       "      <td>3</td>\n",
       "      <td>0</td>\n",
       "      <td>-42.7</td>\n",
       "      <td>2</td>\n",
       "    </tr>\n",
       "    <tr>\n",
       "      <th>4115</th>\n",
       "      <td>1</td>\n",
       "      <td>2</td>\n",
       "      <td>0</td>\n",
       "      <td>1</td>\n",
       "      <td>0</td>\n",
       "      <td>1</td>\n",
       "      <td>1</td>\n",
       "      <td>1</td>\n",
       "      <td>0</td>\n",
       "      <td>39</td>\n",
       "      <td>93.918</td>\n",
       "      <td>0</td>\n",
       "      <td>4</td>\n",
       "      <td>3</td>\n",
       "      <td>1</td>\n",
       "      <td>3</td>\n",
       "      <td>3</td>\n",
       "      <td>0</td>\n",
       "      <td>-42.7</td>\n",
       "      <td>0</td>\n",
       "    </tr>\n",
       "    <tr>\n",
       "      <th>4116</th>\n",
       "      <td>2</td>\n",
       "      <td>0</td>\n",
       "      <td>1</td>\n",
       "      <td>3</td>\n",
       "      <td>8</td>\n",
       "      <td>0</td>\n",
       "      <td>-2</td>\n",
       "      <td>2</td>\n",
       "      <td>0</td>\n",
       "      <td>27</td>\n",
       "      <td>92.893</td>\n",
       "      <td>1</td>\n",
       "      <td>1</td>\n",
       "      <td>3</td>\n",
       "      <td>0</td>\n",
       "      <td>6</td>\n",
       "      <td>1</td>\n",
       "      <td>0</td>\n",
       "      <td>-46.2</td>\n",
       "      <td>0</td>\n",
       "    </tr>\n",
       "    <tr>\n",
       "      <th>4117</th>\n",
       "      <td>1</td>\n",
       "      <td>0</td>\n",
       "      <td>0</td>\n",
       "      <td>1</td>\n",
       "      <td>0</td>\n",
       "      <td>0</td>\n",
       "      <td>1</td>\n",
       "      <td>1</td>\n",
       "      <td>0</td>\n",
       "      <td>58</td>\n",
       "      <td>93.444</td>\n",
       "      <td>0</td>\n",
       "      <td>4</td>\n",
       "      <td>3</td>\n",
       "      <td>1</td>\n",
       "      <td>1</td>\n",
       "      <td>3</td>\n",
       "      <td>0</td>\n",
       "      <td>-36.1</td>\n",
       "      <td>0</td>\n",
       "    </tr>\n",
       "    <tr>\n",
       "      <th>4118</th>\n",
       "      <td>1</td>\n",
       "      <td>2</td>\n",
       "      <td>0</td>\n",
       "      <td>1</td>\n",
       "      <td>4</td>\n",
       "      <td>0</td>\n",
       "      <td>-1</td>\n",
       "      <td>2</td>\n",
       "      <td>0</td>\n",
       "      <td>34</td>\n",
       "      <td>93.200</td>\n",
       "      <td>4</td>\n",
       "      <td>3</td>\n",
       "      <td>3</td>\n",
       "      <td>1</td>\n",
       "      <td>7</td>\n",
       "      <td>2</td>\n",
       "      <td>0</td>\n",
       "      <td>-42.0</td>\n",
       "      <td>0</td>\n",
       "    </tr>\n",
       "  </tbody>\n",
       "</table>\n",
       "<p>4119 rows × 20 columns</p>\n",
       "</div>"
      ],
      "text/plain": [
       "      campaign  housing  previous  total_call  job  contact employ_rate  \\\n",
       "0            2        2         0           2    1        0          -2   \n",
       "1            4        0         0           4    7        1           1   \n",
       "2            1        2         0           1    7        1           1   \n",
       "3            3        1         0           3    7        1           1   \n",
       "4            1        2         0           1    0        0          -1   \n",
       "...        ...      ...       ...         ...  ...      ...         ...   \n",
       "4114         1        2         0           1    0        0           1   \n",
       "4115         1        2         0           1    0        1           1   \n",
       "4116         2        0         1           3    8        0          -2   \n",
       "4117         1        0         0           1    0        0           1   \n",
       "4118         1        2         0           1    4        0          -1   \n",
       "\n",
       "      marital  是否联系过  age  prc_index  day_of_week euro_interest  education  \\\n",
       "0           1      0   30     92.893            0             1          2   \n",
       "1           2      0   39     93.994            0             4          3   \n",
       "2           1      0   25     94.465            4             4          3   \n",
       "3           1      0   38     94.465            0             4          2   \n",
       "4           1      0   47     93.200            1             3          6   \n",
       "...       ...    ...  ...        ...          ...           ...        ...   \n",
       "4114        1      0   30     93.918            2             4          1   \n",
       "4115        1      0   39     93.918            0             4          3   \n",
       "4116        2      0   27     92.893            1             1          3   \n",
       "4117        1      0   58     93.444            0             4          3   \n",
       "4118        2      0   34     93.200            4             3          3   \n",
       "\n",
       "      poutcome  month no_employ  default  confidence  loan  \n",
       "0            1      6         1        0       -46.2     0  \n",
       "1            1      6         2        0       -36.4     0  \n",
       "2            1      4         3        0       -41.8     0  \n",
       "3            1      4         3        0       -41.8     1  \n",
       "4            1      7         2        0       -42.0     0  \n",
       "...        ...    ...       ...      ...         ...   ...  \n",
       "4114         1      3         3        0       -42.7     2  \n",
       "4115         1      3         3        0       -42.7     0  \n",
       "4116         0      6         1        0       -46.2     0  \n",
       "4117         1      1         3        0       -36.1     0  \n",
       "4118         1      7         2        0       -42.0     0  \n",
       "\n",
       "[4119 rows x 20 columns]"
      ]
     },
     "execution_count": 80,
     "metadata": {},
     "output_type": "execute_result"
    }
   ],
   "source": [
    "test_x"
   ]
  },
  {
   "cell_type": "code",
   "execution_count": 81,
   "metadata": {
    "ExecuteTime": {
     "end_time": "2021-02-02T10:56:05.301475Z",
     "start_time": "2021-02-02T10:56:05.298473Z"
    }
   },
   "outputs": [],
   "source": [
    "from sklearn.metrics import confusion_matrix"
   ]
  },
  {
   "cell_type": "code",
   "execution_count": 82,
   "metadata": {
    "ExecuteTime": {
     "end_time": "2021-02-02T10:56:05.516888Z",
     "start_time": "2021-02-02T10:56:05.302461Z"
    }
   },
   "outputs": [
    {
     "data": {
      "image/png": "[encoded data removed]",
      "text/plain": [
       "<Figure size 576x360 with 2 Axes>"
      ]
     },
     "metadata": {
      "needs_background": "light"
     },
     "output_type": "display_data"
    }
   ],
   "source": [
    "# 预测结果\n",
    "rf_1_predict = rf_1.predict(test_x)\n",
    "\n",
    "# confusion matrix\n",
    "cm1 = confusion_matrix(test_y, rf_1_predict)\n",
    "\n",
    "#画图\n",
    "plt.figure(figsize = (8,5))\n",
    "sns.heatmap(cm1,annot = True, fmt = '.5g', linewidths = 0.5, yticklabels = [\"False\",\"True\"], xticklabels = [\"Pred_False\",\"Pred_True\"])\n",
    "plt.show()"
   ]
  },
  {
   "cell_type": "code",
   "execution_count": 83,
   "metadata": {
    "ExecuteTime": {
     "end_time": "2021-02-02T10:56:05.527859Z",
     "start_time": "2021-02-02T10:56:05.517885Z"
    }
   },
   "outputs": [
    {
     "name": "stdout",
     "output_type": "stream",
     "text": [
      "              precision    recall  f1-score   support\n",
      "\n",
      "           0       0.91      0.97      0.94      3668\n",
      "           1       0.50      0.27      0.35       451\n",
      "\n",
      "    accuracy                           0.89      4119\n",
      "   macro avg       0.71      0.62      0.64      4119\n",
      "weighted avg       0.87      0.89      0.88      4119\n",
      "\n"
     ]
    }
   ],
   "source": [
    "print(classification_report(test_y, rf_1_predict))"
   ]
  },
  {
   "cell_type": "code",
   "execution_count": 84,
   "metadata": {
    "ExecuteTime": {
     "end_time": "2021-02-02T10:56:05.535837Z",
     "start_time": "2021-02-02T10:56:05.528856Z"
    }
   },
   "outputs": [
    {
     "data": {
      "text/plain": [
       "0.6173797111471659"
      ]
     },
     "execution_count": 84,
     "metadata": {},
     "output_type": "execute_result"
    }
   ],
   "source": [
    "# roc\n",
    "from sklearn.metrics import roc_curve\n",
    "from sklearn.metrics import auc\n",
    "fpr, tpr, thresholds = roc_curve(y_true=test_y,\n",
    "                                 y_score=rf_1_predict)\n",
    "auc = auc(fpr, tpr)\n",
    "auc"
   ]
  },
  {
   "cell_type": "code",
   "execution_count": 85,
   "metadata": {
    "ExecuteTime": {
     "end_time": "2021-02-02T10:56:05.658129Z",
     "start_time": "2021-02-02T10:56:05.536834Z"
    }
   },
   "outputs": [
    {
     "data": {
      "image/png": "[encoded data removed]",
      "text/plain": [
       "<Figure size 432x288 with 1 Axes>"
      ]
     },
     "metadata": {
      "needs_background": "light"
     },
     "output_type": "display_data"
    }
   ],
   "source": [
    "lw = 2\n",
    "plt.plot(fpr, tpr, color='darkorange',\n",
    "         lw=2, label='ROC curve (area = %0.2f)' % auc)\n",
    "plt.plot([0, 1], [0, 1], color='navy', lw=lw, linestyle='--')\n",
    "\n",
    "plt.xlabel('False Positive Rate')\n",
    "plt.ylabel('True Positive Rate')\n",
    "plt.title('Receiver operating characteristic example')\n",
    "plt.legend(loc=\"lower right\")\n",
    "plt.show()"
   ]
  },
  {
   "cell_type": "markdown",
   "metadata": {},
   "source": [
    "## 一些指标"
   ]
  },
  {
   "cell_type": "code",
   "execution_count": 86,
   "metadata": {
    "ExecuteTime": {
     "end_time": "2021-02-02T10:56:05.662126Z",
     "start_time": "2021-02-02T10:56:05.659118Z"
    }
   },
   "outputs": [],
   "source": [
    "from sklearn.metrics import accuracy_score # 准确率\n",
    "from sklearn.metrics import precision_score # 精确率\n",
    "from sklearn.metrics import recall_score\n",
    "from sklearn.metrics import classification_report # 分类报告\n",
    "from sklearn.metrics import precision_recall_curve\n",
    "from sklearn.metrics import average_precision_score"
   ]
  },
  {
   "cell_type": "code",
   "execution_count": 87,
   "metadata": {
    "ExecuteTime": {
     "end_time": "2021-02-02T10:56:05.669090Z",
     "start_time": "2021-02-02T10:56:05.663107Z"
    }
   },
   "outputs": [
    {
     "data": {
      "text/plain": [
       "0.8900218499635834"
      ]
     },
     "execution_count": 87,
     "metadata": {},
     "output_type": "execute_result"
    }
   ],
   "source": [
    "# 准确率\n",
    "accuracy_score(test_y, rf_1_predict)"
   ]
  },
  {
   "cell_type": "code",
   "execution_count": 88,
   "metadata": {
    "ExecuteTime": {
     "end_time": "2021-02-02T10:56:05.676072Z",
     "start_time": "2021-02-02T10:56:05.670088Z"
    }
   },
   "outputs": [
    {
     "data": {
      "text/plain": [
       "0.4959016393442623"
      ]
     },
     "execution_count": 88,
     "metadata": {},
     "output_type": "execute_result"
    }
   ],
   "source": [
    "# 精确率\n",
    "precision_score(test_y, rf_1_predict)"
   ]
  },
  {
   "cell_type": "code",
   "execution_count": 89,
   "metadata": {
    "ExecuteTime": {
     "end_time": "2021-02-02T10:56:05.686045Z",
     "start_time": "2021-02-02T10:56:05.677069Z"
    }
   },
   "outputs": [
    {
     "name": "stdout",
     "output_type": "stream",
     "text": [
      "              precision    recall  f1-score   support\n",
      "\n",
      "           0       0.91      0.97      0.94      3668\n",
      "           1       0.50      0.27      0.35       451\n",
      "\n",
      "    accuracy                           0.89      4119\n",
      "   macro avg       0.71      0.62      0.64      4119\n",
      "weighted avg       0.87      0.89      0.88      4119\n",
      "\n"
     ]
    }
   ],
   "source": [
    "# 分类报告\n",
    "print(classification_report(test_y, rf_1_predict))"
   ]
  },
  {
   "cell_type": "markdown",
   "metadata": {},
   "source": [
    "## 重采样"
   ]
  },
  {
   "cell_type": "code",
   "execution_count": 90,
   "metadata": {
    "ExecuteTime": {
     "end_time": "2021-02-02T10:56:05.690035Z",
     "start_time": "2021-02-02T10:56:05.687044Z"
    }
   },
   "outputs": [],
   "source": [
    "from sklearn.model_selection import train_test_split # 划分训练集"
   ]
  },
  {
   "cell_type": "code",
   "execution_count": 91,
   "metadata": {
    "ExecuteTime": {
     "end_time": "2021-02-02T10:56:05.696019Z",
     "start_time": "2021-02-02T10:56:05.691032Z"
    }
   },
   "outputs": [
    {
     "name": "stdout",
     "output_type": "stream",
     "text": [
      "正负样本： [32859  4187]\n",
      "正负样本比例： 7.847862431335085\n"
     ]
    }
   ],
   "source": [
    "# 训练集中正负样本比例：\n",
    "bin_count = np.bincount(df['y'])\n",
    "print(\"正负样本：\",bin_count)\n",
    "print(\"正负样本比例：\",bin_count[0]/ bin_count[1])"
   ]
  },
  {
   "cell_type": "code",
   "execution_count": 92,
   "metadata": {
    "ExecuteTime": {
     "end_time": "2021-02-02T10:56:05.701005Z",
     "start_time": "2021-02-02T10:56:05.697015Z"
    }
   },
   "outputs": [],
   "source": [
    "def F1(precision, recall):\n",
    "\n",
    "    '''\n",
    "    7、综合评价指标（F-Measure）\n",
    "    P和R指标有时候会出现的矛盾的情况，这样就需要综合考虑他们，最常见的方法就是F-Measure（又称为F-Score）。\n",
    "    F-Measure是Precision和Recall加权调和平均：\n",
    "    \n",
    "    可知F1综合了P和R的结果，当F1较高时则能说明试验方法比较有效。\n",
    "    '''\n",
    "    return (2 * precision * recall)/(precision+recall)"
   ]
  },
  {
   "cell_type": "markdown",
   "metadata": {},
   "source": [
    "### 验证集不重采样"
   ]
  },
  {
   "cell_type": "code",
   "execution_count": 93,
   "metadata": {
    "ExecuteTime": {
     "end_time": "2021-02-02T10:56:05.716970Z",
     "start_time": "2021-02-02T10:56:05.702002Z"
    }
   },
   "outputs": [],
   "source": [
    "# 首先划分出测试集和验证集\n",
    "mydf = df.copy(deep=True)\n",
    "X_train, X_valid, y_train, y_valid = train_test_split(mydf[var_x], \n",
    "                                                          mydf[\"y\"], random_state=seed, test_size=0.25)\n",
    "\n",
    "# 需要重复的部分\n",
    "repeat_mask = y_train == 1\n",
    "X_train_repeat = X_train[repeat_mask]\n",
    "y_train_repeat = y_train[repeat_mask]"
   ]
  },
  {
   "cell_type": "code",
   "execution_count": 94,
   "metadata": {
    "ExecuteTime": {
     "end_time": "2021-02-02T10:56:34.089305Z",
     "start_time": "2021-02-02T10:56:05.717986Z"
    }
   },
   "outputs": [
    {
     "name": "stdout",
     "output_type": "stream",
     "text": [
      "重采样中：n = 1\n",
      "拟合中...\n",
      "预测中...\n",
      "precision: 0.4730077120822622\n",
      "accuracy: 0.8827467069747355\n",
      "recall: 0.3524904214559387\n",
      "f1: 0.4039517014270033\n",
      "------------------------------\n",
      "重采样中：n = 2\n",
      "拟合中...\n",
      "预测中...\n",
      "precision: 0.4618138424821002\n",
      "accuracy: 0.8803714100626214\n",
      "recall: 0.3706896551724138\n",
      "f1: 0.41126461211477155\n",
      "------------------------------\n",
      "重采样中：n = 3\n",
      "拟合中...\n",
      "预测中...\n",
      "precision: 0.45714285714285713\n",
      "accuracy: 0.8791837616065644\n",
      "recall: 0.3831417624521073\n",
      "f1: 0.4168837936425221\n",
      "------------------------------\n",
      "重采样中：n = 4\n",
      "拟合中...\n",
      "预测中...\n",
      "precision: 0.4541284403669725\n",
      "accuracy: 0.8786439213992658\n",
      "recall: 0.3793103448275862\n",
      "f1: 0.4133611691022965\n",
      "------------------------------\n",
      "重采样中：n = 5\n",
      "拟合中...\n",
      "预测中...\n",
      "precision: 0.44745762711864406\n",
      "accuracy: 0.8772403368602893\n",
      "recall: 0.3793103448275862\n",
      "f1: 0.4105754276827372\n",
      "------------------------------\n",
      "重采样中：n = 6\n",
      "拟合中...\n",
      "预测中...\n",
      "precision: 0.45182724252491696\n",
      "accuracy: 0.8778881451090477\n",
      "recall: 0.39080459770114945\n",
      "f1: 0.4191063174114022\n",
      "------------------------------\n",
      "重采样中：n = 7\n",
      "拟合中...\n",
      "预测中...\n",
      "precision: 0.44518272425249167\n",
      "accuracy: 0.876592528611531\n",
      "recall: 0.3850574712643678\n",
      "f1: 0.41294298921417566\n",
      "------------------------------\n",
      "重采样中：n = 8\n",
      "拟合中...\n",
      "预测中...\n",
      "precision: 0.45208568207440814\n",
      "accuracy: 0.8781040811919671\n",
      "recall: 0.38409961685823757\n",
      "f1: 0.41532884515794927\n",
      "------------------------------\n"
     ]
    }
   ],
   "source": [
    "#多次重采样，并且使用随机森林，在验证集上查看结果\n",
    "n_resample = np.arange(int(bin_count[0] / bin_count[1])+1)\n",
    "precision_scores, recall_scores, accuracy_scores, f1_scores = [], [], [], [] # 模型评估\n",
    "predict_result = [] # 预测结果\n",
    "\n",
    "\n",
    "\n",
    "# 循环\n",
    "for i in n_resample:\n",
    "    print(\"重采样中：n = %d\" % (i+1))\n",
    "    \n",
    "    # 只重采样X_train, y_train\n",
    "    X_train = X_train.append(X_train_repeat)\n",
    "    y_train = y_train.append(y_train_repeat)\n",
    "\n",
    "\n",
    "    # 随机森林\n",
    "    print(\"拟合中...\")\n",
    "    rf_n = RandomForestClassifier(criterion=\"entropy\",\n",
    "                                  n_estimators=100,\n",
    "                                  random_state=seed,\n",
    "                                  #min_sample_split = 200,\n",
    "                                  max_features=\"sqrt\",\n",
    "                                  bootstrap=True,\n",
    "                                  oob_score=True,\n",
    "                                  class_weight=\"balanced\")\n",
    "    rf_n.fit(X_train, y_train)\n",
    "\n",
    "    # 预测结果\n",
    "    print(\"预测中...\")\n",
    "    rf_n_predict = rf_n.predict(X_valid)\n",
    "    predict_result.append(rf_n_predict)\n",
    "\n",
    "    # 模型评估\n",
    "    pre_score = precision_score(y_valid, rf_n_predict)\n",
    "    acc_score = accuracy_score(y_valid, rf_n_predict)\n",
    "    rec_score = recall_score(y_valid, rf_n_predict)\n",
    "    f1_score = F1(pre_score, rec_score)\n",
    "\n",
    "    accuracy_scores.append(acc_score)\n",
    "    precision_scores.append(pre_score)\n",
    "    recall_scores.append(rec_score)\n",
    "    f1_scores.append(f1_score)\n",
    "    print(\"precision:\", pre_score)\n",
    "    print(\"accuracy:\", acc_score)\n",
    "    print(\"recall:\", rec_score)\n",
    "    print(\"f1:\", f1_score)\n",
    "\n",
    "    print(\"-\"*30)"
   ]
  },
  {
   "cell_type": "code",
   "execution_count": 95,
   "metadata": {
    "ExecuteTime": {
     "end_time": "2021-02-02T10:56:35.325436Z",
     "start_time": "2021-02-02T10:56:34.090302Z"
    }
   },
   "outputs": [
    {
     "data": {
      "image/png": "[encoded data removed]",
      "text/plain": [
       "<Figure size 1080x1080 with 16 Axes>"
      ]
     },
     "metadata": {
      "needs_background": "light"
     },
     "output_type": "display_data"
    }
   ],
   "source": [
    "# 验证集混淆矩阵\n",
    "plt.figure(figsize = (15,15))\n",
    "for i in n_resample:\n",
    "    plt.subplot(4,3,i+1)\n",
    "    sns.heatmap(confusion_matrix(y_valid, predict_result[i]), linewidth = 0.5, annot = True, fmt = '.5g',\n",
    "               yticklabels = ['false',\"true\"], xticklabels = [\"pred_false\",'pred_true'])\n",
    "    plt.title(\"Resample Times = %d\" %(i+1))\n",
    "plt.show() "
   ]
  },
  {
   "cell_type": "code",
   "execution_count": 96,
   "metadata": {
    "ExecuteTime": {
     "end_time": "2021-02-02T10:56:35.339214Z",
     "start_time": "2021-02-02T10:56:35.327244Z"
    }
   },
   "outputs": [
    {
     "data": {
      "text/html": [
       "<div>\n",
       "<style scoped>\n",
       "    .dataframe tbody tr th:only-of-type {\n",
       "        vertical-align: middle;\n",
       "    }\n",
       "\n",
       "    .dataframe tbody tr th {\n",
       "        vertical-align: top;\n",
       "    }\n",
       "\n",
       "    .dataframe thead th {\n",
       "        text-align: right;\n",
       "    }\n",
       "</style>\n",
       "<table border=\"1\" class=\"dataframe\">\n",
       "  <thead>\n",
       "    <tr style=\"text-align: right;\">\n",
       "      <th></th>\n",
       "      <th>resample_times</th>\n",
       "      <th>accuracy</th>\n",
       "      <th>precision</th>\n",
       "      <th>recall</th>\n",
       "      <th>f1</th>\n",
       "    </tr>\n",
       "  </thead>\n",
       "  <tbody>\n",
       "    <tr>\n",
       "      <th>0</th>\n",
       "      <td>0</td>\n",
       "      <td>0.882747</td>\n",
       "      <td>0.473008</td>\n",
       "      <td>0.352490</td>\n",
       "      <td>0.403952</td>\n",
       "    </tr>\n",
       "    <tr>\n",
       "      <th>1</th>\n",
       "      <td>1</td>\n",
       "      <td>0.880371</td>\n",
       "      <td>0.461814</td>\n",
       "      <td>0.370690</td>\n",
       "      <td>0.411265</td>\n",
       "    </tr>\n",
       "    <tr>\n",
       "      <th>2</th>\n",
       "      <td>2</td>\n",
       "      <td>0.879184</td>\n",
       "      <td>0.457143</td>\n",
       "      <td>0.383142</td>\n",
       "      <td>0.416884</td>\n",
       "    </tr>\n",
       "    <tr>\n",
       "      <th>3</th>\n",
       "      <td>3</td>\n",
       "      <td>0.878644</td>\n",
       "      <td>0.454128</td>\n",
       "      <td>0.379310</td>\n",
       "      <td>0.413361</td>\n",
       "    </tr>\n",
       "    <tr>\n",
       "      <th>4</th>\n",
       "      <td>4</td>\n",
       "      <td>0.877240</td>\n",
       "      <td>0.447458</td>\n",
       "      <td>0.379310</td>\n",
       "      <td>0.410575</td>\n",
       "    </tr>\n",
       "    <tr>\n",
       "      <th>5</th>\n",
       "      <td>5</td>\n",
       "      <td>0.877888</td>\n",
       "      <td>0.451827</td>\n",
       "      <td>0.390805</td>\n",
       "      <td>0.419106</td>\n",
       "    </tr>\n",
       "    <tr>\n",
       "      <th>6</th>\n",
       "      <td>6</td>\n",
       "      <td>0.876593</td>\n",
       "      <td>0.445183</td>\n",
       "      <td>0.385057</td>\n",
       "      <td>0.412943</td>\n",
       "    </tr>\n",
       "    <tr>\n",
       "      <th>7</th>\n",
       "      <td>7</td>\n",
       "      <td>0.878104</td>\n",
       "      <td>0.452086</td>\n",
       "      <td>0.384100</td>\n",
       "      <td>0.415329</td>\n",
       "    </tr>\n",
       "  </tbody>\n",
       "</table>\n",
       "</div>"
      ],
      "text/plain": [
       "   resample_times  accuracy  precision    recall        f1\n",
       "0               0  0.882747   0.473008  0.352490  0.403952\n",
       "1               1  0.880371   0.461814  0.370690  0.411265\n",
       "2               2  0.879184   0.457143  0.383142  0.416884\n",
       "3               3  0.878644   0.454128  0.379310  0.413361\n",
       "4               4  0.877240   0.447458  0.379310  0.410575\n",
       "5               5  0.877888   0.451827  0.390805  0.419106\n",
       "6               6  0.876593   0.445183  0.385057  0.412943\n",
       "7               7  0.878104   0.452086  0.384100  0.415329"
      ]
     },
     "execution_count": 96,
     "metadata": {},
     "output_type": "execute_result"
    }
   ],
   "source": [
    "# 重采样后的模型评估\n",
    "model_eval_1 = pd.DataFrame({\n",
    "    'resample_times': n_resample,\n",
    "    \"accuracy\": accuracy_scores,\n",
    "    \"precision\": precision_scores,\n",
    "    \"recall\": recall_scores,\n",
    "    \"f1\": f1_scores\n",
    "})\n",
    "model_eval_1 "
   ]
  },
  {
   "cell_type": "code",
   "execution_count": 97,
   "metadata": {
    "ExecuteTime": {
     "end_time": "2021-02-02T10:56:35.777041Z",
     "start_time": "2021-02-02T10:56:35.341206Z"
    }
   },
   "outputs": [
    {
     "data": {
      "image/png": "[encoded data removed]",
      "text/plain": [
       "<Figure size 720x432 with 4 Axes>"
      ]
     },
     "metadata": {
      "needs_background": "light"
     },
     "output_type": "display_data"
    }
   ],
   "source": [
    "plt.figure(figsize = (10,6))\n",
    "plt.subplot(2,2,1)\n",
    "sns.lineplot(x = \"resample_times\", y = \"recall\", data = model_eval_1)\n",
    "plt.subplot(2,2,2)\n",
    "sns.lineplot(x = \"resample_times\", y = \"precision\", data = model_eval_1)\n",
    "#plt.legend(labels = [\"recall\",\"precision\"])\n",
    "\n",
    "plt.subplot(2,2,3)\n",
    "sns.lineplot(x = \"resample_times\", y = \"accuracy\", data = model_eval_1)\n",
    "plt.subplot(2,2,4)\n",
    "\n",
    "sns.lineplot(x = \"resample_times\", y = \"f1\", data = model_eval_1)\n",
    "plt.show()"
   ]
  },
  {
   "cell_type": "code",
   "execution_count": 98,
   "metadata": {
    "ExecuteTime": {
     "end_time": "2021-02-02T10:56:35.899713Z",
     "start_time": "2021-02-02T10:56:35.778037Z"
    }
   },
   "outputs": [
    {
     "data": {
      "text/plain": [
       "<matplotlib.axes._subplots.AxesSubplot at 0x1d676cec408>"
      ]
     },
     "execution_count": 98,
     "metadata": {},
     "output_type": "execute_result"
    },
    {
     "data": {
      "image/png": "[encoded data removed]",
      "text/plain": [
       "<Figure size 432x288 with 1 Axes>"
      ]
     },
     "metadata": {
      "needs_background": "light"
     },
     "output_type": "display_data"
    }
   ],
   "source": [
    "sns.lineplot(x = \"precision\", y = \"recall\", data = model_eval_1)"
   ]
  },
  {
   "cell_type": "markdown",
   "metadata": {},
   "source": [
    "### 含验证集重采样"
   ]
  },
  {
   "cell_type": "code",
   "execution_count": 99,
   "metadata": {
    "ExecuteTime": {
     "end_time": "2021-02-02T10:57:06.798384Z",
     "start_time": "2021-02-02T10:56:35.900711Z"
    }
   },
   "outputs": [
    {
     "name": "stdout",
     "output_type": "stream",
     "text": [
      "重采样中：n = 1\n",
      "拟合中...\n",
      "预测中...\n",
      "precision: 0.7952314165497896\n",
      "accuracy: 0.924143951886701\n",
      "recall: 0.8317848410757946\n",
      "f1: 0.8130975143403442\n",
      "------------------------------\n",
      "重采样中：n = 2\n",
      "拟合中...\n",
      "预测中...\n",
      "precision: 0.8489598176118552\n",
      "accuracy: 0.9412593571114046\n",
      "recall: 0.9560333761232349\n",
      "f1: 0.8993207547169811\n",
      "------------------------------\n",
      "重采样中：n = 3\n",
      "拟合中...\n",
      "预测中...\n",
      "precision: 0.8883291351805206\n",
      "accuracy: 0.9522657635865183\n",
      "recall: 0.9860205032618826\n",
      "f1: 0.9346289752650178\n",
      "------------------------------\n",
      "重采样中：n = 4\n",
      "拟合中...\n",
      "预测中...\n",
      "precision: 0.8988115449915111\n",
      "accuracy: 0.9536024983270132\n",
      "recall: 0.994738819992484\n",
      "f1: 0.9443453442739921\n",
      "------------------------------\n",
      "重采样中：n = 5\n",
      "拟合中...\n",
      "预测中...\n",
      "precision: 0.9169664699956829\n",
      "accuracy: 0.9601959161147903\n",
      "recall: 1.0\n",
      "f1: 0.9566849335635463\n",
      "------------------------------\n",
      "重采样中：n = 6\n",
      "拟合中...\n",
      "预测中...\n",
      "precision: 0.9254402397901836\n",
      "accuracy: 0.9615879552181187\n",
      "recall: 1.0\n",
      "f1: 0.9612765129402607\n",
      "------------------------------\n",
      "重采样中：n = 7\n",
      "拟合中...\n",
      "预测中...\n",
      "precision: 0.9299096319153626\n",
      "accuracy: 0.9614202182168907\n",
      "recall: 0.9995261786306563\n",
      "f1: 0.9634619776204613\n",
      "------------------------------\n",
      "重采样中：n = 8\n",
      "拟合中...\n",
      "预测中...\n",
      "precision: 0.9397019638803908\n",
      "accuracy: 0.9653549557722839\n",
      "recall: 1.0\n",
      "f1: 0.9689137624014246\n",
      "------------------------------\n"
     ]
    }
   ],
   "source": [
    "# 多次重采样，并且使用随机森林，在验证集上查看结果\n",
    "n_resample = np.arange(int(bin_count[0] / bin_count[1])+1)\n",
    "precision_scores, recall_scores, accuracy_scores, f1_scores = [], [], [], [] # 模型评估\n",
    "predict_result = [] # 预测结果\n",
    "y_valid_sets = [] # 记录一下不同的验证集y\n",
    "\n",
    "\n",
    "# 循环\n",
    "for i in n_resample:\n",
    "    print(\"重采样中：n = %d\" % (i+1))\n",
    "    mydf = mydf.append(df[df.y == 1])\n",
    "    # 划出验证集\n",
    "    X_train, X_valid, y_train, y_valid = train_test_split(mydf[var_x], \n",
    "                                                          mydf[\"y\"], random_state=seed, test_size=0.25)\n",
    "    y_valid_sets.append(y_valid)\n",
    "\n",
    "    # 随机森林\n",
    "    print(\"拟合中...\")\n",
    "    rf_n = RandomForestClassifier(criterion=\"entropy\",\n",
    "                                  n_estimators=100,\n",
    "                                  random_state=seed,\n",
    "                                  #min_sample_split = 200,\n",
    "                                  max_features=\"sqrt\",\n",
    "                                  bootstrap=True,\n",
    "                                  oob_score=True,\n",
    "                                  class_weight=\"balanced\")\n",
    "    rf_n.fit(X_train, y_train)\n",
    "\n",
    "    # 预测结果\n",
    "    print(\"预测中...\")\n",
    "    rf_n_predict = rf_n.predict(X_valid)\n",
    "    predict_result.append(rf_n_predict)\n",
    "\n",
    "    # 模型评估\n",
    "    pre_score = precision_score(y_valid, rf_n_predict)\n",
    "    acc_score = accuracy_score(y_valid, rf_n_predict)\n",
    "    rec_score = recall_score(y_valid, rf_n_predict)\n",
    "    f1_score = F1(pre_score, rec_score)\n",
    "\n",
    "    accuracy_scores.append(acc_score)\n",
    "    precision_scores.append(pre_score)\n",
    "    recall_scores.append(rec_score)\n",
    "    f1_scores.append(f1_score)\n",
    "    print(\"precision:\", pre_score)\n",
    "    print(\"accuracy:\", acc_score)\n",
    "    print(\"recall:\", rec_score)\n",
    "    print(\"f1:\", f1_score)\n",
    "\n",
    "    print(\"-\"*30)"
   ]
  },
  {
   "cell_type": "code",
   "execution_count": 100,
   "metadata": {
    "ExecuteTime": {
     "end_time": "2021-02-02T10:57:08.020802Z",
     "start_time": "2021-02-02T10:57:06.799378Z"
    }
   },
   "outputs": [
    {
     "data": {
      "image/png": "[encoded data removed]",
      "text/plain": [
       "<Figure size 1080x1080 with 16 Axes>"
      ]
     },
     "metadata": {
      "needs_background": "light"
     },
     "output_type": "display_data"
    }
   ],
   "source": [
    "# 验证集混淆矩阵\n",
    "plt.figure(figsize = (15,15))\n",
    "for i in n_resample:\n",
    "    plt.subplot(4,3,i+1)\n",
    "    sns.heatmap(confusion_matrix(y_valid_sets[i], predict_result[i]), linewidth = 0.5, annot = True, fmt = '.5g',\n",
    "               yticklabels = ['false',\"true\"], xticklabels = [\"pred_false\",'pred_true'])\n",
    "    plt.title(\"Resample Times = %d\" %(i+1))\n",
    "plt.show() "
   ]
  },
  {
   "cell_type": "code",
   "execution_count": 101,
   "metadata": {
    "ExecuteTime": {
     "end_time": "2021-02-02T10:57:08.032794Z",
     "start_time": "2021-02-02T10:57:08.021798Z"
    }
   },
   "outputs": [
    {
     "data": {
      "text/html": [
       "<div>\n",
       "<style scoped>\n",
       "    .dataframe tbody tr th:only-of-type {\n",
       "        vertical-align: middle;\n",
       "    }\n",
       "\n",
       "    .dataframe tbody tr th {\n",
       "        vertical-align: top;\n",
       "    }\n",
       "\n",
       "    .dataframe thead th {\n",
       "        text-align: right;\n",
       "    }\n",
       "</style>\n",
       "<table border=\"1\" class=\"dataframe\">\n",
       "  <thead>\n",
       "    <tr style=\"text-align: right;\">\n",
       "      <th></th>\n",
       "      <th>resample_times</th>\n",
       "      <th>accuracy</th>\n",
       "      <th>precision</th>\n",
       "      <th>recall</th>\n",
       "      <th>f1</th>\n",
       "    </tr>\n",
       "  </thead>\n",
       "  <tbody>\n",
       "    <tr>\n",
       "      <th>0</th>\n",
       "      <td>0</td>\n",
       "      <td>0.924144</td>\n",
       "      <td>0.795231</td>\n",
       "      <td>0.831785</td>\n",
       "      <td>0.813098</td>\n",
       "    </tr>\n",
       "    <tr>\n",
       "      <th>1</th>\n",
       "      <td>1</td>\n",
       "      <td>0.941259</td>\n",
       "      <td>0.848960</td>\n",
       "      <td>0.956033</td>\n",
       "      <td>0.899321</td>\n",
       "    </tr>\n",
       "    <tr>\n",
       "      <th>2</th>\n",
       "      <td>2</td>\n",
       "      <td>0.952266</td>\n",
       "      <td>0.888329</td>\n",
       "      <td>0.986021</td>\n",
       "      <td>0.934629</td>\n",
       "    </tr>\n",
       "    <tr>\n",
       "      <th>3</th>\n",
       "      <td>3</td>\n",
       "      <td>0.953602</td>\n",
       "      <td>0.898812</td>\n",
       "      <td>0.994739</td>\n",
       "      <td>0.944345</td>\n",
       "    </tr>\n",
       "    <tr>\n",
       "      <th>4</th>\n",
       "      <td>4</td>\n",
       "      <td>0.960196</td>\n",
       "      <td>0.916966</td>\n",
       "      <td>1.000000</td>\n",
       "      <td>0.956685</td>\n",
       "    </tr>\n",
       "    <tr>\n",
       "      <th>5</th>\n",
       "      <td>5</td>\n",
       "      <td>0.961588</td>\n",
       "      <td>0.925440</td>\n",
       "      <td>1.000000</td>\n",
       "      <td>0.961277</td>\n",
       "    </tr>\n",
       "    <tr>\n",
       "      <th>6</th>\n",
       "      <td>6</td>\n",
       "      <td>0.961420</td>\n",
       "      <td>0.929910</td>\n",
       "      <td>0.999526</td>\n",
       "      <td>0.963462</td>\n",
       "    </tr>\n",
       "    <tr>\n",
       "      <th>7</th>\n",
       "      <td>7</td>\n",
       "      <td>0.965355</td>\n",
       "      <td>0.939702</td>\n",
       "      <td>1.000000</td>\n",
       "      <td>0.968914</td>\n",
       "    </tr>\n",
       "  </tbody>\n",
       "</table>\n",
       "</div>"
      ],
      "text/plain": [
       "   resample_times  accuracy  precision    recall        f1\n",
       "0               0  0.924144   0.795231  0.831785  0.813098\n",
       "1               1  0.941259   0.848960  0.956033  0.899321\n",
       "2               2  0.952266   0.888329  0.986021  0.934629\n",
       "3               3  0.953602   0.898812  0.994739  0.944345\n",
       "4               4  0.960196   0.916966  1.000000  0.956685\n",
       "5               5  0.961588   0.925440  1.000000  0.961277\n",
       "6               6  0.961420   0.929910  0.999526  0.963462\n",
       "7               7  0.965355   0.939702  1.000000  0.968914"
      ]
     },
     "execution_count": 101,
     "metadata": {},
     "output_type": "execute_result"
    }
   ],
   "source": [
    "# 重采样后的模型评估\n",
    "model_eval = pd.DataFrame({\n",
    "    'resample_times': n_resample,\n",
    "    \"accuracy\": accuracy_scores,\n",
    "    \"precision\": precision_scores,\n",
    "    \"recall\": recall_scores,\n",
    "    \"f1\": f1_scores\n",
    "})\n",
    "model_eval"
   ]
  },
  {
   "cell_type": "code",
   "execution_count": 102,
   "metadata": {
    "ExecuteTime": {
     "end_time": "2021-02-02T10:57:08.431346Z",
     "start_time": "2021-02-02T10:57:08.034765Z"
    }
   },
   "outputs": [
    {
     "data": {
      "image/png": "[encoded data removed]",
      "text/plain": [
       "<Figure size 720x432 with 4 Axes>"
      ]
     },
     "metadata": {
      "needs_background": "light"
     },
     "output_type": "display_data"
    }
   ],
   "source": [
    "plt.figure(figsize = (10,6))\n",
    "plt.subplot(2,2,1)\n",
    "sns.lineplot(x = \"resample_times\", y = \"recall\", data = model_eval)\n",
    "plt.subplot(2,2,2)\n",
    "sns.lineplot(x = \"resample_times\", y = \"precision\", data = model_eval)\n",
    "#plt.legend(labels = [\"recall\",\"precision\"])\n",
    "\n",
    "plt.subplot(2,2,3)\n",
    "sns.lineplot(x = \"resample_times\", y = \"accuracy\", data = model_eval)\n",
    "plt.subplot(2,2,4)\n",
    "\n",
    "sns.lineplot(x = \"resample_times\", y = \"f1\", data = model_eval)\n",
    "plt.show()"
   ]
  },
  {
   "cell_type": "code",
   "execution_count": 103,
   "metadata": {
    "ExecuteTime": {
     "end_time": "2021-02-02T10:57:08.558009Z",
     "start_time": "2021-02-02T10:57:08.432344Z"
    }
   },
   "outputs": [
    {
     "data": {
      "text/plain": [
       "<matplotlib.axes._subplots.AxesSubplot at 0x1d6756d3788>"
      ]
     },
     "execution_count": 103,
     "metadata": {},
     "output_type": "execute_result"
    },
    {
     "data": {
      "image/png": "[encoded data removed]",
      "text/plain": [
       "<Figure size 432x288 with 1 Axes>"
      ]
     },
     "metadata": {
      "needs_background": "light"
     },
     "output_type": "display_data"
    }
   ],
   "source": [
    "sns.lineplot(x = \"precision\", y = \"recall\", data = model_eval)\n",
    "#sns.lineplot([0,0],[1,1])"
   ]
  },
  {
   "cell_type": "markdown",
   "metadata": {},
   "source": [
    "## 调整超参"
   ]
  },
  {
   "cell_type": "code",
   "execution_count": 104,
   "metadata": {
    "ExecuteTime": {
     "end_time": "2021-02-02T10:57:08.588925Z",
     "start_time": "2021-02-02T10:57:08.559005Z"
    }
   },
   "outputs": [
    {
     "data": {
      "text/plain": [
       "(49607, 21)"
      ]
     },
     "execution_count": 104,
     "metadata": {},
     "output_type": "execute_result"
    }
   ],
   "source": [
    "# test_set：把y=1的部分重复采样\n",
    "i,n = 0, 3\n",
    "mydf2 = df.copy(deep = True)\n",
    "while i < n:\n",
    "    mydf2 = mydf2.append(df[df.y==1])\n",
    "    i+=1\n",
    "mydf2.shape"
   ]
  },
  {
   "cell_type": "code",
   "execution_count": 105,
   "metadata": {
    "ExecuteTime": {
     "end_time": "2021-02-02T10:57:08.594914Z",
     "start_time": "2021-02-02T10:57:08.589923Z"
    }
   },
   "outputs": [
    {
     "data": {
      "text/plain": [
       "0    32859\n",
       "1    16748\n",
       "Name: y, dtype: int64"
      ]
     },
     "execution_count": 105,
     "metadata": {},
     "output_type": "execute_result"
    }
   ],
   "source": [
    "# 正负样本数量\n",
    "mydf2[\"y\"].value_counts()"
   ]
  },
  {
   "cell_type": "code",
   "execution_count": 106,
   "metadata": {
    "ExecuteTime": {
     "end_time": "2021-02-02T10:57:08.614433Z",
     "start_time": "2021-02-02T10:57:08.596934Z"
    }
   },
   "outputs": [],
   "source": [
    "# train test split\n",
    "X_train, X_valid, y_train, y_valid = train_test_split(mydf2[var_x],\n",
    "                                                      mydf2[\"y\"], random_state=seed, test_size=0.25)"
   ]
  },
  {
   "cell_type": "markdown",
   "metadata": {},
   "source": [
    "### 调整n_estimator"
   ]
  },
  {
   "cell_type": "code",
   "execution_count": 107,
   "metadata": {
    "ExecuteTime": {
     "end_time": "2021-02-02T10:57:08.618845Z",
     "start_time": "2021-02-02T10:57:08.615854Z"
    }
   },
   "outputs": [],
   "source": [
    "from sklearn.model_selection import GridSearchCV"
   ]
  },
  {
   "cell_type": "code",
   "execution_count": 108,
   "metadata": {
    "ExecuteTime": {
     "end_time": "2021-02-02T10:57:08.623833Z",
     "start_time": "2021-02-02T10:57:08.619842Z"
    }
   },
   "outputs": [],
   "source": [
    "# n_resample = np.arange(int(bin_count[0] / bin_count[1])+1)\n",
    "# precision_scores, recall_scores, accuracy_scores, f1_scores = [], [], [], [] # 模型评估\n",
    "# predict_result = [] # 预测结果\n",
    "# for i in range(100,1000,100):\n",
    "#     rfc = RandomForestClassifier(criterion=\"gini\",\n",
    "#                                   n_estimators=i,\n",
    "#                                   random_state=seed,\n",
    "#                                   oob_score=True,\n",
    "#                                   class_weight=\"balanced\")\n",
    "    \n",
    "#     # 拟合\n",
    "#     rfc.fit(X_train, y_train)\n",
    "\n",
    "#     # 预测结果\n",
    "#     print(\"n_estimator = \",i,\",预测中...\")\n",
    "#     rfc_predict = rfc.predict(X_valid)\n",
    "#     predict_result.append(rfc_predict)\n",
    "    \n",
    "#     # 模型评估\n",
    "#     pre_score = precision_score(y_valid, rfc_predict)\n",
    "#     acc_score = accuracy_score(y_valid, rfc_predict)\n",
    "#     rec_score = recall_score(y_valid, rfc_predict)\n",
    "#     f1_score = F1(pre_score, rec_score)\n",
    "\n",
    "#     accuracy_scores.append(acc_score)\n",
    "#     precision_scores.append(pre_score)\n",
    "#     recall_scores.append(rec_score)\n",
    "#     f1_scores.append(f1_score)\n",
    "#     print(\"precision:\", pre_score)\n",
    "#     print(\"accuracy:\", acc_score)\n",
    "#     print(\"recall:\", rec_score)\n",
    "#     print(\"f1:\", f1_score)\n",
    "#     print(\"-\"*30)"
   ]
  },
  {
   "cell_type": "code",
   "execution_count": 109,
   "metadata": {
    "ExecuteTime": {
     "end_time": "2021-02-02T10:57:08.629815Z",
     "start_time": "2021-02-02T10:57:08.624829Z"
    }
   },
   "outputs": [],
   "source": [
    "# # 重采样后的模型评估\n",
    "# model_n_estimator = pd.DataFrame({\n",
    "#     'n_estimator': range(50,500,50),\n",
    "#     \"accuracy\": accuracy_scores,\n",
    "#     \"precision\": precision_scores,\n",
    "#     \"recall\": recall_scores,\n",
    "#     \"f1\": f1_scores\n",
    "# })\n",
    "# model_n_estimator "
   ]
  },
  {
   "cell_type": "code",
   "execution_count": 110,
   "metadata": {
    "ExecuteTime": {
     "end_time": "2021-02-02T10:57:08.633804Z",
     "start_time": "2021-02-02T10:57:08.630812Z"
    }
   },
   "outputs": [],
   "source": [
    "# # 画图\n",
    "# plt.figure(figsize = (10,6))\n",
    "# plt.subplot(2,2,1)\n",
    "# sns.lineplot(x = \"n_estimator\", y = \"recall\", data = model_n_estimator)\n",
    "# plt.subplot(2,2,2)\n",
    "# sns.lineplot(x = \"n_estimator\", y = \"precision\", data = model_n_estimator)\n",
    "# #plt.legend(labels = [\"recall\",\"precision\"])\n",
    "\n",
    "# plt.subplot(2,2,3)\n",
    "# sns.lineplot(x = \"n_estimator\", y = \"accuracy\", data = model_n_estimator)\n",
    "# plt.subplot(2,2,4)\n",
    "\n",
    "# sns.lineplot(x = \"n_estimator\", y = \"f1\", data = model_n_estimator)\n",
    "# plt.show()"
   ]
  },
  {
   "cell_type": "code",
   "execution_count": 111,
   "metadata": {
    "ExecuteTime": {
     "end_time": "2021-02-02T10:57:08.637794Z",
     "start_time": "2021-02-02T10:57:08.634802Z"
    }
   },
   "outputs": [],
   "source": [
    "# # 找到f1最大的地方\n",
    "# max_f1 = model_n_estimator[\"f1\"].max()\n",
    "# model_n_estimator[model_n_estimator.f1 == max_f1]"
   ]
  },
  {
   "cell_type": "code",
   "execution_count": 150,
   "metadata": {
    "ExecuteTime": {
     "end_time": "2021-02-02T11:14:38.689384Z",
     "start_time": "2021-02-02T11:12:19.423862Z"
    }
   },
   "outputs": [
    {
     "name": "stdout",
     "output_type": "stream",
     "text": [
      "{'n_estimators': 50} 0.5318466767611674\n"
     ]
    }
   ],
   "source": [
    "rfc = RandomForestClassifier(random_state=seed,criterion = \"gini\")\n",
    "\n",
    "# 用网格搜索调整\n",
    "param_grid = {'n_estimators':range(50,500,50)}\n",
    "GS = GridSearchCV(rfc, param_grid, cv=3,scoring = \"f1\")\n",
    "GS.fit(mydf2[var_x], mydf2[\"y\"])\n",
    "best_param = GS.best_params_\n",
    "best_score = GS.best_score_\n",
    "n_e = best_param['n_estimators']\n",
    "print(best_param, best_score)  "
   ]
  },
  {
   "cell_type": "markdown",
   "metadata": {},
   "source": [
    "### 调整max_depth"
   ]
  },
  {
   "cell_type": "code",
   "execution_count": 151,
   "metadata": {
    "ExecuteTime": {
     "end_time": "2021-02-02T11:14:48.948960Z",
     "start_time": "2021-02-02T11:14:38.690383Z"
    }
   },
   "outputs": [
    {
     "name": "stdout",
     "output_type": "stream",
     "text": [
      "{'max_depth': 21} 0.876926782273603\n"
     ]
    }
   ],
   "source": [
    "# 建立n_estimators为n的随机森林\n",
    "rfc = RandomForestClassifier(n_estimators=n_e, random_state=seed, criterion = \"gini\")\n",
    "\n",
    "# 用网格搜索调整max_depth\n",
    "param_grid = {'max_depth':range(1,25,5)}\n",
    "GS = GridSearchCV(rfc, param_grid, cv=3,scoring = \"recall\")\n",
    "GS.fit(X_train, y_train)\n",
    "best_param = GS.best_params_\n",
    "best_score = GS.best_score_\n",
    "m_d = best_param['max_depth']\n",
    "print(best_param, best_score)  "
   ]
  },
  {
   "cell_type": "code",
   "execution_count": 152,
   "metadata": {
    "ExecuteTime": {
     "end_time": "2021-02-02T11:15:12.375964Z",
     "start_time": "2021-02-02T11:14:48.949945Z"
    }
   },
   "outputs": [
    {
     "name": "stdout",
     "output_type": "stream",
     "text": [
      "{'max_depth': 25} 0.8840951601905066\n"
     ]
    }
   ],
   "source": [
    "# 建立n_estimators为n的随机森林\n",
    "rfc = RandomForestClassifier(n_estimators=n_e, random_state=seed, criterion = \"gini\")\n",
    "\n",
    "# 用网格搜索调整max_depth\n",
    "param_grid = {'max_depth':range(18,26,1)}\n",
    "GS = GridSearchCV(rfc, param_grid, cv=3,scoring = \"f1\")\n",
    "GS.fit(X_train, y_train)\n",
    "best_param = GS.best_params_\n",
    "best_score = GS.best_score_\n",
    "m_d = best_param['max_depth']\n",
    "print(best_param, best_score)  "
   ]
  },
  {
   "cell_type": "code",
   "execution_count": null,
   "metadata": {
    "ExecuteTime": {
     "end_time": "2021-02-02T07:32:18.158300Z",
     "start_time": "2021-02-02T07:32:18.154311Z"
    }
   },
   "outputs": [],
   "source": []
  },
  {
   "cell_type": "markdown",
   "metadata": {},
   "source": [
    "### 调整max_feature\n",
    "\n",
    "参照：https://zhuanlan.zhihu.com/p/126288078"
   ]
  },
  {
   "cell_type": "code",
   "execution_count": 153,
   "metadata": {
    "ExecuteTime": {
     "end_time": "2021-02-02T11:15:22.884509Z",
     "start_time": "2021-02-02T11:15:12.377958Z"
    }
   },
   "outputs": [
    {
     "name": "stdout",
     "output_type": "stream",
     "text": [
      "{'max_features': 4} 0.8773425593586488\n"
     ]
    }
   ],
   "source": [
    "# 用网格搜索调整max_features\n",
    "param_grid = {'max_features': range(4,19,3)}\n",
    "\n",
    "rfc = RandomForestClassifier(n_estimators=20,\n",
    "                             max_depth=m_d,\n",
    "                             random_state=seed,\n",
    "                            criterion = \"gini\")\n",
    "GS = GridSearchCV(rfc, param_grid, cv=3,scoring = 'f1')\n",
    "GS.fit(X_train, y_train)\n",
    "best_param = GS.best_params_\n",
    "best_score = GS.best_score_\n",
    "m_f = best_param['max_features']\n",
    "print(best_param, best_score)"
   ]
  },
  {
   "cell_type": "code",
   "execution_count": 154,
   "metadata": {
    "ExecuteTime": {
     "end_time": "2021-02-02T11:15:30.890087Z",
     "start_time": "2021-02-02T11:15:22.886504Z"
    }
   },
   "outputs": [
    {
     "name": "stdout",
     "output_type": "stream",
     "text": [
      "{'max_features': 6} 0.8785916237947856\n"
     ]
    }
   ],
   "source": [
    "# 用网格搜索调整max_features\n",
    "param_grid = {'max_features': range(4,9,1)}\n",
    "\n",
    "rfc = RandomForestClassifier(n_estimators=20,\n",
    "                             max_depth=m_d,\n",
    "                             random_state=seed,\n",
    "                            criterion = \"gini\")\n",
    "GS = GridSearchCV(rfc, param_grid, cv=3,scoring = 'f1')\n",
    "GS.fit(X_train, y_train)\n",
    "best_param = GS.best_params_\n",
    "best_score = GS.best_score_\n",
    "m_f = best_param['max_features']\n",
    "print(best_param, best_score)"
   ]
  },
  {
   "cell_type": "markdown",
   "metadata": {},
   "source": [
    "### class_weight"
   ]
  },
  {
   "cell_type": "code",
   "execution_count": 174,
   "metadata": {
    "ExecuteTime": {
     "end_time": "2021-02-02T11:23:17.033472Z",
     "start_time": "2021-02-02T11:23:03.389047Z"
    }
   },
   "outputs": [
    {
     "name": "stdout",
     "output_type": "stream",
     "text": [
      "{'class_weight': 'balanced_subsample'} 0.8872855647332581\n"
     ]
    }
   ],
   "source": [
    "# 用网格搜索调整max_features\n",
    "param_grid = {'class_weight': [\"balanced\",None,\"balanced_subsample\"]}\n",
    "\n",
    "rfc = RandomForestClassifier(n_estimators=n_e,\n",
    "                             max_depth=m_d,\n",
    "                             max_features = m_f,\n",
    "                             random_state=seed,\n",
    "                            criterion = \"gini\")\n",
    "GS = GridSearchCV(rfc, param_grid, cv=3,scoring = 'f1')\n",
    "GS.fit(X_train, y_train)\n",
    "best_param = GS.best_params_\n",
    "best_score = GS.best_score_\n",
    "c_w = best_param['class_weight']\n",
    "print(best_param, best_score)"
   ]
  },
  {
   "cell_type": "markdown",
   "metadata": {},
   "source": [
    "### min_weight_fraction_leaf"
   ]
  },
  {
   "cell_type": "code",
   "execution_count": 175,
   "metadata": {
    "ExecuteTime": {
     "end_time": "2021-02-02T11:23:56.767047Z",
     "start_time": "2021-02-02T11:23:18.455011Z"
    }
   },
   "outputs": [
    {
     "name": "stdout",
     "output_type": "stream",
     "text": [
      "{'min_weight_fraction_leaf': 0.0} 0.8872855647332581\n"
     ]
    }
   ],
   "source": [
    "# 用网格搜索调整max_features\n",
    "param_grid = {'min_weight_fraction_leaf': np.arange(0, 10)/10000}\n",
    "\n",
    "rfc = RandomForestClassifier(n_estimators=n_e,\n",
    "                             max_depth=m_d,\n",
    "                             max_features = m_f,\n",
    "                             random_state=seed,\n",
    "                            criterion = \"gini\",\n",
    "                            class_weight = c_w)\n",
    "GS = GridSearchCV(rfc, param_grid, cv=3,scoring = 'f1')\n",
    "GS.fit(X_train, y_train)\n",
    "best_param = GS.best_params_\n",
    "best_score = GS.best_score_\n",
    "m_wf = best_param['min_weight_fraction_leaf']\n",
    "print(best_param, best_score)"
   ]
  },
  {
   "cell_type": "markdown",
   "metadata": {},
   "source": [
    "### min_sample_leaf"
   ]
  },
  {
   "cell_type": "code",
   "execution_count": 176,
   "metadata": {
    "ExecuteTime": {
     "end_time": "2021-02-02T11:25:13.166196Z",
     "start_time": "2021-02-02T11:23:58.151343Z"
    }
   },
   "outputs": [
    {
     "name": "stdout",
     "output_type": "stream",
     "text": [
      "{'min_samples_leaf': 0.001} 0.6800751916546267\n"
     ]
    }
   ],
   "source": [
    "# 用网格搜索调整max_features\n",
    "param_grid = {'min_samples_leaf': np.arange(0.1,50)/100}\n",
    "\n",
    "rfc = RandomForestClassifier(n_estimators=n_e,\n",
    "                             max_depth=m_d,\n",
    "                             random_state=seed,\n",
    "                             class_weight=c_w,\n",
    "                             max_features = m_f,\n",
    "                             min_weight_fraction_leaf = m_wf ,\n",
    "                            criterion = \"gini\")\n",
    "GS = GridSearchCV(rfc, param_grid, cv=3,scoring = 'f1')\n",
    "GS.fit(X_train, y_train)\n",
    "best_param = GS.best_params_\n",
    "best_score = GS.best_score_\n",
    "msl = best_param ['min_samples_leaf']\n",
    "print(best_param, best_score)"
   ]
  },
  {
   "cell_type": "markdown",
   "metadata": {},
   "source": [
    "# 测试集"
   ]
  },
  {
   "cell_type": "code",
   "execution_count": 177,
   "metadata": {
    "ExecuteTime": {
     "end_time": "2021-02-02T11:25:16.017412Z",
     "start_time": "2021-02-02T11:25:14.591197Z"
    }
   },
   "outputs": [
    {
     "data": {
      "text/plain": [
       "RandomForestClassifier(bootstrap=True, ccp_alpha=0.0,\n",
       "                       class_weight='balanced_subsample', criterion='gini',\n",
       "                       max_depth=25, max_features=6, max_leaf_nodes=None,\n",
       "                       max_samples=None, min_impurity_decrease=0.0,\n",
       "                       min_impurity_split=None, min_samples_leaf=0.001,\n",
       "                       min_samples_split=2, min_weight_fraction_leaf=0.0,\n",
       "                       n_estimators=50, n_jobs=None, oob_score=False,\n",
       "                       random_state=12345, verbose=0, warm_start=False)"
      ]
     },
     "execution_count": 177,
     "metadata": {},
     "output_type": "execute_result"
    }
   ],
   "source": [
    "final_model = RandomForestClassifier(\n",
    "    n_estimators=n_e,\n",
    "    max_depth=m_d,\n",
    "    random_state=seed,\n",
    "    max_features=m_f,\n",
    "    bootstrap=True,\n",
    "    class_weight=c_w,\n",
    "    criterion = \"gini\"\n",
    "    ,\n",
    "    min_samples_leaf = msl,\n",
    "    min_samples_split = 2,\n",
    "    min_weight_fraction_leaf = m_wf\n",
    ")\n",
    "# 训练模型\n",
    "# final_model.fit(mydf2[var_x], mydf2[\"y\"])\n",
    "final_model.fit(X_train, y_train)"
   ]
  },
  {
   "cell_type": "code",
   "execution_count": 178,
   "metadata": {
    "ExecuteTime": {
     "end_time": "2021-02-02T11:25:17.487158Z",
     "start_time": "2021-02-02T11:25:17.448261Z"
    }
   },
   "outputs": [
    {
     "name": "stdout",
     "output_type": "stream",
     "text": [
      "precision: 0.3740053050397878 \n",
      "accuracy: 0.8443797038116048 \n",
      "recall: 0.6252771618625277 \n",
      "f1: 0.46804979253112033\n"
     ]
    }
   ],
   "source": [
    "# 预测结果\n",
    "predict_result = final_model.predict(test_x)\n",
    "\n",
    "# 模型评估\n",
    "pre_score = precision_score(test_y,predict_result)\n",
    "acc_score = accuracy_score(test_y,predict_result)\n",
    "rec_score = recall_score(test_y,predict_result)\n",
    "f1_score = F1(pre_score, rec_score)\n",
    "print('precision:' ,pre_score,\n",
    "     \"\\naccuracy:\",acc_score,\n",
    "     \"\\nrecall:\", rec_score,\n",
    "     \"\\nf1:\",f1_score)"
   ]
  },
  {
   "cell_type": "markdown",
   "metadata": {},
   "source": [
    "## 画图对比"
   ]
  },
  {
   "cell_type": "code",
   "execution_count": 179,
   "metadata": {
    "ExecuteTime": {
     "end_time": "2021-02-02T11:25:19.132754Z",
     "start_time": "2021-02-02T11:25:18.900375Z"
    }
   },
   "outputs": [
    {
     "data": {
      "image/png": "[encoded data removed]",
      "text/plain": [
       "<Figure size 1152x432 with 4 Axes>"
      ]
     },
     "metadata": {
      "needs_background": "light"
     },
     "output_type": "display_data"
    }
   ],
   "source": [
    "plt.figure(figsize = (16,6))\n",
    "plt.subplot(121)\n",
    "sns.heatmap(confusion_matrix(test_y, predict_result), annot = True, fmt = '.5g',linewidth = 0.5)\n",
    "plt.title(\"训练后的结果\")\n",
    "\n",
    "plt.subplot(122)\n",
    "sns.heatmap(confusion_matrix(test_y, rf_1_predict), annot = True, fmt = '.5g',linewidth = 0.5)\n",
    "plt.title(\"训练前的结果\")\n",
    "plt.show()"
   ]
  },
  {
   "cell_type": "code",
   "execution_count": 180,
   "metadata": {
    "ExecuteTime": {
     "end_time": "2021-02-02T11:25:20.585878Z",
     "start_time": "2021-02-02T11:25:20.575895Z"
    }
   },
   "outputs": [
    {
     "name": "stdout",
     "output_type": "stream",
     "text": [
      "              precision    recall  f1-score   support\n",
      "\n",
      "           0       0.95      0.87      0.91      3668\n",
      "           1       0.37      0.63      0.47       451\n",
      "\n",
      "    accuracy                           0.84      4119\n",
      "   macro avg       0.66      0.75      0.69      4119\n",
      "weighted avg       0.89      0.84      0.86      4119\n",
      "\n"
     ]
    }
   ],
   "source": [
    "print(classification_report(test_y, predict_result))"
   ]
  },
  {
   "cell_type": "code",
   "execution_count": 181,
   "metadata": {
    "ExecuteTime": {
     "end_time": "2021-02-02T11:25:21.986118Z",
     "start_time": "2021-02-02T11:25:21.976145Z"
    }
   },
   "outputs": [
    {
     "name": "stdout",
     "output_type": "stream",
     "text": [
      "              precision    recall  f1-score   support\n",
      "\n",
      "           0       0.91      0.97      0.94      3668\n",
      "           1       0.50      0.27      0.35       451\n",
      "\n",
      "    accuracy                           0.89      4119\n",
      "   macro avg       0.71      0.62      0.64      4119\n",
      "weighted avg       0.87      0.89      0.88      4119\n",
      "\n"
     ]
    }
   ],
   "source": [
    "# 对比原来的结果\n",
    "print(classification_report(test_y, rf_1_predict))"
   ]
  },
  {
   "cell_type": "markdown",
   "metadata": {},
   "source": [
    "## ROC"
   ]
  },
  {
   "cell_type": "code",
   "execution_count": 182,
   "metadata": {
    "ExecuteTime": {
     "end_time": "2021-02-02T11:25:23.390362Z",
     "start_time": "2021-02-02T11:25:23.385387Z"
    }
   },
   "outputs": [],
   "source": [
    "# roc\n",
    "from sklearn.metrics import roc_curve\n",
    "from sklearn.metrics import auc\n",
    "fpr, tpr, thresholds = roc_curve(\n",
    "    y_true=test_y,\n",
    "    y_score=predict_result\n",
    ")"
   ]
  },
  {
   "cell_type": "code",
   "execution_count": 183,
   "metadata": {
    "ExecuteTime": {
     "end_time": "2021-02-02T11:25:24.787621Z",
     "start_time": "2021-02-02T11:25:24.782635Z"
    }
   },
   "outputs": [
    {
     "data": {
      "text/plain": [
       "0.7482983410185049"
      ]
     },
     "execution_count": 183,
     "metadata": {},
     "output_type": "execute_result"
    }
   ],
   "source": [
    "auc = auc(fpr, tpr)\n",
    "auc"
   ]
  },
  {
   "cell_type": "code",
   "execution_count": 184,
   "metadata": {
    "ExecuteTime": {
     "end_time": "2021-02-02T11:25:26.294590Z",
     "start_time": "2021-02-02T11:25:26.176905Z"
    }
   },
   "outputs": [
    {
     "data": {
      "image/png": "[encoded data removed]",
      "text/plain": [
       "<Figure size 432x288 with 1 Axes>"
      ]
     },
     "metadata": {
      "needs_background": "light"
     },
     "output_type": "display_data"
    }
   ],
   "source": [
    "lw = 2\n",
    "plt.plot(fpr, tpr, color='darkorange',\n",
    "         lw=2, label='ROC curve (area = %0.2f)' % auc)\n",
    "plt.plot([0, 1], [0, 1], color='navy', lw=lw, linestyle='--')\n",
    "\n",
    "plt.xlabel('False Positive Rate')\n",
    "plt.ylabel('True Positive Rate')\n",
    "plt.title('Receiver operating characteristic example')\n",
    "plt.legend(loc=\"lower right\")\n",
    "plt.show()"
   ]
  },
  {
   "cell_type": "markdown",
   "metadata": {},
   "source": [
    "## feature importance"
   ]
  },
  {
   "cell_type": "code",
   "execution_count": 185,
   "metadata": {
    "ExecuteTime": {
     "end_time": "2021-02-02T11:25:27.761664Z",
     "start_time": "2021-02-02T11:25:27.747701Z"
    }
   },
   "outputs": [
    {
     "data": {
      "text/html": [
       "<div>\n",
       "<style scoped>\n",
       "    .dataframe tbody tr th:only-of-type {\n",
       "        vertical-align: middle;\n",
       "    }\n",
       "\n",
       "    .dataframe tbody tr th {\n",
       "        vertical-align: top;\n",
       "    }\n",
       "\n",
       "    .dataframe thead th {\n",
       "        text-align: right;\n",
       "    }\n",
       "</style>\n",
       "<table border=\"1\" class=\"dataframe\">\n",
       "  <thead>\n",
       "    <tr style=\"text-align: right;\">\n",
       "      <th></th>\n",
       "      <th>feature</th>\n",
       "      <th>score</th>\n",
       "    </tr>\n",
       "  </thead>\n",
       "  <tbody>\n",
       "    <tr>\n",
       "      <th>12</th>\n",
       "      <td>euro_interest</td>\n",
       "      <td>0.191848</td>\n",
       "    </tr>\n",
       "    <tr>\n",
       "      <th>6</th>\n",
       "      <td>employ_rate</td>\n",
       "      <td>0.157897</td>\n",
       "    </tr>\n",
       "    <tr>\n",
       "      <th>16</th>\n",
       "      <td>no_employ</td>\n",
       "      <td>0.118826</td>\n",
       "    </tr>\n",
       "    <tr>\n",
       "      <th>18</th>\n",
       "      <td>confidence</td>\n",
       "      <td>0.096832</td>\n",
       "    </tr>\n",
       "    <tr>\n",
       "      <th>10</th>\n",
       "      <td>prc_index</td>\n",
       "      <td>0.059970</td>\n",
       "    </tr>\n",
       "    <tr>\n",
       "      <th>9</th>\n",
       "      <td>age</td>\n",
       "      <td>0.055935</td>\n",
       "    </tr>\n",
       "    <tr>\n",
       "      <th>8</th>\n",
       "      <td>是否联系过</td>\n",
       "      <td>0.053702</td>\n",
       "    </tr>\n",
       "    <tr>\n",
       "      <th>15</th>\n",
       "      <td>month</td>\n",
       "      <td>0.044780</td>\n",
       "    </tr>\n",
       "    <tr>\n",
       "      <th>14</th>\n",
       "      <td>poutcome</td>\n",
       "      <td>0.034887</td>\n",
       "    </tr>\n",
       "    <tr>\n",
       "      <th>11</th>\n",
       "      <td>day_of_week</td>\n",
       "      <td>0.034601</td>\n",
       "    </tr>\n",
       "    <tr>\n",
       "      <th>4</th>\n",
       "      <td>job</td>\n",
       "      <td>0.026780</td>\n",
       "    </tr>\n",
       "    <tr>\n",
       "      <th>13</th>\n",
       "      <td>education</td>\n",
       "      <td>0.024264</td>\n",
       "    </tr>\n",
       "    <tr>\n",
       "      <th>0</th>\n",
       "      <td>campaign</td>\n",
       "      <td>0.021206</td>\n",
       "    </tr>\n",
       "    <tr>\n",
       "      <th>3</th>\n",
       "      <td>total_call</td>\n",
       "      <td>0.019828</td>\n",
       "    </tr>\n",
       "    <tr>\n",
       "      <th>5</th>\n",
       "      <td>contact</td>\n",
       "      <td>0.014200</td>\n",
       "    </tr>\n",
       "    <tr>\n",
       "      <th>17</th>\n",
       "      <td>default</td>\n",
       "      <td>0.013794</td>\n",
       "    </tr>\n",
       "    <tr>\n",
       "      <th>1</th>\n",
       "      <td>housing</td>\n",
       "      <td>0.011518</td>\n",
       "    </tr>\n",
       "    <tr>\n",
       "      <th>7</th>\n",
       "      <td>marital</td>\n",
       "      <td>0.008889</td>\n",
       "    </tr>\n",
       "    <tr>\n",
       "      <th>2</th>\n",
       "      <td>previous</td>\n",
       "      <td>0.005127</td>\n",
       "    </tr>\n",
       "    <tr>\n",
       "      <th>19</th>\n",
       "      <td>loan</td>\n",
       "      <td>0.005114</td>\n",
       "    </tr>\n",
       "  </tbody>\n",
       "</table>\n",
       "</div>"
      ],
      "text/plain": [
       "          feature     score\n",
       "12  euro_interest  0.191848\n",
       "6     employ_rate  0.157897\n",
       "16      no_employ  0.118826\n",
       "18     confidence  0.096832\n",
       "10      prc_index  0.059970\n",
       "9             age  0.055935\n",
       "8           是否联系过  0.053702\n",
       "15          month  0.044780\n",
       "14       poutcome  0.034887\n",
       "11    day_of_week  0.034601\n",
       "4             job  0.026780\n",
       "13      education  0.024264\n",
       "0        campaign  0.021206\n",
       "3      total_call  0.019828\n",
       "5         contact  0.014200\n",
       "17        default  0.013794\n",
       "1         housing  0.011518\n",
       "7         marital  0.008889\n",
       "2        previous  0.005127\n",
       "19           loan  0.005114"
      ]
     },
     "execution_count": 185,
     "metadata": {},
     "output_type": "execute_result"
    }
   ],
   "source": [
    "# 制作data frame 并查看结果\n",
    "features = pd.DataFrame({\"feature\": var_x, \"score\":final_model.feature_importances_ })\n",
    "features.sort_values(by = \"score\",inplace = True, ascending = False)\n",
    "features"
   ]
  },
  {
   "cell_type": "code",
   "execution_count": 186,
   "metadata": {
    "ExecuteTime": {
     "end_time": "2021-02-02T11:25:29.436682Z",
     "start_time": "2021-02-02T11:25:29.176877Z"
    }
   },
   "outputs": [
    {
     "data": {
      "image/png": "[encoded data removed]",
      "text/plain": [
       "<Figure size 720x432 with 1 Axes>"
      ]
     },
     "metadata": {
      "needs_background": "light"
     },
     "output_type": "display_data"
    }
   ],
   "source": [
    "# 画图\n",
    "plt.figure(figsize = (10,6))\n",
    "sns.barplot(y = \"feature\", x = \"score\", data = features, orient = 'h' )\n",
    "plt.title(\"Feature Importance\", size = 16)\n",
    "plt.xticks(rotation = 30, size = 14)\n",
    "plt.yticks(size = 14)\n",
    "plt.show()"
   ]
  },
  {
   "cell_type": "code",
   "execution_count": null,
   "metadata": {},
   "outputs": [],
   "source": []
  }
 ],
 "metadata": {
  "kernelspec": {
   "display_name": "Python 3",
   "language": "python",
   "name": "python3"
  },
  "language_info": {
   "codemirror_mode": {
    "name": "ipython",
    "version": 3
   },
   "file_extension": ".py",
   "mimetype": "text/x-python",
   "name": "python",
   "nbconvert_exporter": "python",
   "pygments_lexer": "ipython3",
   "version": "3.7.6"
  },
  "notify_time": "5",
  "toc": {
   "base_numbering": 1,
   "nav_menu": {},
   "number_sections": true,
   "sideBar": true,
   "skip_h1_title": false,
   "title_cell": "Table of Contents",
   "title_sidebar": "Contents",
   "toc_cell": false,
   "toc_position": {
    "height": "calc(100% - 180px)",
    "left": "10px",
    "top": "150px",
    "width": "307.2px"
   },
   "toc_section_display": true,
   "toc_window_display": true
  },
  "varInspector": {
   "cols": {
    "lenName": 16,
    "lenType": 16,
    "lenVar": 40
   },
   "kernels_config": {
    "python": {
     "delete_cmd_postfix": "",
     "delete_cmd_prefix": "del ",
     "library": "var_list.py",
     "varRefreshCmd": "print(var_dic_list())"
    },
    "r": {
     "delete_cmd_postfix": ") ",
     "delete_cmd_prefix": "rm(",
     "library": "var_list.r",
     "varRefreshCmd": "cat(var_dic_list()) "
    }
   },
   "types_to_exclude": [
    "module",
    "function",
    "builtin_function_or_method",
    "instance",
    "_Feature"
   ],
   "window_display": false
  }
 },
 "nbformat": 4,
 "nbformat_minor": 4
}
